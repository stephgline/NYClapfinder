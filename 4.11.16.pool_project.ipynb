{
 "cells": [
  {
   "cell_type": "code",
   "execution_count": 78,
   "metadata": {
    "collapsed": false
   },
   "outputs": [],
   "source": [
    "import pandas as pd\n",
    "import numpy as np\n",
    "import re\n",
    "import matplotlib.pyplot as plt\n",
    "import pymysql as mdb\n",
    "%matplotlib inline\n",
    "import geocoder\n",
    "import seaborn as sns\n",
    "from bs4 import BeautifulSoup\n",
    "import urllib \n",
    "import pickle"
   ]
  },
  {
   "cell_type": "code",
   "execution_count": 10,
   "metadata": {
    "collapsed": true
   },
   "outputs": [],
   "source": [
    "pools = pd.read_csv('pools.csv')"
   ]
  },
  {
   "cell_type": "code",
   "execution_count": 11,
   "metadata": {
    "collapsed": false
   },
   "outputs": [
    {
     "data": {
      "text/html": [
       "<div>\n",
       "<table border=\"1\" class=\"dataframe\">\n",
       "  <thead>\n",
       "    <tr style=\"text-align: right;\">\n",
       "      <th></th>\n",
       "      <th>swimming_pool</th>\n",
       "      <th>website_source</th>\n",
       "      <th>address</th>\n",
       "    </tr>\n",
       "  </thead>\n",
       "  <tbody>\n",
       "    <tr>\n",
       "      <th>0</th>\n",
       "      <td>asser_levy</td>\n",
       "      <td>http://www.nycgovparks.org/facilities/recreati...</td>\n",
       "      <td>392 asser levy pl, NY</td>\n",
       "    </tr>\n",
       "    <tr>\n",
       "      <th>1</th>\n",
       "      <td>chelsea</td>\n",
       "      <td>http://www.nycgovparks.org/facilities/recreati...</td>\n",
       "      <td>430 W 25th St, New York, NY 10001</td>\n",
       "    </tr>\n",
       "    <tr>\n",
       "      <th>2</th>\n",
       "      <td>gertrude_erdel</td>\n",
       "      <td>http://www.nycgovparks.org/facilities/recreati...</td>\n",
       "      <td>232 West 60th Street, ny</td>\n",
       "    </tr>\n",
       "    <tr>\n",
       "      <th>3</th>\n",
       "      <td>hansborough</td>\n",
       "      <td>http://www.nycgovparks.org/facilities/recreati...</td>\n",
       "      <td>35 west 134th street, NY</td>\n",
       "    </tr>\n",
       "    <tr>\n",
       "      <th>4</th>\n",
       "      <td>tony_dapolito</td>\n",
       "      <td>http://www.nycgovparks.org/facilities/recreati...</td>\n",
       "      <td>1 clarkson st., NY</td>\n",
       "    </tr>\n",
       "    <tr>\n",
       "      <th>5</th>\n",
       "      <td>brownsville</td>\n",
       "      <td>http://www.nycgovparks.org/facilities/recreati...</td>\n",
       "      <td>1555 linden blvd, NY</td>\n",
       "    </tr>\n",
       "    <tr>\n",
       "      <th>6</th>\n",
       "      <td>metropolitan</td>\n",
       "      <td>http://www.nycgovparks.org/facilities/recreati...</td>\n",
       "      <td>261 bedford ave, NY</td>\n",
       "    </tr>\n",
       "    <tr>\n",
       "      <th>7</th>\n",
       "      <td>st.john’s</td>\n",
       "      <td>http://www.nycgovparks.org/facilities/recreati...</td>\n",
       "      <td>1251 prospect place, NY</td>\n",
       "    </tr>\n",
       "    <tr>\n",
       "      <th>8</th>\n",
       "      <td>flushing</td>\n",
       "      <td>http://www.nycgovparks.org/facilities/recreati...</td>\n",
       "      <td>Avery Avenue and 131 Street, NY</td>\n",
       "    </tr>\n",
       "    <tr>\n",
       "      <th>9</th>\n",
       "      <td>roy_wilkins</td>\n",
       "      <td>http://www.nycgovparks.org/facilities/recreati...</td>\n",
       "      <td>17701 baisley blvd, NY</td>\n",
       "    </tr>\n",
       "    <tr>\n",
       "      <th>10</th>\n",
       "      <td>st.mary’s</td>\n",
       "      <td>http://www.nycgovparks.org/facilities/recreati...</td>\n",
       "      <td>450 saint ann's ave, NY</td>\n",
       "    </tr>\n",
       "    <tr>\n",
       "      <th>11</th>\n",
       "      <td>rec_center54</td>\n",
       "      <td>http://www.nycgovparks.org/facilities/recreati...</td>\n",
       "      <td>348 East 54th st, NY</td>\n",
       "    </tr>\n",
       "  </tbody>\n",
       "</table>\n",
       "</div>"
      ],
      "text/plain": [
       "     swimming_pool                                     website_source  \\\n",
       "0       asser_levy  http://www.nycgovparks.org/facilities/recreati...   \n",
       "1          chelsea  http://www.nycgovparks.org/facilities/recreati...   \n",
       "2   gertrude_erdel  http://www.nycgovparks.org/facilities/recreati...   \n",
       "3      hansborough  http://www.nycgovparks.org/facilities/recreati...   \n",
       "4    tony_dapolito  http://www.nycgovparks.org/facilities/recreati...   \n",
       "5      brownsville  http://www.nycgovparks.org/facilities/recreati...   \n",
       "6     metropolitan  http://www.nycgovparks.org/facilities/recreati...   \n",
       "7        st.john’s  http://www.nycgovparks.org/facilities/recreati...   \n",
       "8         flushing  http://www.nycgovparks.org/facilities/recreati...   \n",
       "9      roy_wilkins  http://www.nycgovparks.org/facilities/recreati...   \n",
       "10       st.mary’s  http://www.nycgovparks.org/facilities/recreati...   \n",
       "11    rec_center54  http://www.nycgovparks.org/facilities/recreati...   \n",
       "\n",
       "                              address  \n",
       "0               392 asser levy pl, NY  \n",
       "1   430 W 25th St, New York, NY 10001  \n",
       "2            232 West 60th Street, ny  \n",
       "3            35 west 134th street, NY  \n",
       "4                  1 clarkson st., NY  \n",
       "5                1555 linden blvd, NY  \n",
       "6                 261 bedford ave, NY  \n",
       "7             1251 prospect place, NY  \n",
       "8     Avery Avenue and 131 Street, NY  \n",
       "9              17701 baisley blvd, NY  \n",
       "10            450 saint ann's ave, NY  \n",
       "11               348 East 54th st, NY  "
      ]
     },
     "execution_count": 11,
     "metadata": {},
     "output_type": "execute_result"
    }
   ],
   "source": [
    "#a csv I complied of all the NYC rec centers with indoor pools.\n",
    "pools"
   ]
  },
  {
   "cell_type": "code",
   "execution_count": 17,
   "metadata": {
    "collapsed": false
   },
   "outputs": [
    {
     "data": {
      "text/plain": [
       "'http://www.nycgovparks.org/facilities/recreationcenters/M164/schedule#Pool'"
      ]
     },
     "execution_count": 17,
     "metadata": {},
     "output_type": "execute_result"
    }
   ],
   "source": [
    "#checking the full website\n",
    "pools['website_source'][0]"
   ]
  },
  {
   "cell_type": "code",
   "execution_count": 12,
   "metadata": {
    "collapsed": true
   },
   "outputs": [],
   "source": [
    "#convert addresses to latitudes and longitudes\n",
    "poolist = pools['address'].values.tolist()"
   ]
  },
  {
   "cell_type": "code",
   "execution_count": 13,
   "metadata": {
    "collapsed": false
   },
   "outputs": [
    {
     "data": {
      "text/plain": [
       "['392 asser levy pl, NY',\n",
       " '430 W 25th St, New York, NY 10001',\n",
       " '232 West 60th Street, ny',\n",
       " '35 west 134th street, NY',\n",
       " '1 clarkson st., NY',\n",
       " '1555 linden blvd, NY',\n",
       " '261 bedford ave, NY',\n",
       " '1251 prospect place, NY',\n",
       " 'Avery Avenue and 131 Street, NY',\n",
       " '17701 baisley blvd, NY',\n",
       " \"450 saint ann's ave, NY\",\n",
       " '348 East 54th st, NY']"
      ]
     },
     "execution_count": 13,
     "metadata": {},
     "output_type": "execute_result"
    }
   ],
   "source": [
    "poolist"
   ]
  },
  {
   "cell_type": "code",
   "execution_count": 14,
   "metadata": {
    "collapsed": true
   },
   "outputs": [],
   "source": [
    "#get latitude and longitude for each pool\n",
    "poolcoord = {}\n",
    "for i in poolist:\n",
    "    g = geocoder.google(i)\n",
    "    lon=g.geojson['geometry']['coordinates'][0]\n",
    "    lat=g.geojson['geometry']['coordinates'][1]\n",
    "    poolcoord[i] = (lat, lon)"
   ]
  },
  {
   "cell_type": "code",
   "execution_count": 15,
   "metadata": {
    "collapsed": false
   },
   "outputs": [
    {
     "data": {
      "text/plain": [
       "{'1 clarkson st., NY': (40.7296168, -74.0054061),\n",
       " '1251 prospect place, NY': (40.6738779, -73.9349038),\n",
       " '1555 linden blvd, NY': (40.65620180000001, -73.90283720000001),\n",
       " '17701 baisley blvd, NY': (40.6872438, -73.7721323),\n",
       " '232 West 60th Street, ny': (40.77142070000001, -73.98866439999999),\n",
       " '261 bedford ave, NY': (40.7150182, -73.96039019999999),\n",
       " '348 East 54th st, NY': (40.7564907, -73.9651173),\n",
       " '35 west 134th street, NY': (40.81280659999999, -73.9392448),\n",
       " '392 asser levy pl, NY': (40.7361601, -73.9756582),\n",
       " '430 W 25th St, New York, NY 10001': (40.7482487, -74.0020976),\n",
       " \"450 saint ann's ave, NY\": (40.8114681, -73.9140663),\n",
       " 'Avery Avenue and 131 Street, NY': (40.7519669, -73.8360161)}"
      ]
     },
     "execution_count": 15,
     "metadata": {},
     "output_type": "execute_result"
    }
   ],
   "source": [
    "poolcoord"
   ]
  },
  {
   "cell_type": "code",
   "execution_count": 81,
   "metadata": {
    "collapsed": false
   },
   "outputs": [],
   "source": [
    "pickle.dump( poolcoord, open(\"coordinates_of_pools.p\", \"wb\" ) )"
   ]
  },
  {
   "cell_type": "code",
   "execution_count": 159,
   "metadata": {
    "collapsed": false
   },
   "outputs": [
    {
     "name": "stdout",
     "output_type": "stream",
     "text": [
      "40.6738779 -73.9349038\n",
      "40.8114681 -73.9140663\n",
      "40.7296168 -74.0054061\n",
      "40.7150182 -73.9603902\n",
      "40.7361601 -73.9756582\n",
      "40.8128066 -73.9392448\n",
      "40.6872438 -73.7721323\n",
      "40.7564907 -73.9651173\n",
      "40.7519669 -73.8360161\n",
      "40.6562018 -73.9028372\n",
      "40.7714207 -73.9886644\n",
      "40.7482487 -74.0020976\n"
     ]
    }
   ],
   "source": [
    "for key in poolcoord:\n",
    "    print poolcoord[key][0], poolcoord[key][1]"
   ]
  },
  {
   "cell_type": "code",
   "execution_count": 160,
   "metadata": {
    "collapsed": true
   },
   "outputs": [],
   "source": [
    "pools_coords = pd.DataFrame(poolcoord.items(), columns=['pool', 'latlon'])"
   ]
  },
  {
   "cell_type": "code",
   "execution_count": 161,
   "metadata": {
    "collapsed": false
   },
   "outputs": [
    {
     "data": {
      "text/html": [
       "<div>\n",
       "<table border=\"1\" class=\"dataframe\">\n",
       "  <thead>\n",
       "    <tr style=\"text-align: right;\">\n",
       "      <th></th>\n",
       "      <th>pool</th>\n",
       "      <th>latlon</th>\n",
       "    </tr>\n",
       "  </thead>\n",
       "  <tbody>\n",
       "    <tr>\n",
       "      <th>0</th>\n",
       "      <td>1251 prospect place, NY</td>\n",
       "      <td>(40.6738779, -73.9349038)</td>\n",
       "    </tr>\n",
       "    <tr>\n",
       "      <th>1</th>\n",
       "      <td>450 saint ann's ave, NY</td>\n",
       "      <td>(40.8114681, -73.9140663)</td>\n",
       "    </tr>\n",
       "    <tr>\n",
       "      <th>2</th>\n",
       "      <td>1 clarkson st., NY</td>\n",
       "      <td>(40.7296168, -74.0054061)</td>\n",
       "    </tr>\n",
       "    <tr>\n",
       "      <th>3</th>\n",
       "      <td>261 bedford ave, NY</td>\n",
       "      <td>(40.7150182, -73.9603902)</td>\n",
       "    </tr>\n",
       "    <tr>\n",
       "      <th>4</th>\n",
       "      <td>392 asser levy pl, NY</td>\n",
       "      <td>(40.7361601, -73.9756582)</td>\n",
       "    </tr>\n",
       "    <tr>\n",
       "      <th>5</th>\n",
       "      <td>35 west 134th street, NY</td>\n",
       "      <td>(40.8128066, -73.9392448)</td>\n",
       "    </tr>\n",
       "    <tr>\n",
       "      <th>6</th>\n",
       "      <td>17701 baisley blvd, NY</td>\n",
       "      <td>(40.6872438, -73.7721323)</td>\n",
       "    </tr>\n",
       "    <tr>\n",
       "      <th>7</th>\n",
       "      <td>348 East 54th st, NY</td>\n",
       "      <td>(40.7564907, -73.9651173)</td>\n",
       "    </tr>\n",
       "    <tr>\n",
       "      <th>8</th>\n",
       "      <td>Avery Avenue and 131 Street, NY</td>\n",
       "      <td>(40.7519669, -73.8360161)</td>\n",
       "    </tr>\n",
       "    <tr>\n",
       "      <th>9</th>\n",
       "      <td>1555 linden blvd, NY</td>\n",
       "      <td>(40.6562018, -73.9028372)</td>\n",
       "    </tr>\n",
       "    <tr>\n",
       "      <th>10</th>\n",
       "      <td>232 West 60th Street, ny</td>\n",
       "      <td>(40.7714207, -73.9886644)</td>\n",
       "    </tr>\n",
       "    <tr>\n",
       "      <th>11</th>\n",
       "      <td>430 W 25th St, New York, NY 10001</td>\n",
       "      <td>(40.7482487, -74.0020976)</td>\n",
       "    </tr>\n",
       "  </tbody>\n",
       "</table>\n",
       "</div>"
      ],
      "text/plain": [
       "                                 pool                     latlon\n",
       "0             1251 prospect place, NY  (40.6738779, -73.9349038)\n",
       "1             450 saint ann's ave, NY  (40.8114681, -73.9140663)\n",
       "2                  1 clarkson st., NY  (40.7296168, -74.0054061)\n",
       "3                 261 bedford ave, NY  (40.7150182, -73.9603902)\n",
       "4               392 asser levy pl, NY  (40.7361601, -73.9756582)\n",
       "5            35 west 134th street, NY  (40.8128066, -73.9392448)\n",
       "6              17701 baisley blvd, NY  (40.6872438, -73.7721323)\n",
       "7                348 East 54th st, NY  (40.7564907, -73.9651173)\n",
       "8     Avery Avenue and 131 Street, NY  (40.7519669, -73.8360161)\n",
       "9                1555 linden blvd, NY  (40.6562018, -73.9028372)\n",
       "10           232 West 60th Street, ny  (40.7714207, -73.9886644)\n",
       "11  430 W 25th St, New York, NY 10001  (40.7482487, -74.0020976)"
      ]
     },
     "execution_count": 161,
     "metadata": {},
     "output_type": "execute_result"
    }
   ],
   "source": [
    "#convert location tuple to two columns, latitude and longitude\n",
    "pools_coords"
   ]
  },
  {
   "cell_type": "code",
   "execution_count": 163,
   "metadata": {
    "collapsed": false
   },
   "outputs": [
    {
     "data": {
      "text/plain": [
       "(40.6738779, -73.9349038)"
      ]
     },
     "execution_count": 163,
     "metadata": {},
     "output_type": "execute_result"
    }
   ],
   "source": [
    "#want separate latitude and longitude columns from the tuple\n",
    "pools_coords['latlon'][0]"
   ]
  },
  {
   "cell_type": "code",
   "execution_count": 165,
   "metadata": {
    "collapsed": false
   },
   "outputs": [
    {
     "data": {
      "text/plain": [
       "40.6738779"
      ]
     },
     "execution_count": 165,
     "metadata": {},
     "output_type": "execute_result"
    }
   ],
   "source": [
    "from ast import literal_eval as make_tuple\n",
    "make_tuple(str(pools_coords['latlon'][0]))[0]"
   ]
  },
  {
   "cell_type": "code",
   "execution_count": 169,
   "metadata": {
    "collapsed": true
   },
   "outputs": [],
   "source": [
    "dflocation = pools_coords['latlon']"
   ]
  },
  {
   "cell_type": "code",
   "execution_count": 170,
   "metadata": {
    "collapsed": false
   },
   "outputs": [],
   "source": [
    "latitude = []\n",
    "longitude = []\n",
    "for i in dflocation:\n",
    "    i = str(i)\n",
    "    latitude.append(make_tuple(i)[0])\n",
    "    longitude.append(make_tuple(i)[1])"
   ]
  },
  {
   "cell_type": "code",
   "execution_count": 175,
   "metadata": {
    "collapsed": true
   },
   "outputs": [],
   "source": [
    "#dataframe wrangling to get the columns out\n",
    "\n",
    "dflat = pd.DataFrame(longitude, latitude)\n",
    "dflat['latitude']=dflat.index\n",
    "dflat.columns=[['longitude', 'latitude']]\n",
    "dflat =dflat.reset_index(level=None, drop=False, inplace=False, col_level=0, col_fill='')\n",
    "dflat.columns=[['latitude', 'longitude', 'weird']]\n",
    "del dflat['weird']"
   ]
  },
  {
   "cell_type": "code",
   "execution_count": 176,
   "metadata": {
    "collapsed": false
   },
   "outputs": [
    {
     "data": {
      "text/html": [
       "<div>\n",
       "<table border=\"1\" class=\"dataframe\">\n",
       "  <thead>\n",
       "    <tr style=\"text-align: right;\">\n",
       "      <th></th>\n",
       "      <th>latitude</th>\n",
       "      <th>longitude</th>\n",
       "    </tr>\n",
       "  </thead>\n",
       "  <tbody>\n",
       "    <tr>\n",
       "      <th>0</th>\n",
       "      <td>40.673878</td>\n",
       "      <td>-73.934904</td>\n",
       "    </tr>\n",
       "    <tr>\n",
       "      <th>1</th>\n",
       "      <td>40.811468</td>\n",
       "      <td>-73.914066</td>\n",
       "    </tr>\n",
       "    <tr>\n",
       "      <th>2</th>\n",
       "      <td>40.729617</td>\n",
       "      <td>-74.005406</td>\n",
       "    </tr>\n",
       "    <tr>\n",
       "      <th>3</th>\n",
       "      <td>40.715018</td>\n",
       "      <td>-73.960390</td>\n",
       "    </tr>\n",
       "    <tr>\n",
       "      <th>4</th>\n",
       "      <td>40.736160</td>\n",
       "      <td>-73.975658</td>\n",
       "    </tr>\n",
       "    <tr>\n",
       "      <th>5</th>\n",
       "      <td>40.812807</td>\n",
       "      <td>-73.939245</td>\n",
       "    </tr>\n",
       "    <tr>\n",
       "      <th>6</th>\n",
       "      <td>40.687244</td>\n",
       "      <td>-73.772132</td>\n",
       "    </tr>\n",
       "    <tr>\n",
       "      <th>7</th>\n",
       "      <td>40.756491</td>\n",
       "      <td>-73.965117</td>\n",
       "    </tr>\n",
       "    <tr>\n",
       "      <th>8</th>\n",
       "      <td>40.751967</td>\n",
       "      <td>-73.836016</td>\n",
       "    </tr>\n",
       "    <tr>\n",
       "      <th>9</th>\n",
       "      <td>40.656202</td>\n",
       "      <td>-73.902837</td>\n",
       "    </tr>\n",
       "    <tr>\n",
       "      <th>10</th>\n",
       "      <td>40.771421</td>\n",
       "      <td>-73.988664</td>\n",
       "    </tr>\n",
       "    <tr>\n",
       "      <th>11</th>\n",
       "      <td>40.748249</td>\n",
       "      <td>-74.002098</td>\n",
       "    </tr>\n",
       "  </tbody>\n",
       "</table>\n",
       "</div>"
      ],
      "text/plain": [
       "     latitude  longitude\n",
       "0   40.673878 -73.934904\n",
       "1   40.811468 -73.914066\n",
       "2   40.729617 -74.005406\n",
       "3   40.715018 -73.960390\n",
       "4   40.736160 -73.975658\n",
       "5   40.812807 -73.939245\n",
       "6   40.687244 -73.772132\n",
       "7   40.756491 -73.965117\n",
       "8   40.751967 -73.836016\n",
       "9   40.656202 -73.902837\n",
       "10  40.771421 -73.988664\n",
       "11  40.748249 -74.002098"
      ]
     },
     "execution_count": 176,
     "metadata": {},
     "output_type": "execute_result"
    }
   ],
   "source": [
    "dflat"
   ]
  },
  {
   "cell_type": "code",
   "execution_count": 182,
   "metadata": {
    "collapsed": false
   },
   "outputs": [],
   "source": [
    "completepools = pd.concat([pools, dflat], axis=1, join='inner')\n",
    "poolcoordinates = completepools[['address', 'latitude', 'longitude']]\n",
    "poolcoordinates.to_csv('poolsandcoords')"
   ]
  },
  {
   "cell_type": "code",
   "execution_count": 432,
   "metadata": {
    "collapsed": false
   },
   "outputs": [
    {
     "data": {
      "text/html": [
       "<div>\n",
       "<table border=\"1\" class=\"dataframe\">\n",
       "  <thead>\n",
       "    <tr style=\"text-align: right;\">\n",
       "      <th></th>\n",
       "      <th>swimming_pool</th>\n",
       "      <th>website_source</th>\n",
       "      <th>address</th>\n",
       "      <th>latitude</th>\n",
       "      <th>longitude</th>\n",
       "    </tr>\n",
       "  </thead>\n",
       "  <tbody>\n",
       "    <tr>\n",
       "      <th>0</th>\n",
       "      <td>asser_levy</td>\n",
       "      <td>http://www.nycgovparks.org/facilities/recreati...</td>\n",
       "      <td>392 asser levy pl, NY</td>\n",
       "      <td>40.673878</td>\n",
       "      <td>-73.934904</td>\n",
       "    </tr>\n",
       "    <tr>\n",
       "      <th>1</th>\n",
       "      <td>chelsea</td>\n",
       "      <td>http://www.nycgovparks.org/facilities/recreati...</td>\n",
       "      <td>430 W 25th St, New York, NY 10001</td>\n",
       "      <td>40.811468</td>\n",
       "      <td>-73.914066</td>\n",
       "    </tr>\n",
       "    <tr>\n",
       "      <th>2</th>\n",
       "      <td>gertrude_erdel</td>\n",
       "      <td>http://www.nycgovparks.org/facilities/recreati...</td>\n",
       "      <td>232 West 60th Street, ny</td>\n",
       "      <td>40.729617</td>\n",
       "      <td>-74.005406</td>\n",
       "    </tr>\n",
       "    <tr>\n",
       "      <th>3</th>\n",
       "      <td>hansborough</td>\n",
       "      <td>http://www.nycgovparks.org/facilities/recreati...</td>\n",
       "      <td>35 west 134th street, NY</td>\n",
       "      <td>40.715018</td>\n",
       "      <td>-73.960390</td>\n",
       "    </tr>\n",
       "    <tr>\n",
       "      <th>4</th>\n",
       "      <td>tony_dapolito</td>\n",
       "      <td>http://www.nycgovparks.org/facilities/recreati...</td>\n",
       "      <td>1 clarkson st., NY</td>\n",
       "      <td>40.736160</td>\n",
       "      <td>-73.975658</td>\n",
       "    </tr>\n",
       "    <tr>\n",
       "      <th>5</th>\n",
       "      <td>brownsville</td>\n",
       "      <td>http://www.nycgovparks.org/facilities/recreati...</td>\n",
       "      <td>1555 linden blvd, NY</td>\n",
       "      <td>40.812807</td>\n",
       "      <td>-73.939245</td>\n",
       "    </tr>\n",
       "    <tr>\n",
       "      <th>6</th>\n",
       "      <td>metropolitan</td>\n",
       "      <td>http://www.nycgovparks.org/facilities/recreati...</td>\n",
       "      <td>261 bedford ave, NY</td>\n",
       "      <td>40.687244</td>\n",
       "      <td>-73.772132</td>\n",
       "    </tr>\n",
       "    <tr>\n",
       "      <th>7</th>\n",
       "      <td>st.john’s</td>\n",
       "      <td>http://www.nycgovparks.org/facilities/recreati...</td>\n",
       "      <td>1251 prospect place, NY</td>\n",
       "      <td>40.756491</td>\n",
       "      <td>-73.965117</td>\n",
       "    </tr>\n",
       "    <tr>\n",
       "      <th>8</th>\n",
       "      <td>flushing</td>\n",
       "      <td>http://www.nycgovparks.org/facilities/recreati...</td>\n",
       "      <td>Avery Avenue and 131 Street, NY</td>\n",
       "      <td>40.751967</td>\n",
       "      <td>-73.836016</td>\n",
       "    </tr>\n",
       "    <tr>\n",
       "      <th>9</th>\n",
       "      <td>roy_wilkins</td>\n",
       "      <td>http://www.nycgovparks.org/facilities/recreati...</td>\n",
       "      <td>17701 baisley blvd, NY</td>\n",
       "      <td>40.656202</td>\n",
       "      <td>-73.902837</td>\n",
       "    </tr>\n",
       "    <tr>\n",
       "      <th>10</th>\n",
       "      <td>st.mary’s</td>\n",
       "      <td>http://www.nycgovparks.org/facilities/recreati...</td>\n",
       "      <td>450 saint ann's ave, NY</td>\n",
       "      <td>40.771421</td>\n",
       "      <td>-73.988664</td>\n",
       "    </tr>\n",
       "    <tr>\n",
       "      <th>11</th>\n",
       "      <td>rec_center54</td>\n",
       "      <td>http://www.nycgovparks.org/facilities/recreati...</td>\n",
       "      <td>348 East 54th st, NY</td>\n",
       "      <td>40.748249</td>\n",
       "      <td>-74.002098</td>\n",
       "    </tr>\n",
       "  </tbody>\n",
       "</table>\n",
       "</div>"
      ],
      "text/plain": [
       "     swimming_pool                                     website_source  \\\n",
       "0       asser_levy  http://www.nycgovparks.org/facilities/recreati...   \n",
       "1          chelsea  http://www.nycgovparks.org/facilities/recreati...   \n",
       "2   gertrude_erdel  http://www.nycgovparks.org/facilities/recreati...   \n",
       "3      hansborough  http://www.nycgovparks.org/facilities/recreati...   \n",
       "4    tony_dapolito  http://www.nycgovparks.org/facilities/recreati...   \n",
       "5      brownsville  http://www.nycgovparks.org/facilities/recreati...   \n",
       "6     metropolitan  http://www.nycgovparks.org/facilities/recreati...   \n",
       "7        st.john’s  http://www.nycgovparks.org/facilities/recreati...   \n",
       "8         flushing  http://www.nycgovparks.org/facilities/recreati...   \n",
       "9      roy_wilkins  http://www.nycgovparks.org/facilities/recreati...   \n",
       "10       st.mary’s  http://www.nycgovparks.org/facilities/recreati...   \n",
       "11    rec_center54  http://www.nycgovparks.org/facilities/recreati...   \n",
       "\n",
       "                              address   latitude  longitude  \n",
       "0               392 asser levy pl, NY  40.673878 -73.934904  \n",
       "1   430 W 25th St, New York, NY 10001  40.811468 -73.914066  \n",
       "2            232 West 60th Street, ny  40.729617 -74.005406  \n",
       "3            35 west 134th street, NY  40.715018 -73.960390  \n",
       "4                  1 clarkson st., NY  40.736160 -73.975658  \n",
       "5                1555 linden blvd, NY  40.812807 -73.939245  \n",
       "6                 261 bedford ave, NY  40.687244 -73.772132  \n",
       "7             1251 prospect place, NY  40.756491 -73.965117  \n",
       "8     Avery Avenue and 131 Street, NY  40.751967 -73.836016  \n",
       "9              17701 baisley blvd, NY  40.656202 -73.902837  \n",
       "10            450 saint ann's ave, NY  40.771421 -73.988664  \n",
       "11               348 East 54th st, NY  40.748249 -74.002098  "
      ]
     },
     "execution_count": 432,
     "metadata": {},
     "output_type": "execute_result"
    }
   ],
   "source": [
    "completepools"
   ]
  },
  {
   "cell_type": "code",
   "execution_count": 298,
   "metadata": {
    "collapsed": false
   },
   "outputs": [
    {
     "data": {
      "text/plain": [
       "['asser_levy',\n",
       " 'chelsea',\n",
       " 'gertrude_erdel',\n",
       " 'hansborough',\n",
       " 'tony_dapolito',\n",
       " 'brownsville',\n",
       " 'metropolitan',\n",
       " 'st.john\\xe2\\x80\\x99s',\n",
       " 'flushing',\n",
       " 'roy_wilkins',\n",
       " 'st.mary\\xe2\\x80\\x99s',\n",
       " 'rec_center54']"
      ]
     },
     "execution_count": 298,
     "metadata": {},
     "output_type": "execute_result"
    }
   ],
   "source": [
    "plist = completepools['swimming_pool'].tolist()\n",
    "plist"
   ]
  },
  {
   "cell_type": "code",
   "execution_count": 426,
   "metadata": {
    "collapsed": false
   },
   "outputs": [
    {
     "name": "stdout",
     "output_type": "stream",
     "text": [
      "<class 'bs4.BeautifulSoup'>\n"
     ]
    }
   ],
   "source": [
    "#reading in pool schedule html for asser_levy using beautifulsoup\n",
    "r = urllib.urlopen('http://www.nycgovparks.org/facilities/recreationcenters/B085/schedule#Pool').read()\n",
    "soup = BeautifulSoup(r)\n",
    "print type(soup)"
   ]
  },
  {
   "cell_type": "code",
   "execution_count": 427,
   "metadata": {
    "collapsed": false
   },
   "outputs": [
    {
     "data": {
      "text/plain": [
       "<title>Metropolitan Recreation Center Schedule : NYC Parks</title>"
      ]
     },
     "execution_count": 427,
     "metadata": {},
     "output_type": "execute_result"
    }
   ],
   "source": [
    "#exploring beautifulsoup a bit\n",
    "soup.title"
   ]
  },
  {
   "cell_type": "code",
   "execution_count": 428,
   "metadata": {
    "collapsed": false
   },
   "outputs": [
    {
     "data": {
      "text/plain": [
       "<p id=\"site-tagline\">Official Website of the New York City Department of Parks &amp; Recreation</p>"
      ]
     },
     "execution_count": 428,
     "metadata": {},
     "output_type": "execute_result"
    }
   ],
   "source": [
    "soup.p"
   ]
  },
  {
   "cell_type": "code",
   "execution_count": 429,
   "metadata": {
    "collapsed": false
   },
   "outputs": [
    {
     "data": {
      "text/plain": [
       "<a class=\"no-external\" href=\"http://www1.nyc.gov/nyc-resources/categories.page\">NYC Resources</a>"
      ]
     },
     "execution_count": 429,
     "metadata": {},
     "output_type": "execute_result"
    }
   ],
   "source": [
    "soup.a"
   ]
  },
  {
   "cell_type": "code",
   "execution_count": 445,
   "metadata": {
    "collapsed": false
   },
   "outputs": [
    {
     "data": {
      "text/plain": [
       "[<p class=\"program\">\\n\\t\\t\\t\\t\\t\\t\\t\\t\\t3:30 p - 5:00 p\\n\\t\\t\\t\\t\\t\\t\\t\\t\\t<br/>\\n<a class=\"program-popup\" href=\"#program_9371\"><strong>Children's Intro to Art</strong></a> <br/>\\n\\t\\t\\t\\t\\t\\t\\t\\t\\tChild\\n\\t\\t\\t\\t\\t\\t\\t\\t\\t<br/>\\n</p>,\n",
       " <p class=\"program\">\\n\\t\\t\\t\\t\\t\\t\\t\\t\\t5:00 p - 6:00 p\\n\\t\\t\\t\\t\\t\\t\\t\\t\\t<br/>\\n<a class=\"program-popup\" href=\"#program_10324\"><strong>Abdominus Propulsion</strong></a> <br/>\\n\\t\\t\\t\\t\\t\\t\\t\\t\\tAdult, Senior\\n\\t\\t\\t\\t\\t\\t\\t\\t\\t<br/>\\n</p>,\n",
       " <p class=\"program\">\\n\\t\\t\\t\\t\\t\\t\\t\\t\\t6:30 p - 7:15 p\\n\\t\\t\\t\\t\\t\\t\\t\\t\\t<br/>\\n<a class=\"program-popup\" href=\"#program_8893\"><strong>Keep In Step</strong></a> <br/>\\n\\t\\t\\t\\t\\t\\t\\t\\t\\tAdult, Teen\\n\\t\\t\\t\\t\\t\\t\\t\\t\\t<br/>\\n</p>,\n",
       " <div class=\"center-hrs\">\\n<p>\\n<strong>Building Hours</strong><br/>\\n\\t\\t\\t\\t\\t\\t\\t\\t\\t\\t\\t                                                                                                \\t                                                     \\t7:00 a - 9:30 p\\n                                                    \\n                                                \\t\\t\\t\\t\\t\\t\\t\\t\\t\\t\\t\\t\\t\\t\\t\\t\\t\\t\\t\\t\\t</p>\\n</div>,\n",
       " <p class=\"program\">\\n\\t\\t\\t\\t\\t\\t\\t\\t\\t7:00 a - 2:30 p\\n\\t\\t\\t\\t\\t\\t\\t\\t\\t<br/>\\n<a class=\"program-popup\" href=\"#program_7291\"><strong>Fitness Room</strong></a> <br/>\\n\\t\\t\\t\\t\\t\\t\\t\\t\\tEveryone\\n\\t\\t\\t\\t\\t\\t\\t\\t\\t<br/>\\n</p>,\n",
       " <p class=\"program\">\\n\\t\\t\\t\\t\\t\\t\\t\\t\\t10:30 a - 11:30 a\\n\\t\\t\\t\\t\\t\\t\\t\\t\\t<br/>\\n<a class=\"program-popup\" href=\"#program_14212\"><strong>Tae Kwon Do</strong></a> <br/>\\n\\t\\t\\t\\t\\t\\t\\t\\t\\tAdult, Senior\\n\\t\\t\\t\\t\\t\\t\\t\\t\\t<br/>\\n</p>,\n",
       " <p class=\"program\">\\n\\t\\t\\t\\t\\t\\t\\t\\t\\t3:00 p - 5:00 p\\n\\t\\t\\t\\t\\t\\t\\t\\t\\t<br/>\\n<a class=\"program-popup\" href=\"#program_7290\"><strong>Teen Fitness</strong></a> <br/>\\n\\t\\t\\t\\t\\t\\t\\t\\t\\tTeen\\n\\t\\t\\t\\t\\t\\t\\t\\t\\t<br/>\\n</p>,\n",
       " <p class=\"program\">\\n\\t\\t\\t\\t\\t\\t\\t\\t\\t3:30 p - 5:00 p\\n\\t\\t\\t\\t\\t\\t\\t\\t\\t<br/>\\n<a class=\"program-popup\" href=\"#program_11372\"><strong>Children's Intermediate Art</strong></a> <br/>\\n<br/>\\n</p>,\n",
       " <p class=\"program\">\\n\\t\\t\\t\\t\\t\\t\\t\\t\\t5:00 p - 9:15 p\\n\\t\\t\\t\\t\\t\\t\\t\\t\\t<br/>\\n<a class=\"program-popup\" href=\"#program_7291\"><strong>Fitness Room</strong></a> <br/>\\n\\t\\t\\t\\t\\t\\t\\t\\t\\tEveryone\\n\\t\\t\\t\\t\\t\\t\\t\\t\\t<br/>\\n</p>,\n",
       " <p class=\"program\">\\n\\t\\t\\t\\t\\t\\t\\t\\t\\t5:00 p - 6:00 p\\n\\t\\t\\t\\t\\t\\t\\t\\t\\t<br/>\\n<a class=\"program-popup\" href=\"#program_4432\"><strong>Functional Strength Training for Teens</strong></a> <br/>\\n\\t\\t\\t\\t\\t\\t\\t\\t\\tTeen\\n\\t\\t\\t\\t\\t\\t\\t\\t\\t<br/>\\n</p>,\n",
       " <p class=\"program\">\\n\\t\\t\\t\\t\\t\\t\\t\\t\\t6:00 p - 7:00 p\\n\\t\\t\\t\\t\\t\\t\\t\\t\\t<br/>\\n<a class=\"program-popup\" href=\"#program_8455\"><strong>Abdominus</strong></a> <br/>\\n\\t\\t\\t\\t\\t\\t\\t\\t\\tAdult, Senior\\n\\t\\t\\t\\t\\t\\t\\t\\t\\t<br/>\\n</p>,\n",
       " <div class=\"center-hrs\">\\n<p>\\n<strong>Building Hours</strong><br/>\\n\\t\\t\\t\\t\\t\\t\\t\\t\\t\\t\\t                                                                                                \\t                                                     \\t7:00 a - 9:30 p\\n                                                    \\n                                                \\t\\t\\t\\t\\t\\t\\t\\t\\t\\t\\t\\t\\t\\t\\t\\t\\t\\t\\t\\t\\t</p>\\n</div>,\n",
       " <p class=\"program\">\\n\\t\\t\\t\\t\\t\\t\\t\\t\\t7:00 a - 2:30 p\\n\\t\\t\\t\\t\\t\\t\\t\\t\\t<br/>\\n<a class=\"program-popup\" href=\"#program_7291\"><strong>Fitness Room</strong></a> <br/>\\n\\t\\t\\t\\t\\t\\t\\t\\t\\tEveryone\\n\\t\\t\\t\\t\\t\\t\\t\\t\\t<br/>\\n</p>,\n",
       " <p class=\"program\">\\n\\t\\t\\t\\t\\t\\t\\t\\t\\t11:15 a - 12:45 p\\n\\t\\t\\t\\t\\t\\t\\t\\t\\t<br/>\\n<a class=\"program-popup\" href=\"#program_15459\"><strong>Yoga</strong></a> <br/>\\n\\t\\t\\t\\t\\t\\t\\t\\t\\tAdult, Senior\\n\\t\\t\\t\\t\\t\\t\\t\\t\\t<br/>\\n</p>,\n",
       " <p class=\"program\">\\n\\t\\t\\t\\t\\t\\t\\t\\t\\t3:00 p - 9:15 p\\n\\t\\t\\t\\t\\t\\t\\t\\t\\t<br/>\\n<a class=\"program-popup\" href=\"#program_7291\"><strong>Fitness Room</strong></a> <br/>\\n\\t\\t\\t\\t\\t\\t\\t\\t\\tEveryone\\n\\t\\t\\t\\t\\t\\t\\t\\t\\t<br/>\\n</p>,\n",
       " <p class=\"program\">\\n\\t\\t\\t\\t\\t\\t\\t\\t\\t5:00 p - 6:00 p\\n\\t\\t\\t\\t\\t\\t\\t\\t\\t<br/>\\n<a class=\"program-popup\" href=\"#program_10324\"><strong>Abdominus Propulsion</strong></a> <br/>\\n\\t\\t\\t\\t\\t\\t\\t\\t\\tAdult, Senior\\n\\t\\t\\t\\t\\t\\t\\t\\t\\t<br/>\\n</p>,\n",
       " <p class=\"program\">\\n\\t\\t\\t\\t\\t\\t\\t\\t\\t6:00 p - 7:00 p\\n\\t\\t\\t\\t\\t\\t\\t\\t\\t<br/>\\n<a class=\"program-popup\" href=\"#program_14212\"><strong>Tae Kwon Do</strong></a> <br/>\\n\\t\\t\\t\\t\\t\\t\\t\\t\\tAdult, Senior\\n\\t\\t\\t\\t\\t\\t\\t\\t\\t<br/>\\n</p>,\n",
       " <div class=\"center-hrs\">\\n<p>\\n<strong>Building Hours</strong><br/>\\n\\t\\t\\t\\t\\t\\t\\t\\t\\t\\t\\t                                                                                                \\t                                                     \\t7:00 a - 5:30 p\\n                                                    \\n                                                \\t\\t\\t\\t\\t\\t\\t\\t\\t\\t\\t\\t\\t\\t\\t\\t\\t\\t\\t\\t\\t</p>\\n</div>,\n",
       " <p class=\"program\">\\n\\t\\t\\t\\t\\t\\t\\t\\t\\t7:00 a - 5:30 p\\n\\t\\t\\t\\t\\t\\t\\t\\t\\t<br/>\\n<a class=\"program-popup\" href=\"#program_7291\"><strong>Fitness Room</strong></a> <br/>\\n\\t\\t\\t\\t\\t\\t\\t\\t\\tEveryone\\n\\t\\t\\t\\t\\t\\t\\t\\t\\t<br/>\\n</p>,\n",
       " <p class=\"program\">\\n\\t\\t\\t\\t\\t\\t\\t\\t\\t8:30 a - 9:45 a\\n\\t\\t\\t\\t\\t\\t\\t\\t\\t<br/>\\n<a class=\"program-popup\" href=\"#program_14212\"><strong>Tae Kwon Do</strong></a> <br/>\\n\\t\\t\\t\\t\\t\\t\\t\\t\\tAdult, Senior\\n\\t\\t\\t\\t\\t\\t\\t\\t\\t<br/>\\n</p>,\n",
       " <p class=\"program\">\\n\\t\\t\\t\\t\\t\\t\\t\\t\\t10:00 a - 10:45 a\\n\\t\\t\\t\\t\\t\\t\\t\\t\\t<br/>\\n<a class=\"program-popup\" href=\"#program_12762\"><strong>Children's Dance</strong></a> <br/>\\n\\t\\t\\t\\t\\t\\t\\t\\t\\tChild\\n\\t\\t\\t\\t\\t\\t\\t\\t\\t<br/>\\n</p>,\n",
       " <p class=\"program\">\\n\\t\\t\\t\\t\\t\\t\\t\\t\\t11:00 a - 1:00 p\\n\\t\\t\\t\\t\\t\\t\\t\\t\\t<br/>\\n<a class=\"program-popup\" href=\"#program_13033\"><strong>Children's Tumbling</strong></a> <br/>\\n<br/>\\n</p>,\n",
       " <p class=\"program\">\\n\\t\\t\\t\\t\\t\\t\\t\\t\\t1:00 p - 2:00 p\\n\\t\\t\\t\\t\\t\\t\\t\\t\\t<br/>\\n<a class=\"program-popup\" href=\"#program_14212\"><strong>Tae Kwon Do</strong></a> <br/>\\n\\t\\t\\t\\t\\t\\t\\t\\t\\tAdult, Senior\\n\\t\\t\\t\\t\\t\\t\\t\\t\\t<br/>\\n</p>,\n",
       " <div class=\"center-hrs\">\\n<p>\\n<strong>Building Hours</strong><br/>\\n\\t\\t\\t\\t\\t\\t\\t\\t\\t\\t\\t                                                                                                \\t                                                     \\t10:00 a - 5:30 p\\n                                                    \\n                                                \\t\\t\\t\\t\\t\\t\\t\\t\\t\\t\\t\\t\\t\\t\\t\\t\\t\\t\\t\\t\\t</p>\\n</div>,\n",
       " <p class=\"program\">\\n\\t\\t\\t\\t\\t\\t\\t\\t\\t10:00 a - 10:45 a\\n\\t\\t\\t\\t\\t\\t\\t\\t\\t<br/>\\n<a class=\"program-popup\" href=\"#program_12762\"><strong>Children's Dance</strong></a> <br/>\\n\\t\\t\\t\\t\\t\\t\\t\\t\\tChild\\n\\t\\t\\t\\t\\t\\t\\t\\t\\t<br/>\\n</p>,\n",
       " <p class=\"program\">\\n\\t\\t\\t\\t\\t\\t\\t\\t\\t10:00 a - 5:30 p\\n\\t\\t\\t\\t\\t\\t\\t\\t\\t<br/>\\n<a class=\"program-popup\" href=\"#program_7291\"><strong>Fitness Room</strong></a> <br/>\\n\\t\\t\\t\\t\\t\\t\\t\\t\\tEveryone\\n\\t\\t\\t\\t\\t\\t\\t\\t\\t<br/>\\n</p>,\n",
       " <p class=\"program\">\\n\\t\\t\\t\\t\\t\\t\\t\\t\\t11:00 a - 1:00 p\\n\\t\\t\\t\\t\\t\\t\\t\\t\\t<br/>\\n<a class=\"program-popup\" href=\"#program_13033\"><strong>Children's Tumbling</strong></a> <br/>\\n<br/>\\n</p>,\n",
       " <div class=\"center-hrs\">\\n<p>\\n<strong>Building Hours</strong><br/>\\n\\t\\t\\t\\t\\t\\t\\t\\t\\t\\t\\t                                                                                                \\t                                                     \\t7:00 a - 9:30 p\\n                                                    \\n                                                \\t\\t\\t\\t\\t\\t\\t\\t\\t\\t\\t\\t\\t\\t\\t\\t\\t\\t\\t\\t\\t</p>\\n</div>,\n",
       " <p class=\"program\">\\n\\t\\t\\t\\t\\t\\t\\t\\t\\t7:00 a - 9:15 a\\n\\t\\t\\t\\t\\t\\t\\t\\t\\t<br/>\\n<a class=\"program-popup\" href=\"#program_14302\"><strong>Adult Lap Swim</strong></a> <br/>\\n\\t\\t\\t\\t\\t\\t\\t\\t\\tAdult, Senior\\n\\t\\t\\t\\t\\t\\t\\t\\t\\t<br/>\\n</p>,\n",
       " <p class=\"program\">\\n\\t\\t\\t\\t\\t\\t\\t\\t\\t9:15 a - 11:00 a\\n\\t\\t\\t\\t\\t\\t\\t\\t\\t<br/>\\n<a class=\"program-popup\" href=\"#program_12812\"><strong>Women's Swim</strong></a> <br/>\\n<br/>\\n</p>,\n",
       " <p class=\"program\">\\n\\t\\t\\t\\t\\t\\t\\t\\t\\t11:00 a - 1:00 p\\n\\t\\t\\t\\t\\t\\t\\t\\t\\t<br/>\\n<a class=\"program-popup\" href=\"#program_17100\"><strong>Swim for Life</strong></a> <br/>\\n<br/>\\n</p>,\n",
       " <p class=\"program\">\\n\\t\\t\\t\\t\\t\\t\\t\\t\\t1:30 p - 3:30 p\\n\\t\\t\\t\\t\\t\\t\\t\\t\\t<br/>\\n<a class=\"program-popup\" href=\"#program_14302\"><strong>Adult Lap Swim</strong></a> <br/>\\n\\t\\t\\t\\t\\t\\t\\t\\t\\tAdult, Senior\\n\\t\\t\\t\\t\\t\\t\\t\\t\\t<br/>\\n</p>,\n",
       " <p class=\"program\">\\n\\t\\t\\t\\t\\t\\t\\t\\t\\t4:00 p - 6:30 p\\n\\t\\t\\t\\t\\t\\t\\t\\t\\t<br/>\\n<a class=\"program-popup\" href=\"#program_12076\"><strong>Learn to Swim: Fall 2015</strong></a> <br/>\\n\\t\\t\\t\\t\\t\\t\\t\\t\\tChild\\n\\t\\t\\t\\t\\t\\t\\t\\t\\t<br/>\\n</p>,\n",
       " <p class=\"program\">\\n\\t\\t\\t\\t\\t\\t\\t\\t\\t6:30 p - 9:15 p\\n\\t\\t\\t\\t\\t\\t\\t\\t\\t<br/>\\n<a class=\"program-popup\" href=\"#program_14302\"><strong>Adult Lap Swim</strong></a> <br/>\\n\\t\\t\\t\\t\\t\\t\\t\\t\\tAdult, Senior\\n\\t\\t\\t\\t\\t\\t\\t\\t\\t<br/>\\n</p>,\n",
       " <div class=\"center-hrs\">\\n<p>\\n<strong>Building Hours</strong><br/>\\n\\t\\t\\t\\t\\t\\t\\t\\t\\t\\t\\t                                                                                                \\t                                                     \\t7:00 a - 9:30 p\\n                                                    \\n                                                \\t\\t\\t\\t\\t\\t\\t\\t\\t\\t\\t\\t\\t\\t\\t\\t\\t\\t\\t\\t\\t</p>\\n</div>,\n",
       " <p class=\"program\">\\n\\t\\t\\t\\t\\t\\t\\t\\t\\t7:00 a - 11:00 a\\n\\t\\t\\t\\t\\t\\t\\t\\t\\t<br/>\\n<a class=\"program-popup\" href=\"#program_14302\"><strong>Adult Lap Swim</strong></a> <br/>\\n\\t\\t\\t\\t\\t\\t\\t\\t\\tAdult, Senior\\n\\t\\t\\t\\t\\t\\t\\t\\t\\t<br/>\\n</p>,\n",
       " <p class=\"program\">\\n\\t\\t\\t\\t\\t\\t\\t\\t\\t11:00 a - 1:00 p\\n\\t\\t\\t\\t\\t\\t\\t\\t\\t<br/>\\n<a class=\"program-popup\" href=\"#program_17100\"><strong>Swim for Life</strong></a> <br/>\\n<br/>\\n</p>,\n",
       " <p class=\"program\">\\n\\t\\t\\t\\t\\t\\t\\t\\t\\t2:00 p - 3:00 p\\n\\t\\t\\t\\t\\t\\t\\t\\t\\t<br/>\\n<a class=\"program-popup\" href=\"#program_14302\"><strong>Adult Lap Swim</strong></a> <br/>\\n\\t\\t\\t\\t\\t\\t\\t\\t\\tAdult, Senior\\n\\t\\t\\t\\t\\t\\t\\t\\t\\t<br/>\\n</p>,\n",
       " <p class=\"program\">\\n\\t\\t\\t\\t\\t\\t\\t\\t\\t3:30 p - 5:00 p\\n\\t\\t\\t\\t\\t\\t\\t\\t\\t<br/>\\n<a class=\"program-popup\" href=\"#program_14303\"><strong>General Swim</strong></a> <br/>\\n\\t\\t\\t\\t\\t\\t\\t\\t\\tEveryone\\n\\t\\t\\t\\t\\t\\t\\t\\t\\t<br/>\\n</p>,\n",
       " <p class=\"program\">\\n\\t\\t\\t\\t\\t\\t\\t\\t\\t5:30 p - 9:15 p\\n\\t\\t\\t\\t\\t\\t\\t\\t\\t<br/>\\n<a class=\"program-popup\" href=\"#program_14302\"><strong>Adult Lap Swim</strong></a> <br/>\\n\\t\\t\\t\\t\\t\\t\\t\\t\\tAdult, Senior\\n\\t\\t\\t\\t\\t\\t\\t\\t\\t<br/>\\n</p>,\n",
       " <div class=\"center-hrs\">\\n<p>\\n<strong>Building Hours</strong><br/>\\n\\t\\t\\t\\t\\t\\t\\t\\t\\t\\t\\t                                                                                                \\t                                                     \\t7:00 a - 9:30 p\\n                                                    \\n                                                \\t\\t\\t\\t\\t\\t\\t\\t\\t\\t\\t\\t\\t\\t\\t\\t\\t\\t\\t\\t\\t</p>\\n</div>,\n",
       " <p class=\"program\">\\n\\t\\t\\t\\t\\t\\t\\t\\t\\t7:00 a - 9:15 a\\n\\t\\t\\t\\t\\t\\t\\t\\t\\t<br/>\\n<a class=\"program-popup\" href=\"#program_14302\"><strong>Adult Lap Swim</strong></a> <br/>\\n\\t\\t\\t\\t\\t\\t\\t\\t\\tAdult, Senior\\n\\t\\t\\t\\t\\t\\t\\t\\t\\t<br/>\\n</p>,\n",
       " <p class=\"program\">\\n\\t\\t\\t\\t\\t\\t\\t\\t\\t9:15 a - 11:00 a\\n\\t\\t\\t\\t\\t\\t\\t\\t\\t<br/>\\n<a class=\"program-popup\" href=\"#program_12812\"><strong>Women's Swim</strong></a> <br/>\\n<br/>\\n</p>,\n",
       " <p class=\"program\">\\n\\t\\t\\t\\t\\t\\t\\t\\t\\t11:00 a - 1:00 p\\n\\t\\t\\t\\t\\t\\t\\t\\t\\t<br/>\\n<a class=\"program-popup\" href=\"#program_17100\"><strong>Swim for Life</strong></a> <br/>\\n<br/>\\n</p>,\n",
       " <p class=\"program\">\\n\\t\\t\\t\\t\\t\\t\\t\\t\\t1:30 p - 3:30 p\\n\\t\\t\\t\\t\\t\\t\\t\\t\\t<br/>\\n<a class=\"program-popup\" href=\"#program_14302\"><strong>Adult Lap Swim</strong></a> <br/>\\n\\t\\t\\t\\t\\t\\t\\t\\t\\tAdult, Senior\\n\\t\\t\\t\\t\\t\\t\\t\\t\\t<br/>\\n</p>,\n",
       " <p class=\"program\">\\n\\t\\t\\t\\t\\t\\t\\t\\t\\t4:00 p - 6:30 p\\n\\t\\t\\t\\t\\t\\t\\t\\t\\t<br/>\\n<a class=\"program-popup\" href=\"#program_12076\"><strong>Learn to Swim: Fall 2015</strong></a> <br/>\\n\\t\\t\\t\\t\\t\\t\\t\\t\\tChild\\n\\t\\t\\t\\t\\t\\t\\t\\t\\t<br/>\\n</p>,\n",
       " <p class=\"program\">\\n\\t\\t\\t\\t\\t\\t\\t\\t\\t6:30 p - 9:15 p\\n\\t\\t\\t\\t\\t\\t\\t\\t\\t<br/>\\n<a class=\"program-popup\" href=\"#program_14302\"><strong>Adult Lap Swim</strong></a> <br/>\\n\\t\\t\\t\\t\\t\\t\\t\\t\\tAdult, Senior\\n\\t\\t\\t\\t\\t\\t\\t\\t\\t<br/>\\n</p>,\n",
       " <div class=\"center-hrs\">\\n<p>\\n<strong>Building Hours</strong><br/>\\n\\t\\t\\t\\t\\t\\t\\t\\t\\t\\t\\t                                                                                                \\t                                                     \\t7:00 a - 9:30 p\\n                                                    \\n                                                \\t\\t\\t\\t\\t\\t\\t\\t\\t\\t\\t\\t\\t\\t\\t\\t\\t\\t\\t\\t\\t</p>\\n</div>,\n",
       " <p class=\"program\">\\n\\t\\t\\t\\t\\t\\t\\t\\t\\t7:00 a - 11:00 a\\n\\t\\t\\t\\t\\t\\t\\t\\t\\t<br/>\\n<a class=\"program-popup\" href=\"#program_14302\"><strong>Adult Lap Swim</strong></a> <br/>\\n\\t\\t\\t\\t\\t\\t\\t\\t\\tAdult, Senior\\n\\t\\t\\t\\t\\t\\t\\t\\t\\t<br/>\\n</p>,\n",
       " <p class=\"program\">\\n\\t\\t\\t\\t\\t\\t\\t\\t\\t11:00 a - 1:00 p\\n\\t\\t\\t\\t\\t\\t\\t\\t\\t<br/>\\n<a class=\"program-popup\" href=\"#program_17100\"><strong>Swim for Life</strong></a> <br/>\\n<br/>\\n</p>,\n",
       " <p class=\"program\">\\n\\t\\t\\t\\t\\t\\t\\t\\t\\t1:30 p - 3:00 p\\n\\t\\t\\t\\t\\t\\t\\t\\t\\t<br/>\\n<a class=\"program-popup\" href=\"#program_14302\"><strong>Adult Lap Swim</strong></a> <br/>\\n\\t\\t\\t\\t\\t\\t\\t\\t\\tAdult, Senior\\n\\t\\t\\t\\t\\t\\t\\t\\t\\t<br/>\\n</p>,\n",
       " <p class=\"program\">\\n\\t\\t\\t\\t\\t\\t\\t\\t\\t3:30 p - 5:00 p\\n\\t\\t\\t\\t\\t\\t\\t\\t\\t<br/>\\n<a class=\"program-popup\" href=\"#program_14303\"><strong>General Swim</strong></a> <br/>\\n\\t\\t\\t\\t\\t\\t\\t\\t\\tEveryone\\n\\t\\t\\t\\t\\t\\t\\t\\t\\t<br/>\\n</p>,\n",
       " <p class=\"program\">\\n\\t\\t\\t\\t\\t\\t\\t\\t\\t5:30 p - 9:15 p\\n\\t\\t\\t\\t\\t\\t\\t\\t\\t<br/>\\n<a class=\"program-popup\" href=\"#program_14302\"><strong>Adult Lap Swim</strong></a> <br/>\\n\\t\\t\\t\\t\\t\\t\\t\\t\\tAdult, Senior\\n\\t\\t\\t\\t\\t\\t\\t\\t\\t<br/>\\n</p>,\n",
       " <div class=\"center-hrs\">\\n<p>\\n<strong>Building Hours</strong><br/>\\n\\t\\t\\t\\t\\t\\t\\t\\t\\t\\t\\t                                                                                                \\t                                                     \\t7:00 a - 9:30 p\\n                                                    \\n                                                \\t\\t\\t\\t\\t\\t\\t\\t\\t\\t\\t\\t\\t\\t\\t\\t\\t\\t\\t\\t\\t</p>\\n</div>,\n",
       " <p class=\"program\">\\n\\t\\t\\t\\t\\t\\t\\t\\t\\t7:00 a - 9:15 a\\n\\t\\t\\t\\t\\t\\t\\t\\t\\t<br/>\\n<a class=\"program-popup\" href=\"#program_14302\"><strong>Adult Lap Swim</strong></a> <br/>\\n\\t\\t\\t\\t\\t\\t\\t\\t\\tAdult, Senior\\n\\t\\t\\t\\t\\t\\t\\t\\t\\t<br/>\\n</p>,\n",
       " <p class=\"program\">\\n\\t\\t\\t\\t\\t\\t\\t\\t\\t9:15 a - 11:00 a\\n\\t\\t\\t\\t\\t\\t\\t\\t\\t<br/>\\n<a class=\"program-popup\" href=\"#program_12812\"><strong>Women's Swim</strong></a> <br/>\\n<br/>\\n</p>,\n",
       " <p class=\"program\">\\n\\t\\t\\t\\t\\t\\t\\t\\t\\t11:00 a - 1:00 p\\n\\t\\t\\t\\t\\t\\t\\t\\t\\t<br/>\\n<a class=\"program-popup\" href=\"#program_17100\"><strong>Swim for Life</strong></a> <br/>\\n<br/>\\n</p>,\n",
       " <p class=\"program\">\\n\\t\\t\\t\\t\\t\\t\\t\\t\\t3:30 p - 5:00 p\\n\\t\\t\\t\\t\\t\\t\\t\\t\\t<br/>\\n<a class=\"program-popup\" href=\"#program_14303\"><strong>General Swim</strong></a> <br/>\\n\\t\\t\\t\\t\\t\\t\\t\\t\\tEveryone\\n\\t\\t\\t\\t\\t\\t\\t\\t\\t<br/>\\n</p>,\n",
       " <p class=\"program\">\\n\\t\\t\\t\\t\\t\\t\\t\\t\\t5:30 p - 9:15 p\\n\\t\\t\\t\\t\\t\\t\\t\\t\\t<br/>\\n<a class=\"program-popup\" href=\"#program_14302\"><strong>Adult Lap Swim</strong></a> <br/>\\n\\t\\t\\t\\t\\t\\t\\t\\t\\tAdult, Senior\\n\\t\\t\\t\\t\\t\\t\\t\\t\\t<br/>\\n</p>,\n",
       " <div class=\"center-hrs\">\\n<p>\\n<strong>Building Hours</strong><br/>\\n\\t\\t\\t\\t\\t\\t\\t\\t\\t\\t\\t                                                                                                \\t                                                     \\t7:00 a - 5:30 p\\n                                                    \\n                                                \\t\\t\\t\\t\\t\\t\\t\\t\\t\\t\\t\\t\\t\\t\\t\\t\\t\\t\\t\\t\\t</p>\\n</div>,\n",
       " <p class=\"program\">\\n\\t\\t\\t\\t\\t\\t\\t\\t\\t7:00 a - 8:45 a\\n\\t\\t\\t\\t\\t\\t\\t\\t\\t<br/>\\n<a class=\"program-popup\" href=\"#program_14302\"><strong>Adult Lap Swim</strong></a> <br/>\\n\\t\\t\\t\\t\\t\\t\\t\\t\\tAdult, Senior\\n\\t\\t\\t\\t\\t\\t\\t\\t\\t<br/>\\n</p>,\n",
       " <p class=\"program\">\\n\\t\\t\\t\\t\\t\\t\\t\\t\\t9:00 a - 2:00 p\\n\\t\\t\\t\\t\\t\\t\\t\\t\\t<br/>\\n<a class=\"program-popup\" href=\"#program_12076\"><strong>Learn to Swim: Fall 2015</strong></a> <br/>\\n\\t\\t\\t\\t\\t\\t\\t\\t\\tChild\\n\\t\\t\\t\\t\\t\\t\\t\\t\\t<br/>\\n</p>,\n",
       " <p class=\"program\">\\n\\t\\t\\t\\t\\t\\t\\t\\t\\t2:00 p - 3:30 p\\n\\t\\t\\t\\t\\t\\t\\t\\t\\t<br/>\\n<a class=\"program-popup\" href=\"#program_15458\"><strong>Water Polo</strong></a> <br/>\\n\\t\\t\\t\\t\\t\\t\\t\\t\\tAdult, Senior\\n\\t\\t\\t\\t\\t\\t\\t\\t\\t<br/>\\n</p>,\n",
       " <p class=\"program\">\\n\\t\\t\\t\\t\\t\\t\\t\\t\\t4:00 p - 5:15 p\\n\\t\\t\\t\\t\\t\\t\\t\\t\\t<br/>\\n<a class=\"program-popup\" href=\"#program_14302\"><strong>Adult Lap Swim</strong></a> <br/>\\n\\t\\t\\t\\t\\t\\t\\t\\t\\tAdult, Senior\\n\\t\\t\\t\\t\\t\\t\\t\\t\\t<br/>\\n</p>,\n",
       " <div class=\"center-hrs\">\\n<p>\\n<strong>Building Hours</strong><br/>\\n\\t\\t\\t\\t\\t\\t\\t\\t\\t\\t\\t                                                                                                \\t                                                     \\t10:00 a - 5:30 p\\n                                                    \\n                                                \\t\\t\\t\\t\\t\\t\\t\\t\\t\\t\\t\\t\\t\\t\\t\\t\\t\\t\\t\\t\\t</p>\\n</div>,\n",
       " <p class=\"program\">\\n\\t\\t\\t\\t\\t\\t\\t\\t\\t10:00 a - 12:30 p\\n\\t\\t\\t\\t\\t\\t\\t\\t\\t<br/>\\n<a class=\"program-popup\" href=\"#program_14302\"><strong>Adult Lap Swim</strong></a> <br/>\\n\\t\\t\\t\\t\\t\\t\\t\\t\\tAdult, Senior\\n\\t\\t\\t\\t\\t\\t\\t\\t\\t<br/>\\n</p>,\n",
       " <p class=\"program\">\\n\\t\\t\\t\\t\\t\\t\\t\\t\\t1:00 p - 2:30 p\\n\\t\\t\\t\\t\\t\\t\\t\\t\\t<br/>\\n<a class=\"program-popup\" href=\"#program_14303\"><strong>General Swim</strong></a> <br/>\\n\\t\\t\\t\\t\\t\\t\\t\\t\\tEveryone\\n\\t\\t\\t\\t\\t\\t\\t\\t\\t<br/>\\n</p>,\n",
       " <p class=\"program\">\\n\\t\\t\\t\\t\\t\\t\\t\\t\\t2:45 p - 4:45 p\\n\\t\\t\\t\\t\\t\\t\\t\\t\\t<br/>\\n<a class=\"program-popup\" href=\"#program_6166\"><strong>Women and Girls' Swim</strong></a> <br/>\\n\\t\\t\\t\\t\\t\\t\\t\\t\\tAdult, Child, Teen\\n\\t\\t\\t\\t\\t\\t\\t\\t\\t<br/>\\n</p>]"
      ]
     },
     "execution_count": 445,
     "metadata": {},
     "output_type": "execute_result"
    }
   ],
   "source": [
    "letters[20:]"
   ]
  },
  {
   "cell_type": "code",
   "execution_count": 435,
   "metadata": {
    "collapsed": false
   },
   "outputs": [],
   "source": [
    "#i want the swim programs in between the building hours, each time building hours shows up it represents the next day\n",
    "other = [\"program\", \"center-hrs\"]\n",
    "letters = soup.find_all([\"p\", \"div\"], other ) "
   ]
  },
  {
   "cell_type": "code",
   "execution_count": 437,
   "metadata": {
    "collapsed": false
   },
   "outputs": [
    {
     "data": {
      "text/plain": [
       "88"
      ]
     },
     "execution_count": 437,
     "metadata": {},
     "output_type": "execute_result"
    }
   ],
   "source": [
    "len(letters)"
   ]
  },
  {
   "cell_type": "code",
   "execution_count": 446,
   "metadata": {
    "collapsed": false
   },
   "outputs": [
    {
     "data": {
      "text/plain": [
       "<div class=\"center-hrs\">\\n<p>\\n<strong>Building Hours</strong><br/>\\n\\t\\t\\t\\t\\t\\t\\t\\t\\t\\t\\t                                                                                                \\t                                                     \\t7:00 a - 9:30 p\\n                                                    \\n                                                \\t\\t\\t\\t\\t\\t\\t\\t\\t\\t\\t\\t\\t\\t\\t\\t\\t\\t\\t\\t\\t</p>\\n</div>"
      ]
     },
     "execution_count": 446,
     "metadata": {},
     "output_type": "execute_result"
    }
   ],
   "source": [
    "letters[0]"
   ]
  },
  {
   "cell_type": "code",
   "execution_count": 123,
   "metadata": {
    "collapsed": false
   },
   "outputs": [],
   "source": [
    "test2 = letters[0]"
   ]
  },
  {
   "cell_type": "code",
   "execution_count": 125,
   "metadata": {
    "collapsed": false
   },
   "outputs": [
    {
     "name": "stdout",
     "output_type": "stream",
     "text": [
      "-1\n"
     ]
    }
   ],
   "source": [
    "print str(test2).find('swim')\n",
    "#if it isn't found, it returns -1"
   ]
  },
  {
   "cell_type": "code",
   "execution_count": 109,
   "metadata": {
    "collapsed": true
   },
   "outputs": [],
   "source": [
    "swimposting = []\n",
    "otherposting = []\n",
    "for i in letters:\n",
    "    if str(i).find('Adult Lap Swim') > 0:\n",
    "        swimposting.append(str(i))\n",
    "    if str(i).find('Building Hours') > 0:\n",
    "        swimposting.append(str(i))\n",
    "    else:\n",
    "        otherposting.append(str(i))"
   ]
  },
  {
   "cell_type": "code",
   "execution_count": 187,
   "metadata": {
    "collapsed": false
   },
   "outputs": [],
   "source": [
    "asserlevy = swimposting[7:]# want to replace each building hours with day of the week"
   ]
  },
  {
   "cell_type": "code",
   "execution_count": 188,
   "metadata": {
    "collapsed": false
   },
   "outputs": [
    {
     "data": {
      "text/plain": [
       "['<div class=\"center-hrs\">\\n<p>\\n<strong>Building Hours</strong><br/>\\n\\t\\t\\t\\t\\t\\t\\t\\t\\t\\t\\t                                                                                                \\t                                                     \\t6:30 a - 9:30 p\\n                                                    \\n                                                \\t\\t\\t\\t\\t\\t\\t\\t\\t\\t\\t\\t\\t\\t\\t\\t\\t\\t\\t\\t\\t</p>\\n</div>',\n",
       " '<p class=\"program\">\\n\\t\\t\\t\\t\\t\\t\\t\\t\\t7:00 a - 9:00 a\\n\\t\\t\\t\\t\\t\\t\\t\\t\\t<br/>\\n<a class=\"program-popup\" href=\"#program_15940\"><strong>Adult Lap Swim</strong></a> <br/>\\n\\t\\t\\t\\t\\t\\t\\t\\t\\tAdult, Senior\\n\\t\\t\\t\\t\\t\\t\\t\\t\\t<br/>\\n</p>',\n",
       " '<p class=\"program\">\\n\\t\\t\\t\\t\\t\\t\\t\\t\\t1:15 p - 3:45 p\\n\\t\\t\\t\\t\\t\\t\\t\\t\\t<br/>\\n<a class=\"program-popup\" href=\"#program_15940\"><strong>Adult Lap Swim</strong></a> <br/>\\n\\t\\t\\t\\t\\t\\t\\t\\t\\tAdult, Senior\\n\\t\\t\\t\\t\\t\\t\\t\\t\\t<br/>\\n</p>',\n",
       " '<p class=\"program\">\\n\\t\\t\\t\\t\\t\\t\\t\\t\\t6:30 p - 9:20 p\\n\\t\\t\\t\\t\\t\\t\\t\\t\\t<br/>\\n<a class=\"program-popup\" href=\"#program_15940\"><strong>Adult Lap Swim</strong></a> <br/>\\n\\t\\t\\t\\t\\t\\t\\t\\t\\tAdult, Senior\\n\\t\\t\\t\\t\\t\\t\\t\\t\\t<br/>\\n</p>',\n",
       " '<div class=\"center-hrs\">\\n<p>\\n<strong>Building Hours</strong><br/>\\n\\t\\t\\t\\t\\t\\t\\t\\t\\t\\t\\t                                                                                                \\t                                                     \\t6:30 a - 9:30 p\\n                                                    \\n                                                \\t\\t\\t\\t\\t\\t\\t\\t\\t\\t\\t\\t\\t\\t\\t\\t\\t\\t\\t\\t\\t</p>\\n</div>',\n",
       " '<p class=\"program\">\\n\\t\\t\\t\\t\\t\\t\\t\\t\\t7:00 a - 9:00 a\\n\\t\\t\\t\\t\\t\\t\\t\\t\\t<br/>\\n<a class=\"program-popup\" href=\"#program_15940\"><strong>Adult Lap Swim</strong></a> <br/>\\n\\t\\t\\t\\t\\t\\t\\t\\t\\tAdult, Senior\\n\\t\\t\\t\\t\\t\\t\\t\\t\\t<br/>\\n</p>',\n",
       " '<p class=\"program\">\\n\\t\\t\\t\\t\\t\\t\\t\\t\\t1:15 p - 3:45 p\\n\\t\\t\\t\\t\\t\\t\\t\\t\\t<br/>\\n<a class=\"program-popup\" href=\"#program_15940\"><strong>Adult Lap Swim</strong></a> <br/>\\n\\t\\t\\t\\t\\t\\t\\t\\t\\tAdult, Senior\\n\\t\\t\\t\\t\\t\\t\\t\\t\\t<br/>\\n</p>',\n",
       " '<p class=\"program\">\\n\\t\\t\\t\\t\\t\\t\\t\\t\\t6:30 p - 9:20 p\\n\\t\\t\\t\\t\\t\\t\\t\\t\\t<br/>\\n<a class=\"program-popup\" href=\"#program_15940\"><strong>Adult Lap Swim</strong></a> <br/>\\n\\t\\t\\t\\t\\t\\t\\t\\t\\tAdult, Senior\\n\\t\\t\\t\\t\\t\\t\\t\\t\\t<br/>\\n</p>',\n",
       " '<div class=\"center-hrs\">\\n<p>\\n<strong>Building Hours</strong><br/>\\n\\t\\t\\t\\t\\t\\t\\t\\t\\t\\t\\t                                                                                                \\t                                                     \\t6:30 a - 9:30 p\\n                                                    \\n                                                \\t\\t\\t\\t\\t\\t\\t\\t\\t\\t\\t\\t\\t\\t\\t\\t\\t\\t\\t\\t\\t</p>\\n</div>',\n",
       " '<p class=\"program\">\\n\\t\\t\\t\\t\\t\\t\\t\\t\\t7:00 a - 9:00 a\\n\\t\\t\\t\\t\\t\\t\\t\\t\\t<br/>\\n<a class=\"program-popup\" href=\"#program_15940\"><strong>Adult Lap Swim</strong></a> <br/>\\n\\t\\t\\t\\t\\t\\t\\t\\t\\tAdult, Senior\\n\\t\\t\\t\\t\\t\\t\\t\\t\\t<br/>\\n</p>',\n",
       " '<p class=\"program\">\\n\\t\\t\\t\\t\\t\\t\\t\\t\\t1:15 p - 3:45 p\\n\\t\\t\\t\\t\\t\\t\\t\\t\\t<br/>\\n<a class=\"program-popup\" href=\"#program_15940\"><strong>Adult Lap Swim</strong></a> <br/>\\n\\t\\t\\t\\t\\t\\t\\t\\t\\tAdult, Senior\\n\\t\\t\\t\\t\\t\\t\\t\\t\\t<br/>\\n</p>',\n",
       " '<p class=\"program\">\\n\\t\\t\\t\\t\\t\\t\\t\\t\\t6:30 p - 9:20 p\\n\\t\\t\\t\\t\\t\\t\\t\\t\\t<br/>\\n<a class=\"program-popup\" href=\"#program_15940\"><strong>Adult Lap Swim</strong></a> <br/>\\n\\t\\t\\t\\t\\t\\t\\t\\t\\tAdult, Senior\\n\\t\\t\\t\\t\\t\\t\\t\\t\\t<br/>\\n</p>',\n",
       " '<div class=\"center-hrs\">\\n<p>\\n<strong>Building Hours</strong><br/>\\n\\t\\t\\t\\t\\t\\t\\t\\t\\t\\t\\t                                                                                                \\t                                                     \\t6:30 a - 9:30 p\\n                                                    \\n                                                \\t\\t\\t\\t\\t\\t\\t\\t\\t\\t\\t\\t\\t\\t\\t\\t\\t\\t\\t\\t\\t</p>\\n</div>',\n",
       " '<p class=\"program\">\\n\\t\\t\\t\\t\\t\\t\\t\\t\\t7:00 a - 9:00 a\\n\\t\\t\\t\\t\\t\\t\\t\\t\\t<br/>\\n<a class=\"program-popup\" href=\"#program_15940\"><strong>Adult Lap Swim</strong></a> <br/>\\n\\t\\t\\t\\t\\t\\t\\t\\t\\tAdult, Senior\\n\\t\\t\\t\\t\\t\\t\\t\\t\\t<br/>\\n</p>',\n",
       " '<p class=\"program\">\\n\\t\\t\\t\\t\\t\\t\\t\\t\\t1:15 p - 3:30 p\\n\\t\\t\\t\\t\\t\\t\\t\\t\\t<br/>\\n<a class=\"program-popup\" href=\"#program_15940\"><strong>Adult Lap Swim</strong></a> <br/>\\n\\t\\t\\t\\t\\t\\t\\t\\t\\tAdult, Senior\\n\\t\\t\\t\\t\\t\\t\\t\\t\\t<br/>\\n</p>',\n",
       " '<p class=\"program\">\\n\\t\\t\\t\\t\\t\\t\\t\\t\\t6:30 p - 9:20 p\\n\\t\\t\\t\\t\\t\\t\\t\\t\\t<br/>\\n<a class=\"program-popup\" href=\"#program_15940\"><strong>Adult Lap Swim</strong></a> <br/>\\n\\t\\t\\t\\t\\t\\t\\t\\t\\tAdult, Senior\\n\\t\\t\\t\\t\\t\\t\\t\\t\\t<br/>\\n</p>',\n",
       " '<div class=\"center-hrs\">\\n<p>\\n<strong>Building Hours</strong><br/>\\n\\t\\t\\t\\t\\t\\t\\t\\t\\t\\t\\t                                                                                                \\t                                                     \\t6:30 a - 9:30 p\\n                                                    \\n                                                \\t\\t\\t\\t\\t\\t\\t\\t\\t\\t\\t\\t\\t\\t\\t\\t\\t\\t\\t\\t\\t</p>\\n</div>',\n",
       " '<p class=\"program\">\\n\\t\\t\\t\\t\\t\\t\\t\\t\\t7:00 a - 9:00 a\\n\\t\\t\\t\\t\\t\\t\\t\\t\\t<br/>\\n<a class=\"program-popup\" href=\"#program_15940\"><strong>Adult Lap Swim</strong></a> <br/>\\n\\t\\t\\t\\t\\t\\t\\t\\t\\tAdult, Senior\\n\\t\\t\\t\\t\\t\\t\\t\\t\\t<br/>\\n</p>',\n",
       " '<p class=\"program\">\\n\\t\\t\\t\\t\\t\\t\\t\\t\\t1:15 p - 3:00 p\\n\\t\\t\\t\\t\\t\\t\\t\\t\\t<br/>\\n<a class=\"program-popup\" href=\"#program_15940\"><strong>Adult Lap Swim</strong></a> <br/>\\n\\t\\t\\t\\t\\t\\t\\t\\t\\tAdult, Senior\\n\\t\\t\\t\\t\\t\\t\\t\\t\\t<br/>\\n</p>',\n",
       " '<p class=\"program\">\\n\\t\\t\\t\\t\\t\\t\\t\\t\\t7:00 p - 9:20 p\\n\\t\\t\\t\\t\\t\\t\\t\\t\\t<br/>\\n<a class=\"program-popup\" href=\"#program_15940\"><strong>Adult Lap Swim</strong></a> <br/>\\n\\t\\t\\t\\t\\t\\t\\t\\t\\tAdult, Senior\\n\\t\\t\\t\\t\\t\\t\\t\\t\\t<br/>\\n</p>',\n",
       " '<div class=\"center-hrs\">\\n<p>\\n<strong>Building Hours</strong><br/>\\n\\t\\t\\t\\t\\t\\t\\t\\t\\t\\t\\t                                                                                                \\t                                                     \\t8:00 a - 4:45 p\\n                                                    \\n                                                \\t\\t\\t\\t\\t\\t\\t\\t\\t\\t\\t\\t\\t\\t\\t\\t\\t\\t\\t\\t\\t</p>\\n</div>',\n",
       " '<p class=\"program\">\\n\\t\\t\\t\\t\\t\\t\\t\\t\\t8:00 a - 9:00 a\\n\\t\\t\\t\\t\\t\\t\\t\\t\\t<br/>\\n<a class=\"program-popup\" href=\"#program_15940\"><strong>Adult Lap Swim</strong></a> <br/>\\n\\t\\t\\t\\t\\t\\t\\t\\t\\tAdult, Senior\\n\\t\\t\\t\\t\\t\\t\\t\\t\\t<br/>\\n</p>',\n",
       " '<p class=\"program\">\\n\\t\\t\\t\\t\\t\\t\\t\\t\\t2:15 p - 4:30 p\\n\\t\\t\\t\\t\\t\\t\\t\\t\\t<br/>\\n<a class=\"program-popup\" href=\"#program_15940\"><strong>Adult Lap Swim</strong></a> <br/>\\n\\t\\t\\t\\t\\t\\t\\t\\t\\tAdult, Senior\\n\\t\\t\\t\\t\\t\\t\\t\\t\\t<br/>\\n</p>',\n",
       " '<div class=\"center-hrs\">\\n<p>\\n<strong>Building Hours</strong><br/>\\n\\t\\t\\t\\t\\t\\t\\t\\t\\t\\t\\t                                                                                                \\t                                                     \\t8:00 a - 4:45 p\\n                                                    \\n                                                \\t\\t\\t\\t\\t\\t\\t\\t\\t\\t\\t\\t\\t\\t\\t\\t\\t\\t\\t\\t\\t</p>\\n</div>',\n",
       " '<p class=\"program\">\\n\\t\\t\\t\\t\\t\\t\\t\\t\\t8:00 a - 11:00 a\\n\\t\\t\\t\\t\\t\\t\\t\\t\\t<br/>\\n<a class=\"program-popup\" href=\"#program_15940\"><strong>Adult Lap Swim</strong></a> <br/>\\n\\t\\t\\t\\t\\t\\t\\t\\t\\tAdult, Senior\\n\\t\\t\\t\\t\\t\\t\\t\\t\\t<br/>\\n</p>',\n",
       " '<p class=\"program\">\\n\\t\\t\\t\\t\\t\\t\\t\\t\\t2:15 p - 4:30 p\\n\\t\\t\\t\\t\\t\\t\\t\\t\\t<br/>\\n<a class=\"program-popup\" href=\"#program_15940\"><strong>Adult Lap Swim</strong></a> <br/>\\n\\t\\t\\t\\t\\t\\t\\t\\t\\tAdult, Senior\\n\\t\\t\\t\\t\\t\\t\\t\\t\\t<br/>\\n</p>']"
      ]
     },
     "execution_count": 188,
     "metadata": {},
     "output_type": "execute_result"
    }
   ],
   "source": [
    "asserlevy"
   ]
  },
  {
   "cell_type": "code",
   "execution_count": 131,
   "metadata": {
    "collapsed": false
   },
   "outputs": [],
   "source": [
    "findtime = str(letters[46])"
   ]
  },
  {
   "cell_type": "code",
   "execution_count": 137,
   "metadata": {
    "collapsed": false
   },
   "outputs": [
    {
     "data": {
      "text/plain": [
       "'<p class=\"program\">\\n\\t\\t\\t\\t\\t\\t\\t\\t\\t7:00 a - 9:00 a\\n\\t\\t\\t\\t\\t\\t\\t\\t\\t<br/>\\n<a class=\"program-popup\" href=\"#program_15940\"><strong>Adult Lap Swim</strong></a> <br/>\\n\\t\\t\\t\\t\\t\\t\\t\\t\\tAdult, Senior\\n\\t\\t\\t\\t\\t\\t\\t\\t\\t<br/>\\n</p>'"
      ]
     },
     "execution_count": 137,
     "metadata": {},
     "output_type": "execute_result"
    }
   ],
   "source": [
    "findtime"
   ]
  },
  {
   "cell_type": "code",
   "execution_count": 135,
   "metadata": {
    "collapsed": true
   },
   "outputs": [],
   "source": [
    "#using regular expressions to pull out the time\n",
    "time = re.findall('\\t*[0-9]*:[0-9]*\\s[a-z]\\s-\\s[0-9*]\\s:[0-9]*\\s[a-z]\\n'  ,findtime)"
   ]
  },
  {
   "cell_type": "code",
   "execution_count": 144,
   "metadata": {
    "collapsed": false
   },
   "outputs": [],
   "source": [
    "time1 =  re.findall('[0-9]*:[0-9]*\\s[a-z]\\s-\\s[0-9]*:[0-9]*\\s[a-z]'  ,findtime)"
   ]
  },
  {
   "cell_type": "code",
   "execution_count": 145,
   "metadata": {
    "collapsed": false
   },
   "outputs": [
    {
     "data": {
      "text/plain": [
       "['7:00 a - 9:00 a']"
      ]
     },
     "execution_count": 145,
     "metadata": {},
     "output_type": "execute_result"
    }
   ],
   "source": [
    "time1"
   ]
  },
  {
   "cell_type": "code",
   "execution_count": 190,
   "metadata": {
    "collapsed": true
   },
   "outputs": [],
   "source": [
    "\n",
    "days_of_week = ['Monday', 'Tuesday', 'Wednesday', 'Thursday', 'Friday', 'Saturday', 'Sunday']"
   ]
  },
  {
   "cell_type": "code",
   "execution_count": 191,
   "metadata": {
    "collapsed": false
   },
   "outputs": [],
   "source": [
    "#make a loop that saves lap swim programs and substitutes the days of the week for the building hours which separate them\n",
    "asser_levy_sched = {}\n",
    "count = 0\n",
    "for i in asserlevy:\n",
    "    if str(i).find('Building Hours') > 0:\n",
    "        asser_levy_sched[days_of_week[count]] = []\n",
    "        count = count + 1\n",
    "    if str(i).find('Adult Lap Swim') > 0:\n",
    "        asser_levy_sched[days_of_week[count-1]].append(re.findall('[0-9]*:[0-9]*\\s[a-z]\\s-\\s[0-9]*:[0-9]*\\s[a-z]'  ,str(i)))"
   ]
  },
  {
   "cell_type": "code",
   "execution_count": 192,
   "metadata": {
    "collapsed": false
   },
   "outputs": [
    {
     "data": {
      "text/plain": [
       "{'Friday': [['7:00 a - 9:00 a'], ['1:15 p - 3:00 p'], ['7:00 p - 9:20 p']],\n",
       " 'Monday': [['7:00 a - 9:00 a'], ['1:15 p - 3:45 p'], ['6:30 p - 9:20 p']],\n",
       " 'Saturday': [['8:00 a - 9:00 a'], ['2:15 p - 4:30 p']],\n",
       " 'Sunday': [['8:00 a - 11:00 a'], ['2:15 p - 4:30 p']],\n",
       " 'Thursday': [['7:00 a - 9:00 a'], ['1:15 p - 3:30 p'], ['6:30 p - 9:20 p']],\n",
       " 'Tuesday': [['7:00 a - 9:00 a'], ['1:15 p - 3:45 p'], ['6:30 p - 9:20 p']],\n",
       " 'Wednesday': [['7:00 a - 9:00 a'], ['1:15 p - 3:45 p'], ['6:30 p - 9:20 p']]}"
      ]
     },
     "execution_count": 192,
     "metadata": {},
     "output_type": "execute_result"
    }
   ],
   "source": [
    "asser_levy_sched"
   ]
  },
  {
   "cell_type": "code",
   "execution_count": 193,
   "metadata": {
    "collapsed": false
   },
   "outputs": [
    {
     "name": "stdout",
     "output_type": "stream",
     "text": [
      "<class 'bs4.BeautifulSoup'>\n"
     ]
    }
   ],
   "source": [
    "#want to create a dictionary for every pool let's try another, metropolitan\n",
    "#reading in pool schedule html for asser_levy\n",
    "r6 = urllib.urlopen(pools['website_source'][6]).read()\n",
    "soup6 = BeautifulSoup(r6)\n",
    "print type(soup6)\n"
   ]
  },
  {
   "cell_type": "code",
   "execution_count": 194,
   "metadata": {
    "collapsed": true
   },
   "outputs": [],
   "source": [
    "other6 = [\"program\", \"center-hrs\"]\n",
    "letters6 = soup6.find_all([\"p\", \"div\"], other6 ) "
   ]
  },
  {
   "cell_type": "code",
   "execution_count": 196,
   "metadata": {
    "collapsed": false
   },
   "outputs": [],
   "source": [
    "swimposting6 = []\n",
    "otherposting6 = []\n",
    "for i in letters6:\n",
    "    if str(i).find('Adult Lap Swim') > 0:\n",
    "        swimposting6.append(str(i))\n",
    "    if str(i).find('Building Hours') > 0:\n",
    "        swimposting6.append(str(i))\n",
    "    else:\n",
    "        otherposting6.append(str(i))"
   ]
  },
  {
   "cell_type": "code",
   "execution_count": 199,
   "metadata": {
    "collapsed": false
   },
   "outputs": [],
   "source": [
    "metropolitan = swimposting6[7:]"
   ]
  },
  {
   "cell_type": "code",
   "execution_count": 200,
   "metadata": {
    "collapsed": true
   },
   "outputs": [],
   "source": [
    "metropolitan_sched = {}\n",
    "count = 0\n",
    "for i in metropolitan:\n",
    "    if str(i).find('Building Hours') > 0:\n",
    "        metropolitan_sched[days_of_week[count]] = []\n",
    "        count = count + 1\n",
    "    if str(i).find('Adult Lap Swim') > 0:\n",
    "        metropolitan_sched[days_of_week[count-1]].append(re.findall('[0-9]*:[0-9]*\\s[a-z]\\s-\\s[0-9]*:[0-9]*\\s[a-z]'  ,str(i)))"
   ]
  },
  {
   "cell_type": "code",
   "execution_count": 203,
   "metadata": {
    "collapsed": false
   },
   "outputs": [
    {
     "data": {
      "text/plain": [
       "['7:00 a - 9:15 a']"
      ]
     },
     "execution_count": 203,
     "metadata": {},
     "output_type": "execute_result"
    }
   ],
   "source": [
    "metropolitan_sched['Friday'][0]"
   ]
  },
  {
   "cell_type": "code",
   "execution_count": 204,
   "metadata": {
    "collapsed": false
   },
   "outputs": [
    {
     "data": {
      "text/plain": [
       "{'Friday': [['7:00 a - 9:15 a'], ['5:30 p - 9:15 p']],\n",
       " 'Monday': [['7:00 a - 9:15 a'], ['1:30 p - 3:30 p'], ['6:30 p - 9:15 p']],\n",
       " 'Saturday': [['7:00 a - 8:45 a'], ['4:00 p - 5:15 p']],\n",
       " 'Sunday': [['10:00 a - 12:30 p']],\n",
       " 'Thursday': [['7:00 a - 11:00 a'], ['1:30 p - 3:00 p'], ['5:30 p - 9:15 p']],\n",
       " 'Tuesday': [['7:00 a - 11:00 a'], ['2:00 p - 3:00 p'], ['5:30 p - 9:15 p']],\n",
       " 'Wednesday': [['7:00 a - 9:15 a'], ['1:30 p - 3:30 p'], ['6:30 p - 9:15 p']]}"
      ]
     },
     "execution_count": 204,
     "metadata": {},
     "output_type": "execute_result"
    }
   ],
   "source": [
    "metropolitan_sched"
   ]
  },
  {
   "cell_type": "code",
   "execution_count": 208,
   "metadata": {
    "collapsed": false
   },
   "outputs": [],
   "source": [
    "\n",
    "df = pd.DataFrame.from_dict(metropolitan_sched, orient='index')"
   ]
  },
  {
   "cell_type": "code",
   "execution_count": 212,
   "metadata": {
    "collapsed": false
   },
   "outputs": [],
   "source": [
    "df = df.transpose()"
   ]
  },
  {
   "cell_type": "code",
   "execution_count": 216,
   "metadata": {
    "collapsed": false
   },
   "outputs": [],
   "source": [
    "del df['Metropolitan Pool'] "
   ]
  },
  {
   "cell_type": "code",
   "execution_count": 219,
   "metadata": {
    "collapsed": false
   },
   "outputs": [],
   "source": [
    "df['Pool'] = 'Metropolitan Pool'"
   ]
  },
  {
   "cell_type": "code",
   "execution_count": 220,
   "metadata": {
    "collapsed": false,
    "scrolled": true
   },
   "outputs": [
    {
     "data": {
      "text/html": [
       "<div>\n",
       "<table border=\"1\" class=\"dataframe\">\n",
       "  <thead>\n",
       "    <tr style=\"text-align: right;\">\n",
       "      <th></th>\n",
       "      <th>Monday</th>\n",
       "      <th>Tuesday</th>\n",
       "      <th>Friday</th>\n",
       "      <th>Wednesday</th>\n",
       "      <th>Thursday</th>\n",
       "      <th>Sunday</th>\n",
       "      <th>Saturday</th>\n",
       "      <th>Pool</th>\n",
       "    </tr>\n",
       "  </thead>\n",
       "  <tbody>\n",
       "    <tr>\n",
       "      <th>0</th>\n",
       "      <td>[7:00 a - 9:15 a]</td>\n",
       "      <td>[7:00 a - 11:00 a]</td>\n",
       "      <td>[7:00 a - 9:15 a]</td>\n",
       "      <td>[7:00 a - 9:15 a]</td>\n",
       "      <td>[7:00 a - 11:00 a]</td>\n",
       "      <td>[10:00 a - 12:30 p]</td>\n",
       "      <td>[7:00 a - 8:45 a]</td>\n",
       "      <td>Metropolitan Pool</td>\n",
       "    </tr>\n",
       "    <tr>\n",
       "      <th>1</th>\n",
       "      <td>[1:30 p - 3:30 p]</td>\n",
       "      <td>[2:00 p - 3:00 p]</td>\n",
       "      <td>[5:30 p - 9:15 p]</td>\n",
       "      <td>[1:30 p - 3:30 p]</td>\n",
       "      <td>[1:30 p - 3:00 p]</td>\n",
       "      <td>None</td>\n",
       "      <td>[4:00 p - 5:15 p]</td>\n",
       "      <td>Metropolitan Pool</td>\n",
       "    </tr>\n",
       "    <tr>\n",
       "      <th>2</th>\n",
       "      <td>[6:30 p - 9:15 p]</td>\n",
       "      <td>[5:30 p - 9:15 p]</td>\n",
       "      <td>None</td>\n",
       "      <td>[6:30 p - 9:15 p]</td>\n",
       "      <td>[5:30 p - 9:15 p]</td>\n",
       "      <td>None</td>\n",
       "      <td>None</td>\n",
       "      <td>Metropolitan Pool</td>\n",
       "    </tr>\n",
       "  </tbody>\n",
       "</table>\n",
       "</div>"
      ],
      "text/plain": [
       "              Monday             Tuesday             Friday  \\\n",
       "0  [7:00 a - 9:15 a]  [7:00 a - 11:00 a]  [7:00 a - 9:15 a]   \n",
       "1  [1:30 p - 3:30 p]   [2:00 p - 3:00 p]  [5:30 p - 9:15 p]   \n",
       "2  [6:30 p - 9:15 p]   [5:30 p - 9:15 p]               None   \n",
       "\n",
       "           Wednesday            Thursday               Sunday  \\\n",
       "0  [7:00 a - 9:15 a]  [7:00 a - 11:00 a]  [10:00 a - 12:30 p]   \n",
       "1  [1:30 p - 3:30 p]   [1:30 p - 3:00 p]                 None   \n",
       "2  [6:30 p - 9:15 p]   [5:30 p - 9:15 p]                 None   \n",
       "\n",
       "            Saturday               Pool  \n",
       "0  [7:00 a - 8:45 a]  Metropolitan Pool  \n",
       "1  [4:00 p - 5:15 p]  Metropolitan Pool  \n",
       "2               None  Metropolitan Pool  "
      ]
     },
     "execution_count": 220,
     "metadata": {},
     "output_type": "execute_result"
    }
   ],
   "source": [
    "df"
   ]
  },
  {
   "cell_type": "code",
   "execution_count": 227,
   "metadata": {
    "collapsed": false
   },
   "outputs": [
    {
     "ename": "SyntaxError",
     "evalue": "can't assign to operator (<ipython-input-227-3a7b8bfda95c>, line 3)",
     "output_type": "error",
     "traceback": [
      "\u001b[0;36m  File \u001b[0;32m\"<ipython-input-227-3a7b8bfda95c>\"\u001b[0;36m, line \u001b[0;32m3\u001b[0m\n\u001b[0;31m    'r'+str(i) = urllib.urlopen(pools['website_source'][i]).read()\u001b[0m\n\u001b[0;31mSyntaxError\u001b[0m\u001b[0;31m:\u001b[0m can't assign to operator\n"
     ]
    }
   ],
   "source": [
    "#pipeline to scrape each pool, collect times for days of the week, convert to a dataframe then concatenate with the other dataframes\n",
    "#this doesn't work due to inconsistencies on the different pool websites, some say lap swim, others adult lap swim and others adult swim.\n",
    "#there are other non-lap swim programs so i have to scrape each separately and check.\n",
    "dflist = ['df1','df2','df3', 'df4','df5', 'df6', 'df7', 'df8', 'df9', 'df10', 'df11', 'df12']\n",
    "poolist = ['asser_levy', 'chelsea', 'gertrude_erdel','hansborough','tony_dapolito','brownsville','metropolitan','st.johns','flushing','roy_wilkins','st.marys','rec_center54']\n",
    "failist = []\n",
    "\n",
    "for j in range(4, 13):\n",
    "    try:\n",
    "        r = urllib.urlopen(pools['website_source'][j]).read()\n",
    "        soup = BeautifulSoup(r)\n",
    "        letters  = soup.find_all([\"p\", \"div\"], [\"program\", \"center-hrs\"] ) \n",
    "        swimposting = []\n",
    "        otherposting = []\n",
    "        for i in letters:\n",
    "            if str(i).find('Lap Swim') > 0:\n",
    "                swimposting.append(str(i))\n",
    "            if str(i).find('Building Hours') > 0:\n",
    "                swimposting.append(str(i))\n",
    "            else:\n",
    "                otherposting.append(str(i))\n",
    "        pools['swimming_pool'][j] = swimposting[7:-7]\n",
    "        sched = {}\n",
    "        count = 0\n",
    "        for s in pools['swimming_pool'][j]:\n",
    "            if str(s).find('Building Hours') > 0:\n",
    "                sched[days_of_week[count]] = []\n",
    "                count = count + 1\n",
    "            if str(s).find('Lap Swim') > 0:\n",
    "                sched[days_of_week[count-1]].append(re.findall('[0-9]*:[0-9]*\\s[a-z]\\s-\\s[0-9]*:[0-9]*\\s[a-z]'  ,str(s)))\n",
    "        dflist[j] = pd.DataFrame.from_dict(sched, orient='index')\n",
    "        dflist[j] = dflist[j].transpose()\n",
    "        eeps = poolist[j]\n",
    "        dflist[j]['Pool'] = eeps\n",
    "    except:\n",
    "        failist.append(j)"
   ]
  },
  {
   "cell_type": "code",
   "execution_count": 224,
   "metadata": {
    "collapsed": false,
    "scrolled": false
   },
   "outputs": [
    {
     "name": "stdout",
     "output_type": "stream",
     "text": [
      "asser_levy\n",
      "chelsea\n",
      "gertrude_erdel\n",
      "hansborough\n",
      "tony_dapolito\n",
      "brownsville\n",
      "metropolitan\n",
      "st.john’s\n",
      "flushing\n",
      "roy_wilkins\n",
      "st.mary’s\n",
      "rec_center54\n"
     ]
    }
   ],
   "source": [
    "for i in range(0, 12):\n",
    "    print pools['swimming_pool'][i]"
   ]
  },
  {
   "cell_type": "code",
   "execution_count": 233,
   "metadata": {
    "collapsed": false
   },
   "outputs": [],
   "source": [
    "r = urllib.urlopen(pools['website_source'][0]).read()\n",
    "soup = BeautifulSoup(r)\n",
    "letters  = soup.find_all([\"p\", \"div\"], [\"program\", \"center-hrs\"] ) \n",
    "swimposting = []\n",
    "otherposting = []\n",
    "for i in letters:\n",
    "    if str(i).find('Adult Lap Swim') > 0:\n",
    "        swimposting.append(str(i))\n",
    "    if str(i).find('Building Hours') > 0:\n",
    "        swimposting.append(str(i))\n",
    "    else:\n",
    "        otherposting.append(str(i))\n"
   ]
  },
  {
   "cell_type": "code",
   "execution_count": 236,
   "metadata": {
    "collapsed": true
   },
   "outputs": [],
   "source": [
    "pools['swimming_pool'][0] = swimposting[7:]\n",
    "sched = {}\n",
    "count = 0\n",
    "for i in pools['swimming_pool'][0]:\n",
    "    if str(i).find('Building Hours') > 0:\n",
    "        sched[days_of_week[count]] = []\n",
    "        count = count + 1\n",
    "    if str(i).find('Adult Lap Swim') > 0:\n",
    "        sched[days_of_week[count-1]].append(re.findall('[0-9]*:[0-9]*\\s[a-z]\\s-\\s[0-9]*:[0-9]*\\s[a-z]'  ,str(i)))\n"
   ]
  },
  {
   "cell_type": "code",
   "execution_count": 237,
   "metadata": {
    "collapsed": false
   },
   "outputs": [
    {
     "data": {
      "text/plain": [
       "{'Friday': [['7:00 a - 9:00 a'], ['1:15 p - 3:00 p'], ['7:00 p - 9:20 p']],\n",
       " 'Monday': [['7:00 a - 9:00 a'], ['1:15 p - 3:45 p'], ['6:30 p - 9:20 p']],\n",
       " 'Saturday': [['8:00 a - 9:00 a'], ['2:15 p - 4:30 p']],\n",
       " 'Sunday': [['8:00 a - 11:00 a'], ['2:15 p - 4:30 p']],\n",
       " 'Thursday': [['7:00 a - 9:00 a'], ['1:15 p - 3:30 p'], ['6:30 p - 9:20 p']],\n",
       " 'Tuesday': [['7:00 a - 9:00 a'], ['1:15 p - 3:45 p'], ['6:30 p - 9:20 p']],\n",
       " 'Wednesday': [['7:00 a - 9:00 a'], ['1:15 p - 3:45 p'], ['6:30 p - 9:20 p']]}"
      ]
     },
     "execution_count": 237,
     "metadata": {},
     "output_type": "execute_result"
    }
   ],
   "source": [
    "sched"
   ]
  },
  {
   "cell_type": "code",
   "execution_count": 238,
   "metadata": {
    "collapsed": true
   },
   "outputs": [],
   "source": [
    "\n",
    "#dataframe wrangling to get it in the format i want, i'll then join all dataframes from the separate pools\n",
    "df0 = pd.DataFrame.from_dict(sched, orient='index')\n",
    "#df0 = df0.transpose()\n",
    "#df0['Pool'] = pools['swimming_pool'][0]"
   ]
  },
  {
   "cell_type": "code",
   "execution_count": 246,
   "metadata": {
    "collapsed": true
   },
   "outputs": [],
   "source": [
    "df0 = df0.transpose()"
   ]
  },
  {
   "cell_type": "code",
   "execution_count": 247,
   "metadata": {
    "collapsed": false
   },
   "outputs": [],
   "source": [
    "del df0['Pool'] "
   ]
  },
  {
   "cell_type": "code",
   "execution_count": 249,
   "metadata": {
    "collapsed": false
   },
   "outputs": [],
   "source": [
    "df0 = df0.transpose()"
   ]
  },
  {
   "cell_type": "code",
   "execution_count": 251,
   "metadata": {
    "collapsed": false
   },
   "outputs": [],
   "source": [
    "df0['Pool'] = 'asser levy'"
   ]
  },
  {
   "cell_type": "code",
   "execution_count": 252,
   "metadata": {
    "collapsed": false
   },
   "outputs": [
    {
     "data": {
      "text/html": [
       "<div>\n",
       "<table border=\"1\" class=\"dataframe\">\n",
       "  <thead>\n",
       "    <tr style=\"text-align: right;\">\n",
       "      <th></th>\n",
       "      <th>Monday</th>\n",
       "      <th>Tuesday</th>\n",
       "      <th>Friday</th>\n",
       "      <th>Wednesday</th>\n",
       "      <th>Thursday</th>\n",
       "      <th>Sunday</th>\n",
       "      <th>Saturday</th>\n",
       "      <th>Pool</th>\n",
       "    </tr>\n",
       "  </thead>\n",
       "  <tbody>\n",
       "    <tr>\n",
       "      <th>0</th>\n",
       "      <td>[7:00 a - 9:00 a]</td>\n",
       "      <td>[7:00 a - 9:00 a]</td>\n",
       "      <td>[7:00 a - 9:00 a]</td>\n",
       "      <td>[7:00 a - 9:00 a]</td>\n",
       "      <td>[7:00 a - 9:00 a]</td>\n",
       "      <td>[8:00 a - 11:00 a]</td>\n",
       "      <td>[8:00 a - 9:00 a]</td>\n",
       "      <td>asser levy</td>\n",
       "    </tr>\n",
       "    <tr>\n",
       "      <th>1</th>\n",
       "      <td>[1:15 p - 3:45 p]</td>\n",
       "      <td>[1:15 p - 3:45 p]</td>\n",
       "      <td>[1:15 p - 3:00 p]</td>\n",
       "      <td>[1:15 p - 3:45 p]</td>\n",
       "      <td>[1:15 p - 3:30 p]</td>\n",
       "      <td>[2:15 p - 4:30 p]</td>\n",
       "      <td>[2:15 p - 4:30 p]</td>\n",
       "      <td>asser levy</td>\n",
       "    </tr>\n",
       "    <tr>\n",
       "      <th>2</th>\n",
       "      <td>[6:30 p - 9:20 p]</td>\n",
       "      <td>[6:30 p - 9:20 p]</td>\n",
       "      <td>[7:00 p - 9:20 p]</td>\n",
       "      <td>[6:30 p - 9:20 p]</td>\n",
       "      <td>[6:30 p - 9:20 p]</td>\n",
       "      <td>None</td>\n",
       "      <td>None</td>\n",
       "      <td>asser levy</td>\n",
       "    </tr>\n",
       "  </tbody>\n",
       "</table>\n",
       "</div>"
      ],
      "text/plain": [
       "              Monday            Tuesday             Friday          Wednesday  \\\n",
       "0  [7:00 a - 9:00 a]  [7:00 a - 9:00 a]  [7:00 a - 9:00 a]  [7:00 a - 9:00 a]   \n",
       "1  [1:15 p - 3:45 p]  [1:15 p - 3:45 p]  [1:15 p - 3:00 p]  [1:15 p - 3:45 p]   \n",
       "2  [6:30 p - 9:20 p]  [6:30 p - 9:20 p]  [7:00 p - 9:20 p]  [6:30 p - 9:20 p]   \n",
       "\n",
       "            Thursday              Sunday           Saturday        Pool  \n",
       "0  [7:00 a - 9:00 a]  [8:00 a - 11:00 a]  [8:00 a - 9:00 a]  asser levy  \n",
       "1  [1:15 p - 3:30 p]   [2:15 p - 4:30 p]  [2:15 p - 4:30 p]  asser levy  \n",
       "2  [6:30 p - 9:20 p]                None               None  asser levy  "
      ]
     },
     "execution_count": 252,
     "metadata": {},
     "output_type": "execute_result"
    }
   ],
   "source": [
    "df0"
   ]
  },
  {
   "cell_type": "code",
   "execution_count": 259,
   "metadata": {
    "collapsed": false
   },
   "outputs": [],
   "source": [
    "r = urllib.urlopen(pools['website_source'][1]).read()\n",
    "soup = BeautifulSoup(r)\n",
    "letters  = soup.find_all([\"p\", \"div\"], [\"program\", \"center-hrs\"] ) \n",
    "swimposting = []\n",
    "otherposting = []\n",
    "for i in letters:\n",
    "    if str(i).find('Lap Swim') > 0:\n",
    "        swimposting.append(str(i))\n",
    "    if str(i).find('Building Hours') > 0:\n",
    "        swimposting.append(str(i))\n",
    "    else:\n",
    "        otherposting.append(str(i))\n"
   ]
  },
  {
   "cell_type": "code",
   "execution_count": 270,
   "metadata": {
    "collapsed": false
   },
   "outputs": [
    {
     "data": {
      "text/plain": [
       "['<div class=\"center-hrs\">\\n<p>\\n<strong>Building Hours</strong><br/>\\n\\t\\t\\t\\t\\t\\t\\t\\t\\t\\t\\t                                                                                                \\t                                                     \\t6:30 a - 10:00 p\\n                                                    \\n                                                \\t\\t\\t\\t\\t\\t\\t\\t\\t\\t\\t\\t\\t\\t\\t\\t\\t\\t\\t\\t\\t</p>\\n</div>',\n",
       " '<p class=\"program\">\\n\\t\\t\\t\\t\\t\\t\\t\\t\\t7:00 a - 10:00 a\\n\\t\\t\\t\\t\\t\\t\\t\\t\\t<br/>\\n<a class=\"program-popup\" href=\"#program_14800\"><strong>Lap Swim</strong></a> <br/>\\n\\t\\t\\t\\t\\t\\t\\t\\t\\tAdult, Senior\\n\\t\\t\\t\\t\\t\\t\\t\\t\\t<br/>\\n</p>',\n",
       " '<p class=\"program\">\\n\\t\\t\\t\\t\\t\\t\\t\\t\\t2:00 p - 3:45 p\\n\\t\\t\\t\\t\\t\\t\\t\\t\\t<br/>\\n<a class=\"program-popup\" href=\"#program_14800\"><strong>Lap Swim</strong></a> <br/>\\n\\t\\t\\t\\t\\t\\t\\t\\t\\tAdult, Senior\\n\\t\\t\\t\\t\\t\\t\\t\\t\\t<br/>\\n</p>',\n",
       " '<p class=\"program\">\\n\\t\\t\\t\\t\\t\\t\\t\\t\\t9:00 p - 10:00 p\\n\\t\\t\\t\\t\\t\\t\\t\\t\\t<br/>\\n<a class=\"program-popup\" href=\"#program_14800\"><strong>Lap Swim</strong></a> <br/>\\n\\t\\t\\t\\t\\t\\t\\t\\t\\tAdult, Senior\\n\\t\\t\\t\\t\\t\\t\\t\\t\\t<br/>\\n</p>',\n",
       " '<div class=\"center-hrs\">\\n<p>\\n<strong>Building Hours</strong><br/>\\n\\t\\t\\t\\t\\t\\t\\t\\t\\t\\t\\t                                                                                                \\t                                                     \\t6:30 a - 10:00 p\\n                                                    \\n                                                \\t\\t\\t\\t\\t\\t\\t\\t\\t\\t\\t\\t\\t\\t\\t\\t\\t\\t\\t\\t\\t</p>\\n</div>',\n",
       " '<p class=\"program\">\\n\\t\\t\\t\\t\\t\\t\\t\\t\\t7:00 a - 10:00 a\\n\\t\\t\\t\\t\\t\\t\\t\\t\\t<br/>\\n<a class=\"program-popup\" href=\"#program_14800\"><strong>Lap Swim</strong></a> <br/>\\n\\t\\t\\t\\t\\t\\t\\t\\t\\tAdult, Senior\\n\\t\\t\\t\\t\\t\\t\\t\\t\\t<br/>\\n</p>',\n",
       " '<p class=\"program\">\\n\\t\\t\\t\\t\\t\\t\\t\\t\\t1:00 p - 3:45 p\\n\\t\\t\\t\\t\\t\\t\\t\\t\\t<br/>\\n<a class=\"program-popup\" href=\"#program_14800\"><strong>Lap Swim</strong></a> <br/>\\n\\t\\t\\t\\t\\t\\t\\t\\t\\tAdult, Senior\\n\\t\\t\\t\\t\\t\\t\\t\\t\\t<br/>\\n</p>',\n",
       " '<p class=\"program\">\\n\\t\\t\\t\\t\\t\\t\\t\\t\\t6:00 p - 7:00 p\\n\\t\\t\\t\\t\\t\\t\\t\\t\\t<br/>\\n<a class=\"program-popup\" href=\"#program_14800\"><strong>Lap Swim</strong></a> <br/>\\n\\t\\t\\t\\t\\t\\t\\t\\t\\tAdult, Senior\\n\\t\\t\\t\\t\\t\\t\\t\\t\\t<br/>\\n</p>',\n",
       " '<div class=\"center-hrs\">\\n<p>\\n<strong>Building Hours</strong><br/>\\n\\t\\t\\t\\t\\t\\t\\t\\t\\t\\t\\t                                                                                                \\t                                                     \\t6:30 a - 10:00 p\\n                                                    \\n                                                \\t\\t\\t\\t\\t\\t\\t\\t\\t\\t\\t\\t\\t\\t\\t\\t\\t\\t\\t\\t\\t</p>\\n</div>',\n",
       " '<p class=\"program\">\\n\\t\\t\\t\\t\\t\\t\\t\\t\\t7:00 a - 9:30 a\\n\\t\\t\\t\\t\\t\\t\\t\\t\\t<br/>\\n<a class=\"program-popup\" href=\"#program_14800\"><strong>Lap Swim</strong></a> <br/>\\n\\t\\t\\t\\t\\t\\t\\t\\t\\tAdult, Senior\\n\\t\\t\\t\\t\\t\\t\\t\\t\\t<br/>\\n</p>',\n",
       " '<p class=\"program\">\\n\\t\\t\\t\\t\\t\\t\\t\\t\\t2:00 p - 3:45 p\\n\\t\\t\\t\\t\\t\\t\\t\\t\\t<br/>\\n<a class=\"program-popup\" href=\"#program_14800\"><strong>Lap Swim</strong></a> <br/>\\n\\t\\t\\t\\t\\t\\t\\t\\t\\tAdult, Senior\\n\\t\\t\\t\\t\\t\\t\\t\\t\\t<br/>\\n</p>',\n",
       " '<p class=\"program\">\\n\\t\\t\\t\\t\\t\\t\\t\\t\\t9:00 p - 10:00 p\\n\\t\\t\\t\\t\\t\\t\\t\\t\\t<br/>\\n<a class=\"program-popup\" href=\"#program_14800\"><strong>Lap Swim</strong></a> <br/>\\n\\t\\t\\t\\t\\t\\t\\t\\t\\tAdult, Senior\\n\\t\\t\\t\\t\\t\\t\\t\\t\\t<br/>\\n</p>',\n",
       " '<div class=\"center-hrs\">\\n<p>\\n<strong>Building Hours</strong><br/>\\n\\t\\t\\t\\t\\t\\t\\t\\t\\t\\t\\t                                                                                                \\t                                                     \\t6:30 a - 10:00 p\\n                                                    \\n                                                \\t\\t\\t\\t\\t\\t\\t\\t\\t\\t\\t\\t\\t\\t\\t\\t\\t\\t\\t\\t\\t</p>\\n</div>',\n",
       " '<p class=\"program\">\\n\\t\\t\\t\\t\\t\\t\\t\\t\\t7:00 a - 10:00 a\\n\\t\\t\\t\\t\\t\\t\\t\\t\\t<br/>\\n<a class=\"program-popup\" href=\"#program_14800\"><strong>Lap Swim</strong></a> <br/>\\n\\t\\t\\t\\t\\t\\t\\t\\t\\tAdult, Senior\\n\\t\\t\\t\\t\\t\\t\\t\\t\\t<br/>\\n</p>',\n",
       " '<p class=\"program\">\\n\\t\\t\\t\\t\\t\\t\\t\\t\\t1:00 p - 3:45 p\\n\\t\\t\\t\\t\\t\\t\\t\\t\\t<br/>\\n<a class=\"program-popup\" href=\"#program_14800\"><strong>Lap Swim</strong></a> <br/>\\n\\t\\t\\t\\t\\t\\t\\t\\t\\tAdult, Senior\\n\\t\\t\\t\\t\\t\\t\\t\\t\\t<br/>\\n</p>',\n",
       " '<p class=\"program\">\\n\\t\\t\\t\\t\\t\\t\\t\\t\\t6:00 p - 7:00 p\\n\\t\\t\\t\\t\\t\\t\\t\\t\\t<br/>\\n<a class=\"program-popup\" href=\"#program_14800\"><strong>Lap Swim</strong></a> <br/>\\n\\t\\t\\t\\t\\t\\t\\t\\t\\tAdult, Senior\\n\\t\\t\\t\\t\\t\\t\\t\\t\\t<br/>\\n</p>',\n",
       " '<p class=\"program\">\\n\\t\\t\\t\\t\\t\\t\\t\\t\\t9:00 p - 10:00 p\\n\\t\\t\\t\\t\\t\\t\\t\\t\\t<br/>\\n<a class=\"program-popup\" href=\"#program_14800\"><strong>Lap Swim</strong></a> <br/>\\n\\t\\t\\t\\t\\t\\t\\t\\t\\tAdult, Senior\\n\\t\\t\\t\\t\\t\\t\\t\\t\\t<br/>\\n</p>',\n",
       " '<div class=\"center-hrs\">\\n<p>\\n<strong>Building Hours</strong><br/>\\n\\t\\t\\t\\t\\t\\t\\t\\t\\t\\t\\t                                                                                                \\t                                                     \\t6:30 a - 10:00 p\\n                                                    \\n                                                \\t\\t\\t\\t\\t\\t\\t\\t\\t\\t\\t\\t\\t\\t\\t\\t\\t\\t\\t\\t\\t</p>\\n</div>',\n",
       " '<p class=\"program\">\\n\\t\\t\\t\\t\\t\\t\\t\\t\\t7:00 a - 9:30 a\\n\\t\\t\\t\\t\\t\\t\\t\\t\\t<br/>\\n<a class=\"program-popup\" href=\"#program_14800\"><strong>Lap Swim</strong></a> <br/>\\n\\t\\t\\t\\t\\t\\t\\t\\t\\tAdult, Senior\\n\\t\\t\\t\\t\\t\\t\\t\\t\\t<br/>\\n</p>',\n",
       " '<p class=\"program\">\\n\\t\\t\\t\\t\\t\\t\\t\\t\\t2:00 p - 3:45 p\\n\\t\\t\\t\\t\\t\\t\\t\\t\\t<br/>\\n<a class=\"program-popup\" href=\"#program_14800\"><strong>Lap Swim</strong></a> <br/>\\n\\t\\t\\t\\t\\t\\t\\t\\t\\tAdult, Senior\\n\\t\\t\\t\\t\\t\\t\\t\\t\\t<br/>\\n</p>',\n",
       " '<p class=\"program\">\\n\\t\\t\\t\\t\\t\\t\\t\\t\\t9:00 p - 10:00 p\\n\\t\\t\\t\\t\\t\\t\\t\\t\\t<br/>\\n<a class=\"program-popup\" href=\"#program_14800\"><strong>Lap Swim</strong></a> <br/>\\n\\t\\t\\t\\t\\t\\t\\t\\t\\tAdult, Senior\\n\\t\\t\\t\\t\\t\\t\\t\\t\\t<br/>\\n</p>',\n",
       " '<div class=\"center-hrs\">\\n<p>\\n<strong>Building Hours</strong><br/>\\n\\t\\t\\t\\t\\t\\t\\t\\t\\t\\t\\t                                                                                                \\t                                                     \\t8:00 a - 4:00 p\\n                                                    \\n                                                \\t\\t\\t\\t\\t\\t\\t\\t\\t\\t\\t\\t\\t\\t\\t\\t\\t\\t\\t\\t\\t</p>\\n</div>',\n",
       " '<p class=\"program\">\\n\\t\\t\\t\\t\\t\\t\\t\\t\\t7:00 a - 8:00 a\\n\\t\\t\\t\\t\\t\\t\\t\\t\\t<br/>\\n<a class=\"program-popup\" href=\"#program_14800\"><strong>Lap Swim</strong></a> <br/>\\n\\t\\t\\t\\t\\t\\t\\t\\t\\tAdult, Senior\\n\\t\\t\\t\\t\\t\\t\\t\\t\\t<br/>\\n</p>',\n",
       " '<div class=\"center-hrs\">\\n<p>\\n<strong>Building Hours</strong><br/>\\n\\t\\t\\t\\t\\t\\t\\t\\t\\t\\t\\t                                                                                                \\t                                                     \\t8:00 a - 4:00 p\\n                                                    \\n                                                \\t\\t\\t\\t\\t\\t\\t\\t\\t\\t\\t\\t\\t\\t\\t\\t\\t\\t\\t\\t\\t</p>\\n</div>',\n",
       " '<p class=\"program\">\\n\\t\\t\\t\\t\\t\\t\\t\\t\\t8:00 a - 11:00 a\\n\\t\\t\\t\\t\\t\\t\\t\\t\\t<br/>\\n<a class=\"program-popup\" href=\"#program_14800\"><strong>Lap Swim</strong></a> <br/>\\n\\t\\t\\t\\t\\t\\t\\t\\t\\tAdult, Senior\\n\\t\\t\\t\\t\\t\\t\\t\\t\\t<br/>\\n</p>',\n",
       " '<p class=\"program\">\\n\\t\\t\\t\\t\\t\\t\\t\\t\\t3:00 p - 4:00 p\\n\\t\\t\\t\\t\\t\\t\\t\\t\\t<br/>\\n<a class=\"program-popup\" href=\"#program_14800\"><strong>Lap Swim</strong></a> <br/>\\n\\t\\t\\t\\t\\t\\t\\t\\t\\tAdult, Senior\\n\\t\\t\\t\\t\\t\\t\\t\\t\\t<br/>\\n</p>',\n",
       " '<div class=\"center-hrs\">\\n<p>\\n<strong>Building Hours</strong><br/>\\n\\t\\t\\t\\t\\t\\t\\t\\t\\t\\t\\t                                                                                                \\t                                                     \\t6:30 a - 10:00 p\\n                                                    \\n                                                \\t\\t\\t\\t\\t\\t\\t\\t\\t\\t\\t\\t\\t\\t\\t\\t\\t\\t\\t\\t\\t</p>\\n</div>']"
      ]
     },
     "execution_count": 270,
     "metadata": {},
     "output_type": "execute_result"
    }
   ],
   "source": [
    "swimposting[7:-6]"
   ]
  },
  {
   "cell_type": "code",
   "execution_count": 267,
   "metadata": {
    "collapsed": false
   },
   "outputs": [],
   "source": [
    "pools['swimming_pool'][1] = swimposting[7:-7]\n",
    "sched = {}\n",
    "count = 0\n",
    "for i in pools['swimming_pool'][1]:\n",
    "    if str(i).find('Building Hours') > 0:\n",
    "        sched[days_of_week[count]] = []\n",
    "        count = count + 1\n",
    "    if str(i).find('Lap Swim') > 0:\n",
    "        sched[days_of_week[count-1]].append(re.findall('[0-9]*:[0-9]*\\s[a-z]\\s-\\s[0-9]*:[0-9]*\\s[a-z]'  ,str(i)))\n"
   ]
  },
  {
   "cell_type": "code",
   "execution_count": 268,
   "metadata": {
    "collapsed": true
   },
   "outputs": [],
   "source": [
    "df1 = pd.DataFrame.from_dict(sched, orient='index')\n",
    "df1 = df1.transpose()\n",
    "df1['Pool'] = 'chelsea'"
   ]
  },
  {
   "cell_type": "code",
   "execution_count": 269,
   "metadata": {
    "collapsed": false
   },
   "outputs": [
    {
     "data": {
      "text/html": [
       "<div>\n",
       "<table border=\"1\" class=\"dataframe\">\n",
       "  <thead>\n",
       "    <tr style=\"text-align: right;\">\n",
       "      <th></th>\n",
       "      <th>Monday</th>\n",
       "      <th>Tuesday</th>\n",
       "      <th>Friday</th>\n",
       "      <th>Wednesday</th>\n",
       "      <th>Thursday</th>\n",
       "      <th>Sunday</th>\n",
       "      <th>Saturday</th>\n",
       "      <th>Pool</th>\n",
       "    </tr>\n",
       "  </thead>\n",
       "  <tbody>\n",
       "    <tr>\n",
       "      <th>0</th>\n",
       "      <td>[7:00 a - 10:00 a]</td>\n",
       "      <td>[7:00 a - 10:00 a]</td>\n",
       "      <td>[7:00 a - 9:30 a]</td>\n",
       "      <td>[7:00 a - 9:30 a]</td>\n",
       "      <td>[7:00 a - 10:00 a]</td>\n",
       "      <td>[8:00 a - 11:00 a]</td>\n",
       "      <td>[7:00 a - 8:00 a]</td>\n",
       "      <td>chelsea</td>\n",
       "    </tr>\n",
       "    <tr>\n",
       "      <th>1</th>\n",
       "      <td>[2:00 p - 3:45 p]</td>\n",
       "      <td>[1:00 p - 3:45 p]</td>\n",
       "      <td>[2:00 p - 3:45 p]</td>\n",
       "      <td>[2:00 p - 3:45 p]</td>\n",
       "      <td>[1:00 p - 3:45 p]</td>\n",
       "      <td>[3:00 p - 4:00 p]</td>\n",
       "      <td>None</td>\n",
       "      <td>chelsea</td>\n",
       "    </tr>\n",
       "    <tr>\n",
       "      <th>2</th>\n",
       "      <td>[9:00 p - 10:00 p]</td>\n",
       "      <td>[6:00 p - 7:00 p]</td>\n",
       "      <td>[9:00 p - 10:00 p]</td>\n",
       "      <td>[9:00 p - 10:00 p]</td>\n",
       "      <td>[6:00 p - 7:00 p]</td>\n",
       "      <td>None</td>\n",
       "      <td>None</td>\n",
       "      <td>chelsea</td>\n",
       "    </tr>\n",
       "    <tr>\n",
       "      <th>3</th>\n",
       "      <td>None</td>\n",
       "      <td>None</td>\n",
       "      <td>None</td>\n",
       "      <td>None</td>\n",
       "      <td>[9:00 p - 10:00 p]</td>\n",
       "      <td>None</td>\n",
       "      <td>None</td>\n",
       "      <td>chelsea</td>\n",
       "    </tr>\n",
       "  </tbody>\n",
       "</table>\n",
       "</div>"
      ],
      "text/plain": [
       "               Monday             Tuesday              Friday  \\\n",
       "0  [7:00 a - 10:00 a]  [7:00 a - 10:00 a]   [7:00 a - 9:30 a]   \n",
       "1   [2:00 p - 3:45 p]   [1:00 p - 3:45 p]   [2:00 p - 3:45 p]   \n",
       "2  [9:00 p - 10:00 p]   [6:00 p - 7:00 p]  [9:00 p - 10:00 p]   \n",
       "3                None                None                None   \n",
       "\n",
       "            Wednesday            Thursday              Sunday  \\\n",
       "0   [7:00 a - 9:30 a]  [7:00 a - 10:00 a]  [8:00 a - 11:00 a]   \n",
       "1   [2:00 p - 3:45 p]   [1:00 p - 3:45 p]   [3:00 p - 4:00 p]   \n",
       "2  [9:00 p - 10:00 p]   [6:00 p - 7:00 p]                None   \n",
       "3                None  [9:00 p - 10:00 p]                None   \n",
       "\n",
       "            Saturday     Pool  \n",
       "0  [7:00 a - 8:00 a]  chelsea  \n",
       "1               None  chelsea  \n",
       "2               None  chelsea  \n",
       "3               None  chelsea  "
      ]
     },
     "execution_count": 269,
     "metadata": {},
     "output_type": "execute_result"
    }
   ],
   "source": [
    "df1"
   ]
  },
  {
   "cell_type": "code",
   "execution_count": 271,
   "metadata": {
    "collapsed": true
   },
   "outputs": [],
   "source": [
    "r = urllib.urlopen(pools['website_source'][2]).read()\n",
    "soup = BeautifulSoup(r)\n",
    "letters  = soup.find_all([\"p\", \"div\"], [\"program\", \"center-hrs\"] ) \n",
    "swimposting = []\n",
    "otherposting = []\n",
    "for i in letters:\n",
    "    if str(i).find('Lap Swim') > 0:\n",
    "        swimposting.append(str(i))\n",
    "    if str(i).find('Building Hours') > 0:\n",
    "        swimposting.append(str(i))\n",
    "    else:\n",
    "        otherposting.append(str(i))"
   ]
  },
  {
   "cell_type": "code",
   "execution_count": 274,
   "metadata": {
    "collapsed": false
   },
   "outputs": [
    {
     "data": {
      "text/plain": [
       "['<div class=\"center-hrs\">\\n<p>\\n<strong>Building Hours</strong><br/>\\n\\t\\t\\t\\t\\t\\t\\t\\t\\t\\t\\t                                                                                                \\t                                                     \\t6:30 a - 9:30 p\\n                                                    \\n                                                \\t\\t\\t\\t\\t\\t\\t\\t\\t\\t\\t\\t\\t\\t\\t\\t\\t\\t\\t\\t\\t</p>\\n</div>',\n",
       " '<p class=\"program\">\\n\\t\\t\\t\\t\\t\\t\\t\\t\\t7:00 a - 9:45 a\\n\\t\\t\\t\\t\\t\\t\\t\\t\\t<br/>\\n<a class=\"program-popup\" href=\"#program_16641\"><strong>Lap Swim</strong></a> <br/>\\n\\t\\t\\t\\t\\t\\t\\t\\t\\tAdult, Senior\\n\\t\\t\\t\\t\\t\\t\\t\\t\\t<br/>\\n</p>',\n",
       " '<p class=\"program\">\\n\\t\\t\\t\\t\\t\\t\\t\\t\\t6:15 p - 9:00 p\\n\\t\\t\\t\\t\\t\\t\\t\\t\\t<br/>\\n<a class=\"program-popup\" href=\"#program_16641\"><strong>Lap Swim</strong></a> <br/>\\n\\t\\t\\t\\t\\t\\t\\t\\t\\tAdult, Senior\\n\\t\\t\\t\\t\\t\\t\\t\\t\\t<br/>\\n</p>',\n",
       " '<div class=\"center-hrs\">\\n<p>\\n<strong>Building Hours</strong><br/>\\n\\t\\t\\t\\t\\t\\t\\t\\t\\t\\t\\t                                                                                                \\t                                                     \\t6:30 a - 9:30 p\\n                                                    \\n                                                \\t\\t\\t\\t\\t\\t\\t\\t\\t\\t\\t\\t\\t\\t\\t\\t\\t\\t\\t\\t\\t</p>\\n</div>',\n",
       " '<p class=\"program\">\\n\\t\\t\\t\\t\\t\\t\\t\\t\\t7:00 a - 9:45 a\\n\\t\\t\\t\\t\\t\\t\\t\\t\\t<br/>\\n<a class=\"program-popup\" href=\"#program_16641\"><strong>Lap Swim</strong></a> <br/>\\n\\t\\t\\t\\t\\t\\t\\t\\t\\tAdult, Senior\\n\\t\\t\\t\\t\\t\\t\\t\\t\\t<br/>\\n</p>',\n",
       " '<p class=\"program\">\\n\\t\\t\\t\\t\\t\\t\\t\\t\\t12:00 p - 2:00 p\\n\\t\\t\\t\\t\\t\\t\\t\\t\\t<br/>\\n<a class=\"program-popup\" href=\"#program_16641\"><strong>Lap Swim</strong></a> <br/>\\n\\t\\t\\t\\t\\t\\t\\t\\t\\tAdult, Senior\\n\\t\\t\\t\\t\\t\\t\\t\\t\\t<br/>\\n</p>',\n",
       " '<p class=\"program\">\\n\\t\\t\\t\\t\\t\\t\\t\\t\\t6:15 p - 9:00 p\\n\\t\\t\\t\\t\\t\\t\\t\\t\\t<br/>\\n<a class=\"program-popup\" href=\"#program_16641\"><strong>Lap Swim</strong></a> <br/>\\n\\t\\t\\t\\t\\t\\t\\t\\t\\tAdult, Senior\\n\\t\\t\\t\\t\\t\\t\\t\\t\\t<br/>\\n</p>',\n",
       " '<div class=\"center-hrs\">\\n<p>\\n<strong>Building Hours</strong><br/>\\n\\t\\t\\t\\t\\t\\t\\t\\t\\t\\t\\t                                                                                                \\t                                                     \\t6:30 a - 9:30 p\\n                                                    \\n                                                \\t\\t\\t\\t\\t\\t\\t\\t\\t\\t\\t\\t\\t\\t\\t\\t\\t\\t\\t\\t\\t</p>\\n</div>',\n",
       " '<p class=\"program\">\\n\\t\\t\\t\\t\\t\\t\\t\\t\\t7:00 a - 9:45 a\\n\\t\\t\\t\\t\\t\\t\\t\\t\\t<br/>\\n<a class=\"program-popup\" href=\"#program_16641\"><strong>Lap Swim</strong></a> <br/>\\n\\t\\t\\t\\t\\t\\t\\t\\t\\tAdult, Senior\\n\\t\\t\\t\\t\\t\\t\\t\\t\\t<br/>\\n</p>',\n",
       " '<p class=\"program\">\\n\\t\\t\\t\\t\\t\\t\\t\\t\\t6:15 p - 9:00 p\\n\\t\\t\\t\\t\\t\\t\\t\\t\\t<br/>\\n<a class=\"program-popup\" href=\"#program_16641\"><strong>Lap Swim</strong></a> <br/>\\n\\t\\t\\t\\t\\t\\t\\t\\t\\tAdult, Senior\\n\\t\\t\\t\\t\\t\\t\\t\\t\\t<br/>\\n</p>',\n",
       " '<div class=\"center-hrs\">\\n<p>\\n<strong>Building Hours</strong><br/>\\n\\t\\t\\t\\t\\t\\t\\t\\t\\t\\t\\t                                                                                                \\t                                                     \\t6:30 a - 9:30 p\\n                                                    \\n                                                \\t\\t\\t\\t\\t\\t\\t\\t\\t\\t\\t\\t\\t\\t\\t\\t\\t\\t\\t\\t\\t</p>\\n</div>',\n",
       " '<p class=\"program\">\\n\\t\\t\\t\\t\\t\\t\\t\\t\\t7:00 a - 9:45 a\\n\\t\\t\\t\\t\\t\\t\\t\\t\\t<br/>\\n<a class=\"program-popup\" href=\"#program_16641\"><strong>Lap Swim</strong></a> <br/>\\n\\t\\t\\t\\t\\t\\t\\t\\t\\tAdult, Senior\\n\\t\\t\\t\\t\\t\\t\\t\\t\\t<br/>\\n</p>',\n",
       " '<p class=\"program\">\\n\\t\\t\\t\\t\\t\\t\\t\\t\\t12:00 p - 2:00 p\\n\\t\\t\\t\\t\\t\\t\\t\\t\\t<br/>\\n<a class=\"program-popup\" href=\"#program_16641\"><strong>Lap Swim</strong></a> <br/>\\n\\t\\t\\t\\t\\t\\t\\t\\t\\tAdult, Senior\\n\\t\\t\\t\\t\\t\\t\\t\\t\\t<br/>\\n</p>',\n",
       " '<p class=\"program\">\\n\\t\\t\\t\\t\\t\\t\\t\\t\\t6:15 p - 9:00 p\\n\\t\\t\\t\\t\\t\\t\\t\\t\\t<br/>\\n<a class=\"program-popup\" href=\"#program_16641\"><strong>Lap Swim</strong></a> <br/>\\n\\t\\t\\t\\t\\t\\t\\t\\t\\tAdult, Senior\\n\\t\\t\\t\\t\\t\\t\\t\\t\\t<br/>\\n</p>',\n",
       " '<div class=\"center-hrs\">\\n<p>\\n<strong>Building Hours</strong><br/>\\n\\t\\t\\t\\t\\t\\t\\t\\t\\t\\t\\t                                                                                                \\t                                                     \\t6:30 a - 9:30 p\\n                                                    \\n                                                \\t\\t\\t\\t\\t\\t\\t\\t\\t\\t\\t\\t\\t\\t\\t\\t\\t\\t\\t\\t\\t</p>\\n</div>',\n",
       " '<p class=\"program\">\\n\\t\\t\\t\\t\\t\\t\\t\\t\\t7:00 a - 9:45 a\\n\\t\\t\\t\\t\\t\\t\\t\\t\\t<br/>\\n<a class=\"program-popup\" href=\"#program_16641\"><strong>Lap Swim</strong></a> <br/>\\n\\t\\t\\t\\t\\t\\t\\t\\t\\tAdult, Senior\\n\\t\\t\\t\\t\\t\\t\\t\\t\\t<br/>\\n</p>',\n",
       " '<p class=\"program\">\\n\\t\\t\\t\\t\\t\\t\\t\\t\\t1:00 p - 3:45 p\\n\\t\\t\\t\\t\\t\\t\\t\\t\\t<br/>\\n<a class=\"program-popup\" href=\"#program_16641\"><strong>Lap Swim</strong></a> <br/>\\n\\t\\t\\t\\t\\t\\t\\t\\t\\tAdult, Senior\\n\\t\\t\\t\\t\\t\\t\\t\\t\\t<br/>\\n</p>',\n",
       " '<p class=\"program\">\\n\\t\\t\\t\\t\\t\\t\\t\\t\\t7:15 p - 9:00 p\\n\\t\\t\\t\\t\\t\\t\\t\\t\\t<br/>\\n<a class=\"program-popup\" href=\"#program_16641\"><strong>Lap Swim</strong></a> <br/>\\n\\t\\t\\t\\t\\t\\t\\t\\t\\tAdult, Senior\\n\\t\\t\\t\\t\\t\\t\\t\\t\\t<br/>\\n</p>',\n",
       " '<div class=\"center-hrs\">\\n<p>\\n<strong>Building Hours</strong><br/>\\n\\t\\t\\t\\t\\t\\t\\t\\t\\t\\t\\t                                                                                                \\t                                                     \\t8:00 a - 4:00 p\\n                                                    \\n                                                \\t\\t\\t\\t\\t\\t\\t\\t\\t\\t\\t\\t\\t\\t\\t\\t\\t\\t\\t\\t\\t</p>\\n</div>',\n",
       " '<p class=\"program\">\\n\\t\\t\\t\\t\\t\\t\\t\\t\\t8:00 a - 9:45 a\\n\\t\\t\\t\\t\\t\\t\\t\\t\\t<br/>\\n<a class=\"program-popup\" href=\"#program_16641\"><strong>Lap Swim</strong></a> <br/>\\n\\t\\t\\t\\t\\t\\t\\t\\t\\tAdult, Senior\\n\\t\\t\\t\\t\\t\\t\\t\\t\\t<br/>\\n</p>',\n",
       " '<div class=\"center-hrs\">\\n<p>\\n<strong>Building Hours</strong><br/>\\n\\t\\t\\t\\t\\t\\t\\t\\t\\t\\t\\t                                                                                                \\t                                                     \\t8:00 a - 4:00 p\\n                                                    \\n                                                \\t\\t\\t\\t\\t\\t\\t\\t\\t\\t\\t\\t\\t\\t\\t\\t\\t\\t\\t\\t\\t</p>\\n</div>']"
      ]
     },
     "execution_count": 274,
     "metadata": {},
     "output_type": "execute_result"
    }
   ],
   "source": [
    "swimposting[7:-7]"
   ]
  },
  {
   "cell_type": "code",
   "execution_count": 276,
   "metadata": {
    "collapsed": true
   },
   "outputs": [],
   "source": [
    "pools['swimming_pool'][2] = swimposting[7:-7]\n",
    "sched = {}\n",
    "count = 0\n",
    "for i in pools['swimming_pool'][2]:\n",
    "    if str(i).find('Building Hours') > 0:\n",
    "        sched[days_of_week[count]] = []\n",
    "        count = count + 1\n",
    "    if str(i).find('Lap Swim') > 0:\n",
    "        sched[days_of_week[count-1]].append(re.findall('[0-9]*:[0-9]*\\s[a-z]\\s-\\s[0-9]*:[0-9]*\\s[a-z]'  ,str(i)))\n",
    "\n",
    "        "
   ]
  },
  {
   "cell_type": "code",
   "execution_count": 281,
   "metadata": {
    "collapsed": true
   },
   "outputs": [],
   "source": [
    "df2 = pd.DataFrame.from_dict(sched, orient='index')\n",
    "df2 = df2.transpose()\n",
    "df2['Pool'] = 'Gertrude Eredel'"
   ]
  },
  {
   "cell_type": "code",
   "execution_count": 282,
   "metadata": {
    "collapsed": false
   },
   "outputs": [
    {
     "data": {
      "text/html": [
       "<div>\n",
       "<table border=\"1\" class=\"dataframe\">\n",
       "  <thead>\n",
       "    <tr style=\"text-align: right;\">\n",
       "      <th></th>\n",
       "      <th>Monday</th>\n",
       "      <th>Tuesday</th>\n",
       "      <th>Friday</th>\n",
       "      <th>Wednesday</th>\n",
       "      <th>Thursday</th>\n",
       "      <th>Sunday</th>\n",
       "      <th>Saturday</th>\n",
       "      <th>Pool</th>\n",
       "    </tr>\n",
       "  </thead>\n",
       "  <tbody>\n",
       "    <tr>\n",
       "      <th>0</th>\n",
       "      <td>[7:00 a - 9:45 a]</td>\n",
       "      <td>[7:00 a - 9:45 a]</td>\n",
       "      <td>[7:00 a - 9:45 a]</td>\n",
       "      <td>[7:00 a - 9:45 a]</td>\n",
       "      <td>[7:00 a - 9:45 a]</td>\n",
       "      <td>None</td>\n",
       "      <td>[8:00 a - 9:45 a]</td>\n",
       "      <td>Gertrude Eredel</td>\n",
       "    </tr>\n",
       "    <tr>\n",
       "      <th>1</th>\n",
       "      <td>[6:15 p - 9:00 p]</td>\n",
       "      <td>[12:00 p - 2:00 p]</td>\n",
       "      <td>[1:00 p - 3:45 p]</td>\n",
       "      <td>[6:15 p - 9:00 p]</td>\n",
       "      <td>[12:00 p - 2:00 p]</td>\n",
       "      <td>None</td>\n",
       "      <td>None</td>\n",
       "      <td>Gertrude Eredel</td>\n",
       "    </tr>\n",
       "    <tr>\n",
       "      <th>2</th>\n",
       "      <td>None</td>\n",
       "      <td>[6:15 p - 9:00 p]</td>\n",
       "      <td>[7:15 p - 9:00 p]</td>\n",
       "      <td>None</td>\n",
       "      <td>[6:15 p - 9:00 p]</td>\n",
       "      <td>None</td>\n",
       "      <td>None</td>\n",
       "      <td>Gertrude Eredel</td>\n",
       "    </tr>\n",
       "  </tbody>\n",
       "</table>\n",
       "</div>"
      ],
      "text/plain": [
       "              Monday             Tuesday             Friday  \\\n",
       "0  [7:00 a - 9:45 a]   [7:00 a - 9:45 a]  [7:00 a - 9:45 a]   \n",
       "1  [6:15 p - 9:00 p]  [12:00 p - 2:00 p]  [1:00 p - 3:45 p]   \n",
       "2               None   [6:15 p - 9:00 p]  [7:15 p - 9:00 p]   \n",
       "\n",
       "           Wednesday            Thursday Sunday           Saturday  \\\n",
       "0  [7:00 a - 9:45 a]   [7:00 a - 9:45 a]   None  [8:00 a - 9:45 a]   \n",
       "1  [6:15 p - 9:00 p]  [12:00 p - 2:00 p]   None               None   \n",
       "2               None   [6:15 p - 9:00 p]   None               None   \n",
       "\n",
       "              Pool  \n",
       "0  Gertrude Eredel  \n",
       "1  Gertrude Eredel  \n",
       "2  Gertrude Eredel  "
      ]
     },
     "execution_count": 282,
     "metadata": {},
     "output_type": "execute_result"
    }
   ],
   "source": [
    "df2"
   ]
  },
  {
   "cell_type": "code",
   "execution_count": 283,
   "metadata": {
    "collapsed": true
   },
   "outputs": [],
   "source": [
    "r = urllib.urlopen(pools['website_source'][3]).read()\n",
    "soup = BeautifulSoup(r)\n",
    "letters  = soup.find_all([\"p\", \"div\"], [\"program\", \"center-hrs\"] ) \n",
    "swimposting = []\n",
    "otherposting = []\n",
    "for i in letters:\n",
    "    if str(i).find('Lap Swim') > 0:\n",
    "        swimposting.append(str(i))\n",
    "    if str(i).find('Building Hours') > 0:\n",
    "        swimposting.append(str(i))\n",
    "    else:\n",
    "        otherposting.append(str(i))"
   ]
  },
  {
   "cell_type": "code",
   "execution_count": 285,
   "metadata": {
    "collapsed": false
   },
   "outputs": [
    {
     "data": {
      "text/plain": [
       "['<div class=\"center-hrs\">\\n<p>\\n<strong>Building Hours</strong><br/>\\n\\t\\t\\t\\t\\t\\t\\t\\t\\t\\t\\t                                                                                                \\t                                                     \\t6:30 a - 9:15 p\\n                                                    \\n                                                \\t\\t\\t\\t\\t\\t\\t\\t\\t\\t\\t\\t\\t\\t\\t\\t\\t\\t\\t\\t\\t</p>\\n</div>',\n",
       " '<p class=\"program\">\\n\\t\\t\\t\\t\\t\\t\\t\\t\\t7:00 a - 8:45 a\\n\\t\\t\\t\\t\\t\\t\\t\\t\\t<br/>\\n<a class=\"program-popup\" href=\"#program_17138\"><strong>Adult Lap Swim</strong></a> <br/>\\n\\t\\t\\t\\t\\t\\t\\t\\t\\tAdult, Senior\\n\\t\\t\\t\\t\\t\\t\\t\\t\\t<br/>\\n</p>',\n",
       " '<p class=\"program\">\\n\\t\\t\\t\\t\\t\\t\\t\\t\\t2:00 p - 3:00 p\\n\\t\\t\\t\\t\\t\\t\\t\\t\\t<br/>\\n<a class=\"program-popup\" href=\"#program_17138\"><strong>Adult Lap Swim</strong></a> <br/>\\n\\t\\t\\t\\t\\t\\t\\t\\t\\tAdult, Senior\\n\\t\\t\\t\\t\\t\\t\\t\\t\\t<br/>\\n</p>',\n",
       " '<p class=\"program\">\\n\\t\\t\\t\\t\\t\\t\\t\\t\\t7:15 p - 9:00 p\\n\\t\\t\\t\\t\\t\\t\\t\\t\\t<br/>\\n<a class=\"program-popup\" href=\"#program_17138\"><strong>Adult Lap Swim</strong></a> <br/>\\n\\t\\t\\t\\t\\t\\t\\t\\t\\tAdult, Senior\\n\\t\\t\\t\\t\\t\\t\\t\\t\\t<br/>\\n</p>',\n",
       " '<div class=\"center-hrs\">\\n<p>\\n<strong>Building Hours</strong><br/>\\n\\t\\t\\t\\t\\t\\t\\t\\t\\t\\t\\t                                                                                                \\t                                                     \\t6:30 a - 9:15 p\\n                                                    \\n                                                \\t\\t\\t\\t\\t\\t\\t\\t\\t\\t\\t\\t\\t\\t\\t\\t\\t\\t\\t\\t\\t</p>\\n</div>',\n",
       " '<p class=\"program\">\\n\\t\\t\\t\\t\\t\\t\\t\\t\\t9:00 a - 10:00 a\\n\\t\\t\\t\\t\\t\\t\\t\\t\\t<br/>\\n<a class=\"program-popup\" href=\"#program_17138\"><strong>Adult Lap Swim</strong></a> <br/>\\n\\t\\t\\t\\t\\t\\t\\t\\t\\tAdult, Senior\\n\\t\\t\\t\\t\\t\\t\\t\\t\\t<br/>\\n</p>',\n",
       " '<p class=\"program\">\\n\\t\\t\\t\\t\\t\\t\\t\\t\\t1:15 p - 3:45 p\\n\\t\\t\\t\\t\\t\\t\\t\\t\\t<br/>\\n<a class=\"program-popup\" href=\"#program_17138\"><strong>Adult Lap Swim</strong></a> <br/>\\n\\t\\t\\t\\t\\t\\t\\t\\t\\tAdult, Senior\\n\\t\\t\\t\\t\\t\\t\\t\\t\\t<br/>\\n</p>',\n",
       " '<p class=\"program\">\\n\\t\\t\\t\\t\\t\\t\\t\\t\\t7:15 p - 9:00 p\\n\\t\\t\\t\\t\\t\\t\\t\\t\\t<br/>\\n<a class=\"program-popup\" href=\"#program_17138\"><strong>Adult Lap Swim</strong></a> <br/>\\n\\t\\t\\t\\t\\t\\t\\t\\t\\tAdult, Senior\\n\\t\\t\\t\\t\\t\\t\\t\\t\\t<br/>\\n</p>',\n",
       " '<div class=\"center-hrs\">\\n<p>\\n<strong>Building Hours</strong><br/>\\n\\t\\t\\t\\t\\t\\t\\t\\t\\t\\t\\t                                                                                                \\t                                                     \\t6:30 a - 9:15 p\\n                                                    \\n                                                \\t\\t\\t\\t\\t\\t\\t\\t\\t\\t\\t\\t\\t\\t\\t\\t\\t\\t\\t\\t\\t</p>\\n</div>',\n",
       " '<p class=\"program\">\\n\\t\\t\\t\\t\\t\\t\\t\\t\\t7:00 a - 8:45 a\\n\\t\\t\\t\\t\\t\\t\\t\\t\\t<br/>\\n<a class=\"program-popup\" href=\"#program_17138\"><strong>Adult Lap Swim</strong></a> <br/>\\n\\t\\t\\t\\t\\t\\t\\t\\t\\tAdult, Senior\\n\\t\\t\\t\\t\\t\\t\\t\\t\\t<br/>\\n</p>',\n",
       " '<p class=\"program\">\\n\\t\\t\\t\\t\\t\\t\\t\\t\\t2:00 p - 3:00 p\\n\\t\\t\\t\\t\\t\\t\\t\\t\\t<br/>\\n<a class=\"program-popup\" href=\"#program_17138\"><strong>Adult Lap Swim</strong></a> <br/>\\n\\t\\t\\t\\t\\t\\t\\t\\t\\tAdult, Senior\\n\\t\\t\\t\\t\\t\\t\\t\\t\\t<br/>\\n</p>',\n",
       " '<p class=\"program\">\\n\\t\\t\\t\\t\\t\\t\\t\\t\\t7:15 p - 9:00 p\\n\\t\\t\\t\\t\\t\\t\\t\\t\\t<br/>\\n<a class=\"program-popup\" href=\"#program_17138\"><strong>Adult Lap Swim</strong></a> <br/>\\n\\t\\t\\t\\t\\t\\t\\t\\t\\tAdult, Senior\\n\\t\\t\\t\\t\\t\\t\\t\\t\\t<br/>\\n</p>',\n",
       " '<div class=\"center-hrs\">\\n<p>\\n<strong>Building Hours</strong><br/>\\n\\t\\t\\t\\t\\t\\t\\t\\t\\t\\t\\t                                                                                                \\t                                                     \\t6:30 a - 9:15 p\\n                                                    \\n                                                \\t\\t\\t\\t\\t\\t\\t\\t\\t\\t\\t\\t\\t\\t\\t\\t\\t\\t\\t\\t\\t</p>\\n</div>',\n",
       " '<p class=\"program\">\\n\\t\\t\\t\\t\\t\\t\\t\\t\\t9:00 a - 10:00 a\\n\\t\\t\\t\\t\\t\\t\\t\\t\\t<br/>\\n<a class=\"program-popup\" href=\"#program_17138\"><strong>Adult Lap Swim</strong></a> <br/>\\n\\t\\t\\t\\t\\t\\t\\t\\t\\tAdult, Senior\\n\\t\\t\\t\\t\\t\\t\\t\\t\\t<br/>\\n</p>',\n",
       " '<p class=\"program\">\\n\\t\\t\\t\\t\\t\\t\\t\\t\\t1:15 p - 3:45 p\\n\\t\\t\\t\\t\\t\\t\\t\\t\\t<br/>\\n<a class=\"program-popup\" href=\"#program_17138\"><strong>Adult Lap Swim</strong></a> <br/>\\n\\t\\t\\t\\t\\t\\t\\t\\t\\tAdult, Senior\\n\\t\\t\\t\\t\\t\\t\\t\\t\\t<br/>\\n</p>',\n",
       " '<p class=\"program\">\\n\\t\\t\\t\\t\\t\\t\\t\\t\\t7:15 p - 9:00 p\\n\\t\\t\\t\\t\\t\\t\\t\\t\\t<br/>\\n<a class=\"program-popup\" href=\"#program_17138\"><strong>Adult Lap Swim</strong></a> <br/>\\n\\t\\t\\t\\t\\t\\t\\t\\t\\tAdult, Senior\\n\\t\\t\\t\\t\\t\\t\\t\\t\\t<br/>\\n</p>',\n",
       " '<div class=\"center-hrs\">\\n<p>\\n<strong>Building Hours</strong><br/>\\n\\t\\t\\t\\t\\t\\t\\t\\t\\t\\t\\t                                                                                                \\t                                                     \\t6:30 a - 9:15 p\\n                                                    \\n                                                \\t\\t\\t\\t\\t\\t\\t\\t\\t\\t\\t\\t\\t\\t\\t\\t\\t\\t\\t\\t\\t</p>\\n</div>',\n",
       " '<p class=\"program\">\\n\\t\\t\\t\\t\\t\\t\\t\\t\\t7:00 a - 8:45 a\\n\\t\\t\\t\\t\\t\\t\\t\\t\\t<br/>\\n<a class=\"program-popup\" href=\"#program_17138\"><strong>Adult Lap Swim</strong></a> <br/>\\n\\t\\t\\t\\t\\t\\t\\t\\t\\tAdult, Senior\\n\\t\\t\\t\\t\\t\\t\\t\\t\\t<br/>\\n</p>',\n",
       " '<p class=\"program\">\\n\\t\\t\\t\\t\\t\\t\\t\\t\\t3:00 p - 4:15 p\\n\\t\\t\\t\\t\\t\\t\\t\\t\\t<br/>\\n<a class=\"program-popup\" href=\"#program_17138\"><strong>Adult Lap Swim</strong></a> <br/>\\n\\t\\t\\t\\t\\t\\t\\t\\t\\tAdult, Senior\\n\\t\\t\\t\\t\\t\\t\\t\\t\\t<br/>\\n</p>',\n",
       " '<p class=\"program\">\\n\\t\\t\\t\\t\\t\\t\\t\\t\\t7:15 p - 9:00 p\\n\\t\\t\\t\\t\\t\\t\\t\\t\\t<br/>\\n<a class=\"program-popup\" href=\"#program_17138\"><strong>Adult Lap Swim</strong></a> <br/>\\n\\t\\t\\t\\t\\t\\t\\t\\t\\tAdult, Senior\\n\\t\\t\\t\\t\\t\\t\\t\\t\\t<br/>\\n</p>',\n",
       " '<div class=\"center-hrs\">\\n<p>\\n<strong>Building Hours</strong><br/>\\n\\t\\t\\t\\t\\t\\t\\t\\t\\t\\t\\t                                                                                                \\t                                                     \\t8:30 a - 4:15 p\\n                                                    \\n                                                \\t\\t\\t\\t\\t\\t\\t\\t\\t\\t\\t\\t\\t\\t\\t\\t\\t\\t\\t\\t\\t</p>\\n</div>',\n",
       " '<p class=\"program\">\\n\\t\\t\\t\\t\\t\\t\\t\\t\\t3:00 p - 4:00 p\\n\\t\\t\\t\\t\\t\\t\\t\\t\\t<br/>\\n<a class=\"program-popup\" href=\"#program_17138\"><strong>Adult Lap Swim</strong></a> <br/>\\n\\t\\t\\t\\t\\t\\t\\t\\t\\tAdult, Senior\\n\\t\\t\\t\\t\\t\\t\\t\\t\\t<br/>\\n</p>',\n",
       " '<div class=\"center-hrs\">\\n<p>\\n<strong>Building Hours</strong><br/>\\n\\t\\t\\t\\t\\t\\t\\t\\t\\t\\t\\t                                                                                                \\t                                                    \\tClosed\\n                                                     \\n                                                \\t\\t\\t\\t\\t\\t\\t\\t\\t\\t\\t\\t\\t\\t\\t\\t\\t\\t\\t\\t\\t</p>\\n</div>']"
      ]
     },
     "execution_count": 285,
     "metadata": {},
     "output_type": "execute_result"
    }
   ],
   "source": [
    "swimposting[7:-7]\n"
   ]
  },
  {
   "cell_type": "code",
   "execution_count": 286,
   "metadata": {
    "collapsed": true
   },
   "outputs": [],
   "source": [
    "pools['swimming_pool'][3] = swimposting[7:-7]\n",
    "sched = {}\n",
    "count = 0\n",
    "for i in pools['swimming_pool'][3]:\n",
    "    if str(i).find('Building Hours') > 0:\n",
    "        sched[days_of_week[count]] = []\n",
    "        count = count + 1\n",
    "    if str(i).find('Lap Swim') > 0:\n",
    "        sched[days_of_week[count-1]].append(re.findall('[0-9]*:[0-9]*\\s[a-z]\\s-\\s[0-9]*:[0-9]*\\s[a-z]'  ,str(i)))\n",
    "\n",
    "        "
   ]
  },
  {
   "cell_type": "code",
   "execution_count": 287,
   "metadata": {
    "collapsed": true
   },
   "outputs": [],
   "source": [
    "df3 = pd.DataFrame.from_dict(sched, orient='index')\n",
    "df3 = df3.transpose()\n",
    "df3['Pool'] = 'Hansborough'"
   ]
  },
  {
   "cell_type": "code",
   "execution_count": 414,
   "metadata": {
    "collapsed": true
   },
   "outputs": [],
   "source": [
    "cols = df3.columns.tolist()\n"
   ]
  },
  {
   "cell_type": "code",
   "execution_count": 415,
   "metadata": {
    "collapsed": true
   },
   "outputs": [],
   "source": [
    "cols = cols[-1:] + cols[:-1]"
   ]
  },
  {
   "cell_type": "code",
   "execution_count": 416,
   "metadata": {
    "collapsed": false
   },
   "outputs": [],
   "source": [
    "df3 = df3[cols]"
   ]
  },
  {
   "cell_type": "code",
   "execution_count": 418,
   "metadata": {
    "collapsed": true
   },
   "outputs": [],
   "source": [
    "cols = ['Pool', 'Monday','Tuesday', 'Wednesday','Thursday','Friday','Saturday','Sunday']"
   ]
  },
  {
   "cell_type": "code",
   "execution_count": 419,
   "metadata": {
    "collapsed": false
   },
   "outputs": [],
   "source": [
    "df3 = df3[cols]"
   ]
  },
  {
   "cell_type": "code",
   "execution_count": 420,
   "metadata": {
    "collapsed": false
   },
   "outputs": [
    {
     "data": {
      "text/html": [
       "<div>\n",
       "<table border=\"1\" class=\"dataframe\">\n",
       "  <thead>\n",
       "    <tr style=\"text-align: right;\">\n",
       "      <th></th>\n",
       "      <th>Pool</th>\n",
       "      <th>Monday</th>\n",
       "      <th>Tuesday</th>\n",
       "      <th>Wednesday</th>\n",
       "      <th>Thursday</th>\n",
       "      <th>Friday</th>\n",
       "      <th>Saturday</th>\n",
       "      <th>Sunday</th>\n",
       "    </tr>\n",
       "  </thead>\n",
       "  <tbody>\n",
       "    <tr>\n",
       "      <th>0</th>\n",
       "      <td>Hansborough</td>\n",
       "      <td>[7:00 a - 8:45 a]</td>\n",
       "      <td>[9:00 a - 10:00 a]</td>\n",
       "      <td>[7:00 a - 8:45 a]</td>\n",
       "      <td>[9:00 a - 10:00 a]</td>\n",
       "      <td>[7:00 a - 8:45 a]</td>\n",
       "      <td>[3:00 p - 4:00 p]</td>\n",
       "      <td>None</td>\n",
       "    </tr>\n",
       "    <tr>\n",
       "      <th>1</th>\n",
       "      <td>Hansborough</td>\n",
       "      <td>[2:00 p - 3:00 p]</td>\n",
       "      <td>[1:15 p - 3:45 p]</td>\n",
       "      <td>[2:00 p - 3:00 p]</td>\n",
       "      <td>[1:15 p - 3:45 p]</td>\n",
       "      <td>[3:00 p - 4:15 p]</td>\n",
       "      <td>None</td>\n",
       "      <td>None</td>\n",
       "    </tr>\n",
       "    <tr>\n",
       "      <th>2</th>\n",
       "      <td>Hansborough</td>\n",
       "      <td>[7:15 p - 9:00 p]</td>\n",
       "      <td>[7:15 p - 9:00 p]</td>\n",
       "      <td>[7:15 p - 9:00 p]</td>\n",
       "      <td>[7:15 p - 9:00 p]</td>\n",
       "      <td>[7:15 p - 9:00 p]</td>\n",
       "      <td>None</td>\n",
       "      <td>None</td>\n",
       "    </tr>\n",
       "  </tbody>\n",
       "</table>\n",
       "</div>"
      ],
      "text/plain": [
       "          Pool             Monday             Tuesday          Wednesday  \\\n",
       "0  Hansborough  [7:00 a - 8:45 a]  [9:00 a - 10:00 a]  [7:00 a - 8:45 a]   \n",
       "1  Hansborough  [2:00 p - 3:00 p]   [1:15 p - 3:45 p]  [2:00 p - 3:00 p]   \n",
       "2  Hansborough  [7:15 p - 9:00 p]   [7:15 p - 9:00 p]  [7:15 p - 9:00 p]   \n",
       "\n",
       "             Thursday             Friday           Saturday Sunday  \n",
       "0  [9:00 a - 10:00 a]  [7:00 a - 8:45 a]  [3:00 p - 4:00 p]   None  \n",
       "1   [1:15 p - 3:45 p]  [3:00 p - 4:15 p]               None   None  \n",
       "2   [7:15 p - 9:00 p]  [7:15 p - 9:00 p]               None   None  "
      ]
     },
     "execution_count": 420,
     "metadata": {},
     "output_type": "execute_result"
    }
   ],
   "source": [
    "df3"
   ]
  },
  {
   "cell_type": "code",
   "execution_count": 397,
   "metadata": {
    "collapsed": false
   },
   "outputs": [],
   "source": [
    "r = urllib.urlopen(pools['website_source'][11]).read()\n",
    "soup = BeautifulSoup(r)\n",
    "letters  = soup.find_all([\"p\", \"div\"], [\"program\", \"center-hrs\"] ) \n",
    "swimposting = []\n",
    "otherposting = []\n",
    "for i in letters:\n",
    "    if str(i).find('Adult Lap Swim') > 0:\n",
    "        swimposting.append(str(i))\n",
    "    if str(i).find('Building Hours') > 0:\n",
    "        swimposting.append(str(i))\n",
    "    else:\n",
    "        otherposting.append(str(i))\n",
    " "
   ]
  },
  {
   "cell_type": "code",
   "execution_count": 399,
   "metadata": {
    "collapsed": false
   },
   "outputs": [
    {
     "data": {
      "text/plain": [
       "['<div class=\"center-hrs\">\\n<p>\\n<strong>Building Hours</strong><br/>\\n\\t\\t\\t\\t\\t\\t\\t\\t\\t\\t\\t                                                                                                \\t                                                     \\t6:30 a - 9:30 p\\n                                                    \\n                                                \\t\\t\\t\\t\\t\\t\\t\\t\\t\\t\\t\\t\\t\\t\\t\\t\\t\\t\\t\\t\\t</p>\\n</div>',\n",
       " '<p class=\"program\">\\n\\t\\t\\t\\t\\t\\t\\t\\t\\t7:00 a - 9:45 a\\n\\t\\t\\t\\t\\t\\t\\t\\t\\t<br/>\\n<a class=\"program-popup\" href=\"#program_16669\"><strong>Adult Lap Swim</strong></a> <br/>\\n\\t\\t\\t\\t\\t\\t\\t\\t\\tAdult, Senior\\n\\t\\t\\t\\t\\t\\t\\t\\t\\t<br/>\\n</p>',\n",
       " '<p class=\"program\">\\n\\t\\t\\t\\t\\t\\t\\t\\t\\t12:15 p - 3:00 p\\n\\t\\t\\t\\t\\t\\t\\t\\t\\t<br/>\\n<a class=\"program-popup\" href=\"#program_16669\"><strong>Adult Lap Swim</strong></a> <br/>\\n\\t\\t\\t\\t\\t\\t\\t\\t\\tAdult, Senior\\n\\t\\t\\t\\t\\t\\t\\t\\t\\t<br/>\\n</p>',\n",
       " '<p class=\"program\">\\n\\t\\t\\t\\t\\t\\t\\t\\t\\t7:15 p - 9:00 p\\n\\t\\t\\t\\t\\t\\t\\t\\t\\t<br/>\\n<a class=\"program-popup\" href=\"#program_16669\"><strong>Adult Lap Swim</strong></a> <br/>\\n\\t\\t\\t\\t\\t\\t\\t\\t\\tAdult, Senior\\n\\t\\t\\t\\t\\t\\t\\t\\t\\t<br/>\\n</p>',\n",
       " '<div class=\"center-hrs\">\\n<p>\\n<strong>Building Hours</strong><br/>\\n\\t\\t\\t\\t\\t\\t\\t\\t\\t\\t\\t                                                                                                \\t                                                     \\t6:30 a - 9:30 p\\n                                                    \\n                                                \\t\\t\\t\\t\\t\\t\\t\\t\\t\\t\\t\\t\\t\\t\\t\\t\\t\\t\\t\\t\\t</p>\\n</div>',\n",
       " '<p class=\"program\">\\n\\t\\t\\t\\t\\t\\t\\t\\t\\t7:00 a - 9:45 a\\n\\t\\t\\t\\t\\t\\t\\t\\t\\t<br/>\\n<a class=\"program-popup\" href=\"#program_16669\"><strong>Adult Lap Swim</strong></a> <br/>\\n\\t\\t\\t\\t\\t\\t\\t\\t\\tAdult, Senior\\n\\t\\t\\t\\t\\t\\t\\t\\t\\t<br/>\\n</p>',\n",
       " '<p class=\"program\">\\n\\t\\t\\t\\t\\t\\t\\t\\t\\t12:15 p - 3:00 p\\n\\t\\t\\t\\t\\t\\t\\t\\t\\t<br/>\\n<a class=\"program-popup\" href=\"#program_16669\"><strong>Adult Lap Swim</strong></a> <br/>\\n\\t\\t\\t\\t\\t\\t\\t\\t\\tAdult, Senior\\n\\t\\t\\t\\t\\t\\t\\t\\t\\t<br/>\\n</p>',\n",
       " '<p class=\"program\">\\n\\t\\t\\t\\t\\t\\t\\t\\t\\t7:45 p - 9:00 p\\n\\t\\t\\t\\t\\t\\t\\t\\t\\t<br/>\\n<a class=\"program-popup\" href=\"#program_16669\"><strong>Adult Lap Swim</strong></a> <br/>\\n\\t\\t\\t\\t\\t\\t\\t\\t\\tAdult, Senior\\n\\t\\t\\t\\t\\t\\t\\t\\t\\t<br/>\\n</p>',\n",
       " '<div class=\"center-hrs\">\\n<p>\\n<strong>Building Hours</strong><br/>\\n\\t\\t\\t\\t\\t\\t\\t\\t\\t\\t\\t                                                                                                \\t                                                     \\t6:30 a - 9:30 p\\n                                                    \\n                                                \\t\\t\\t\\t\\t\\t\\t\\t\\t\\t\\t\\t\\t\\t\\t\\t\\t\\t\\t\\t\\t</p>\\n</div>',\n",
       " '<p class=\"program\">\\n\\t\\t\\t\\t\\t\\t\\t\\t\\t7:00 a - 9:45 a\\n\\t\\t\\t\\t\\t\\t\\t\\t\\t<br/>\\n<a class=\"program-popup\" href=\"#program_16669\"><strong>Adult Lap Swim</strong></a> <br/>\\n\\t\\t\\t\\t\\t\\t\\t\\t\\tAdult, Senior\\n\\t\\t\\t\\t\\t\\t\\t\\t\\t<br/>\\n</p>',\n",
       " '<p class=\"program\">\\n\\t\\t\\t\\t\\t\\t\\t\\t\\t12:15 p - 3:00 p\\n\\t\\t\\t\\t\\t\\t\\t\\t\\t<br/>\\n<a class=\"program-popup\" href=\"#program_16669\"><strong>Adult Lap Swim</strong></a> <br/>\\n\\t\\t\\t\\t\\t\\t\\t\\t\\tAdult, Senior\\n\\t\\t\\t\\t\\t\\t\\t\\t\\t<br/>\\n</p>',\n",
       " '<p class=\"program\">\\n\\t\\t\\t\\t\\t\\t\\t\\t\\t7:15 p - 9:00 p\\n\\t\\t\\t\\t\\t\\t\\t\\t\\t<br/>\\n<a class=\"program-popup\" href=\"#program_16669\"><strong>Adult Lap Swim</strong></a> <br/>\\n\\t\\t\\t\\t\\t\\t\\t\\t\\tAdult, Senior\\n\\t\\t\\t\\t\\t\\t\\t\\t\\t<br/>\\n</p>',\n",
       " '<div class=\"center-hrs\">\\n<p>\\n<strong>Building Hours</strong><br/>\\n\\t\\t\\t\\t\\t\\t\\t\\t\\t\\t\\t                                                                                                \\t                                                     \\t6:30 a - 9:30 p\\n                                                    \\n                                                \\t\\t\\t\\t\\t\\t\\t\\t\\t\\t\\t\\t\\t\\t\\t\\t\\t\\t\\t\\t\\t</p>\\n</div>',\n",
       " '<p class=\"program\">\\n\\t\\t\\t\\t\\t\\t\\t\\t\\t7:00 a - 9:45 a\\n\\t\\t\\t\\t\\t\\t\\t\\t\\t<br/>\\n<a class=\"program-popup\" href=\"#program_16669\"><strong>Adult Lap Swim</strong></a> <br/>\\n\\t\\t\\t\\t\\t\\t\\t\\t\\tAdult, Senior\\n\\t\\t\\t\\t\\t\\t\\t\\t\\t<br/>\\n</p>',\n",
       " '<p class=\"program\">\\n\\t\\t\\t\\t\\t\\t\\t\\t\\t12:15 p - 3:00 p\\n\\t\\t\\t\\t\\t\\t\\t\\t\\t<br/>\\n<a class=\"program-popup\" href=\"#program_16669\"><strong>Adult Lap Swim</strong></a> <br/>\\n\\t\\t\\t\\t\\t\\t\\t\\t\\tAdult, Senior\\n\\t\\t\\t\\t\\t\\t\\t\\t\\t<br/>\\n</p>',\n",
       " '<p class=\"program\">\\n\\t\\t\\t\\t\\t\\t\\t\\t\\t7:45 p - 9:00 p\\n\\t\\t\\t\\t\\t\\t\\t\\t\\t<br/>\\n<a class=\"program-popup\" href=\"#program_16669\"><strong>Adult Lap Swim</strong></a> <br/>\\n\\t\\t\\t\\t\\t\\t\\t\\t\\tAdult, Senior\\n\\t\\t\\t\\t\\t\\t\\t\\t\\t<br/>\\n</p>',\n",
       " '<div class=\"center-hrs\">\\n<p>\\n<strong>Building Hours</strong><br/>\\n\\t\\t\\t\\t\\t\\t\\t\\t\\t\\t\\t                                                                                                \\t                                                     \\t6:30 a - 9:30 p\\n                                                    \\n                                                \\t\\t\\t\\t\\t\\t\\t\\t\\t\\t\\t\\t\\t\\t\\t\\t\\t\\t\\t\\t\\t</p>\\n</div>',\n",
       " '<p class=\"program\">\\n\\t\\t\\t\\t\\t\\t\\t\\t\\t7:00 a - 9:45 a\\n\\t\\t\\t\\t\\t\\t\\t\\t\\t<br/>\\n<a class=\"program-popup\" href=\"#program_16669\"><strong>Adult Lap Swim</strong></a> <br/>\\n\\t\\t\\t\\t\\t\\t\\t\\t\\tAdult, Senior\\n\\t\\t\\t\\t\\t\\t\\t\\t\\t<br/>\\n</p>',\n",
       " '<p class=\"program\">\\n\\t\\t\\t\\t\\t\\t\\t\\t\\t12:15 p - 3:00 p\\n\\t\\t\\t\\t\\t\\t\\t\\t\\t<br/>\\n<a class=\"program-popup\" href=\"#program_16669\"><strong>Adult Lap Swim</strong></a> <br/>\\n\\t\\t\\t\\t\\t\\t\\t\\t\\tAdult, Senior\\n\\t\\t\\t\\t\\t\\t\\t\\t\\t<br/>\\n</p>',\n",
       " '<p class=\"program\">\\n\\t\\t\\t\\t\\t\\t\\t\\t\\t7:15 p - 9:00 p\\n\\t\\t\\t\\t\\t\\t\\t\\t\\t<br/>\\n<a class=\"program-popup\" href=\"#program_16669\"><strong>Adult Lap Swim</strong></a> <br/>\\n\\t\\t\\t\\t\\t\\t\\t\\t\\tAdult, Senior\\n\\t\\t\\t\\t\\t\\t\\t\\t\\t<br/>\\n</p>',\n",
       " '<div class=\"center-hrs\">\\n<p>\\n<strong>Building Hours</strong><br/>\\n\\t\\t\\t\\t\\t\\t\\t\\t\\t\\t\\t                                                                                                \\t                                                     \\t8:00 a - 4:00 p\\n                                                    \\n                                                \\t\\t\\t\\t\\t\\t\\t\\t\\t\\t\\t\\t\\t\\t\\t\\t\\t\\t\\t\\t\\t</p>\\n</div>',\n",
       " '<p class=\"program\">\\n\\t\\t\\t\\t\\t\\t\\t\\t\\t8:00 a - 9:00 a\\n\\t\\t\\t\\t\\t\\t\\t\\t\\t<br/>\\n<a class=\"program-popup\" href=\"#program_16669\"><strong>Adult Lap Swim</strong></a> <br/>\\n\\t\\t\\t\\t\\t\\t\\t\\t\\tAdult, Senior\\n\\t\\t\\t\\t\\t\\t\\t\\t\\t<br/>\\n</p>',\n",
       " '<div class=\"center-hrs\">\\n<p>\\n<strong>Building Hours</strong><br/>\\n\\t\\t\\t\\t\\t\\t\\t\\t\\t\\t\\t                                                                                                \\t                                                    \\tClosed\\n                                                     \\n                                                \\t\\t\\t\\t\\t\\t\\t\\t\\t\\t\\t\\t\\t\\t\\t\\t\\t\\t\\t\\t\\t</p>\\n</div>']"
      ]
     },
     "execution_count": 399,
     "metadata": {},
     "output_type": "execute_result"
    }
   ],
   "source": [
    "swimposting[7:-7]\n"
   ]
  },
  {
   "cell_type": "code",
   "execution_count": 400,
   "metadata": {
    "collapsed": false
   },
   "outputs": [],
   "source": [
    "sched = {}\n",
    "count = 0\n",
    "for i in swimposting[7:-7]:\n",
    "    if str(i).find('Building Hours') > 0:\n",
    "        sched[days_of_week[count]] = []\n",
    "        count = count + 1\n",
    "    if str(i).find('Adult Lap Swim') > 0:\n",
    "        sched[days_of_week[count-1]].append(re.findall('[0-9]*:[0-9]*\\s[a-z]\\s-\\s[0-9]*:[0-9]*\\s[a-z]'  ,str(i)))\n",
    "df11 = pd.DataFrame.from_dict(sched, orient='index')\n",
    "df11 = df11.transpose()\n",
    "df11['Pool'] = 'Recreation Center 54'"
   ]
  },
  {
   "cell_type": "code",
   "execution_count": 402,
   "metadata": {
    "collapsed": false
   },
   "outputs": [],
   "source": [
    "allpools = pd.concat([df0,df1,df2,df3,df4,df5,df6,df7,df8,df9,df10,df11])"
   ]
  },
  {
   "cell_type": "code",
   "execution_count": 404,
   "metadata": {
    "collapsed": false
   },
   "outputs": [],
   "source": [
    "allpools\n",
    "allpools.to_csv('nycrecreationcenterlaphours.csv')"
   ]
  },
  {
   "cell_type": "code",
   "execution_count": 406,
   "metadata": {
    "collapsed": false
   },
   "outputs": [],
   "source": [
    "allpools\n",
    "allpools = allpools.reset_index()"
   ]
  },
  {
   "cell_type": "code",
   "execution_count": 408,
   "metadata": {
    "collapsed": false
   },
   "outputs": [],
   "source": [
    "del allpools['index']\n"
   ]
  },
  {
   "cell_type": "code",
   "execution_count": 413,
   "metadata": {
    "collapsed": false,
    "scrolled": true
   },
   "outputs": [
    {
     "data": {
      "text/plain": [
       "'7:00 a - 9:00 a'"
      ]
     },
     "execution_count": 413,
     "metadata": {},
     "output_type": "execute_result"
    }
   ],
   "source": [
    "allpools['Monday'][0][0]\n"
   ]
  },
  {
   "cell_type": "code",
   "execution_count": 421,
   "metadata": {
    "collapsed": true
   },
   "outputs": [],
   "source": [
    "allpools = allpools[cols]"
   ]
  },
  {
   "cell_type": "code",
   "execution_count": 422,
   "metadata": {
    "collapsed": false
   },
   "outputs": [
    {
     "data": {
      "text/html": [
       "<div>\n",
       "<table border=\"1\" class=\"dataframe\">\n",
       "  <thead>\n",
       "    <tr style=\"text-align: right;\">\n",
       "      <th></th>\n",
       "      <th>Pool</th>\n",
       "      <th>Monday</th>\n",
       "      <th>Tuesday</th>\n",
       "      <th>Wednesday</th>\n",
       "      <th>Thursday</th>\n",
       "      <th>Friday</th>\n",
       "      <th>Saturday</th>\n",
       "      <th>Sunday</th>\n",
       "    </tr>\n",
       "  </thead>\n",
       "  <tbody>\n",
       "    <tr>\n",
       "      <th>0</th>\n",
       "      <td>asser levy</td>\n",
       "      <td>[7:00 a - 9:00 a]</td>\n",
       "      <td>[7:00 a - 9:00 a]</td>\n",
       "      <td>[7:00 a - 9:00 a]</td>\n",
       "      <td>[7:00 a - 9:00 a]</td>\n",
       "      <td>[7:00 a - 9:00 a]</td>\n",
       "      <td>[8:00 a - 9:00 a]</td>\n",
       "      <td>[8:00 a - 11:00 a]</td>\n",
       "    </tr>\n",
       "    <tr>\n",
       "      <th>1</th>\n",
       "      <td>asser levy</td>\n",
       "      <td>[1:15 p - 3:45 p]</td>\n",
       "      <td>[1:15 p - 3:45 p]</td>\n",
       "      <td>[1:15 p - 3:45 p]</td>\n",
       "      <td>[1:15 p - 3:30 p]</td>\n",
       "      <td>[1:15 p - 3:00 p]</td>\n",
       "      <td>[2:15 p - 4:30 p]</td>\n",
       "      <td>[2:15 p - 4:30 p]</td>\n",
       "    </tr>\n",
       "    <tr>\n",
       "      <th>2</th>\n",
       "      <td>asser levy</td>\n",
       "      <td>[6:30 p - 9:20 p]</td>\n",
       "      <td>[6:30 p - 9:20 p]</td>\n",
       "      <td>[6:30 p - 9:20 p]</td>\n",
       "      <td>[6:30 p - 9:20 p]</td>\n",
       "      <td>[7:00 p - 9:20 p]</td>\n",
       "      <td>None</td>\n",
       "      <td>None</td>\n",
       "    </tr>\n",
       "    <tr>\n",
       "      <th>3</th>\n",
       "      <td>chelsea</td>\n",
       "      <td>[7:00 a - 10:00 a]</td>\n",
       "      <td>[7:00 a - 10:00 a]</td>\n",
       "      <td>[7:00 a - 9:30 a]</td>\n",
       "      <td>[7:00 a - 10:00 a]</td>\n",
       "      <td>[7:00 a - 9:30 a]</td>\n",
       "      <td>[7:00 a - 8:00 a]</td>\n",
       "      <td>[8:00 a - 11:00 a]</td>\n",
       "    </tr>\n",
       "    <tr>\n",
       "      <th>4</th>\n",
       "      <td>chelsea</td>\n",
       "      <td>[2:00 p - 3:45 p]</td>\n",
       "      <td>[1:00 p - 3:45 p]</td>\n",
       "      <td>[2:00 p - 3:45 p]</td>\n",
       "      <td>[1:00 p - 3:45 p]</td>\n",
       "      <td>[2:00 p - 3:45 p]</td>\n",
       "      <td>None</td>\n",
       "      <td>[3:00 p - 4:00 p]</td>\n",
       "    </tr>\n",
       "    <tr>\n",
       "      <th>5</th>\n",
       "      <td>chelsea</td>\n",
       "      <td>[9:00 p - 10:00 p]</td>\n",
       "      <td>[6:00 p - 7:00 p]</td>\n",
       "      <td>[9:00 p - 10:00 p]</td>\n",
       "      <td>[6:00 p - 7:00 p]</td>\n",
       "      <td>[9:00 p - 10:00 p]</td>\n",
       "      <td>None</td>\n",
       "      <td>None</td>\n",
       "    </tr>\n",
       "    <tr>\n",
       "      <th>6</th>\n",
       "      <td>chelsea</td>\n",
       "      <td>None</td>\n",
       "      <td>None</td>\n",
       "      <td>None</td>\n",
       "      <td>[9:00 p - 10:00 p]</td>\n",
       "      <td>None</td>\n",
       "      <td>None</td>\n",
       "      <td>None</td>\n",
       "    </tr>\n",
       "    <tr>\n",
       "      <th>7</th>\n",
       "      <td>Gertrude Eredel</td>\n",
       "      <td>[7:00 a - 9:45 a]</td>\n",
       "      <td>[7:00 a - 9:45 a]</td>\n",
       "      <td>[7:00 a - 9:45 a]</td>\n",
       "      <td>[7:00 a - 9:45 a]</td>\n",
       "      <td>[7:00 a - 9:45 a]</td>\n",
       "      <td>[8:00 a - 9:45 a]</td>\n",
       "      <td>None</td>\n",
       "    </tr>\n",
       "    <tr>\n",
       "      <th>8</th>\n",
       "      <td>Gertrude Eredel</td>\n",
       "      <td>[6:15 p - 9:00 p]</td>\n",
       "      <td>[12:00 p - 2:00 p]</td>\n",
       "      <td>[6:15 p - 9:00 p]</td>\n",
       "      <td>[12:00 p - 2:00 p]</td>\n",
       "      <td>[1:00 p - 3:45 p]</td>\n",
       "      <td>None</td>\n",
       "      <td>None</td>\n",
       "    </tr>\n",
       "    <tr>\n",
       "      <th>9</th>\n",
       "      <td>Gertrude Eredel</td>\n",
       "      <td>None</td>\n",
       "      <td>[6:15 p - 9:00 p]</td>\n",
       "      <td>None</td>\n",
       "      <td>[6:15 p - 9:00 p]</td>\n",
       "      <td>[7:15 p - 9:00 p]</td>\n",
       "      <td>None</td>\n",
       "      <td>None</td>\n",
       "    </tr>\n",
       "    <tr>\n",
       "      <th>10</th>\n",
       "      <td>Hansborough</td>\n",
       "      <td>[7:00 a - 8:45 a]</td>\n",
       "      <td>[9:00 a - 10:00 a]</td>\n",
       "      <td>[7:00 a - 8:45 a]</td>\n",
       "      <td>[9:00 a - 10:00 a]</td>\n",
       "      <td>[7:00 a - 8:45 a]</td>\n",
       "      <td>[3:00 p - 4:00 p]</td>\n",
       "      <td>None</td>\n",
       "    </tr>\n",
       "    <tr>\n",
       "      <th>11</th>\n",
       "      <td>Hansborough</td>\n",
       "      <td>[2:00 p - 3:00 p]</td>\n",
       "      <td>[1:15 p - 3:45 p]</td>\n",
       "      <td>[2:00 p - 3:00 p]</td>\n",
       "      <td>[1:15 p - 3:45 p]</td>\n",
       "      <td>[3:00 p - 4:15 p]</td>\n",
       "      <td>None</td>\n",
       "      <td>None</td>\n",
       "    </tr>\n",
       "    <tr>\n",
       "      <th>12</th>\n",
       "      <td>Hansborough</td>\n",
       "      <td>[7:15 p - 9:00 p]</td>\n",
       "      <td>[7:15 p - 9:00 p]</td>\n",
       "      <td>[7:15 p - 9:00 p]</td>\n",
       "      <td>[7:15 p - 9:00 p]</td>\n",
       "      <td>[7:15 p - 9:00 p]</td>\n",
       "      <td>None</td>\n",
       "      <td>None</td>\n",
       "    </tr>\n",
       "    <tr>\n",
       "      <th>13</th>\n",
       "      <td>Tony Dapolito</td>\n",
       "      <td>[7:00 a - 9:30 a]</td>\n",
       "      <td>[7:00 a - 8:30 a]</td>\n",
       "      <td>[7:00 a - 9:30 a]</td>\n",
       "      <td>[7:00 a - 8:30 a]</td>\n",
       "      <td>[7:00 a - 9:30 a]</td>\n",
       "      <td>[3:15 p - 4:30 p]</td>\n",
       "      <td>[9:00 a - 10:30 a]</td>\n",
       "    </tr>\n",
       "    <tr>\n",
       "      <th>14</th>\n",
       "      <td>Tony Dapolito</td>\n",
       "      <td>[11:30 a - 2:15 p]</td>\n",
       "      <td>[12:15 p - 2:15 p]</td>\n",
       "      <td>[11:30 a - 2:15 p]</td>\n",
       "      <td>[12:15 p - 2:15 p]</td>\n",
       "      <td>[11:30 a - 2:15 p]</td>\n",
       "      <td>None</td>\n",
       "      <td>[3:15 p - 4:30 p]</td>\n",
       "    </tr>\n",
       "    <tr>\n",
       "      <th>15</th>\n",
       "      <td>Tony Dapolito</td>\n",
       "      <td>[4:00 p - 9:30 p]</td>\n",
       "      <td>[8:00 p - 9:30 p]</td>\n",
       "      <td>[4:00 p - 6:00 p]</td>\n",
       "      <td>[8:00 p - 9:30 p]</td>\n",
       "      <td>[5:00 p - 7:15 p]</td>\n",
       "      <td>None</td>\n",
       "      <td>None</td>\n",
       "    </tr>\n",
       "    <tr>\n",
       "      <th>16</th>\n",
       "      <td>Tony Dapolito</td>\n",
       "      <td>None</td>\n",
       "      <td>None</td>\n",
       "      <td>[7:15 p - 9:30 p]</td>\n",
       "      <td>None</td>\n",
       "      <td>None</td>\n",
       "      <td>None</td>\n",
       "      <td>None</td>\n",
       "    </tr>\n",
       "    <tr>\n",
       "      <th>17</th>\n",
       "      <td>Brownsville</td>\n",
       "      <td>[2:15 p - 3:00 p]</td>\n",
       "      <td>None</td>\n",
       "      <td>[2:15 p - 3:00 p]</td>\n",
       "      <td>None</td>\n",
       "      <td>[2:15 p - 3:00 p]</td>\n",
       "      <td>None</td>\n",
       "      <td>None</td>\n",
       "    </tr>\n",
       "    <tr>\n",
       "      <th>18</th>\n",
       "      <td>Brownsville</td>\n",
       "      <td>[5:15 p - 7:00 p]</td>\n",
       "      <td>None</td>\n",
       "      <td>[5:15 p - 7:00 p]</td>\n",
       "      <td>None</td>\n",
       "      <td>[5:15 p - 7:00 p]</td>\n",
       "      <td>None</td>\n",
       "      <td>None</td>\n",
       "    </tr>\n",
       "    <tr>\n",
       "      <th>19</th>\n",
       "      <td>Metropolitan</td>\n",
       "      <td>[7:00 a - 9:15 a]</td>\n",
       "      <td>[7:00 a - 11:00 a]</td>\n",
       "      <td>[7:00 a - 9:15 a]</td>\n",
       "      <td>[7:00 a - 11:00 a]</td>\n",
       "      <td>[7:00 a - 9:15 a]</td>\n",
       "      <td>[7:00 a - 8:45 a]</td>\n",
       "      <td>[10:00 a - 12:30 p]</td>\n",
       "    </tr>\n",
       "    <tr>\n",
       "      <th>20</th>\n",
       "      <td>Metropolitan</td>\n",
       "      <td>[1:30 p - 3:30 p]</td>\n",
       "      <td>[2:00 p - 3:00 p]</td>\n",
       "      <td>[1:30 p - 3:30 p]</td>\n",
       "      <td>[1:30 p - 3:00 p]</td>\n",
       "      <td>[5:30 p - 9:15 p]</td>\n",
       "      <td>[4:00 p - 5:15 p]</td>\n",
       "      <td>None</td>\n",
       "    </tr>\n",
       "    <tr>\n",
       "      <th>21</th>\n",
       "      <td>Metropolitan</td>\n",
       "      <td>[6:30 p - 9:15 p]</td>\n",
       "      <td>[5:30 p - 9:15 p]</td>\n",
       "      <td>[6:30 p - 9:15 p]</td>\n",
       "      <td>[5:30 p - 9:15 p]</td>\n",
       "      <td>None</td>\n",
       "      <td>None</td>\n",
       "      <td>None</td>\n",
       "    </tr>\n",
       "    <tr>\n",
       "      <th>22</th>\n",
       "      <td>St. Johns</td>\n",
       "      <td>[7:00 a - 9:30 a]</td>\n",
       "      <td>[7:00 a - 9:30 a]</td>\n",
       "      <td>[7:00 a - 9:30 a]</td>\n",
       "      <td>[7:00 a - 9:30 a]</td>\n",
       "      <td>[7:00 a - 9:00 a]</td>\n",
       "      <td>[8:00 a - 9:00 a]</td>\n",
       "      <td>None</td>\n",
       "    </tr>\n",
       "    <tr>\n",
       "      <th>23</th>\n",
       "      <td>St. Johns</td>\n",
       "      <td>[1:00 p - 2:30 p]</td>\n",
       "      <td>[1:00 p - 2:30 p]</td>\n",
       "      <td>[1:00 p - 2:30 p]</td>\n",
       "      <td>[1:00 p - 2:30 p]</td>\n",
       "      <td>[1:00 p - 2:30 p]</td>\n",
       "      <td>[3:30 p - 4:30 p]</td>\n",
       "      <td>None</td>\n",
       "    </tr>\n",
       "    <tr>\n",
       "      <th>24</th>\n",
       "      <td>St. Johns</td>\n",
       "      <td>[7:30 p - 9:30 p]</td>\n",
       "      <td>None</td>\n",
       "      <td>[7:30 p - 9:30 p]</td>\n",
       "      <td>None</td>\n",
       "      <td>None</td>\n",
       "      <td>None</td>\n",
       "      <td>None</td>\n",
       "    </tr>\n",
       "    <tr>\n",
       "      <th>25</th>\n",
       "      <td>Flushing Meadows Corona Park</td>\n",
       "      <td>[6:00 a - 9:30 p]</td>\n",
       "      <td>[6:00 a - 9:30 p]</td>\n",
       "      <td>[6:00 a - 9:30 p]</td>\n",
       "      <td>[6:00 a - 9:30 p]</td>\n",
       "      <td>[6:00 a - 9:30 p]</td>\n",
       "      <td>[9:00 a - 9:30 p]</td>\n",
       "      <td>[4:30 p - 7:30 p]</td>\n",
       "    </tr>\n",
       "    <tr>\n",
       "      <th>26</th>\n",
       "      <td>Roy Wilkins</td>\n",
       "      <td>[8:00 a - 9:30 a]</td>\n",
       "      <td>[8:00 a - 9:30 a]</td>\n",
       "      <td>[8:00 a - 9:30 a]</td>\n",
       "      <td>[8:00 a - 9:30 a]</td>\n",
       "      <td>[8:00 a - 9:30 a]</td>\n",
       "      <td>None</td>\n",
       "      <td>None</td>\n",
       "    </tr>\n",
       "    <tr>\n",
       "      <th>27</th>\n",
       "      <td>Roy Wilkins</td>\n",
       "      <td>[6:00 p - 8:30 p]</td>\n",
       "      <td>[7:00 p - 8:30 p]</td>\n",
       "      <td>None</td>\n",
       "      <td>[7:00 p - 8:30 p]</td>\n",
       "      <td>[5:30 p - 8:30 p]</td>\n",
       "      <td>None</td>\n",
       "      <td>None</td>\n",
       "    </tr>\n",
       "    <tr>\n",
       "      <th>28</th>\n",
       "      <td>Saint Marys</td>\n",
       "      <td>[2:00 p - 3:00 p]</td>\n",
       "      <td>[2:00 p - 3:00 p]</td>\n",
       "      <td>[2:00 p - 3:00 p]</td>\n",
       "      <td>[2:00 p - 3:00 p]</td>\n",
       "      <td>[2:00 p - 3:00 p]</td>\n",
       "      <td>[8:00 a - 9:00 a]</td>\n",
       "      <td>None</td>\n",
       "    </tr>\n",
       "    <tr>\n",
       "      <th>29</th>\n",
       "      <td>Saint Marys</td>\n",
       "      <td>[6:30 p - 8:30 p]</td>\n",
       "      <td>None</td>\n",
       "      <td>[7:30 p - 8:30 p]</td>\n",
       "      <td>[6:30 p - 8:30 p]</td>\n",
       "      <td>None</td>\n",
       "      <td>None</td>\n",
       "      <td>None</td>\n",
       "    </tr>\n",
       "    <tr>\n",
       "      <th>30</th>\n",
       "      <td>Recreation Center 54</td>\n",
       "      <td>[7:00 a - 9:45 a]</td>\n",
       "      <td>[7:00 a - 9:45 a]</td>\n",
       "      <td>[7:00 a - 9:45 a]</td>\n",
       "      <td>[7:00 a - 9:45 a]</td>\n",
       "      <td>[7:00 a - 9:45 a]</td>\n",
       "      <td>[8:00 a - 9:00 a]</td>\n",
       "      <td>None</td>\n",
       "    </tr>\n",
       "    <tr>\n",
       "      <th>31</th>\n",
       "      <td>Recreation Center 54</td>\n",
       "      <td>[12:15 p - 3:00 p]</td>\n",
       "      <td>[12:15 p - 3:00 p]</td>\n",
       "      <td>[12:15 p - 3:00 p]</td>\n",
       "      <td>[12:15 p - 3:00 p]</td>\n",
       "      <td>[12:15 p - 3:00 p]</td>\n",
       "      <td>None</td>\n",
       "      <td>None</td>\n",
       "    </tr>\n",
       "    <tr>\n",
       "      <th>32</th>\n",
       "      <td>Recreation Center 54</td>\n",
       "      <td>[7:15 p - 9:00 p]</td>\n",
       "      <td>[7:45 p - 9:00 p]</td>\n",
       "      <td>[7:15 p - 9:00 p]</td>\n",
       "      <td>[7:45 p - 9:00 p]</td>\n",
       "      <td>[7:15 p - 9:00 p]</td>\n",
       "      <td>None</td>\n",
       "      <td>None</td>\n",
       "    </tr>\n",
       "  </tbody>\n",
       "</table>\n",
       "</div>"
      ],
      "text/plain": [
       "                            Pool              Monday             Tuesday  \\\n",
       "0                     asser levy   [7:00 a - 9:00 a]   [7:00 a - 9:00 a]   \n",
       "1                     asser levy   [1:15 p - 3:45 p]   [1:15 p - 3:45 p]   \n",
       "2                     asser levy   [6:30 p - 9:20 p]   [6:30 p - 9:20 p]   \n",
       "3                        chelsea  [7:00 a - 10:00 a]  [7:00 a - 10:00 a]   \n",
       "4                        chelsea   [2:00 p - 3:45 p]   [1:00 p - 3:45 p]   \n",
       "5                        chelsea  [9:00 p - 10:00 p]   [6:00 p - 7:00 p]   \n",
       "6                        chelsea                None                None   \n",
       "7                Gertrude Eredel   [7:00 a - 9:45 a]   [7:00 a - 9:45 a]   \n",
       "8                Gertrude Eredel   [6:15 p - 9:00 p]  [12:00 p - 2:00 p]   \n",
       "9                Gertrude Eredel                None   [6:15 p - 9:00 p]   \n",
       "10                   Hansborough   [7:00 a - 8:45 a]  [9:00 a - 10:00 a]   \n",
       "11                   Hansborough   [2:00 p - 3:00 p]   [1:15 p - 3:45 p]   \n",
       "12                   Hansborough   [7:15 p - 9:00 p]   [7:15 p - 9:00 p]   \n",
       "13                 Tony Dapolito   [7:00 a - 9:30 a]   [7:00 a - 8:30 a]   \n",
       "14                 Tony Dapolito  [11:30 a - 2:15 p]  [12:15 p - 2:15 p]   \n",
       "15                 Tony Dapolito   [4:00 p - 9:30 p]   [8:00 p - 9:30 p]   \n",
       "16                 Tony Dapolito                None                None   \n",
       "17                   Brownsville   [2:15 p - 3:00 p]                None   \n",
       "18                   Brownsville   [5:15 p - 7:00 p]                None   \n",
       "19                  Metropolitan   [7:00 a - 9:15 a]  [7:00 a - 11:00 a]   \n",
       "20                  Metropolitan   [1:30 p - 3:30 p]   [2:00 p - 3:00 p]   \n",
       "21                  Metropolitan   [6:30 p - 9:15 p]   [5:30 p - 9:15 p]   \n",
       "22                     St. Johns   [7:00 a - 9:30 a]   [7:00 a - 9:30 a]   \n",
       "23                     St. Johns   [1:00 p - 2:30 p]   [1:00 p - 2:30 p]   \n",
       "24                     St. Johns   [7:30 p - 9:30 p]                None   \n",
       "25  Flushing Meadows Corona Park   [6:00 a - 9:30 p]   [6:00 a - 9:30 p]   \n",
       "26                   Roy Wilkins   [8:00 a - 9:30 a]   [8:00 a - 9:30 a]   \n",
       "27                   Roy Wilkins   [6:00 p - 8:30 p]   [7:00 p - 8:30 p]   \n",
       "28                   Saint Marys   [2:00 p - 3:00 p]   [2:00 p - 3:00 p]   \n",
       "29                   Saint Marys   [6:30 p - 8:30 p]                None   \n",
       "30          Recreation Center 54   [7:00 a - 9:45 a]   [7:00 a - 9:45 a]   \n",
       "31          Recreation Center 54  [12:15 p - 3:00 p]  [12:15 p - 3:00 p]   \n",
       "32          Recreation Center 54   [7:15 p - 9:00 p]   [7:45 p - 9:00 p]   \n",
       "\n",
       "             Wednesday            Thursday              Friday  \\\n",
       "0    [7:00 a - 9:00 a]   [7:00 a - 9:00 a]   [7:00 a - 9:00 a]   \n",
       "1    [1:15 p - 3:45 p]   [1:15 p - 3:30 p]   [1:15 p - 3:00 p]   \n",
       "2    [6:30 p - 9:20 p]   [6:30 p - 9:20 p]   [7:00 p - 9:20 p]   \n",
       "3    [7:00 a - 9:30 a]  [7:00 a - 10:00 a]   [7:00 a - 9:30 a]   \n",
       "4    [2:00 p - 3:45 p]   [1:00 p - 3:45 p]   [2:00 p - 3:45 p]   \n",
       "5   [9:00 p - 10:00 p]   [6:00 p - 7:00 p]  [9:00 p - 10:00 p]   \n",
       "6                 None  [9:00 p - 10:00 p]                None   \n",
       "7    [7:00 a - 9:45 a]   [7:00 a - 9:45 a]   [7:00 a - 9:45 a]   \n",
       "8    [6:15 p - 9:00 p]  [12:00 p - 2:00 p]   [1:00 p - 3:45 p]   \n",
       "9                 None   [6:15 p - 9:00 p]   [7:15 p - 9:00 p]   \n",
       "10   [7:00 a - 8:45 a]  [9:00 a - 10:00 a]   [7:00 a - 8:45 a]   \n",
       "11   [2:00 p - 3:00 p]   [1:15 p - 3:45 p]   [3:00 p - 4:15 p]   \n",
       "12   [7:15 p - 9:00 p]   [7:15 p - 9:00 p]   [7:15 p - 9:00 p]   \n",
       "13   [7:00 a - 9:30 a]   [7:00 a - 8:30 a]   [7:00 a - 9:30 a]   \n",
       "14  [11:30 a - 2:15 p]  [12:15 p - 2:15 p]  [11:30 a - 2:15 p]   \n",
       "15   [4:00 p - 6:00 p]   [8:00 p - 9:30 p]   [5:00 p - 7:15 p]   \n",
       "16   [7:15 p - 9:30 p]                None                None   \n",
       "17   [2:15 p - 3:00 p]                None   [2:15 p - 3:00 p]   \n",
       "18   [5:15 p - 7:00 p]                None   [5:15 p - 7:00 p]   \n",
       "19   [7:00 a - 9:15 a]  [7:00 a - 11:00 a]   [7:00 a - 9:15 a]   \n",
       "20   [1:30 p - 3:30 p]   [1:30 p - 3:00 p]   [5:30 p - 9:15 p]   \n",
       "21   [6:30 p - 9:15 p]   [5:30 p - 9:15 p]                None   \n",
       "22   [7:00 a - 9:30 a]   [7:00 a - 9:30 a]   [7:00 a - 9:00 a]   \n",
       "23   [1:00 p - 2:30 p]   [1:00 p - 2:30 p]   [1:00 p - 2:30 p]   \n",
       "24   [7:30 p - 9:30 p]                None                None   \n",
       "25   [6:00 a - 9:30 p]   [6:00 a - 9:30 p]   [6:00 a - 9:30 p]   \n",
       "26   [8:00 a - 9:30 a]   [8:00 a - 9:30 a]   [8:00 a - 9:30 a]   \n",
       "27                None   [7:00 p - 8:30 p]   [5:30 p - 8:30 p]   \n",
       "28   [2:00 p - 3:00 p]   [2:00 p - 3:00 p]   [2:00 p - 3:00 p]   \n",
       "29   [7:30 p - 8:30 p]   [6:30 p - 8:30 p]                None   \n",
       "30   [7:00 a - 9:45 a]   [7:00 a - 9:45 a]   [7:00 a - 9:45 a]   \n",
       "31  [12:15 p - 3:00 p]  [12:15 p - 3:00 p]  [12:15 p - 3:00 p]   \n",
       "32   [7:15 p - 9:00 p]   [7:45 p - 9:00 p]   [7:15 p - 9:00 p]   \n",
       "\n",
       "             Saturday               Sunday  \n",
       "0   [8:00 a - 9:00 a]   [8:00 a - 11:00 a]  \n",
       "1   [2:15 p - 4:30 p]    [2:15 p - 4:30 p]  \n",
       "2                None                 None  \n",
       "3   [7:00 a - 8:00 a]   [8:00 a - 11:00 a]  \n",
       "4                None    [3:00 p - 4:00 p]  \n",
       "5                None                 None  \n",
       "6                None                 None  \n",
       "7   [8:00 a - 9:45 a]                 None  \n",
       "8                None                 None  \n",
       "9                None                 None  \n",
       "10  [3:00 p - 4:00 p]                 None  \n",
       "11               None                 None  \n",
       "12               None                 None  \n",
       "13  [3:15 p - 4:30 p]   [9:00 a - 10:30 a]  \n",
       "14               None    [3:15 p - 4:30 p]  \n",
       "15               None                 None  \n",
       "16               None                 None  \n",
       "17               None                 None  \n",
       "18               None                 None  \n",
       "19  [7:00 a - 8:45 a]  [10:00 a - 12:30 p]  \n",
       "20  [4:00 p - 5:15 p]                 None  \n",
       "21               None                 None  \n",
       "22  [8:00 a - 9:00 a]                 None  \n",
       "23  [3:30 p - 4:30 p]                 None  \n",
       "24               None                 None  \n",
       "25  [9:00 a - 9:30 p]    [4:30 p - 7:30 p]  \n",
       "26               None                 None  \n",
       "27               None                 None  \n",
       "28  [8:00 a - 9:00 a]                 None  \n",
       "29               None                 None  \n",
       "30  [8:00 a - 9:00 a]                 None  \n",
       "31               None                 None  \n",
       "32               None                 None  "
      ]
     },
     "execution_count": 422,
     "metadata": {},
     "output_type": "execute_result"
    }
   ],
   "source": [
    "allpools"
   ]
  },
  {
   "cell_type": "code",
   "execution_count": null,
   "metadata": {
    "collapsed": true
   },
   "outputs": [],
   "source": []
  },
  {
   "cell_type": "code",
   "execution_count": null,
   "metadata": {
    "collapsed": true
   },
   "outputs": [],
   "source": []
  },
  {
   "cell_type": "code",
   "execution_count": null,
   "metadata": {
    "collapsed": true
   },
   "outputs": [],
   "source": []
  },
  {
   "cell_type": "code",
   "execution_count": null,
   "metadata": {
    "collapsed": true
   },
   "outputs": [],
   "source": []
  },
  {
   "cell_type": "code",
   "execution_count": 153,
   "metadata": {
    "collapsed": false
   },
   "outputs": [
    {
     "name": "stdout",
     "output_type": "stream",
     "text": [
      "hi\n"
     ]
    }
   ],
   "source": [
    "address = '799 west 187th street, ny'\n",
    "g = geocoder.google(address)\n",
    "lon=g.geojson['geometry']['coordinates'][0]\n",
    "lat=g.geojson['geometry']['coordinates'][1]\n",
    "lathigh = float(lat + 0.0025)\n",
    "latlow = float(lat - 0.0025)\n",
    "lonhigh = float(lon + 0.0025)\n",
    "lonlow = float(lon - 0.0025)\n",
    "latlonhigh = str(lathigh), str(lonhigh)\n",
    "latlonlow = str(latlow), str(lonlow)\n",
    "lathighlonlow = str(lathigh), str(lonlow)\n",
    "latlowlonhigh = str(latlow), str(lonhigh)\n",
    "\n",
    "try:\n",
    "    g =geocoder.google(latlonhigh, method='reverse')\n",
    "    zipcodea = g.address.split('NY ')[1].split(',')[0]\n",
    "except:\n",
    "    print 'hi'\n",
    "try:\n",
    "    g =geocoder.google(latlonlow, method='reverse')\n",
    "    zipcodeb = g.address.split('NY ')[1].split(',')[0]\n",
    "except:\n",
    "    print 'hi'\n",
    "g =geocoder.google(lathighlonlow, method='reverse')\n",
    "try:\n",
    "    zipcodec = g.address.split('NY ')[1].split(',')[0]\n",
    "except:\n",
    "    print 'hi'\n",
    "g =geocoder.google(latlowlonhigh, method='reverse')\n",
    "try:\n",
    "    zipcoded = g.address.split('NY ')[1].split(',')[0]\n",
    "except:\n",
    "    print 'hi'"
   ]
  },
  {
   "cell_type": "code",
   "execution_count": 157,
   "metadata": {
    "collapsed": false
   },
   "outputs": [
    {
     "ename": "NameError",
     "evalue": "name 'zipcodec' is not defined",
     "output_type": "error",
     "traceback": [
      "\u001b[0;31m---------------------------------------------------------------------------\u001b[0m",
      "\u001b[0;31mNameError\u001b[0m                                 Traceback (most recent call last)",
      "\u001b[0;32m<ipython-input-157-6dca07d6c801>\u001b[0m in \u001b[0;36m<module>\u001b[0;34m()\u001b[0m\n\u001b[0;32m----> 1\u001b[0;31m \u001b[0mzipcodec\u001b[0m\u001b[0;34m\u001b[0m\u001b[0m\n\u001b[0m",
      "\u001b[0;31mNameError\u001b[0m: name 'zipcodec' is not defined"
     ]
    }
   ],
   "source": [
    "zipcodec\n"
   ]
  },
  {
   "cell_type": "code",
   "execution_count": 147,
   "metadata": {
    "collapsed": false
   },
   "outputs": [
    {
     "data": {
      "text/plain": [
       "('40.8524484', '-73.9384773')"
      ]
     },
     "execution_count": 147,
     "metadata": {},
     "output_type": "execute_result"
    }
   ],
   "source": [
    "latlonlow"
   ]
  },
  {
   "cell_type": "code",
   "execution_count": 148,
   "metadata": {
    "collapsed": false
   },
   "outputs": [
    {
     "data": {
      "text/plain": [
       "('40.8574484', '-73.9384773')"
      ]
     },
     "execution_count": 148,
     "metadata": {},
     "output_type": "execute_result"
    }
   ],
   "source": [
    "lathighlonlow"
   ]
  },
  {
   "cell_type": "code",
   "execution_count": 151,
   "metadata": {
    "collapsed": false
   },
   "outputs": [
    {
     "name": "stdout",
     "output_type": "stream",
     "text": [
      "0\n",
      "1\n",
      "2\n",
      "3\n"
     ]
    }
   ],
   "source": [
    "for i in range(0,4):\n",
    "    print i"
   ]
  },
  {
   "cell_type": "code",
   "execution_count": null,
   "metadata": {
    "collapsed": true
   },
   "outputs": [],
   "source": []
  }
 ],
 "metadata": {
  "kernelspec": {
   "display_name": "Python 2",
   "language": "python",
   "name": "python2"
  },
  "language_info": {
   "codemirror_mode": {
    "name": "ipython",
    "version": 2
   },
   "file_extension": ".py",
   "mimetype": "text/x-python",
   "name": "python",
   "nbconvert_exporter": "python",
   "pygments_lexer": "ipython2",
   "version": "2.7.11"
  }
 },
 "nbformat": 4,
 "nbformat_minor": 0
}

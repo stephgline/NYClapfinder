{
 "cells": [
  {
   "cell_type": "code",
   "execution_count": 484,
   "metadata": {
    "collapsed": false
   },
   "outputs": [],
   "source": [
    "import pandas as pd\n",
    "import numpy as np\n",
    "import re\n",
    "import matplotlib.pyplot as plt\n",
    "import pymysql as mdb\n",
    "%matplotlib inline\n",
    "import geocoder\n",
    "import seaborn as sns\n",
    "from bs4 import BeautifulSoup\n",
    "import urllib \n",
    "import pickle\n",
    "import pymysql as mdb"
   ]
  },
  {
   "cell_type": "code",
   "execution_count": 604,
   "metadata": {
    "collapsed": true
   },
   "outputs": [],
   "source": [
    "pools = pd.read_csv('pools.csv')"
   ]
  },
  {
   "cell_type": "code",
   "execution_count": 605,
   "metadata": {
    "collapsed": false
   },
   "outputs": [
    {
     "data": {
      "text/html": [
       "<div>\n",
       "<table border=\"1\" class=\"dataframe\">\n",
       "  <thead>\n",
       "    <tr style=\"text-align: right;\">\n",
       "      <th></th>\n",
       "      <th>swimming_pool</th>\n",
       "      <th>website_source</th>\n",
       "      <th>address</th>\n",
       "    </tr>\n",
       "  </thead>\n",
       "  <tbody>\n",
       "    <tr>\n",
       "      <th>0</th>\n",
       "      <td>asser_levy</td>\n",
       "      <td>http://www.nycgovparks.org/facilities/recreati...</td>\n",
       "      <td>392 asser levy pl, NY</td>\n",
       "    </tr>\n",
       "    <tr>\n",
       "      <th>1</th>\n",
       "      <td>chelsea</td>\n",
       "      <td>http://www.nycgovparks.org/facilities/recreati...</td>\n",
       "      <td>430 W 25th St, New York, NY 10001</td>\n",
       "    </tr>\n",
       "    <tr>\n",
       "      <th>2</th>\n",
       "      <td>gertrude_erdel</td>\n",
       "      <td>http://www.nycgovparks.org/facilities/recreati...</td>\n",
       "      <td>232 West 60th Street, ny</td>\n",
       "    </tr>\n",
       "    <tr>\n",
       "      <th>3</th>\n",
       "      <td>hansborough</td>\n",
       "      <td>http://www.nycgovparks.org/facilities/recreati...</td>\n",
       "      <td>35 west 134th street, NY</td>\n",
       "    </tr>\n",
       "    <tr>\n",
       "      <th>4</th>\n",
       "      <td>tony_dapolito</td>\n",
       "      <td>http://www.nycgovparks.org/facilities/recreati...</td>\n",
       "      <td>1 clarkson st., NY</td>\n",
       "    </tr>\n",
       "    <tr>\n",
       "      <th>5</th>\n",
       "      <td>brownsville</td>\n",
       "      <td>http://www.nycgovparks.org/facilities/recreati...</td>\n",
       "      <td>1555 linden blvd, NY</td>\n",
       "    </tr>\n",
       "    <tr>\n",
       "      <th>6</th>\n",
       "      <td>metropolitan</td>\n",
       "      <td>http://www.nycgovparks.org/facilities/recreati...</td>\n",
       "      <td>261 bedford ave, NY</td>\n",
       "    </tr>\n",
       "    <tr>\n",
       "      <th>7</th>\n",
       "      <td>st.john’s</td>\n",
       "      <td>http://www.nycgovparks.org/facilities/recreati...</td>\n",
       "      <td>1251 prospect place, NY</td>\n",
       "    </tr>\n",
       "    <tr>\n",
       "      <th>8</th>\n",
       "      <td>flushing</td>\n",
       "      <td>http://www.nycgovparks.org/facilities/recreati...</td>\n",
       "      <td>Avery Avenue and 131 Street, NY</td>\n",
       "    </tr>\n",
       "    <tr>\n",
       "      <th>9</th>\n",
       "      <td>roy_wilkins</td>\n",
       "      <td>http://www.nycgovparks.org/facilities/recreati...</td>\n",
       "      <td>17701 baisley blvd, NY</td>\n",
       "    </tr>\n",
       "    <tr>\n",
       "      <th>10</th>\n",
       "      <td>st.mary’s</td>\n",
       "      <td>http://www.nycgovparks.org/facilities/recreati...</td>\n",
       "      <td>450 saint ann's ave, NY</td>\n",
       "    </tr>\n",
       "    <tr>\n",
       "      <th>11</th>\n",
       "      <td>rec_center54</td>\n",
       "      <td>http://www.nycgovparks.org/facilities/recreati...</td>\n",
       "      <td>348 East 54th st, NY</td>\n",
       "    </tr>\n",
       "  </tbody>\n",
       "</table>\n",
       "</div>"
      ],
      "text/plain": [
       "     swimming_pool                                     website_source  \\\n",
       "0       asser_levy  http://www.nycgovparks.org/facilities/recreati...   \n",
       "1          chelsea  http://www.nycgovparks.org/facilities/recreati...   \n",
       "2   gertrude_erdel  http://www.nycgovparks.org/facilities/recreati...   \n",
       "3      hansborough  http://www.nycgovparks.org/facilities/recreati...   \n",
       "4    tony_dapolito  http://www.nycgovparks.org/facilities/recreati...   \n",
       "5      brownsville  http://www.nycgovparks.org/facilities/recreati...   \n",
       "6     metropolitan  http://www.nycgovparks.org/facilities/recreati...   \n",
       "7        st.john’s  http://www.nycgovparks.org/facilities/recreati...   \n",
       "8         flushing  http://www.nycgovparks.org/facilities/recreati...   \n",
       "9      roy_wilkins  http://www.nycgovparks.org/facilities/recreati...   \n",
       "10       st.mary’s  http://www.nycgovparks.org/facilities/recreati...   \n",
       "11    rec_center54  http://www.nycgovparks.org/facilities/recreati...   \n",
       "\n",
       "                              address  \n",
       "0               392 asser levy pl, NY  \n",
       "1   430 W 25th St, New York, NY 10001  \n",
       "2            232 West 60th Street, ny  \n",
       "3            35 west 134th street, NY  \n",
       "4                  1 clarkson st., NY  \n",
       "5                1555 linden blvd, NY  \n",
       "6                 261 bedford ave, NY  \n",
       "7             1251 prospect place, NY  \n",
       "8     Avery Avenue and 131 Street, NY  \n",
       "9              17701 baisley blvd, NY  \n",
       "10            450 saint ann's ave, NY  \n",
       "11               348 East 54th st, NY  "
      ]
     },
     "execution_count": 605,
     "metadata": {},
     "output_type": "execute_result"
    }
   ],
   "source": [
    "#a csv I complied of all the NYC rec centers with indoor pools.\n",
    "pools"
   ]
  },
  {
   "cell_type": "code",
   "execution_count": 17,
   "metadata": {
    "collapsed": false
   },
   "outputs": [
    {
     "data": {
      "text/plain": [
       "'http://www.nycgovparks.org/facilities/recreationcenters/M164/schedule#Pool'"
      ]
     },
     "execution_count": 17,
     "metadata": {},
     "output_type": "execute_result"
    }
   ],
   "source": [
    "#checking the full website\n",
    "pools['website_source'][0]"
   ]
  },
  {
   "cell_type": "code",
   "execution_count": 614,
   "metadata": {
    "collapsed": true
   },
   "outputs": [],
   "source": [
    "#convert addresses to latitudes and longitudes\n",
    "poolist = pools['address'].values.tolist()"
   ]
  },
  {
   "cell_type": "code",
   "execution_count": 615,
   "metadata": {
    "collapsed": false
   },
   "outputs": [
    {
     "data": {
      "text/plain": [
       "['392 asser levy pl, NY',\n",
       " '430 W 25th St, New York, NY 10001',\n",
       " '232 West 60th Street, ny',\n",
       " '35 west 134th street, NY',\n",
       " '1 clarkson st., NY',\n",
       " '1555 linden blvd, NY',\n",
       " '261 bedford ave, NY',\n",
       " '1251 prospect place, NY',\n",
       " 'Avery Avenue and 131 Street, NY',\n",
       " '17701 baisley blvd, NY',\n",
       " \"450 saint ann's ave, NY\",\n",
       " '348 East 54th st, NY']"
      ]
     },
     "execution_count": 615,
     "metadata": {},
     "output_type": "execute_result"
    }
   ],
   "source": [
    "poolist"
   ]
  },
  {
   "cell_type": "code",
   "execution_count": 616,
   "metadata": {
    "collapsed": true
   },
   "outputs": [],
   "source": [
    "#get latitude and longitude for each pool\n",
    "poolcoord = {}\n",
    "for i in poolist:\n",
    "    g = geocoder.google(i)\n",
    "    lon=g.geojson['geometry']['coordinates'][0]\n",
    "    lat=g.geojson['geometry']['coordinates'][1]\n",
    "    poolcoord[i] = (lat, lon)"
   ]
  },
  {
   "cell_type": "code",
   "execution_count": 687,
   "metadata": {
    "collapsed": false
   },
   "outputs": [
    {
     "data": {
      "text/plain": [
       "{'1 clarkson st., NY': (40.7296168, -74.0054061),\n",
       " '1251 prospect place, NY': (40.6738779, -73.9349038),\n",
       " '1555 linden blvd, NY': (40.65620180000001, -73.90283720000001),\n",
       " '17701 baisley blvd, NY': (40.6872438, -73.7721323),\n",
       " '232 West 60th Street, ny': (40.77142070000001, -73.98866439999999),\n",
       " '261 bedford ave, NY': (40.7150182, -73.96039019999999),\n",
       " '348 East 54th st, NY': (40.7564907, -73.9651173),\n",
       " '35 west 134th street, NY': (40.81280659999999, -73.9392448),\n",
       " '392 asser levy pl, NY': (40.7361601, -73.9756582),\n",
       " '430 W 25th St, New York, NY 10001': (40.7482487, -74.0020976),\n",
       " \"450 saint ann's ave, NY\": (40.8114681, -73.9140663),\n",
       " 'Avery Avenue and 131 Street, NY': (40.7519669, -73.8360161)}"
      ]
     },
     "execution_count": 687,
     "metadata": {},
     "output_type": "execute_result"
    }
   ],
   "source": [
    "poolcoord"
   ]
  },
  {
   "cell_type": "code",
   "execution_count": 620,
   "metadata": {
    "collapsed": false
   },
   "outputs": [],
   "source": [
    "#make a list of the pool coordinates in the right order to add to the dataframe\n",
    "locationlist = []\n",
    "for i in pools['address']:\n",
    "    locationlist.append(poolcoord[i])"
   ]
  },
  {
   "cell_type": "code",
   "execution_count": 622,
   "metadata": {
    "collapsed": false
   },
   "outputs": [],
   "source": [
    "pools['location'] = locationlist"
   ]
  },
  {
   "cell_type": "code",
   "execution_count": 688,
   "metadata": {
    "collapsed": false
   },
   "outputs": [
    {
     "data": {
      "text/html": [
       "<div>\n",
       "<table border=\"1\" class=\"dataframe\">\n",
       "  <thead>\n",
       "    <tr style=\"text-align: right;\">\n",
       "      <th></th>\n",
       "      <th>Pool</th>\n",
       "      <th>Monday</th>\n",
       "      <th>Tuesday</th>\n",
       "      <th>Wednesday</th>\n",
       "      <th>Thursday</th>\n",
       "      <th>Friday</th>\n",
       "      <th>Saturday</th>\n",
       "      <th>Sunday</th>\n",
       "      <th>latitude</th>\n",
       "      <th>longitude</th>\n",
       "    </tr>\n",
       "  </thead>\n",
       "  <tbody>\n",
       "    <tr>\n",
       "      <th>0</th>\n",
       "      <td>Asser Levy</td>\n",
       "      <td>7:00 a - 9:00 a</td>\n",
       "      <td>7:00 a - 9:00 a</td>\n",
       "      <td>7:00 a - 9:00 a</td>\n",
       "      <td>7:00 a - 9:00 a</td>\n",
       "      <td>7:00 a - 9:00 a</td>\n",
       "      <td>8:00 a - 9:00 a</td>\n",
       "      <td>8:00 a - 11:00 a</td>\n",
       "      <td>40.736160</td>\n",
       "      <td>-73.975658</td>\n",
       "    </tr>\n",
       "    <tr>\n",
       "      <th>1</th>\n",
       "      <td>Asser Levy</td>\n",
       "      <td>1:15 p - 3:45 p</td>\n",
       "      <td>1:15 p - 3:45 p</td>\n",
       "      <td>1:15 p - 3:45 p</td>\n",
       "      <td>1:15 p - 3:30 p</td>\n",
       "      <td>1:15 p - 3:00 p</td>\n",
       "      <td>2:15 p - 4:30 p</td>\n",
       "      <td>2:15 p - 4:30 p</td>\n",
       "      <td>40.736160</td>\n",
       "      <td>-73.975658</td>\n",
       "    </tr>\n",
       "    <tr>\n",
       "      <th>2</th>\n",
       "      <td>Asser Levy</td>\n",
       "      <td>6:30 p - 9:20 p</td>\n",
       "      <td>6:30 p - 9:20 p</td>\n",
       "      <td>6:30 p - 9:20 p</td>\n",
       "      <td>6:30 p - 9:20 p</td>\n",
       "      <td>7:00 p - 9:20 p</td>\n",
       "      <td>None</td>\n",
       "      <td>None</td>\n",
       "      <td>40.736160</td>\n",
       "      <td>-73.975658</td>\n",
       "    </tr>\n",
       "    <tr>\n",
       "      <th>3</th>\n",
       "      <td>Chelsea</td>\n",
       "      <td>7:00 a - 10:00 a</td>\n",
       "      <td>7:00 a - 10:00 a</td>\n",
       "      <td>7:00 a - 9:30 a</td>\n",
       "      <td>7:00 a - 10:00 a</td>\n",
       "      <td>7:00 a - 9:30 a</td>\n",
       "      <td>7:00 a - 8:00 a</td>\n",
       "      <td>8:00 a - 11:00 a</td>\n",
       "      <td>40.748249</td>\n",
       "      <td>-74.002098</td>\n",
       "    </tr>\n",
       "    <tr>\n",
       "      <th>4</th>\n",
       "      <td>Chelsea</td>\n",
       "      <td>2:00 p - 3:45 p</td>\n",
       "      <td>1:00 p - 3:45 p</td>\n",
       "      <td>2:00 p - 3:45 p</td>\n",
       "      <td>1:00 p - 3:45 p</td>\n",
       "      <td>2:00 p - 3:45 p</td>\n",
       "      <td>None</td>\n",
       "      <td>3:00 p - 4:00 p</td>\n",
       "      <td>40.748249</td>\n",
       "      <td>-74.002098</td>\n",
       "    </tr>\n",
       "    <tr>\n",
       "      <th>5</th>\n",
       "      <td>Chelsea</td>\n",
       "      <td>9:00 p - 10:00 p</td>\n",
       "      <td>6:00 p - 7:00 p</td>\n",
       "      <td>9:00 p - 10:00 p</td>\n",
       "      <td>6:00 p - 7:00 p</td>\n",
       "      <td>9:00 p - 10:00 p</td>\n",
       "      <td>None</td>\n",
       "      <td>None</td>\n",
       "      <td>40.748249</td>\n",
       "      <td>-74.002098</td>\n",
       "    </tr>\n",
       "    <tr>\n",
       "      <th>6</th>\n",
       "      <td>Chelsea</td>\n",
       "      <td>None</td>\n",
       "      <td>None</td>\n",
       "      <td>None</td>\n",
       "      <td>9:00 p - 10:00 p</td>\n",
       "      <td>None</td>\n",
       "      <td>None</td>\n",
       "      <td>None</td>\n",
       "      <td>40.748249</td>\n",
       "      <td>-74.002098</td>\n",
       "    </tr>\n",
       "    <tr>\n",
       "      <th>7</th>\n",
       "      <td>Gertrude Eredel</td>\n",
       "      <td>7:00 a - 9:45 a</td>\n",
       "      <td>7:00 a - 9:45 a</td>\n",
       "      <td>7:00 a - 9:45 a</td>\n",
       "      <td>7:00 a - 9:45 a</td>\n",
       "      <td>7:00 a - 9:45 a</td>\n",
       "      <td>8:00 a - 9:45 a</td>\n",
       "      <td>None</td>\n",
       "      <td>40.771421</td>\n",
       "      <td>-73.988664</td>\n",
       "    </tr>\n",
       "    <tr>\n",
       "      <th>8</th>\n",
       "      <td>Gertrude Eredel</td>\n",
       "      <td>6:15 p - 9:00 p</td>\n",
       "      <td>12:00 p - 2:00 p</td>\n",
       "      <td>6:15 p - 9:00 p</td>\n",
       "      <td>12:00 p - 2:00 p</td>\n",
       "      <td>1:00 p - 3:45 p</td>\n",
       "      <td>None</td>\n",
       "      <td>None</td>\n",
       "      <td>40.771421</td>\n",
       "      <td>-73.988664</td>\n",
       "    </tr>\n",
       "    <tr>\n",
       "      <th>9</th>\n",
       "      <td>Gertrude Eredel</td>\n",
       "      <td>None</td>\n",
       "      <td>6:15 p - 9:00 p</td>\n",
       "      <td>None</td>\n",
       "      <td>6:15 p - 9:00 p</td>\n",
       "      <td>7:15 p - 9:00 p</td>\n",
       "      <td>None</td>\n",
       "      <td>None</td>\n",
       "      <td>40.771421</td>\n",
       "      <td>-73.988664</td>\n",
       "    </tr>\n",
       "    <tr>\n",
       "      <th>10</th>\n",
       "      <td>Hansborough</td>\n",
       "      <td>7:00 a - 8:45 a</td>\n",
       "      <td>9:00 a - 10:00 a</td>\n",
       "      <td>7:00 a - 8:45 a</td>\n",
       "      <td>9:00 a - 10:00 a</td>\n",
       "      <td>7:00 a - 8:45 a</td>\n",
       "      <td>3:00 p - 4:00 p</td>\n",
       "      <td>None</td>\n",
       "      <td>40.812807</td>\n",
       "      <td>-73.939245</td>\n",
       "    </tr>\n",
       "    <tr>\n",
       "      <th>11</th>\n",
       "      <td>Hansborough</td>\n",
       "      <td>2:00 p - 3:00 p</td>\n",
       "      <td>1:15 p - 3:45 p</td>\n",
       "      <td>2:00 p - 3:00 p</td>\n",
       "      <td>1:15 p - 3:45 p</td>\n",
       "      <td>3:00 p - 4:15 p</td>\n",
       "      <td>None</td>\n",
       "      <td>None</td>\n",
       "      <td>40.812807</td>\n",
       "      <td>-73.939245</td>\n",
       "    </tr>\n",
       "    <tr>\n",
       "      <th>12</th>\n",
       "      <td>Hansborough</td>\n",
       "      <td>7:15 p - 9:00 p</td>\n",
       "      <td>7:15 p - 9:00 p</td>\n",
       "      <td>7:15 p - 9:00 p</td>\n",
       "      <td>7:15 p - 9:00 p</td>\n",
       "      <td>7:15 p - 9:00 p</td>\n",
       "      <td>None</td>\n",
       "      <td>None</td>\n",
       "      <td>40.812807</td>\n",
       "      <td>-73.939245</td>\n",
       "    </tr>\n",
       "    <tr>\n",
       "      <th>13</th>\n",
       "      <td>Tony Dapolito</td>\n",
       "      <td>7:00 a - 9:30 a</td>\n",
       "      <td>7:00 a - 8:30 a</td>\n",
       "      <td>7:00 a - 9:30 a</td>\n",
       "      <td>7:00 a - 8:30 a</td>\n",
       "      <td>7:00 a - 9:30 a</td>\n",
       "      <td>3:15 p - 4:30 p</td>\n",
       "      <td>9:00 a - 10:30 a</td>\n",
       "      <td>40.729617</td>\n",
       "      <td>-74.005406</td>\n",
       "    </tr>\n",
       "    <tr>\n",
       "      <th>14</th>\n",
       "      <td>Tony Dapolito</td>\n",
       "      <td>11:30 a - 2:15 p</td>\n",
       "      <td>12:15 p - 2:15 p</td>\n",
       "      <td>11:30 a - 2:15 p</td>\n",
       "      <td>12:15 p - 2:15 p</td>\n",
       "      <td>11:30 a - 2:15 p</td>\n",
       "      <td>None</td>\n",
       "      <td>3:15 p - 4:30 p</td>\n",
       "      <td>40.729617</td>\n",
       "      <td>-74.005406</td>\n",
       "    </tr>\n",
       "    <tr>\n",
       "      <th>15</th>\n",
       "      <td>Tony Dapolito</td>\n",
       "      <td>4:00 p - 9:30 p</td>\n",
       "      <td>8:00 p - 9:30 p</td>\n",
       "      <td>4:00 p - 6:00 p</td>\n",
       "      <td>8:00 p - 9:30 p</td>\n",
       "      <td>5:00 p - 7:15 p</td>\n",
       "      <td>None</td>\n",
       "      <td>None</td>\n",
       "      <td>40.729617</td>\n",
       "      <td>-74.005406</td>\n",
       "    </tr>\n",
       "    <tr>\n",
       "      <th>16</th>\n",
       "      <td>Tony Dapolito</td>\n",
       "      <td>None</td>\n",
       "      <td>None</td>\n",
       "      <td>7:15 p - 9:30 p</td>\n",
       "      <td>None</td>\n",
       "      <td>None</td>\n",
       "      <td>None</td>\n",
       "      <td>None</td>\n",
       "      <td>40.729617</td>\n",
       "      <td>-74.005406</td>\n",
       "    </tr>\n",
       "    <tr>\n",
       "      <th>17</th>\n",
       "      <td>Brownsville</td>\n",
       "      <td>2:15 p - 3:00 p</td>\n",
       "      <td>None</td>\n",
       "      <td>2:15 p - 3:00 p</td>\n",
       "      <td>None</td>\n",
       "      <td>2:15 p - 3:00 p</td>\n",
       "      <td>None</td>\n",
       "      <td>None</td>\n",
       "      <td>40.656202</td>\n",
       "      <td>-73.902837</td>\n",
       "    </tr>\n",
       "    <tr>\n",
       "      <th>18</th>\n",
       "      <td>Brownsville</td>\n",
       "      <td>5:15 p - 7:00 p</td>\n",
       "      <td>None</td>\n",
       "      <td>5:15 p - 7:00 p</td>\n",
       "      <td>None</td>\n",
       "      <td>5:15 p - 7:00 p</td>\n",
       "      <td>None</td>\n",
       "      <td>None</td>\n",
       "      <td>40.656202</td>\n",
       "      <td>-73.902837</td>\n",
       "    </tr>\n",
       "    <tr>\n",
       "      <th>19</th>\n",
       "      <td>Metropolitan</td>\n",
       "      <td>7:00 a - 9:15 a</td>\n",
       "      <td>7:00 a - 11:00 a</td>\n",
       "      <td>7:00 a - 9:15 a</td>\n",
       "      <td>7:00 a - 11:00 a</td>\n",
       "      <td>7:00 a - 9:15 a</td>\n",
       "      <td>7:00 a - 8:45 a</td>\n",
       "      <td>10:00 a - 12:30 p</td>\n",
       "      <td>40.715018</td>\n",
       "      <td>-73.960390</td>\n",
       "    </tr>\n",
       "    <tr>\n",
       "      <th>20</th>\n",
       "      <td>Metropolitan</td>\n",
       "      <td>1:30 p - 3:30 p</td>\n",
       "      <td>2:00 p - 3:00 p</td>\n",
       "      <td>1:30 p - 3:30 p</td>\n",
       "      <td>1:30 p - 3:00 p</td>\n",
       "      <td>5:30 p - 9:15 p</td>\n",
       "      <td>4:00 p - 5:15 p</td>\n",
       "      <td>None</td>\n",
       "      <td>40.715018</td>\n",
       "      <td>-73.960390</td>\n",
       "    </tr>\n",
       "    <tr>\n",
       "      <th>21</th>\n",
       "      <td>Metropolitan</td>\n",
       "      <td>6:30 p - 9:15 p</td>\n",
       "      <td>5:30 p - 9:15 p</td>\n",
       "      <td>6:30 p - 9:15 p</td>\n",
       "      <td>5:30 p - 9:15 p</td>\n",
       "      <td>None</td>\n",
       "      <td>None</td>\n",
       "      <td>None</td>\n",
       "      <td>40.715018</td>\n",
       "      <td>-73.960390</td>\n",
       "    </tr>\n",
       "    <tr>\n",
       "      <th>22</th>\n",
       "      <td>St. Johns</td>\n",
       "      <td>7:00 a - 9:30 a</td>\n",
       "      <td>7:00 a - 9:30 a</td>\n",
       "      <td>7:00 a - 9:30 a</td>\n",
       "      <td>7:00 a - 9:30 a</td>\n",
       "      <td>7:00 a - 9:00 a</td>\n",
       "      <td>8:00 a - 9:00 a</td>\n",
       "      <td>None</td>\n",
       "      <td>40.673878</td>\n",
       "      <td>-73.934904</td>\n",
       "    </tr>\n",
       "    <tr>\n",
       "      <th>23</th>\n",
       "      <td>St. Johns</td>\n",
       "      <td>1:00 p - 2:30 p</td>\n",
       "      <td>1:00 p - 2:30 p</td>\n",
       "      <td>1:00 p - 2:30 p</td>\n",
       "      <td>1:00 p - 2:30 p</td>\n",
       "      <td>1:00 p - 2:30 p</td>\n",
       "      <td>3:30 p - 4:30 p</td>\n",
       "      <td>None</td>\n",
       "      <td>40.673878</td>\n",
       "      <td>-73.934904</td>\n",
       "    </tr>\n",
       "    <tr>\n",
       "      <th>24</th>\n",
       "      <td>St. Johns</td>\n",
       "      <td>7:30 p - 9:30 p</td>\n",
       "      <td>None</td>\n",
       "      <td>7:30 p - 9:30 p</td>\n",
       "      <td>None</td>\n",
       "      <td>None</td>\n",
       "      <td>None</td>\n",
       "      <td>None</td>\n",
       "      <td>40.673878</td>\n",
       "      <td>-73.934904</td>\n",
       "    </tr>\n",
       "    <tr>\n",
       "      <th>25</th>\n",
       "      <td>Flushing Meadows Corona Park</td>\n",
       "      <td>6:00 a - 9:30 p</td>\n",
       "      <td>6:00 a - 9:30 p</td>\n",
       "      <td>6:00 a - 9:30 p</td>\n",
       "      <td>6:00 a - 9:30 p</td>\n",
       "      <td>6:00 a - 9:30 p</td>\n",
       "      <td>9:00 a - 9:30 p</td>\n",
       "      <td>4:30 p - 7:30 p</td>\n",
       "      <td>40.751967</td>\n",
       "      <td>-73.836016</td>\n",
       "    </tr>\n",
       "    <tr>\n",
       "      <th>26</th>\n",
       "      <td>Roy Wilkins</td>\n",
       "      <td>8:00 a - 9:30 a</td>\n",
       "      <td>8:00 a - 9:30 a</td>\n",
       "      <td>8:00 a - 9:30 a</td>\n",
       "      <td>8:00 a - 9:30 a</td>\n",
       "      <td>8:00 a - 9:30 a</td>\n",
       "      <td>None</td>\n",
       "      <td>None</td>\n",
       "      <td>40.687244</td>\n",
       "      <td>-73.772132</td>\n",
       "    </tr>\n",
       "    <tr>\n",
       "      <th>27</th>\n",
       "      <td>Roy Wilkins</td>\n",
       "      <td>6:00 p - 8:30 p</td>\n",
       "      <td>7:00 p - 8:30 p</td>\n",
       "      <td>None</td>\n",
       "      <td>7:00 p - 8:30 p</td>\n",
       "      <td>5:30 p - 8:30 p</td>\n",
       "      <td>None</td>\n",
       "      <td>None</td>\n",
       "      <td>40.687244</td>\n",
       "      <td>-73.772132</td>\n",
       "    </tr>\n",
       "    <tr>\n",
       "      <th>28</th>\n",
       "      <td>Saint Marys</td>\n",
       "      <td>2:00 p - 3:00 p</td>\n",
       "      <td>2:00 p - 3:00 p</td>\n",
       "      <td>2:00 p - 3:00 p</td>\n",
       "      <td>2:00 p - 3:00 p</td>\n",
       "      <td>2:00 p - 3:00 p</td>\n",
       "      <td>8:00 a - 9:00 a</td>\n",
       "      <td>None</td>\n",
       "      <td>40.811468</td>\n",
       "      <td>-73.914066</td>\n",
       "    </tr>\n",
       "    <tr>\n",
       "      <th>29</th>\n",
       "      <td>Saint Marys</td>\n",
       "      <td>6:30 p - 8:30 p</td>\n",
       "      <td>None</td>\n",
       "      <td>7:30 p - 8:30 p</td>\n",
       "      <td>6:30 p - 8:30 p</td>\n",
       "      <td>None</td>\n",
       "      <td>None</td>\n",
       "      <td>None</td>\n",
       "      <td>40.811468</td>\n",
       "      <td>-73.914066</td>\n",
       "    </tr>\n",
       "    <tr>\n",
       "      <th>30</th>\n",
       "      <td>Recreation Center 54</td>\n",
       "      <td>7:00 a - 9:45 a</td>\n",
       "      <td>7:00 a - 9:45 a</td>\n",
       "      <td>7:00 a - 9:45 a</td>\n",
       "      <td>7:00 a - 9:45 a</td>\n",
       "      <td>7:00 a - 9:45 a</td>\n",
       "      <td>8:00 a - 9:00 a</td>\n",
       "      <td>None</td>\n",
       "      <td>40.756491</td>\n",
       "      <td>-73.965117</td>\n",
       "    </tr>\n",
       "    <tr>\n",
       "      <th>31</th>\n",
       "      <td>Recreation Center 54</td>\n",
       "      <td>12:15 p - 3:00 p</td>\n",
       "      <td>12:15 p - 3:00 p</td>\n",
       "      <td>12:15 p - 3:00 p</td>\n",
       "      <td>12:15 p - 3:00 p</td>\n",
       "      <td>12:15 p - 3:00 p</td>\n",
       "      <td>None</td>\n",
       "      <td>None</td>\n",
       "      <td>40.756491</td>\n",
       "      <td>-73.965117</td>\n",
       "    </tr>\n",
       "    <tr>\n",
       "      <th>32</th>\n",
       "      <td>Recreation Center 54</td>\n",
       "      <td>7:15 p - 9:00 p</td>\n",
       "      <td>7:45 p - 9:00 p</td>\n",
       "      <td>7:15 p - 9:00 p</td>\n",
       "      <td>7:45 p - 9:00 p</td>\n",
       "      <td>7:15 p - 9:00 p</td>\n",
       "      <td>None</td>\n",
       "      <td>None</td>\n",
       "      <td>40.756491</td>\n",
       "      <td>-73.965117</td>\n",
       "    </tr>\n",
       "  </tbody>\n",
       "</table>\n",
       "</div>"
      ],
      "text/plain": [
       "                            Pool            Monday           Tuesday  \\\n",
       "0                     Asser Levy   7:00 a - 9:00 a   7:00 a - 9:00 a   \n",
       "1                     Asser Levy   1:15 p - 3:45 p   1:15 p - 3:45 p   \n",
       "2                     Asser Levy   6:30 p - 9:20 p   6:30 p - 9:20 p   \n",
       "3                        Chelsea  7:00 a - 10:00 a  7:00 a - 10:00 a   \n",
       "4                        Chelsea   2:00 p - 3:45 p   1:00 p - 3:45 p   \n",
       "5                        Chelsea  9:00 p - 10:00 p   6:00 p - 7:00 p   \n",
       "6                        Chelsea              None              None   \n",
       "7                Gertrude Eredel   7:00 a - 9:45 a   7:00 a - 9:45 a   \n",
       "8                Gertrude Eredel   6:15 p - 9:00 p  12:00 p - 2:00 p   \n",
       "9                Gertrude Eredel              None   6:15 p - 9:00 p   \n",
       "10                   Hansborough   7:00 a - 8:45 a  9:00 a - 10:00 a   \n",
       "11                   Hansborough   2:00 p - 3:00 p   1:15 p - 3:45 p   \n",
       "12                   Hansborough   7:15 p - 9:00 p   7:15 p - 9:00 p   \n",
       "13                 Tony Dapolito   7:00 a - 9:30 a   7:00 a - 8:30 a   \n",
       "14                 Tony Dapolito  11:30 a - 2:15 p  12:15 p - 2:15 p   \n",
       "15                 Tony Dapolito   4:00 p - 9:30 p   8:00 p - 9:30 p   \n",
       "16                 Tony Dapolito              None              None   \n",
       "17                   Brownsville   2:15 p - 3:00 p              None   \n",
       "18                   Brownsville   5:15 p - 7:00 p              None   \n",
       "19                  Metropolitan   7:00 a - 9:15 a  7:00 a - 11:00 a   \n",
       "20                  Metropolitan   1:30 p - 3:30 p   2:00 p - 3:00 p   \n",
       "21                  Metropolitan   6:30 p - 9:15 p   5:30 p - 9:15 p   \n",
       "22                     St. Johns   7:00 a - 9:30 a   7:00 a - 9:30 a   \n",
       "23                     St. Johns   1:00 p - 2:30 p   1:00 p - 2:30 p   \n",
       "24                     St. Johns   7:30 p - 9:30 p              None   \n",
       "25  Flushing Meadows Corona Park   6:00 a - 9:30 p   6:00 a - 9:30 p   \n",
       "26                   Roy Wilkins   8:00 a - 9:30 a   8:00 a - 9:30 a   \n",
       "27                   Roy Wilkins   6:00 p - 8:30 p   7:00 p - 8:30 p   \n",
       "28                   Saint Marys   2:00 p - 3:00 p   2:00 p - 3:00 p   \n",
       "29                   Saint Marys   6:30 p - 8:30 p              None   \n",
       "30          Recreation Center 54   7:00 a - 9:45 a   7:00 a - 9:45 a   \n",
       "31          Recreation Center 54  12:15 p - 3:00 p  12:15 p - 3:00 p   \n",
       "32          Recreation Center 54   7:15 p - 9:00 p   7:45 p - 9:00 p   \n",
       "\n",
       "           Wednesday          Thursday            Friday         Saturday  \\\n",
       "0    7:00 a - 9:00 a   7:00 a - 9:00 a   7:00 a - 9:00 a  8:00 a - 9:00 a   \n",
       "1    1:15 p - 3:45 p   1:15 p - 3:30 p   1:15 p - 3:00 p  2:15 p - 4:30 p   \n",
       "2    6:30 p - 9:20 p   6:30 p - 9:20 p   7:00 p - 9:20 p             None   \n",
       "3    7:00 a - 9:30 a  7:00 a - 10:00 a   7:00 a - 9:30 a  7:00 a - 8:00 a   \n",
       "4    2:00 p - 3:45 p   1:00 p - 3:45 p   2:00 p - 3:45 p             None   \n",
       "5   9:00 p - 10:00 p   6:00 p - 7:00 p  9:00 p - 10:00 p             None   \n",
       "6               None  9:00 p - 10:00 p              None             None   \n",
       "7    7:00 a - 9:45 a   7:00 a - 9:45 a   7:00 a - 9:45 a  8:00 a - 9:45 a   \n",
       "8    6:15 p - 9:00 p  12:00 p - 2:00 p   1:00 p - 3:45 p             None   \n",
       "9               None   6:15 p - 9:00 p   7:15 p - 9:00 p             None   \n",
       "10   7:00 a - 8:45 a  9:00 a - 10:00 a   7:00 a - 8:45 a  3:00 p - 4:00 p   \n",
       "11   2:00 p - 3:00 p   1:15 p - 3:45 p   3:00 p - 4:15 p             None   \n",
       "12   7:15 p - 9:00 p   7:15 p - 9:00 p   7:15 p - 9:00 p             None   \n",
       "13   7:00 a - 9:30 a   7:00 a - 8:30 a   7:00 a - 9:30 a  3:15 p - 4:30 p   \n",
       "14  11:30 a - 2:15 p  12:15 p - 2:15 p  11:30 a - 2:15 p             None   \n",
       "15   4:00 p - 6:00 p   8:00 p - 9:30 p   5:00 p - 7:15 p             None   \n",
       "16   7:15 p - 9:30 p              None              None             None   \n",
       "17   2:15 p - 3:00 p              None   2:15 p - 3:00 p             None   \n",
       "18   5:15 p - 7:00 p              None   5:15 p - 7:00 p             None   \n",
       "19   7:00 a - 9:15 a  7:00 a - 11:00 a   7:00 a - 9:15 a  7:00 a - 8:45 a   \n",
       "20   1:30 p - 3:30 p   1:30 p - 3:00 p   5:30 p - 9:15 p  4:00 p - 5:15 p   \n",
       "21   6:30 p - 9:15 p   5:30 p - 9:15 p              None             None   \n",
       "22   7:00 a - 9:30 a   7:00 a - 9:30 a   7:00 a - 9:00 a  8:00 a - 9:00 a   \n",
       "23   1:00 p - 2:30 p   1:00 p - 2:30 p   1:00 p - 2:30 p  3:30 p - 4:30 p   \n",
       "24   7:30 p - 9:30 p              None              None             None   \n",
       "25   6:00 a - 9:30 p   6:00 a - 9:30 p   6:00 a - 9:30 p  9:00 a - 9:30 p   \n",
       "26   8:00 a - 9:30 a   8:00 a - 9:30 a   8:00 a - 9:30 a             None   \n",
       "27              None   7:00 p - 8:30 p   5:30 p - 8:30 p             None   \n",
       "28   2:00 p - 3:00 p   2:00 p - 3:00 p   2:00 p - 3:00 p  8:00 a - 9:00 a   \n",
       "29   7:30 p - 8:30 p   6:30 p - 8:30 p              None             None   \n",
       "30   7:00 a - 9:45 a   7:00 a - 9:45 a   7:00 a - 9:45 a  8:00 a - 9:00 a   \n",
       "31  12:15 p - 3:00 p  12:15 p - 3:00 p  12:15 p - 3:00 p             None   \n",
       "32   7:15 p - 9:00 p   7:45 p - 9:00 p   7:15 p - 9:00 p             None   \n",
       "\n",
       "               Sunday   latitude  longitude  \n",
       "0    8:00 a - 11:00 a  40.736160 -73.975658  \n",
       "1     2:15 p - 4:30 p  40.736160 -73.975658  \n",
       "2                None  40.736160 -73.975658  \n",
       "3    8:00 a - 11:00 a  40.748249 -74.002098  \n",
       "4     3:00 p - 4:00 p  40.748249 -74.002098  \n",
       "5                None  40.748249 -74.002098  \n",
       "6                None  40.748249 -74.002098  \n",
       "7                None  40.771421 -73.988664  \n",
       "8                None  40.771421 -73.988664  \n",
       "9                None  40.771421 -73.988664  \n",
       "10               None  40.812807 -73.939245  \n",
       "11               None  40.812807 -73.939245  \n",
       "12               None  40.812807 -73.939245  \n",
       "13   9:00 a - 10:30 a  40.729617 -74.005406  \n",
       "14    3:15 p - 4:30 p  40.729617 -74.005406  \n",
       "15               None  40.729617 -74.005406  \n",
       "16               None  40.729617 -74.005406  \n",
       "17               None  40.656202 -73.902837  \n",
       "18               None  40.656202 -73.902837  \n",
       "19  10:00 a - 12:30 p  40.715018 -73.960390  \n",
       "20               None  40.715018 -73.960390  \n",
       "21               None  40.715018 -73.960390  \n",
       "22               None  40.673878 -73.934904  \n",
       "23               None  40.673878 -73.934904  \n",
       "24               None  40.673878 -73.934904  \n",
       "25    4:30 p - 7:30 p  40.751967 -73.836016  \n",
       "26               None  40.687244 -73.772132  \n",
       "27               None  40.687244 -73.772132  \n",
       "28               None  40.811468 -73.914066  \n",
       "29               None  40.811468 -73.914066  \n",
       "30               None  40.756491 -73.965117  \n",
       "31               None  40.756491 -73.965117  \n",
       "32               None  40.756491 -73.965117  "
      ]
     },
     "execution_count": 688,
     "metadata": {},
     "output_type": "execute_result"
    }
   ],
   "source": [
    "pooldf['Pool']\n",
    "\n"
   ]
  },
  {
   "cell_type": "code",
   "execution_count": 623,
   "metadata": {
    "collapsed": false
   },
   "outputs": [
    {
     "data": {
      "text/html": [
       "<div>\n",
       "<table border=\"1\" class=\"dataframe\">\n",
       "  <thead>\n",
       "    <tr style=\"text-align: right;\">\n",
       "      <th></th>\n",
       "      <th>swimming_pool</th>\n",
       "      <th>website_source</th>\n",
       "      <th>address</th>\n",
       "      <th>location</th>\n",
       "    </tr>\n",
       "  </thead>\n",
       "  <tbody>\n",
       "    <tr>\n",
       "      <th>0</th>\n",
       "      <td>asser_levy</td>\n",
       "      <td>http://www.nycgovparks.org/facilities/recreati...</td>\n",
       "      <td>392 asser levy pl, NY</td>\n",
       "      <td>(40.7361601, -73.9756582)</td>\n",
       "    </tr>\n",
       "    <tr>\n",
       "      <th>1</th>\n",
       "      <td>chelsea</td>\n",
       "      <td>http://www.nycgovparks.org/facilities/recreati...</td>\n",
       "      <td>430 W 25th St, New York, NY 10001</td>\n",
       "      <td>(40.7482487, -74.0020976)</td>\n",
       "    </tr>\n",
       "    <tr>\n",
       "      <th>2</th>\n",
       "      <td>gertrude_erdel</td>\n",
       "      <td>http://www.nycgovparks.org/facilities/recreati...</td>\n",
       "      <td>232 West 60th Street, ny</td>\n",
       "      <td>(40.7714207, -73.9886644)</td>\n",
       "    </tr>\n",
       "    <tr>\n",
       "      <th>3</th>\n",
       "      <td>hansborough</td>\n",
       "      <td>http://www.nycgovparks.org/facilities/recreati...</td>\n",
       "      <td>35 west 134th street, NY</td>\n",
       "      <td>(40.8128066, -73.9392448)</td>\n",
       "    </tr>\n",
       "    <tr>\n",
       "      <th>4</th>\n",
       "      <td>tony_dapolito</td>\n",
       "      <td>http://www.nycgovparks.org/facilities/recreati...</td>\n",
       "      <td>1 clarkson st., NY</td>\n",
       "      <td>(40.7296168, -74.0054061)</td>\n",
       "    </tr>\n",
       "    <tr>\n",
       "      <th>5</th>\n",
       "      <td>brownsville</td>\n",
       "      <td>http://www.nycgovparks.org/facilities/recreati...</td>\n",
       "      <td>1555 linden blvd, NY</td>\n",
       "      <td>(40.6562018, -73.9028372)</td>\n",
       "    </tr>\n",
       "    <tr>\n",
       "      <th>6</th>\n",
       "      <td>metropolitan</td>\n",
       "      <td>http://www.nycgovparks.org/facilities/recreati...</td>\n",
       "      <td>261 bedford ave, NY</td>\n",
       "      <td>(40.7150182, -73.9603902)</td>\n",
       "    </tr>\n",
       "    <tr>\n",
       "      <th>7</th>\n",
       "      <td>st.john’s</td>\n",
       "      <td>http://www.nycgovparks.org/facilities/recreati...</td>\n",
       "      <td>1251 prospect place, NY</td>\n",
       "      <td>(40.6738779, -73.9349038)</td>\n",
       "    </tr>\n",
       "    <tr>\n",
       "      <th>8</th>\n",
       "      <td>flushing</td>\n",
       "      <td>http://www.nycgovparks.org/facilities/recreati...</td>\n",
       "      <td>Avery Avenue and 131 Street, NY</td>\n",
       "      <td>(40.7519669, -73.8360161)</td>\n",
       "    </tr>\n",
       "    <tr>\n",
       "      <th>9</th>\n",
       "      <td>roy_wilkins</td>\n",
       "      <td>http://www.nycgovparks.org/facilities/recreati...</td>\n",
       "      <td>17701 baisley blvd, NY</td>\n",
       "      <td>(40.6872438, -73.7721323)</td>\n",
       "    </tr>\n",
       "    <tr>\n",
       "      <th>10</th>\n",
       "      <td>st.mary’s</td>\n",
       "      <td>http://www.nycgovparks.org/facilities/recreati...</td>\n",
       "      <td>450 saint ann's ave, NY</td>\n",
       "      <td>(40.8114681, -73.9140663)</td>\n",
       "    </tr>\n",
       "    <tr>\n",
       "      <th>11</th>\n",
       "      <td>rec_center54</td>\n",
       "      <td>http://www.nycgovparks.org/facilities/recreati...</td>\n",
       "      <td>348 East 54th st, NY</td>\n",
       "      <td>(40.7564907, -73.9651173)</td>\n",
       "    </tr>\n",
       "  </tbody>\n",
       "</table>\n",
       "</div>"
      ],
      "text/plain": [
       "     swimming_pool                                     website_source  \\\n",
       "0       asser_levy  http://www.nycgovparks.org/facilities/recreati...   \n",
       "1          chelsea  http://www.nycgovparks.org/facilities/recreati...   \n",
       "2   gertrude_erdel  http://www.nycgovparks.org/facilities/recreati...   \n",
       "3      hansborough  http://www.nycgovparks.org/facilities/recreati...   \n",
       "4    tony_dapolito  http://www.nycgovparks.org/facilities/recreati...   \n",
       "5      brownsville  http://www.nycgovparks.org/facilities/recreati...   \n",
       "6     metropolitan  http://www.nycgovparks.org/facilities/recreati...   \n",
       "7        st.john’s  http://www.nycgovparks.org/facilities/recreati...   \n",
       "8         flushing  http://www.nycgovparks.org/facilities/recreati...   \n",
       "9      roy_wilkins  http://www.nycgovparks.org/facilities/recreati...   \n",
       "10       st.mary’s  http://www.nycgovparks.org/facilities/recreati...   \n",
       "11    rec_center54  http://www.nycgovparks.org/facilities/recreati...   \n",
       "\n",
       "                              address                   location  \n",
       "0               392 asser levy pl, NY  (40.7361601, -73.9756582)  \n",
       "1   430 W 25th St, New York, NY 10001  (40.7482487, -74.0020976)  \n",
       "2            232 West 60th Street, ny  (40.7714207, -73.9886644)  \n",
       "3            35 west 134th street, NY  (40.8128066, -73.9392448)  \n",
       "4                  1 clarkson st., NY  (40.7296168, -74.0054061)  \n",
       "5                1555 linden blvd, NY  (40.6562018, -73.9028372)  \n",
       "6                 261 bedford ave, NY  (40.7150182, -73.9603902)  \n",
       "7             1251 prospect place, NY  (40.6738779, -73.9349038)  \n",
       "8     Avery Avenue and 131 Street, NY  (40.7519669, -73.8360161)  \n",
       "9              17701 baisley blvd, NY  (40.6872438, -73.7721323)  \n",
       "10            450 saint ann's ave, NY  (40.8114681, -73.9140663)  \n",
       "11               348 East 54th st, NY  (40.7564907, -73.9651173)  "
      ]
     },
     "execution_count": 623,
     "metadata": {},
     "output_type": "execute_result"
    }
   ],
   "source": [
    "pools"
   ]
  },
  {
   "cell_type": "code",
   "execution_count": 81,
   "metadata": {
    "collapsed": false
   },
   "outputs": [],
   "source": [
    "pickle.dump( poolcoord, open(\"coordinates_of_pools.p\", \"wb\" ) )"
   ]
  },
  {
   "cell_type": "code",
   "execution_count": 624,
   "metadata": {
    "collapsed": false
   },
   "outputs": [],
   "source": [
    "#separate latitude and longitude from the tuple into lists and then columns in the dataframe\n"
   ]
  },
  {
   "cell_type": "code",
   "execution_count": 625,
   "metadata": {
    "collapsed": false
   },
   "outputs": [],
   "source": [
    "latitude = []\n",
    "longitude = []\n",
    "for i in pools['location']:\n",
    "    i = str(i)\n",
    "    latitude.append(make_tuple(i)[0])\n",
    "    longitude.append(make_tuple(i)[1])"
   ]
  },
  {
   "cell_type": "code",
   "execution_count": 626,
   "metadata": {
    "collapsed": false
   },
   "outputs": [],
   "source": [
    "pools['latitude'] = latitude\n",
    "pools['longitude'] = longitude"
   ]
  },
  {
   "cell_type": "code",
   "execution_count": 627,
   "metadata": {
    "collapsed": false
   },
   "outputs": [
    {
     "data": {
      "text/html": [
       "<div>\n",
       "<table border=\"1\" class=\"dataframe\">\n",
       "  <thead>\n",
       "    <tr style=\"text-align: right;\">\n",
       "      <th></th>\n",
       "      <th>swimming_pool</th>\n",
       "      <th>website_source</th>\n",
       "      <th>address</th>\n",
       "      <th>location</th>\n",
       "      <th>latitude</th>\n",
       "      <th>longitude</th>\n",
       "    </tr>\n",
       "  </thead>\n",
       "  <tbody>\n",
       "    <tr>\n",
       "      <th>0</th>\n",
       "      <td>asser_levy</td>\n",
       "      <td>http://www.nycgovparks.org/facilities/recreati...</td>\n",
       "      <td>392 asser levy pl, NY</td>\n",
       "      <td>(40.7361601, -73.9756582)</td>\n",
       "      <td>40.736160</td>\n",
       "      <td>-73.975658</td>\n",
       "    </tr>\n",
       "    <tr>\n",
       "      <th>1</th>\n",
       "      <td>chelsea</td>\n",
       "      <td>http://www.nycgovparks.org/facilities/recreati...</td>\n",
       "      <td>430 W 25th St, New York, NY 10001</td>\n",
       "      <td>(40.7482487, -74.0020976)</td>\n",
       "      <td>40.748249</td>\n",
       "      <td>-74.002098</td>\n",
       "    </tr>\n",
       "    <tr>\n",
       "      <th>2</th>\n",
       "      <td>gertrude_erdel</td>\n",
       "      <td>http://www.nycgovparks.org/facilities/recreati...</td>\n",
       "      <td>232 West 60th Street, ny</td>\n",
       "      <td>(40.7714207, -73.9886644)</td>\n",
       "      <td>40.771421</td>\n",
       "      <td>-73.988664</td>\n",
       "    </tr>\n",
       "    <tr>\n",
       "      <th>3</th>\n",
       "      <td>hansborough</td>\n",
       "      <td>http://www.nycgovparks.org/facilities/recreati...</td>\n",
       "      <td>35 west 134th street, NY</td>\n",
       "      <td>(40.8128066, -73.9392448)</td>\n",
       "      <td>40.812807</td>\n",
       "      <td>-73.939245</td>\n",
       "    </tr>\n",
       "    <tr>\n",
       "      <th>4</th>\n",
       "      <td>tony_dapolito</td>\n",
       "      <td>http://www.nycgovparks.org/facilities/recreati...</td>\n",
       "      <td>1 clarkson st., NY</td>\n",
       "      <td>(40.7296168, -74.0054061)</td>\n",
       "      <td>40.729617</td>\n",
       "      <td>-74.005406</td>\n",
       "    </tr>\n",
       "    <tr>\n",
       "      <th>5</th>\n",
       "      <td>brownsville</td>\n",
       "      <td>http://www.nycgovparks.org/facilities/recreati...</td>\n",
       "      <td>1555 linden blvd, NY</td>\n",
       "      <td>(40.6562018, -73.9028372)</td>\n",
       "      <td>40.656202</td>\n",
       "      <td>-73.902837</td>\n",
       "    </tr>\n",
       "    <tr>\n",
       "      <th>6</th>\n",
       "      <td>metropolitan</td>\n",
       "      <td>http://www.nycgovparks.org/facilities/recreati...</td>\n",
       "      <td>261 bedford ave, NY</td>\n",
       "      <td>(40.7150182, -73.9603902)</td>\n",
       "      <td>40.715018</td>\n",
       "      <td>-73.960390</td>\n",
       "    </tr>\n",
       "    <tr>\n",
       "      <th>7</th>\n",
       "      <td>st.john’s</td>\n",
       "      <td>http://www.nycgovparks.org/facilities/recreati...</td>\n",
       "      <td>1251 prospect place, NY</td>\n",
       "      <td>(40.6738779, -73.9349038)</td>\n",
       "      <td>40.673878</td>\n",
       "      <td>-73.934904</td>\n",
       "    </tr>\n",
       "    <tr>\n",
       "      <th>8</th>\n",
       "      <td>flushing</td>\n",
       "      <td>http://www.nycgovparks.org/facilities/recreati...</td>\n",
       "      <td>Avery Avenue and 131 Street, NY</td>\n",
       "      <td>(40.7519669, -73.8360161)</td>\n",
       "      <td>40.751967</td>\n",
       "      <td>-73.836016</td>\n",
       "    </tr>\n",
       "    <tr>\n",
       "      <th>9</th>\n",
       "      <td>roy_wilkins</td>\n",
       "      <td>http://www.nycgovparks.org/facilities/recreati...</td>\n",
       "      <td>17701 baisley blvd, NY</td>\n",
       "      <td>(40.6872438, -73.7721323)</td>\n",
       "      <td>40.687244</td>\n",
       "      <td>-73.772132</td>\n",
       "    </tr>\n",
       "    <tr>\n",
       "      <th>10</th>\n",
       "      <td>st.mary’s</td>\n",
       "      <td>http://www.nycgovparks.org/facilities/recreati...</td>\n",
       "      <td>450 saint ann's ave, NY</td>\n",
       "      <td>(40.8114681, -73.9140663)</td>\n",
       "      <td>40.811468</td>\n",
       "      <td>-73.914066</td>\n",
       "    </tr>\n",
       "    <tr>\n",
       "      <th>11</th>\n",
       "      <td>rec_center54</td>\n",
       "      <td>http://www.nycgovparks.org/facilities/recreati...</td>\n",
       "      <td>348 East 54th st, NY</td>\n",
       "      <td>(40.7564907, -73.9651173)</td>\n",
       "      <td>40.756491</td>\n",
       "      <td>-73.965117</td>\n",
       "    </tr>\n",
       "  </tbody>\n",
       "</table>\n",
       "</div>"
      ],
      "text/plain": [
       "     swimming_pool                                     website_source  \\\n",
       "0       asser_levy  http://www.nycgovparks.org/facilities/recreati...   \n",
       "1          chelsea  http://www.nycgovparks.org/facilities/recreati...   \n",
       "2   gertrude_erdel  http://www.nycgovparks.org/facilities/recreati...   \n",
       "3      hansborough  http://www.nycgovparks.org/facilities/recreati...   \n",
       "4    tony_dapolito  http://www.nycgovparks.org/facilities/recreati...   \n",
       "5      brownsville  http://www.nycgovparks.org/facilities/recreati...   \n",
       "6     metropolitan  http://www.nycgovparks.org/facilities/recreati...   \n",
       "7        st.john’s  http://www.nycgovparks.org/facilities/recreati...   \n",
       "8         flushing  http://www.nycgovparks.org/facilities/recreati...   \n",
       "9      roy_wilkins  http://www.nycgovparks.org/facilities/recreati...   \n",
       "10       st.mary’s  http://www.nycgovparks.org/facilities/recreati...   \n",
       "11    rec_center54  http://www.nycgovparks.org/facilities/recreati...   \n",
       "\n",
       "                              address                   location   latitude  \\\n",
       "0               392 asser levy pl, NY  (40.7361601, -73.9756582)  40.736160   \n",
       "1   430 W 25th St, New York, NY 10001  (40.7482487, -74.0020976)  40.748249   \n",
       "2            232 West 60th Street, ny  (40.7714207, -73.9886644)  40.771421   \n",
       "3            35 west 134th street, NY  (40.8128066, -73.9392448)  40.812807   \n",
       "4                  1 clarkson st., NY  (40.7296168, -74.0054061)  40.729617   \n",
       "5                1555 linden blvd, NY  (40.6562018, -73.9028372)  40.656202   \n",
       "6                 261 bedford ave, NY  (40.7150182, -73.9603902)  40.715018   \n",
       "7             1251 prospect place, NY  (40.6738779, -73.9349038)  40.673878   \n",
       "8     Avery Avenue and 131 Street, NY  (40.7519669, -73.8360161)  40.751967   \n",
       "9              17701 baisley blvd, NY  (40.6872438, -73.7721323)  40.687244   \n",
       "10            450 saint ann's ave, NY  (40.8114681, -73.9140663)  40.811468   \n",
       "11               348 East 54th st, NY  (40.7564907, -73.9651173)  40.756491   \n",
       "\n",
       "    longitude  \n",
       "0  -73.975658  \n",
       "1  -74.002098  \n",
       "2  -73.988664  \n",
       "3  -73.939245  \n",
       "4  -74.005406  \n",
       "5  -73.902837  \n",
       "6  -73.960390  \n",
       "7  -73.934904  \n",
       "8  -73.836016  \n",
       "9  -73.772132  \n",
       "10 -73.914066  \n",
       "11 -73.965117  "
      ]
     },
     "execution_count": 627,
     "metadata": {},
     "output_type": "execute_result"
    }
   ],
   "source": [
    "pools"
   ]
  },
  {
   "cell_type": "code",
   "execution_count": 426,
   "metadata": {
    "collapsed": false
   },
   "outputs": [
    {
     "name": "stdout",
     "output_type": "stream",
     "text": [
      "<class 'bs4.BeautifulSoup'>\n"
     ]
    }
   ],
   "source": [
    "#reading in pool schedule html for asser_levy using beautifulsoup\n",
    "r = urllib.urlopen('http://www.nycgovparks.org/facilities/recreationcenters/B085/schedule#Pool').read()\n",
    "soup = BeautifulSoup(r)\n",
    "print type(soup)"
   ]
  },
  {
   "cell_type": "code",
   "execution_count": 427,
   "metadata": {
    "collapsed": false
   },
   "outputs": [
    {
     "data": {
      "text/plain": [
       "<title>Metropolitan Recreation Center Schedule : NYC Parks</title>"
      ]
     },
     "execution_count": 427,
     "metadata": {},
     "output_type": "execute_result"
    }
   ],
   "source": [
    "#exploring beautifulsoup a bit\n",
    "soup.title"
   ]
  },
  {
   "cell_type": "code",
   "execution_count": 428,
   "metadata": {
    "collapsed": false
   },
   "outputs": [
    {
     "data": {
      "text/plain": [
       "<p id=\"site-tagline\">Official Website of the New York City Department of Parks &amp; Recreation</p>"
      ]
     },
     "execution_count": 428,
     "metadata": {},
     "output_type": "execute_result"
    }
   ],
   "source": [
    "soup.p"
   ]
  },
  {
   "cell_type": "code",
   "execution_count": 429,
   "metadata": {
    "collapsed": false
   },
   "outputs": [
    {
     "data": {
      "text/plain": [
       "<a class=\"no-external\" href=\"http://www1.nyc.gov/nyc-resources/categories.page\">NYC Resources</a>"
      ]
     },
     "execution_count": 429,
     "metadata": {},
     "output_type": "execute_result"
    }
   ],
   "source": [
    "soup.a"
   ]
  },
  {
   "cell_type": "code",
   "execution_count": 583,
   "metadata": {
    "collapsed": false
   },
   "outputs": [
    {
     "data": {
      "text/plain": [
       "[<p class=\"program\">\\n\\t\\t\\t\\t\\t\\t\\t\\t\\t1:30 p - 3:00 p\\n\\t\\t\\t\\t\\t\\t\\t\\t\\t<br/>\\n<a class=\"program-popup\" href=\"#program_14302\"><strong>Adult Lap Swim</strong></a> <br/>\\n\\t\\t\\t\\t\\t\\t\\t\\t\\tAdult, Senior\\n\\t\\t\\t\\t\\t\\t\\t\\t\\t<br/>\\n</p>,\n",
       " <p class=\"program\">\\n\\t\\t\\t\\t\\t\\t\\t\\t\\t3:30 p - 5:00 p\\n\\t\\t\\t\\t\\t\\t\\t\\t\\t<br/>\\n<a class=\"program-popup\" href=\"#program_14303\"><strong>General Swim</strong></a> <br/>\\n\\t\\t\\t\\t\\t\\t\\t\\t\\tEveryone\\n\\t\\t\\t\\t\\t\\t\\t\\t\\t<br/>\\n</p>,\n",
       " <p class=\"program\">\\n\\t\\t\\t\\t\\t\\t\\t\\t\\t5:30 p - 9:15 p\\n\\t\\t\\t\\t\\t\\t\\t\\t\\t<br/>\\n<a class=\"program-popup\" href=\"#program_14302\"><strong>Adult Lap Swim</strong></a> <br/>\\n\\t\\t\\t\\t\\t\\t\\t\\t\\tAdult, Senior\\n\\t\\t\\t\\t\\t\\t\\t\\t\\t<br/>\\n</p>,\n",
       " <div class=\"center-hrs\">\\n<p>\\n<strong>Building Hours</strong><br/>\\n\\t\\t\\t\\t\\t\\t\\t\\t\\t\\t\\t                                                                                                \\t                                                     \\t7:00 a - 9:30 p\\n                                                    \\n                                                \\t\\t\\t\\t\\t\\t\\t\\t\\t\\t\\t\\t\\t\\t\\t\\t\\t\\t\\t\\t\\t</p>\\n</div>,\n",
       " <p class=\"program\">\\n\\t\\t\\t\\t\\t\\t\\t\\t\\t7:00 a - 9:15 a\\n\\t\\t\\t\\t\\t\\t\\t\\t\\t<br/>\\n<a class=\"program-popup\" href=\"#program_14302\"><strong>Adult Lap Swim</strong></a> <br/>\\n\\t\\t\\t\\t\\t\\t\\t\\t\\tAdult, Senior\\n\\t\\t\\t\\t\\t\\t\\t\\t\\t<br/>\\n</p>,\n",
       " <p class=\"program\">\\n\\t\\t\\t\\t\\t\\t\\t\\t\\t9:15 a - 11:00 a\\n\\t\\t\\t\\t\\t\\t\\t\\t\\t<br/>\\n<a class=\"program-popup\" href=\"#program_12812\"><strong>Women's Swim</strong></a> <br/>\\n<br/>\\n</p>,\n",
       " <p class=\"program\">\\n\\t\\t\\t\\t\\t\\t\\t\\t\\t11:00 a - 1:00 p\\n\\t\\t\\t\\t\\t\\t\\t\\t\\t<br/>\\n<a class=\"program-popup\" href=\"#program_17100\"><strong>Swim for Life</strong></a> <br/>\\n<br/>\\n</p>,\n",
       " <p class=\"program\">\\n\\t\\t\\t\\t\\t\\t\\t\\t\\t3:30 p - 5:00 p\\n\\t\\t\\t\\t\\t\\t\\t\\t\\t<br/>\\n<a class=\"program-popup\" href=\"#program_14303\"><strong>General Swim</strong></a> <br/>\\n\\t\\t\\t\\t\\t\\t\\t\\t\\tEveryone\\n\\t\\t\\t\\t\\t\\t\\t\\t\\t<br/>\\n</p>,\n",
       " <p class=\"program\">\\n\\t\\t\\t\\t\\t\\t\\t\\t\\t5:30 p - 9:15 p\\n\\t\\t\\t\\t\\t\\t\\t\\t\\t<br/>\\n<a class=\"program-popup\" href=\"#program_14302\"><strong>Adult Lap Swim</strong></a> <br/>\\n\\t\\t\\t\\t\\t\\t\\t\\t\\tAdult, Senior\\n\\t\\t\\t\\t\\t\\t\\t\\t\\t<br/>\\n</p>,\n",
       " <div class=\"center-hrs\">\\n<p>\\n<strong>Building Hours</strong><br/>\\n\\t\\t\\t\\t\\t\\t\\t\\t\\t\\t\\t                                                                                                \\t                                                     \\t7:00 a - 5:30 p\\n                                                    \\n                                                \\t\\t\\t\\t\\t\\t\\t\\t\\t\\t\\t\\t\\t\\t\\t\\t\\t\\t\\t\\t\\t</p>\\n</div>,\n",
       " <p class=\"program\">\\n\\t\\t\\t\\t\\t\\t\\t\\t\\t7:00 a - 8:45 a\\n\\t\\t\\t\\t\\t\\t\\t\\t\\t<br/>\\n<a class=\"program-popup\" href=\"#program_14302\"><strong>Adult Lap Swim</strong></a> <br/>\\n\\t\\t\\t\\t\\t\\t\\t\\t\\tAdult, Senior\\n\\t\\t\\t\\t\\t\\t\\t\\t\\t<br/>\\n</p>,\n",
       " <p class=\"program\">\\n\\t\\t\\t\\t\\t\\t\\t\\t\\t9:00 a - 2:00 p\\n\\t\\t\\t\\t\\t\\t\\t\\t\\t<br/>\\n<a class=\"program-popup\" href=\"#program_12076\"><strong>Learn to Swim: Fall 2015</strong></a> <br/>\\n\\t\\t\\t\\t\\t\\t\\t\\t\\tChild\\n\\t\\t\\t\\t\\t\\t\\t\\t\\t<br/>\\n</p>,\n",
       " <p class=\"program\">\\n\\t\\t\\t\\t\\t\\t\\t\\t\\t2:00 p - 3:30 p\\n\\t\\t\\t\\t\\t\\t\\t\\t\\t<br/>\\n<a class=\"program-popup\" href=\"#program_15458\"><strong>Water Polo</strong></a> <br/>\\n\\t\\t\\t\\t\\t\\t\\t\\t\\tAdult, Senior\\n\\t\\t\\t\\t\\t\\t\\t\\t\\t<br/>\\n</p>,\n",
       " <p class=\"program\">\\n\\t\\t\\t\\t\\t\\t\\t\\t\\t4:00 p - 5:15 p\\n\\t\\t\\t\\t\\t\\t\\t\\t\\t<br/>\\n<a class=\"program-popup\" href=\"#program_14302\"><strong>Adult Lap Swim</strong></a> <br/>\\n\\t\\t\\t\\t\\t\\t\\t\\t\\tAdult, Senior\\n\\t\\t\\t\\t\\t\\t\\t\\t\\t<br/>\\n</p>,\n",
       " <div class=\"center-hrs\">\\n<p>\\n<strong>Building Hours</strong><br/>\\n\\t\\t\\t\\t\\t\\t\\t\\t\\t\\t\\t                                                                                                \\t                                                     \\t10:00 a - 5:30 p\\n                                                    \\n                                                \\t\\t\\t\\t\\t\\t\\t\\t\\t\\t\\t\\t\\t\\t\\t\\t\\t\\t\\t\\t\\t</p>\\n</div>,\n",
       " <p class=\"program\">\\n\\t\\t\\t\\t\\t\\t\\t\\t\\t10:00 a - 12:30 p\\n\\t\\t\\t\\t\\t\\t\\t\\t\\t<br/>\\n<a class=\"program-popup\" href=\"#program_14302\"><strong>Adult Lap Swim</strong></a> <br/>\\n\\t\\t\\t\\t\\t\\t\\t\\t\\tAdult, Senior\\n\\t\\t\\t\\t\\t\\t\\t\\t\\t<br/>\\n</p>,\n",
       " <p class=\"program\">\\n\\t\\t\\t\\t\\t\\t\\t\\t\\t1:00 p - 2:30 p\\n\\t\\t\\t\\t\\t\\t\\t\\t\\t<br/>\\n<a class=\"program-popup\" href=\"#program_14303\"><strong>General Swim</strong></a> <br/>\\n\\t\\t\\t\\t\\t\\t\\t\\t\\tEveryone\\n\\t\\t\\t\\t\\t\\t\\t\\t\\t<br/>\\n</p>,\n",
       " <p class=\"program\">\\n\\t\\t\\t\\t\\t\\t\\t\\t\\t2:45 p - 4:45 p\\n\\t\\t\\t\\t\\t\\t\\t\\t\\t<br/>\\n<a class=\"program-popup\" href=\"#program_6166\"><strong>Women and Girls' Swim</strong></a> <br/>\\n\\t\\t\\t\\t\\t\\t\\t\\t\\tAdult, Child, Teen\\n\\t\\t\\t\\t\\t\\t\\t\\t\\t<br/>\\n</p>]"
      ]
     },
     "execution_count": 583,
     "metadata": {},
     "output_type": "execute_result"
    }
   ],
   "source": [
    "letters[70:]"
   ]
  },
  {
   "cell_type": "code",
   "execution_count": 435,
   "metadata": {
    "collapsed": false
   },
   "outputs": [],
   "source": [
    "#i want the swim programs in between the building hours, each time building hours shows up it represents the next day\n",
    "other = [\"program\", \"center-hrs\"]\n",
    "letters = soup.find_all([\"p\", \"div\"], other ) "
   ]
  },
  {
   "cell_type": "code",
   "execution_count": 437,
   "metadata": {
    "collapsed": false
   },
   "outputs": [
    {
     "data": {
      "text/plain": [
       "88"
      ]
     },
     "execution_count": 437,
     "metadata": {},
     "output_type": "execute_result"
    }
   ],
   "source": [
    "len(letters)"
   ]
  },
  {
   "cell_type": "code",
   "execution_count": 446,
   "metadata": {
    "collapsed": false
   },
   "outputs": [
    {
     "data": {
      "text/plain": [
       "<div class=\"center-hrs\">\\n<p>\\n<strong>Building Hours</strong><br/>\\n\\t\\t\\t\\t\\t\\t\\t\\t\\t\\t\\t                                                                                                \\t                                                     \\t7:00 a - 9:30 p\\n                                                    \\n                                                \\t\\t\\t\\t\\t\\t\\t\\t\\t\\t\\t\\t\\t\\t\\t\\t\\t\\t\\t\\t\\t</p>\\n</div>"
      ]
     },
     "execution_count": 446,
     "metadata": {},
     "output_type": "execute_result"
    }
   ],
   "source": [
    "letters[0]"
   ]
  },
  {
   "cell_type": "code",
   "execution_count": 123,
   "metadata": {
    "collapsed": false
   },
   "outputs": [],
   "source": [
    "test2 = letters[0]"
   ]
  },
  {
   "cell_type": "code",
   "execution_count": 125,
   "metadata": {
    "collapsed": false
   },
   "outputs": [
    {
     "name": "stdout",
     "output_type": "stream",
     "text": [
      "-1\n"
     ]
    }
   ],
   "source": [
    "print str(test2).find('swim')\n",
    "#if it isn't found, it returns -1"
   ]
  },
  {
   "cell_type": "code",
   "execution_count": 109,
   "metadata": {
    "collapsed": true
   },
   "outputs": [],
   "source": [
    "#want lap swim programs and building hours which separate schedule for each day\n",
    "swimposting = []\n",
    "otherposting = []\n",
    "for i in letters:\n",
    "    if str(i).find('Adult Lap Swim') > 0:\n",
    "        swimposting.append(str(i))\n",
    "    if str(i).find('Building Hours') > 0:\n",
    "        swimposting.append(str(i))\n",
    "    else:\n",
    "        otherposting.append(str(i))"
   ]
  },
  {
   "cell_type": "code",
   "execution_count": 187,
   "metadata": {
    "collapsed": false
   },
   "outputs": [],
   "source": [
    "asserlevy = swimposting[7:]# want to replace each building hours with day of the week"
   ]
  },
  {
   "cell_type": "code",
   "execution_count": 666,
   "metadata": {
    "collapsed": false
   },
   "outputs": [
    {
     "data": {
      "text/plain": [
       "['<div class=\"center-hrs\">\\n<p>\\n<strong>Building Hours</strong><br/>\\n\\t\\t\\t\\t\\t\\t\\t\\t\\t\\t\\t                                                                                                \\t                                                     \\t6:30 a - 9:30 p\\n                                                    \\n                                                \\t\\t\\t\\t\\t\\t\\t\\t\\t\\t\\t\\t\\t\\t\\t\\t\\t\\t\\t\\t\\t</p>\\n</div>',\n",
       " '<p class=\"program\">\\n\\t\\t\\t\\t\\t\\t\\t\\t\\t7:00 a - 9:00 a\\n\\t\\t\\t\\t\\t\\t\\t\\t\\t<br/>\\n<a class=\"program-popup\" href=\"#program_15940\"><strong>Adult Lap Swim</strong></a> <br/>\\n\\t\\t\\t\\t\\t\\t\\t\\t\\tAdult, Senior\\n\\t\\t\\t\\t\\t\\t\\t\\t\\t<br/>\\n</p>',\n",
       " '<p class=\"program\">\\n\\t\\t\\t\\t\\t\\t\\t\\t\\t1:15 p - 3:45 p\\n\\t\\t\\t\\t\\t\\t\\t\\t\\t<br/>\\n<a class=\"program-popup\" href=\"#program_15940\"><strong>Adult Lap Swim</strong></a> <br/>\\n\\t\\t\\t\\t\\t\\t\\t\\t\\tAdult, Senior\\n\\t\\t\\t\\t\\t\\t\\t\\t\\t<br/>\\n</p>',\n",
       " '<p class=\"program\">\\n\\t\\t\\t\\t\\t\\t\\t\\t\\t6:30 p - 9:20 p\\n\\t\\t\\t\\t\\t\\t\\t\\t\\t<br/>\\n<a class=\"program-popup\" href=\"#program_15940\"><strong>Adult Lap Swim</strong></a> <br/>\\n\\t\\t\\t\\t\\t\\t\\t\\t\\tAdult, Senior\\n\\t\\t\\t\\t\\t\\t\\t\\t\\t<br/>\\n</p>',\n",
       " '<div class=\"center-hrs\">\\n<p>\\n<strong>Building Hours</strong><br/>\\n\\t\\t\\t\\t\\t\\t\\t\\t\\t\\t\\t                                                                                                \\t                                                     \\t6:30 a - 9:30 p\\n                                                    \\n                                                \\t\\t\\t\\t\\t\\t\\t\\t\\t\\t\\t\\t\\t\\t\\t\\t\\t\\t\\t\\t\\t</p>\\n</div>',\n",
       " '<p class=\"program\">\\n\\t\\t\\t\\t\\t\\t\\t\\t\\t7:00 a - 9:00 a\\n\\t\\t\\t\\t\\t\\t\\t\\t\\t<br/>\\n<a class=\"program-popup\" href=\"#program_15940\"><strong>Adult Lap Swim</strong></a> <br/>\\n\\t\\t\\t\\t\\t\\t\\t\\t\\tAdult, Senior\\n\\t\\t\\t\\t\\t\\t\\t\\t\\t<br/>\\n</p>',\n",
       " '<p class=\"program\">\\n\\t\\t\\t\\t\\t\\t\\t\\t\\t1:15 p - 3:45 p\\n\\t\\t\\t\\t\\t\\t\\t\\t\\t<br/>\\n<a class=\"program-popup\" href=\"#program_15940\"><strong>Adult Lap Swim</strong></a> <br/>\\n\\t\\t\\t\\t\\t\\t\\t\\t\\tAdult, Senior\\n\\t\\t\\t\\t\\t\\t\\t\\t\\t<br/>\\n</p>',\n",
       " '<p class=\"program\">\\n\\t\\t\\t\\t\\t\\t\\t\\t\\t6:30 p - 9:20 p\\n\\t\\t\\t\\t\\t\\t\\t\\t\\t<br/>\\n<a class=\"program-popup\" href=\"#program_15940\"><strong>Adult Lap Swim</strong></a> <br/>\\n\\t\\t\\t\\t\\t\\t\\t\\t\\tAdult, Senior\\n\\t\\t\\t\\t\\t\\t\\t\\t\\t<br/>\\n</p>',\n",
       " '<div class=\"center-hrs\">\\n<p>\\n<strong>Building Hours</strong><br/>\\n\\t\\t\\t\\t\\t\\t\\t\\t\\t\\t\\t                                                                                                \\t                                                     \\t6:30 a - 9:30 p\\n                                                    \\n                                                \\t\\t\\t\\t\\t\\t\\t\\t\\t\\t\\t\\t\\t\\t\\t\\t\\t\\t\\t\\t\\t</p>\\n</div>',\n",
       " '<p class=\"program\">\\n\\t\\t\\t\\t\\t\\t\\t\\t\\t7:00 a - 9:00 a\\n\\t\\t\\t\\t\\t\\t\\t\\t\\t<br/>\\n<a class=\"program-popup\" href=\"#program_15940\"><strong>Adult Lap Swim</strong></a> <br/>\\n\\t\\t\\t\\t\\t\\t\\t\\t\\tAdult, Senior\\n\\t\\t\\t\\t\\t\\t\\t\\t\\t<br/>\\n</p>']"
      ]
     },
     "execution_count": 666,
     "metadata": {},
     "output_type": "execute_result"
    }
   ],
   "source": [
    "asserlevy[:10]"
   ]
  },
  {
   "cell_type": "code",
   "execution_count": 131,
   "metadata": {
    "collapsed": false
   },
   "outputs": [],
   "source": [
    "findtime = str(letters[46])"
   ]
  },
  {
   "cell_type": "code",
   "execution_count": 137,
   "metadata": {
    "collapsed": false
   },
   "outputs": [
    {
     "data": {
      "text/plain": [
       "'<p class=\"program\">\\n\\t\\t\\t\\t\\t\\t\\t\\t\\t7:00 a - 9:00 a\\n\\t\\t\\t\\t\\t\\t\\t\\t\\t<br/>\\n<a class=\"program-popup\" href=\"#program_15940\"><strong>Adult Lap Swim</strong></a> <br/>\\n\\t\\t\\t\\t\\t\\t\\t\\t\\tAdult, Senior\\n\\t\\t\\t\\t\\t\\t\\t\\t\\t<br/>\\n</p>'"
      ]
     },
     "execution_count": 137,
     "metadata": {},
     "output_type": "execute_result"
    }
   ],
   "source": [
    "findtime"
   ]
  },
  {
   "cell_type": "code",
   "execution_count": 135,
   "metadata": {
    "collapsed": true
   },
   "outputs": [],
   "source": [
    "#using regular expressions to pull out the time\n",
    "time = re.findall('\\t*[0-9]*:[0-9]*\\s[a-z]\\s-\\s[0-9*]\\s:[0-9]*\\s[a-z]\\n'  ,findtime)"
   ]
  },
  {
   "cell_type": "code",
   "execution_count": 144,
   "metadata": {
    "collapsed": false
   },
   "outputs": [],
   "source": [
    "time1 =  re.findall('[0-9]*:[0-9]*\\s[a-z]\\s-\\s[0-9]*:[0-9]*\\s[a-z]'  ,findtime)"
   ]
  },
  {
   "cell_type": "code",
   "execution_count": 145,
   "metadata": {
    "collapsed": false
   },
   "outputs": [
    {
     "data": {
      "text/plain": [
       "['7:00 a - 9:00 a']"
      ]
     },
     "execution_count": 145,
     "metadata": {},
     "output_type": "execute_result"
    }
   ],
   "source": [
    "time1"
   ]
  },
  {
   "cell_type": "code",
   "execution_count": 190,
   "metadata": {
    "collapsed": true
   },
   "outputs": [],
   "source": [
    "\n",
    "days_of_week = ['Monday', 'Tuesday', 'Wednesday', 'Thursday', 'Friday', 'Saturday', 'Sunday']"
   ]
  },
  {
   "cell_type": "code",
   "execution_count": 191,
   "metadata": {
    "collapsed": false
   },
   "outputs": [],
   "source": [
    "#make a loop that saves lap swim programs and substitutes the days of the week for the building hours which separate them\n",
    "asser_levy_sched = {}\n",
    "count = 0\n",
    "for i in asserlevy:\n",
    "    if str(i).find('Building Hours') > 0:\n",
    "        asser_levy_sched[days_of_week[count]] = []\n",
    "        count = count + 1\n",
    "    if str(i).find('Adult Lap Swim') > 0:\n",
    "        asser_levy_sched[days_of_week[count-1]].append(re.findall('[0-9]*:[0-9]*\\s[a-z]\\s-\\s[0-9]*:[0-9]*\\s[a-z]'  ,str(i)))"
   ]
  },
  {
   "cell_type": "code",
   "execution_count": 192,
   "metadata": {
    "collapsed": false
   },
   "outputs": [
    {
     "data": {
      "text/plain": [
       "{'Friday': [['7:00 a - 9:00 a'], ['1:15 p - 3:00 p'], ['7:00 p - 9:20 p']],\n",
       " 'Monday': [['7:00 a - 9:00 a'], ['1:15 p - 3:45 p'], ['6:30 p - 9:20 p']],\n",
       " 'Saturday': [['8:00 a - 9:00 a'], ['2:15 p - 4:30 p']],\n",
       " 'Sunday': [['8:00 a - 11:00 a'], ['2:15 p - 4:30 p']],\n",
       " 'Thursday': [['7:00 a - 9:00 a'], ['1:15 p - 3:30 p'], ['6:30 p - 9:20 p']],\n",
       " 'Tuesday': [['7:00 a - 9:00 a'], ['1:15 p - 3:45 p'], ['6:30 p - 9:20 p']],\n",
       " 'Wednesday': [['7:00 a - 9:00 a'], ['1:15 p - 3:45 p'], ['6:30 p - 9:20 p']]}"
      ]
     },
     "execution_count": 192,
     "metadata": {},
     "output_type": "execute_result"
    }
   ],
   "source": [
    "asser_levy_sched"
   ]
  },
  {
   "cell_type": "code",
   "execution_count": 193,
   "metadata": {
    "collapsed": false
   },
   "outputs": [
    {
     "name": "stdout",
     "output_type": "stream",
     "text": [
      "<class 'bs4.BeautifulSoup'>\n"
     ]
    }
   ],
   "source": [
    "#want to create a dictionary for every pool let's try another, metropolitan\n",
    "#reading in pool schedule html for asser_levy\n",
    "r6 = urllib.urlopen(pools['website_source'][6]).read()\n",
    "soup6 = BeautifulSoup(r6)\n",
    "print type(soup6)\n"
   ]
  },
  {
   "cell_type": "code",
   "execution_count": 194,
   "metadata": {
    "collapsed": true
   },
   "outputs": [],
   "source": [
    "other6 = [\"program\", \"center-hrs\"]\n",
    "letters6 = soup6.find_all([\"p\", \"div\"], other6 ) "
   ]
  },
  {
   "cell_type": "code",
   "execution_count": 196,
   "metadata": {
    "collapsed": false
   },
   "outputs": [],
   "source": [
    "swimposting6 = []\n",
    "otherposting6 = []\n",
    "for i in letters6:\n",
    "    if str(i).find('Adult Lap Swim') > 0:\n",
    "        swimposting6.append(str(i))\n",
    "    if str(i).find('Building Hours') > 0:\n",
    "        swimposting6.append(str(i))\n",
    "    else:\n",
    "        otherposting6.append(str(i))"
   ]
  },
  {
   "cell_type": "code",
   "execution_count": 199,
   "metadata": {
    "collapsed": false
   },
   "outputs": [],
   "source": [
    "metropolitan = swimposting6[7:]"
   ]
  },
  {
   "cell_type": "code",
   "execution_count": 200,
   "metadata": {
    "collapsed": true
   },
   "outputs": [],
   "source": [
    "metropolitan_sched = {}\n",
    "count = 0\n",
    "for i in metropolitan:\n",
    "    if str(i).find('Building Hours') > 0:\n",
    "        metropolitan_sched[days_of_week[count]] = []\n",
    "        count = count + 1\n",
    "    if str(i).find('Adult Lap Swim') > 0:\n",
    "        metropolitan_sched[days_of_week[count-1]].append(re.findall('[0-9]*:[0-9]*\\s[a-z]\\s-\\s[0-9]*:[0-9]*\\s[a-z]'  ,str(i)))"
   ]
  },
  {
   "cell_type": "code",
   "execution_count": 203,
   "metadata": {
    "collapsed": false
   },
   "outputs": [
    {
     "data": {
      "text/plain": [
       "['7:00 a - 9:15 a']"
      ]
     },
     "execution_count": 203,
     "metadata": {},
     "output_type": "execute_result"
    }
   ],
   "source": [
    "metropolitan_sched['Friday'][0]"
   ]
  },
  {
   "cell_type": "code",
   "execution_count": 204,
   "metadata": {
    "collapsed": false
   },
   "outputs": [
    {
     "data": {
      "text/plain": [
       "{'Friday': [['7:00 a - 9:15 a'], ['5:30 p - 9:15 p']],\n",
       " 'Monday': [['7:00 a - 9:15 a'], ['1:30 p - 3:30 p'], ['6:30 p - 9:15 p']],\n",
       " 'Saturday': [['7:00 a - 8:45 a'], ['4:00 p - 5:15 p']],\n",
       " 'Sunday': [['10:00 a - 12:30 p']],\n",
       " 'Thursday': [['7:00 a - 11:00 a'], ['1:30 p - 3:00 p'], ['5:30 p - 9:15 p']],\n",
       " 'Tuesday': [['7:00 a - 11:00 a'], ['2:00 p - 3:00 p'], ['5:30 p - 9:15 p']],\n",
       " 'Wednesday': [['7:00 a - 9:15 a'], ['1:30 p - 3:30 p'], ['6:30 p - 9:15 p']]}"
      ]
     },
     "execution_count": 204,
     "metadata": {},
     "output_type": "execute_result"
    }
   ],
   "source": [
    "metropolitan_sched"
   ]
  },
  {
   "cell_type": "code",
   "execution_count": 208,
   "metadata": {
    "collapsed": false
   },
   "outputs": [],
   "source": [
    "\n",
    "df = pd.DataFrame.from_dict(metropolitan_sched, orient='index')"
   ]
  },
  {
   "cell_type": "code",
   "execution_count": 212,
   "metadata": {
    "collapsed": false
   },
   "outputs": [],
   "source": [
    "df = df.transpose()"
   ]
  },
  {
   "cell_type": "code",
   "execution_count": 216,
   "metadata": {
    "collapsed": false
   },
   "outputs": [],
   "source": [
    "del df['Metropolitan Pool'] "
   ]
  },
  {
   "cell_type": "code",
   "execution_count": 219,
   "metadata": {
    "collapsed": false
   },
   "outputs": [],
   "source": [
    "df['Pool'] = 'Metropolitan Pool'"
   ]
  },
  {
   "cell_type": "code",
   "execution_count": 220,
   "metadata": {
    "collapsed": false,
    "scrolled": true
   },
   "outputs": [
    {
     "data": {
      "text/html": [
       "<div>\n",
       "<table border=\"1\" class=\"dataframe\">\n",
       "  <thead>\n",
       "    <tr style=\"text-align: right;\">\n",
       "      <th></th>\n",
       "      <th>Monday</th>\n",
       "      <th>Tuesday</th>\n",
       "      <th>Friday</th>\n",
       "      <th>Wednesday</th>\n",
       "      <th>Thursday</th>\n",
       "      <th>Sunday</th>\n",
       "      <th>Saturday</th>\n",
       "      <th>Pool</th>\n",
       "    </tr>\n",
       "  </thead>\n",
       "  <tbody>\n",
       "    <tr>\n",
       "      <th>0</th>\n",
       "      <td>[7:00 a - 9:15 a]</td>\n",
       "      <td>[7:00 a - 11:00 a]</td>\n",
       "      <td>[7:00 a - 9:15 a]</td>\n",
       "      <td>[7:00 a - 9:15 a]</td>\n",
       "      <td>[7:00 a - 11:00 a]</td>\n",
       "      <td>[10:00 a - 12:30 p]</td>\n",
       "      <td>[7:00 a - 8:45 a]</td>\n",
       "      <td>Metropolitan Pool</td>\n",
       "    </tr>\n",
       "    <tr>\n",
       "      <th>1</th>\n",
       "      <td>[1:30 p - 3:30 p]</td>\n",
       "      <td>[2:00 p - 3:00 p]</td>\n",
       "      <td>[5:30 p - 9:15 p]</td>\n",
       "      <td>[1:30 p - 3:30 p]</td>\n",
       "      <td>[1:30 p - 3:00 p]</td>\n",
       "      <td>None</td>\n",
       "      <td>[4:00 p - 5:15 p]</td>\n",
       "      <td>Metropolitan Pool</td>\n",
       "    </tr>\n",
       "    <tr>\n",
       "      <th>2</th>\n",
       "      <td>[6:30 p - 9:15 p]</td>\n",
       "      <td>[5:30 p - 9:15 p]</td>\n",
       "      <td>None</td>\n",
       "      <td>[6:30 p - 9:15 p]</td>\n",
       "      <td>[5:30 p - 9:15 p]</td>\n",
       "      <td>None</td>\n",
       "      <td>None</td>\n",
       "      <td>Metropolitan Pool</td>\n",
       "    </tr>\n",
       "  </tbody>\n",
       "</table>\n",
       "</div>"
      ],
      "text/plain": [
       "              Monday             Tuesday             Friday  \\\n",
       "0  [7:00 a - 9:15 a]  [7:00 a - 11:00 a]  [7:00 a - 9:15 a]   \n",
       "1  [1:30 p - 3:30 p]   [2:00 p - 3:00 p]  [5:30 p - 9:15 p]   \n",
       "2  [6:30 p - 9:15 p]   [5:30 p - 9:15 p]               None   \n",
       "\n",
       "           Wednesday            Thursday               Sunday  \\\n",
       "0  [7:00 a - 9:15 a]  [7:00 a - 11:00 a]  [10:00 a - 12:30 p]   \n",
       "1  [1:30 p - 3:30 p]   [1:30 p - 3:00 p]                 None   \n",
       "2  [6:30 p - 9:15 p]   [5:30 p - 9:15 p]                 None   \n",
       "\n",
       "            Saturday               Pool  \n",
       "0  [7:00 a - 8:45 a]  Metropolitan Pool  \n",
       "1  [4:00 p - 5:15 p]  Metropolitan Pool  \n",
       "2               None  Metropolitan Pool  "
      ]
     },
     "execution_count": 220,
     "metadata": {},
     "output_type": "execute_result"
    }
   ],
   "source": [
    "df"
   ]
  },
  {
   "cell_type": "code",
   "execution_count": 227,
   "metadata": {
    "collapsed": false
   },
   "outputs": [
    {
     "ename": "SyntaxError",
     "evalue": "can't assign to operator (<ipython-input-227-3a7b8bfda95c>, line 3)",
     "output_type": "error",
     "traceback": [
      "\u001b[0;36m  File \u001b[0;32m\"<ipython-input-227-3a7b8bfda95c>\"\u001b[0;36m, line \u001b[0;32m3\u001b[0m\n\u001b[0;31m    'r'+str(i) = urllib.urlopen(pools['website_source'][i]).read()\u001b[0m\n\u001b[0;31mSyntaxError\u001b[0m\u001b[0;31m:\u001b[0m can't assign to operator\n"
     ]
    }
   ],
   "source": [
    "#pipeline to scrape each pool, collect times for days of the week, convert to a dataframe then concatenate with the other dataframes\n",
    "#this doesn't work due to inconsistencies on the different pool websites, some say lap swim, others adult lap swim and others adult swim.\n",
    "#there are other non-lap swim programs so i have to scrape each separately and check.\n",
    "dflist = ['df1','df2','df3', 'df4','df5', 'df6', 'df7', 'df8', 'df9', 'df10', 'df11', 'df12']\n",
    "poolist = ['asser_levy', 'chelsea', 'gertrude_erdel','hansborough','tony_dapolito','brownsville','metropolitan','st.johns','flushing','roy_wilkins','st.marys','rec_center54']\n",
    "failist = []\n",
    "\n",
    "for j in range(4, 13):\n",
    "    try:\n",
    "        r = urllib.urlopen(pools['website_source'][j]).read()\n",
    "        soup = BeautifulSoup(r)\n",
    "        letters  = soup.find_all([\"p\", \"div\"], [\"program\", \"center-hrs\"] ) \n",
    "        swimposting = []\n",
    "        otherposting = []\n",
    "        for i in letters:\n",
    "            if str(i).find('Lap Swim') > 0:\n",
    "                swimposting.append(str(i))\n",
    "            if str(i).find('Building Hours') > 0:\n",
    "                swimposting.append(str(i))\n",
    "            else:\n",
    "                otherposting.append(str(i))\n",
    "        pools['swimming_pool'][j] = swimposting[7:-7]\n",
    "        sched = {}\n",
    "        count = 0\n",
    "        for s in pools['swimming_pool'][j]:\n",
    "            if str(s).find('Building Hours') > 0:\n",
    "                sched[days_of_week[count]] = []\n",
    "                count = count + 1\n",
    "            if str(s).find('Lap Swim') > 0:\n",
    "                sched[days_of_week[count-1]].append(re.findall('[0-9]*:[0-9]*\\s[a-z]\\s-\\s[0-9]*:[0-9]*\\s[a-z]'  ,str(s)))\n",
    "        dflist[j] = pd.DataFrame.from_dict(sched, orient='index')\n",
    "        dflist[j] = dflist[j].transpose()\n",
    "        eeps = poolist[j]\n",
    "        dflist[j]['Pool'] = eeps\n",
    "    except:\n",
    "        failist.append(j)"
   ]
  },
  {
   "cell_type": "code",
   "execution_count": 224,
   "metadata": {
    "collapsed": false,
    "scrolled": false
   },
   "outputs": [
    {
     "name": "stdout",
     "output_type": "stream",
     "text": [
      "asser_levy\n",
      "chelsea\n",
      "gertrude_erdel\n",
      "hansborough\n",
      "tony_dapolito\n",
      "brownsville\n",
      "metropolitan\n",
      "st.john’s\n",
      "flushing\n",
      "roy_wilkins\n",
      "st.mary’s\n",
      "rec_center54\n"
     ]
    }
   ],
   "source": [
    "for i in range(0, 12):\n",
    "    print pools['swimming_pool'][i]"
   ]
  },
  {
   "cell_type": "code",
   "execution_count": 233,
   "metadata": {
    "collapsed": false
   },
   "outputs": [],
   "source": [
    "r = urllib.urlopen(pools['website_source'][0]).read()\n",
    "soup = BeautifulSoup(r)\n",
    "letters  = soup.find_all([\"p\", \"div\"], [\"program\", \"center-hrs\"] ) \n",
    "swimposting = []\n",
    "otherposting = []\n",
    "for i in letters:\n",
    "    if str(i).find('Adult Lap Swim') > 0:\n",
    "        swimposting.append(str(i))\n",
    "    if str(i).find('Building Hours') > 0:\n",
    "        swimposting.append(str(i))\n",
    "    else:\n",
    "        otherposting.append(str(i))\n"
   ]
  },
  {
   "cell_type": "code",
   "execution_count": 236,
   "metadata": {
    "collapsed": true
   },
   "outputs": [],
   "source": [
    "pools['swimming_pool'][0] = swimposting[7:]\n",
    "sched = {}\n",
    "count = 0\n",
    "for i in pools['swimming_pool'][0]:\n",
    "    if str(i).find('Building Hours') > 0:\n",
    "        sched[days_of_week[count]] = []\n",
    "        count = count + 1\n",
    "    if str(i).find('Adult Lap Swim') > 0:\n",
    "        sched[days_of_week[count-1]].append(re.findall('[0-9]*:[0-9]*\\s[a-z]\\s-\\s[0-9]*:[0-9]*\\s[a-z]'  ,str(i)))\n"
   ]
  },
  {
   "cell_type": "code",
   "execution_count": 237,
   "metadata": {
    "collapsed": false
   },
   "outputs": [
    {
     "data": {
      "text/plain": [
       "{'Friday': [['7:00 a - 9:00 a'], ['1:15 p - 3:00 p'], ['7:00 p - 9:20 p']],\n",
       " 'Monday': [['7:00 a - 9:00 a'], ['1:15 p - 3:45 p'], ['6:30 p - 9:20 p']],\n",
       " 'Saturday': [['8:00 a - 9:00 a'], ['2:15 p - 4:30 p']],\n",
       " 'Sunday': [['8:00 a - 11:00 a'], ['2:15 p - 4:30 p']],\n",
       " 'Thursday': [['7:00 a - 9:00 a'], ['1:15 p - 3:30 p'], ['6:30 p - 9:20 p']],\n",
       " 'Tuesday': [['7:00 a - 9:00 a'], ['1:15 p - 3:45 p'], ['6:30 p - 9:20 p']],\n",
       " 'Wednesday': [['7:00 a - 9:00 a'], ['1:15 p - 3:45 p'], ['6:30 p - 9:20 p']]}"
      ]
     },
     "execution_count": 237,
     "metadata": {},
     "output_type": "execute_result"
    }
   ],
   "source": [
    "sched"
   ]
  },
  {
   "cell_type": "code",
   "execution_count": 238,
   "metadata": {
    "collapsed": true
   },
   "outputs": [],
   "source": [
    "\n",
    "#dataframe wrangling to get it in the format i want, i'll then join all dataframes from the separate pools\n",
    "df0 = pd.DataFrame.from_dict(sched, orient='index')\n"
   ]
  },
  {
   "cell_type": "code",
   "execution_count": 246,
   "metadata": {
    "collapsed": true
   },
   "outputs": [],
   "source": [
    "df0 = df0.transpose()"
   ]
  },
  {
   "cell_type": "code",
   "execution_count": 247,
   "metadata": {
    "collapsed": false
   },
   "outputs": [],
   "source": [
    "del df0['Pool'] "
   ]
  },
  {
   "cell_type": "code",
   "execution_count": 249,
   "metadata": {
    "collapsed": false
   },
   "outputs": [],
   "source": [
    "df0 = df0.transpose()"
   ]
  },
  {
   "cell_type": "code",
   "execution_count": 251,
   "metadata": {
    "collapsed": false
   },
   "outputs": [],
   "source": [
    "df0['Pool'] = 'asser levy'"
   ]
  },
  {
   "cell_type": "code",
   "execution_count": 252,
   "metadata": {
    "collapsed": false
   },
   "outputs": [
    {
     "data": {
      "text/html": [
       "<div>\n",
       "<table border=\"1\" class=\"dataframe\">\n",
       "  <thead>\n",
       "    <tr style=\"text-align: right;\">\n",
       "      <th></th>\n",
       "      <th>Monday</th>\n",
       "      <th>Tuesday</th>\n",
       "      <th>Friday</th>\n",
       "      <th>Wednesday</th>\n",
       "      <th>Thursday</th>\n",
       "      <th>Sunday</th>\n",
       "      <th>Saturday</th>\n",
       "      <th>Pool</th>\n",
       "    </tr>\n",
       "  </thead>\n",
       "  <tbody>\n",
       "    <tr>\n",
       "      <th>0</th>\n",
       "      <td>[7:00 a - 9:00 a]</td>\n",
       "      <td>[7:00 a - 9:00 a]</td>\n",
       "      <td>[7:00 a - 9:00 a]</td>\n",
       "      <td>[7:00 a - 9:00 a]</td>\n",
       "      <td>[7:00 a - 9:00 a]</td>\n",
       "      <td>[8:00 a - 11:00 a]</td>\n",
       "      <td>[8:00 a - 9:00 a]</td>\n",
       "      <td>asser levy</td>\n",
       "    </tr>\n",
       "    <tr>\n",
       "      <th>1</th>\n",
       "      <td>[1:15 p - 3:45 p]</td>\n",
       "      <td>[1:15 p - 3:45 p]</td>\n",
       "      <td>[1:15 p - 3:00 p]</td>\n",
       "      <td>[1:15 p - 3:45 p]</td>\n",
       "      <td>[1:15 p - 3:30 p]</td>\n",
       "      <td>[2:15 p - 4:30 p]</td>\n",
       "      <td>[2:15 p - 4:30 p]</td>\n",
       "      <td>asser levy</td>\n",
       "    </tr>\n",
       "    <tr>\n",
       "      <th>2</th>\n",
       "      <td>[6:30 p - 9:20 p]</td>\n",
       "      <td>[6:30 p - 9:20 p]</td>\n",
       "      <td>[7:00 p - 9:20 p]</td>\n",
       "      <td>[6:30 p - 9:20 p]</td>\n",
       "      <td>[6:30 p - 9:20 p]</td>\n",
       "      <td>None</td>\n",
       "      <td>None</td>\n",
       "      <td>asser levy</td>\n",
       "    </tr>\n",
       "  </tbody>\n",
       "</table>\n",
       "</div>"
      ],
      "text/plain": [
       "              Monday            Tuesday             Friday          Wednesday  \\\n",
       "0  [7:00 a - 9:00 a]  [7:00 a - 9:00 a]  [7:00 a - 9:00 a]  [7:00 a - 9:00 a]   \n",
       "1  [1:15 p - 3:45 p]  [1:15 p - 3:45 p]  [1:15 p - 3:00 p]  [1:15 p - 3:45 p]   \n",
       "2  [6:30 p - 9:20 p]  [6:30 p - 9:20 p]  [7:00 p - 9:20 p]  [6:30 p - 9:20 p]   \n",
       "\n",
       "            Thursday              Sunday           Saturday        Pool  \n",
       "0  [7:00 a - 9:00 a]  [8:00 a - 11:00 a]  [8:00 a - 9:00 a]  asser levy  \n",
       "1  [1:15 p - 3:30 p]   [2:15 p - 4:30 p]  [2:15 p - 4:30 p]  asser levy  \n",
       "2  [6:30 p - 9:20 p]                None               None  asser levy  "
      ]
     },
     "execution_count": 252,
     "metadata": {},
     "output_type": "execute_result"
    }
   ],
   "source": [
    "df0"
   ]
  },
  {
   "cell_type": "code",
   "execution_count": 259,
   "metadata": {
    "collapsed": false
   },
   "outputs": [],
   "source": [
    "r = urllib.urlopen(pools['website_source'][1]).read()\n",
    "soup = BeautifulSoup(r)\n",
    "letters  = soup.find_all([\"p\", \"div\"], [\"program\", \"center-hrs\"] ) \n",
    "swimposting = []\n",
    "otherposting = []\n",
    "for i in letters:\n",
    "    if str(i).find('Lap Swim') > 0:\n",
    "        swimposting.append(str(i))\n",
    "    if str(i).find('Building Hours') > 0:\n",
    "        swimposting.append(str(i))\n",
    "    else:\n",
    "        otherposting.append(str(i))\n"
   ]
  },
  {
   "cell_type": "code",
   "execution_count": 270,
   "metadata": {
    "collapsed": false
   },
   "outputs": [
    {
     "data": {
      "text/plain": [
       "['<div class=\"center-hrs\">\\n<p>\\n<strong>Building Hours</strong><br/>\\n\\t\\t\\t\\t\\t\\t\\t\\t\\t\\t\\t                                                                                                \\t                                                     \\t6:30 a - 10:00 p\\n                                                    \\n                                                \\t\\t\\t\\t\\t\\t\\t\\t\\t\\t\\t\\t\\t\\t\\t\\t\\t\\t\\t\\t\\t</p>\\n</div>',\n",
       " '<p class=\"program\">\\n\\t\\t\\t\\t\\t\\t\\t\\t\\t7:00 a - 10:00 a\\n\\t\\t\\t\\t\\t\\t\\t\\t\\t<br/>\\n<a class=\"program-popup\" href=\"#program_14800\"><strong>Lap Swim</strong></a> <br/>\\n\\t\\t\\t\\t\\t\\t\\t\\t\\tAdult, Senior\\n\\t\\t\\t\\t\\t\\t\\t\\t\\t<br/>\\n</p>',\n",
       " '<p class=\"program\">\\n\\t\\t\\t\\t\\t\\t\\t\\t\\t2:00 p - 3:45 p\\n\\t\\t\\t\\t\\t\\t\\t\\t\\t<br/>\\n<a class=\"program-popup\" href=\"#program_14800\"><strong>Lap Swim</strong></a> <br/>\\n\\t\\t\\t\\t\\t\\t\\t\\t\\tAdult, Senior\\n\\t\\t\\t\\t\\t\\t\\t\\t\\t<br/>\\n</p>',\n",
       " '<p class=\"program\">\\n\\t\\t\\t\\t\\t\\t\\t\\t\\t9:00 p - 10:00 p\\n\\t\\t\\t\\t\\t\\t\\t\\t\\t<br/>\\n<a class=\"program-popup\" href=\"#program_14800\"><strong>Lap Swim</strong></a> <br/>\\n\\t\\t\\t\\t\\t\\t\\t\\t\\tAdult, Senior\\n\\t\\t\\t\\t\\t\\t\\t\\t\\t<br/>\\n</p>',\n",
       " '<div class=\"center-hrs\">\\n<p>\\n<strong>Building Hours</strong><br/>\\n\\t\\t\\t\\t\\t\\t\\t\\t\\t\\t\\t                                                                                                \\t                                                     \\t6:30 a - 10:00 p\\n                                                    \\n                                                \\t\\t\\t\\t\\t\\t\\t\\t\\t\\t\\t\\t\\t\\t\\t\\t\\t\\t\\t\\t\\t</p>\\n</div>',\n",
       " '<p class=\"program\">\\n\\t\\t\\t\\t\\t\\t\\t\\t\\t7:00 a - 10:00 a\\n\\t\\t\\t\\t\\t\\t\\t\\t\\t<br/>\\n<a class=\"program-popup\" href=\"#program_14800\"><strong>Lap Swim</strong></a> <br/>\\n\\t\\t\\t\\t\\t\\t\\t\\t\\tAdult, Senior\\n\\t\\t\\t\\t\\t\\t\\t\\t\\t<br/>\\n</p>',\n",
       " '<p class=\"program\">\\n\\t\\t\\t\\t\\t\\t\\t\\t\\t1:00 p - 3:45 p\\n\\t\\t\\t\\t\\t\\t\\t\\t\\t<br/>\\n<a class=\"program-popup\" href=\"#program_14800\"><strong>Lap Swim</strong></a> <br/>\\n\\t\\t\\t\\t\\t\\t\\t\\t\\tAdult, Senior\\n\\t\\t\\t\\t\\t\\t\\t\\t\\t<br/>\\n</p>',\n",
       " '<p class=\"program\">\\n\\t\\t\\t\\t\\t\\t\\t\\t\\t6:00 p - 7:00 p\\n\\t\\t\\t\\t\\t\\t\\t\\t\\t<br/>\\n<a class=\"program-popup\" href=\"#program_14800\"><strong>Lap Swim</strong></a> <br/>\\n\\t\\t\\t\\t\\t\\t\\t\\t\\tAdult, Senior\\n\\t\\t\\t\\t\\t\\t\\t\\t\\t<br/>\\n</p>',\n",
       " '<div class=\"center-hrs\">\\n<p>\\n<strong>Building Hours</strong><br/>\\n\\t\\t\\t\\t\\t\\t\\t\\t\\t\\t\\t                                                                                                \\t                                                     \\t6:30 a - 10:00 p\\n                                                    \\n                                                \\t\\t\\t\\t\\t\\t\\t\\t\\t\\t\\t\\t\\t\\t\\t\\t\\t\\t\\t\\t\\t</p>\\n</div>',\n",
       " '<p class=\"program\">\\n\\t\\t\\t\\t\\t\\t\\t\\t\\t7:00 a - 9:30 a\\n\\t\\t\\t\\t\\t\\t\\t\\t\\t<br/>\\n<a class=\"program-popup\" href=\"#program_14800\"><strong>Lap Swim</strong></a> <br/>\\n\\t\\t\\t\\t\\t\\t\\t\\t\\tAdult, Senior\\n\\t\\t\\t\\t\\t\\t\\t\\t\\t<br/>\\n</p>',\n",
       " '<p class=\"program\">\\n\\t\\t\\t\\t\\t\\t\\t\\t\\t2:00 p - 3:45 p\\n\\t\\t\\t\\t\\t\\t\\t\\t\\t<br/>\\n<a class=\"program-popup\" href=\"#program_14800\"><strong>Lap Swim</strong></a> <br/>\\n\\t\\t\\t\\t\\t\\t\\t\\t\\tAdult, Senior\\n\\t\\t\\t\\t\\t\\t\\t\\t\\t<br/>\\n</p>',\n",
       " '<p class=\"program\">\\n\\t\\t\\t\\t\\t\\t\\t\\t\\t9:00 p - 10:00 p\\n\\t\\t\\t\\t\\t\\t\\t\\t\\t<br/>\\n<a class=\"program-popup\" href=\"#program_14800\"><strong>Lap Swim</strong></a> <br/>\\n\\t\\t\\t\\t\\t\\t\\t\\t\\tAdult, Senior\\n\\t\\t\\t\\t\\t\\t\\t\\t\\t<br/>\\n</p>',\n",
       " '<div class=\"center-hrs\">\\n<p>\\n<strong>Building Hours</strong><br/>\\n\\t\\t\\t\\t\\t\\t\\t\\t\\t\\t\\t                                                                                                \\t                                                     \\t6:30 a - 10:00 p\\n                                                    \\n                                                \\t\\t\\t\\t\\t\\t\\t\\t\\t\\t\\t\\t\\t\\t\\t\\t\\t\\t\\t\\t\\t</p>\\n</div>',\n",
       " '<p class=\"program\">\\n\\t\\t\\t\\t\\t\\t\\t\\t\\t7:00 a - 10:00 a\\n\\t\\t\\t\\t\\t\\t\\t\\t\\t<br/>\\n<a class=\"program-popup\" href=\"#program_14800\"><strong>Lap Swim</strong></a> <br/>\\n\\t\\t\\t\\t\\t\\t\\t\\t\\tAdult, Senior\\n\\t\\t\\t\\t\\t\\t\\t\\t\\t<br/>\\n</p>',\n",
       " '<p class=\"program\">\\n\\t\\t\\t\\t\\t\\t\\t\\t\\t1:00 p - 3:45 p\\n\\t\\t\\t\\t\\t\\t\\t\\t\\t<br/>\\n<a class=\"program-popup\" href=\"#program_14800\"><strong>Lap Swim</strong></a> <br/>\\n\\t\\t\\t\\t\\t\\t\\t\\t\\tAdult, Senior\\n\\t\\t\\t\\t\\t\\t\\t\\t\\t<br/>\\n</p>',\n",
       " '<p class=\"program\">\\n\\t\\t\\t\\t\\t\\t\\t\\t\\t6:00 p - 7:00 p\\n\\t\\t\\t\\t\\t\\t\\t\\t\\t<br/>\\n<a class=\"program-popup\" href=\"#program_14800\"><strong>Lap Swim</strong></a> <br/>\\n\\t\\t\\t\\t\\t\\t\\t\\t\\tAdult, Senior\\n\\t\\t\\t\\t\\t\\t\\t\\t\\t<br/>\\n</p>',\n",
       " '<p class=\"program\">\\n\\t\\t\\t\\t\\t\\t\\t\\t\\t9:00 p - 10:00 p\\n\\t\\t\\t\\t\\t\\t\\t\\t\\t<br/>\\n<a class=\"program-popup\" href=\"#program_14800\"><strong>Lap Swim</strong></a> <br/>\\n\\t\\t\\t\\t\\t\\t\\t\\t\\tAdult, Senior\\n\\t\\t\\t\\t\\t\\t\\t\\t\\t<br/>\\n</p>',\n",
       " '<div class=\"center-hrs\">\\n<p>\\n<strong>Building Hours</strong><br/>\\n\\t\\t\\t\\t\\t\\t\\t\\t\\t\\t\\t                                                                                                \\t                                                     \\t6:30 a - 10:00 p\\n                                                    \\n                                                \\t\\t\\t\\t\\t\\t\\t\\t\\t\\t\\t\\t\\t\\t\\t\\t\\t\\t\\t\\t\\t</p>\\n</div>',\n",
       " '<p class=\"program\">\\n\\t\\t\\t\\t\\t\\t\\t\\t\\t7:00 a - 9:30 a\\n\\t\\t\\t\\t\\t\\t\\t\\t\\t<br/>\\n<a class=\"program-popup\" href=\"#program_14800\"><strong>Lap Swim</strong></a> <br/>\\n\\t\\t\\t\\t\\t\\t\\t\\t\\tAdult, Senior\\n\\t\\t\\t\\t\\t\\t\\t\\t\\t<br/>\\n</p>',\n",
       " '<p class=\"program\">\\n\\t\\t\\t\\t\\t\\t\\t\\t\\t2:00 p - 3:45 p\\n\\t\\t\\t\\t\\t\\t\\t\\t\\t<br/>\\n<a class=\"program-popup\" href=\"#program_14800\"><strong>Lap Swim</strong></a> <br/>\\n\\t\\t\\t\\t\\t\\t\\t\\t\\tAdult, Senior\\n\\t\\t\\t\\t\\t\\t\\t\\t\\t<br/>\\n</p>',\n",
       " '<p class=\"program\">\\n\\t\\t\\t\\t\\t\\t\\t\\t\\t9:00 p - 10:00 p\\n\\t\\t\\t\\t\\t\\t\\t\\t\\t<br/>\\n<a class=\"program-popup\" href=\"#program_14800\"><strong>Lap Swim</strong></a> <br/>\\n\\t\\t\\t\\t\\t\\t\\t\\t\\tAdult, Senior\\n\\t\\t\\t\\t\\t\\t\\t\\t\\t<br/>\\n</p>',\n",
       " '<div class=\"center-hrs\">\\n<p>\\n<strong>Building Hours</strong><br/>\\n\\t\\t\\t\\t\\t\\t\\t\\t\\t\\t\\t                                                                                                \\t                                                     \\t8:00 a - 4:00 p\\n                                                    \\n                                                \\t\\t\\t\\t\\t\\t\\t\\t\\t\\t\\t\\t\\t\\t\\t\\t\\t\\t\\t\\t\\t</p>\\n</div>',\n",
       " '<p class=\"program\">\\n\\t\\t\\t\\t\\t\\t\\t\\t\\t7:00 a - 8:00 a\\n\\t\\t\\t\\t\\t\\t\\t\\t\\t<br/>\\n<a class=\"program-popup\" href=\"#program_14800\"><strong>Lap Swim</strong></a> <br/>\\n\\t\\t\\t\\t\\t\\t\\t\\t\\tAdult, Senior\\n\\t\\t\\t\\t\\t\\t\\t\\t\\t<br/>\\n</p>',\n",
       " '<div class=\"center-hrs\">\\n<p>\\n<strong>Building Hours</strong><br/>\\n\\t\\t\\t\\t\\t\\t\\t\\t\\t\\t\\t                                                                                                \\t                                                     \\t8:00 a - 4:00 p\\n                                                    \\n                                                \\t\\t\\t\\t\\t\\t\\t\\t\\t\\t\\t\\t\\t\\t\\t\\t\\t\\t\\t\\t\\t</p>\\n</div>',\n",
       " '<p class=\"program\">\\n\\t\\t\\t\\t\\t\\t\\t\\t\\t8:00 a - 11:00 a\\n\\t\\t\\t\\t\\t\\t\\t\\t\\t<br/>\\n<a class=\"program-popup\" href=\"#program_14800\"><strong>Lap Swim</strong></a> <br/>\\n\\t\\t\\t\\t\\t\\t\\t\\t\\tAdult, Senior\\n\\t\\t\\t\\t\\t\\t\\t\\t\\t<br/>\\n</p>',\n",
       " '<p class=\"program\">\\n\\t\\t\\t\\t\\t\\t\\t\\t\\t3:00 p - 4:00 p\\n\\t\\t\\t\\t\\t\\t\\t\\t\\t<br/>\\n<a class=\"program-popup\" href=\"#program_14800\"><strong>Lap Swim</strong></a> <br/>\\n\\t\\t\\t\\t\\t\\t\\t\\t\\tAdult, Senior\\n\\t\\t\\t\\t\\t\\t\\t\\t\\t<br/>\\n</p>',\n",
       " '<div class=\"center-hrs\">\\n<p>\\n<strong>Building Hours</strong><br/>\\n\\t\\t\\t\\t\\t\\t\\t\\t\\t\\t\\t                                                                                                \\t                                                     \\t6:30 a - 10:00 p\\n                                                    \\n                                                \\t\\t\\t\\t\\t\\t\\t\\t\\t\\t\\t\\t\\t\\t\\t\\t\\t\\t\\t\\t\\t</p>\\n</div>']"
      ]
     },
     "execution_count": 270,
     "metadata": {},
     "output_type": "execute_result"
    }
   ],
   "source": [
    "swimposting[7:-6]"
   ]
  },
  {
   "cell_type": "code",
   "execution_count": 267,
   "metadata": {
    "collapsed": false
   },
   "outputs": [],
   "source": [
    "pools['swimming_pool'][1] = swimposting[7:-7]\n",
    "sched = {}\n",
    "count = 0\n",
    "for i in pools['swimming_pool'][1]:\n",
    "    if str(i).find('Building Hours') > 0:\n",
    "        sched[days_of_week[count]] = []\n",
    "        count = count + 1\n",
    "    if str(i).find('Lap Swim') > 0:\n",
    "        sched[days_of_week[count-1]].append(re.findall('[0-9]*:[0-9]*\\s[a-z]\\s-\\s[0-9]*:[0-9]*\\s[a-z]'  ,str(i)))\n"
   ]
  },
  {
   "cell_type": "code",
   "execution_count": 268,
   "metadata": {
    "collapsed": true
   },
   "outputs": [],
   "source": [
    "df1 = pd.DataFrame.from_dict(sched, orient='index')\n",
    "df1 = df1.transpose()\n",
    "df1['Pool'] = 'chelsea'"
   ]
  },
  {
   "cell_type": "code",
   "execution_count": 269,
   "metadata": {
    "collapsed": false
   },
   "outputs": [
    {
     "data": {
      "text/html": [
       "<div>\n",
       "<table border=\"1\" class=\"dataframe\">\n",
       "  <thead>\n",
       "    <tr style=\"text-align: right;\">\n",
       "      <th></th>\n",
       "      <th>Monday</th>\n",
       "      <th>Tuesday</th>\n",
       "      <th>Friday</th>\n",
       "      <th>Wednesday</th>\n",
       "      <th>Thursday</th>\n",
       "      <th>Sunday</th>\n",
       "      <th>Saturday</th>\n",
       "      <th>Pool</th>\n",
       "    </tr>\n",
       "  </thead>\n",
       "  <tbody>\n",
       "    <tr>\n",
       "      <th>0</th>\n",
       "      <td>[7:00 a - 10:00 a]</td>\n",
       "      <td>[7:00 a - 10:00 a]</td>\n",
       "      <td>[7:00 a - 9:30 a]</td>\n",
       "      <td>[7:00 a - 9:30 a]</td>\n",
       "      <td>[7:00 a - 10:00 a]</td>\n",
       "      <td>[8:00 a - 11:00 a]</td>\n",
       "      <td>[7:00 a - 8:00 a]</td>\n",
       "      <td>chelsea</td>\n",
       "    </tr>\n",
       "    <tr>\n",
       "      <th>1</th>\n",
       "      <td>[2:00 p - 3:45 p]</td>\n",
       "      <td>[1:00 p - 3:45 p]</td>\n",
       "      <td>[2:00 p - 3:45 p]</td>\n",
       "      <td>[2:00 p - 3:45 p]</td>\n",
       "      <td>[1:00 p - 3:45 p]</td>\n",
       "      <td>[3:00 p - 4:00 p]</td>\n",
       "      <td>None</td>\n",
       "      <td>chelsea</td>\n",
       "    </tr>\n",
       "    <tr>\n",
       "      <th>2</th>\n",
       "      <td>[9:00 p - 10:00 p]</td>\n",
       "      <td>[6:00 p - 7:00 p]</td>\n",
       "      <td>[9:00 p - 10:00 p]</td>\n",
       "      <td>[9:00 p - 10:00 p]</td>\n",
       "      <td>[6:00 p - 7:00 p]</td>\n",
       "      <td>None</td>\n",
       "      <td>None</td>\n",
       "      <td>chelsea</td>\n",
       "    </tr>\n",
       "    <tr>\n",
       "      <th>3</th>\n",
       "      <td>None</td>\n",
       "      <td>None</td>\n",
       "      <td>None</td>\n",
       "      <td>None</td>\n",
       "      <td>[9:00 p - 10:00 p]</td>\n",
       "      <td>None</td>\n",
       "      <td>None</td>\n",
       "      <td>chelsea</td>\n",
       "    </tr>\n",
       "  </tbody>\n",
       "</table>\n",
       "</div>"
      ],
      "text/plain": [
       "               Monday             Tuesday              Friday  \\\n",
       "0  [7:00 a - 10:00 a]  [7:00 a - 10:00 a]   [7:00 a - 9:30 a]   \n",
       "1   [2:00 p - 3:45 p]   [1:00 p - 3:45 p]   [2:00 p - 3:45 p]   \n",
       "2  [9:00 p - 10:00 p]   [6:00 p - 7:00 p]  [9:00 p - 10:00 p]   \n",
       "3                None                None                None   \n",
       "\n",
       "            Wednesday            Thursday              Sunday  \\\n",
       "0   [7:00 a - 9:30 a]  [7:00 a - 10:00 a]  [8:00 a - 11:00 a]   \n",
       "1   [2:00 p - 3:45 p]   [1:00 p - 3:45 p]   [3:00 p - 4:00 p]   \n",
       "2  [9:00 p - 10:00 p]   [6:00 p - 7:00 p]                None   \n",
       "3                None  [9:00 p - 10:00 p]                None   \n",
       "\n",
       "            Saturday     Pool  \n",
       "0  [7:00 a - 8:00 a]  chelsea  \n",
       "1               None  chelsea  \n",
       "2               None  chelsea  \n",
       "3               None  chelsea  "
      ]
     },
     "execution_count": 269,
     "metadata": {},
     "output_type": "execute_result"
    }
   ],
   "source": [
    "df1"
   ]
  },
  {
   "cell_type": "code",
   "execution_count": 271,
   "metadata": {
    "collapsed": true
   },
   "outputs": [],
   "source": [
    "r = urllib.urlopen(pools['website_source'][2]).read()\n",
    "soup = BeautifulSoup(r)\n",
    "letters  = soup.find_all([\"p\", \"div\"], [\"program\", \"center-hrs\"] ) \n",
    "swimposting = []\n",
    "otherposting = []\n",
    "for i in letters:\n",
    "    if str(i).find('Lap Swim') > 0:\n",
    "        swimposting.append(str(i))\n",
    "    if str(i).find('Building Hours') > 0:\n",
    "        swimposting.append(str(i))\n",
    "    else:\n",
    "        otherposting.append(str(i))"
   ]
  },
  {
   "cell_type": "code",
   "execution_count": 274,
   "metadata": {
    "collapsed": false
   },
   "outputs": [
    {
     "data": {
      "text/plain": [
       "['<div class=\"center-hrs\">\\n<p>\\n<strong>Building Hours</strong><br/>\\n\\t\\t\\t\\t\\t\\t\\t\\t\\t\\t\\t                                                                                                \\t                                                     \\t6:30 a - 9:30 p\\n                                                    \\n                                                \\t\\t\\t\\t\\t\\t\\t\\t\\t\\t\\t\\t\\t\\t\\t\\t\\t\\t\\t\\t\\t</p>\\n</div>',\n",
       " '<p class=\"program\">\\n\\t\\t\\t\\t\\t\\t\\t\\t\\t7:00 a - 9:45 a\\n\\t\\t\\t\\t\\t\\t\\t\\t\\t<br/>\\n<a class=\"program-popup\" href=\"#program_16641\"><strong>Lap Swim</strong></a> <br/>\\n\\t\\t\\t\\t\\t\\t\\t\\t\\tAdult, Senior\\n\\t\\t\\t\\t\\t\\t\\t\\t\\t<br/>\\n</p>',\n",
       " '<p class=\"program\">\\n\\t\\t\\t\\t\\t\\t\\t\\t\\t6:15 p - 9:00 p\\n\\t\\t\\t\\t\\t\\t\\t\\t\\t<br/>\\n<a class=\"program-popup\" href=\"#program_16641\"><strong>Lap Swim</strong></a> <br/>\\n\\t\\t\\t\\t\\t\\t\\t\\t\\tAdult, Senior\\n\\t\\t\\t\\t\\t\\t\\t\\t\\t<br/>\\n</p>',\n",
       " '<div class=\"center-hrs\">\\n<p>\\n<strong>Building Hours</strong><br/>\\n\\t\\t\\t\\t\\t\\t\\t\\t\\t\\t\\t                                                                                                \\t                                                     \\t6:30 a - 9:30 p\\n                                                    \\n                                                \\t\\t\\t\\t\\t\\t\\t\\t\\t\\t\\t\\t\\t\\t\\t\\t\\t\\t\\t\\t\\t</p>\\n</div>',\n",
       " '<p class=\"program\">\\n\\t\\t\\t\\t\\t\\t\\t\\t\\t7:00 a - 9:45 a\\n\\t\\t\\t\\t\\t\\t\\t\\t\\t<br/>\\n<a class=\"program-popup\" href=\"#program_16641\"><strong>Lap Swim</strong></a> <br/>\\n\\t\\t\\t\\t\\t\\t\\t\\t\\tAdult, Senior\\n\\t\\t\\t\\t\\t\\t\\t\\t\\t<br/>\\n</p>',\n",
       " '<p class=\"program\">\\n\\t\\t\\t\\t\\t\\t\\t\\t\\t12:00 p - 2:00 p\\n\\t\\t\\t\\t\\t\\t\\t\\t\\t<br/>\\n<a class=\"program-popup\" href=\"#program_16641\"><strong>Lap Swim</strong></a> <br/>\\n\\t\\t\\t\\t\\t\\t\\t\\t\\tAdult, Senior\\n\\t\\t\\t\\t\\t\\t\\t\\t\\t<br/>\\n</p>',\n",
       " '<p class=\"program\">\\n\\t\\t\\t\\t\\t\\t\\t\\t\\t6:15 p - 9:00 p\\n\\t\\t\\t\\t\\t\\t\\t\\t\\t<br/>\\n<a class=\"program-popup\" href=\"#program_16641\"><strong>Lap Swim</strong></a> <br/>\\n\\t\\t\\t\\t\\t\\t\\t\\t\\tAdult, Senior\\n\\t\\t\\t\\t\\t\\t\\t\\t\\t<br/>\\n</p>',\n",
       " '<div class=\"center-hrs\">\\n<p>\\n<strong>Building Hours</strong><br/>\\n\\t\\t\\t\\t\\t\\t\\t\\t\\t\\t\\t                                                                                                \\t                                                     \\t6:30 a - 9:30 p\\n                                                    \\n                                                \\t\\t\\t\\t\\t\\t\\t\\t\\t\\t\\t\\t\\t\\t\\t\\t\\t\\t\\t\\t\\t</p>\\n</div>',\n",
       " '<p class=\"program\">\\n\\t\\t\\t\\t\\t\\t\\t\\t\\t7:00 a - 9:45 a\\n\\t\\t\\t\\t\\t\\t\\t\\t\\t<br/>\\n<a class=\"program-popup\" href=\"#program_16641\"><strong>Lap Swim</strong></a> <br/>\\n\\t\\t\\t\\t\\t\\t\\t\\t\\tAdult, Senior\\n\\t\\t\\t\\t\\t\\t\\t\\t\\t<br/>\\n</p>',\n",
       " '<p class=\"program\">\\n\\t\\t\\t\\t\\t\\t\\t\\t\\t6:15 p - 9:00 p\\n\\t\\t\\t\\t\\t\\t\\t\\t\\t<br/>\\n<a class=\"program-popup\" href=\"#program_16641\"><strong>Lap Swim</strong></a> <br/>\\n\\t\\t\\t\\t\\t\\t\\t\\t\\tAdult, Senior\\n\\t\\t\\t\\t\\t\\t\\t\\t\\t<br/>\\n</p>',\n",
       " '<div class=\"center-hrs\">\\n<p>\\n<strong>Building Hours</strong><br/>\\n\\t\\t\\t\\t\\t\\t\\t\\t\\t\\t\\t                                                                                                \\t                                                     \\t6:30 a - 9:30 p\\n                                                    \\n                                                \\t\\t\\t\\t\\t\\t\\t\\t\\t\\t\\t\\t\\t\\t\\t\\t\\t\\t\\t\\t\\t</p>\\n</div>',\n",
       " '<p class=\"program\">\\n\\t\\t\\t\\t\\t\\t\\t\\t\\t7:00 a - 9:45 a\\n\\t\\t\\t\\t\\t\\t\\t\\t\\t<br/>\\n<a class=\"program-popup\" href=\"#program_16641\"><strong>Lap Swim</strong></a> <br/>\\n\\t\\t\\t\\t\\t\\t\\t\\t\\tAdult, Senior\\n\\t\\t\\t\\t\\t\\t\\t\\t\\t<br/>\\n</p>',\n",
       " '<p class=\"program\">\\n\\t\\t\\t\\t\\t\\t\\t\\t\\t12:00 p - 2:00 p\\n\\t\\t\\t\\t\\t\\t\\t\\t\\t<br/>\\n<a class=\"program-popup\" href=\"#program_16641\"><strong>Lap Swim</strong></a> <br/>\\n\\t\\t\\t\\t\\t\\t\\t\\t\\tAdult, Senior\\n\\t\\t\\t\\t\\t\\t\\t\\t\\t<br/>\\n</p>',\n",
       " '<p class=\"program\">\\n\\t\\t\\t\\t\\t\\t\\t\\t\\t6:15 p - 9:00 p\\n\\t\\t\\t\\t\\t\\t\\t\\t\\t<br/>\\n<a class=\"program-popup\" href=\"#program_16641\"><strong>Lap Swim</strong></a> <br/>\\n\\t\\t\\t\\t\\t\\t\\t\\t\\tAdult, Senior\\n\\t\\t\\t\\t\\t\\t\\t\\t\\t<br/>\\n</p>',\n",
       " '<div class=\"center-hrs\">\\n<p>\\n<strong>Building Hours</strong><br/>\\n\\t\\t\\t\\t\\t\\t\\t\\t\\t\\t\\t                                                                                                \\t                                                     \\t6:30 a - 9:30 p\\n                                                    \\n                                                \\t\\t\\t\\t\\t\\t\\t\\t\\t\\t\\t\\t\\t\\t\\t\\t\\t\\t\\t\\t\\t</p>\\n</div>',\n",
       " '<p class=\"program\">\\n\\t\\t\\t\\t\\t\\t\\t\\t\\t7:00 a - 9:45 a\\n\\t\\t\\t\\t\\t\\t\\t\\t\\t<br/>\\n<a class=\"program-popup\" href=\"#program_16641\"><strong>Lap Swim</strong></a> <br/>\\n\\t\\t\\t\\t\\t\\t\\t\\t\\tAdult, Senior\\n\\t\\t\\t\\t\\t\\t\\t\\t\\t<br/>\\n</p>',\n",
       " '<p class=\"program\">\\n\\t\\t\\t\\t\\t\\t\\t\\t\\t1:00 p - 3:45 p\\n\\t\\t\\t\\t\\t\\t\\t\\t\\t<br/>\\n<a class=\"program-popup\" href=\"#program_16641\"><strong>Lap Swim</strong></a> <br/>\\n\\t\\t\\t\\t\\t\\t\\t\\t\\tAdult, Senior\\n\\t\\t\\t\\t\\t\\t\\t\\t\\t<br/>\\n</p>',\n",
       " '<p class=\"program\">\\n\\t\\t\\t\\t\\t\\t\\t\\t\\t7:15 p - 9:00 p\\n\\t\\t\\t\\t\\t\\t\\t\\t\\t<br/>\\n<a class=\"program-popup\" href=\"#program_16641\"><strong>Lap Swim</strong></a> <br/>\\n\\t\\t\\t\\t\\t\\t\\t\\t\\tAdult, Senior\\n\\t\\t\\t\\t\\t\\t\\t\\t\\t<br/>\\n</p>',\n",
       " '<div class=\"center-hrs\">\\n<p>\\n<strong>Building Hours</strong><br/>\\n\\t\\t\\t\\t\\t\\t\\t\\t\\t\\t\\t                                                                                                \\t                                                     \\t8:00 a - 4:00 p\\n                                                    \\n                                                \\t\\t\\t\\t\\t\\t\\t\\t\\t\\t\\t\\t\\t\\t\\t\\t\\t\\t\\t\\t\\t</p>\\n</div>',\n",
       " '<p class=\"program\">\\n\\t\\t\\t\\t\\t\\t\\t\\t\\t8:00 a - 9:45 a\\n\\t\\t\\t\\t\\t\\t\\t\\t\\t<br/>\\n<a class=\"program-popup\" href=\"#program_16641\"><strong>Lap Swim</strong></a> <br/>\\n\\t\\t\\t\\t\\t\\t\\t\\t\\tAdult, Senior\\n\\t\\t\\t\\t\\t\\t\\t\\t\\t<br/>\\n</p>',\n",
       " '<div class=\"center-hrs\">\\n<p>\\n<strong>Building Hours</strong><br/>\\n\\t\\t\\t\\t\\t\\t\\t\\t\\t\\t\\t                                                                                                \\t                                                     \\t8:00 a - 4:00 p\\n                                                    \\n                                                \\t\\t\\t\\t\\t\\t\\t\\t\\t\\t\\t\\t\\t\\t\\t\\t\\t\\t\\t\\t\\t</p>\\n</div>']"
      ]
     },
     "execution_count": 274,
     "metadata": {},
     "output_type": "execute_result"
    }
   ],
   "source": [
    "swimposting[7:-7]"
   ]
  },
  {
   "cell_type": "code",
   "execution_count": 276,
   "metadata": {
    "collapsed": true
   },
   "outputs": [],
   "source": [
    "pools['swimming_pool'][2] = swimposting[7:-7]\n",
    "sched = {}\n",
    "count = 0\n",
    "for i in pools['swimming_pool'][2]:\n",
    "    if str(i).find('Building Hours') > 0:\n",
    "        sched[days_of_week[count]] = []\n",
    "        count = count + 1\n",
    "    if str(i).find('Lap Swim') > 0:\n",
    "        sched[days_of_week[count-1]].append(re.findall('[0-9]*:[0-9]*\\s[a-z]\\s-\\s[0-9]*:[0-9]*\\s[a-z]'  ,str(i)))\n",
    "\n",
    "        "
   ]
  },
  {
   "cell_type": "code",
   "execution_count": 281,
   "metadata": {
    "collapsed": true
   },
   "outputs": [],
   "source": [
    "df2 = pd.DataFrame.from_dict(sched, orient='index')\n",
    "df2 = df2.transpose()\n",
    "df2['Pool'] = 'Gertrude Eredel'"
   ]
  },
  {
   "cell_type": "code",
   "execution_count": 282,
   "metadata": {
    "collapsed": false
   },
   "outputs": [
    {
     "data": {
      "text/html": [
       "<div>\n",
       "<table border=\"1\" class=\"dataframe\">\n",
       "  <thead>\n",
       "    <tr style=\"text-align: right;\">\n",
       "      <th></th>\n",
       "      <th>Monday</th>\n",
       "      <th>Tuesday</th>\n",
       "      <th>Friday</th>\n",
       "      <th>Wednesday</th>\n",
       "      <th>Thursday</th>\n",
       "      <th>Sunday</th>\n",
       "      <th>Saturday</th>\n",
       "      <th>Pool</th>\n",
       "    </tr>\n",
       "  </thead>\n",
       "  <tbody>\n",
       "    <tr>\n",
       "      <th>0</th>\n",
       "      <td>[7:00 a - 9:45 a]</td>\n",
       "      <td>[7:00 a - 9:45 a]</td>\n",
       "      <td>[7:00 a - 9:45 a]</td>\n",
       "      <td>[7:00 a - 9:45 a]</td>\n",
       "      <td>[7:00 a - 9:45 a]</td>\n",
       "      <td>None</td>\n",
       "      <td>[8:00 a - 9:45 a]</td>\n",
       "      <td>Gertrude Eredel</td>\n",
       "    </tr>\n",
       "    <tr>\n",
       "      <th>1</th>\n",
       "      <td>[6:15 p - 9:00 p]</td>\n",
       "      <td>[12:00 p - 2:00 p]</td>\n",
       "      <td>[1:00 p - 3:45 p]</td>\n",
       "      <td>[6:15 p - 9:00 p]</td>\n",
       "      <td>[12:00 p - 2:00 p]</td>\n",
       "      <td>None</td>\n",
       "      <td>None</td>\n",
       "      <td>Gertrude Eredel</td>\n",
       "    </tr>\n",
       "    <tr>\n",
       "      <th>2</th>\n",
       "      <td>None</td>\n",
       "      <td>[6:15 p - 9:00 p]</td>\n",
       "      <td>[7:15 p - 9:00 p]</td>\n",
       "      <td>None</td>\n",
       "      <td>[6:15 p - 9:00 p]</td>\n",
       "      <td>None</td>\n",
       "      <td>None</td>\n",
       "      <td>Gertrude Eredel</td>\n",
       "    </tr>\n",
       "  </tbody>\n",
       "</table>\n",
       "</div>"
      ],
      "text/plain": [
       "              Monday             Tuesday             Friday  \\\n",
       "0  [7:00 a - 9:45 a]   [7:00 a - 9:45 a]  [7:00 a - 9:45 a]   \n",
       "1  [6:15 p - 9:00 p]  [12:00 p - 2:00 p]  [1:00 p - 3:45 p]   \n",
       "2               None   [6:15 p - 9:00 p]  [7:15 p - 9:00 p]   \n",
       "\n",
       "           Wednesday            Thursday Sunday           Saturday  \\\n",
       "0  [7:00 a - 9:45 a]   [7:00 a - 9:45 a]   None  [8:00 a - 9:45 a]   \n",
       "1  [6:15 p - 9:00 p]  [12:00 p - 2:00 p]   None               None   \n",
       "2               None   [6:15 p - 9:00 p]   None               None   \n",
       "\n",
       "              Pool  \n",
       "0  Gertrude Eredel  \n",
       "1  Gertrude Eredel  \n",
       "2  Gertrude Eredel  "
      ]
     },
     "execution_count": 282,
     "metadata": {},
     "output_type": "execute_result"
    }
   ],
   "source": [
    "df2"
   ]
  },
  {
   "cell_type": "code",
   "execution_count": 283,
   "metadata": {
    "collapsed": true
   },
   "outputs": [],
   "source": [
    "r = urllib.urlopen(pools['website_source'][3]).read()\n",
    "soup = BeautifulSoup(r)\n",
    "letters  = soup.find_all([\"p\", \"div\"], [\"program\", \"center-hrs\"] ) \n",
    "swimposting = []\n",
    "otherposting = []\n",
    "for i in letters:\n",
    "    if str(i).find('Lap Swim') > 0:\n",
    "        swimposting.append(str(i))\n",
    "    if str(i).find('Building Hours') > 0:\n",
    "        swimposting.append(str(i))\n",
    "    else:\n",
    "        otherposting.append(str(i))"
   ]
  },
  {
   "cell_type": "code",
   "execution_count": 285,
   "metadata": {
    "collapsed": false
   },
   "outputs": [
    {
     "data": {
      "text/plain": [
       "['<div class=\"center-hrs\">\\n<p>\\n<strong>Building Hours</strong><br/>\\n\\t\\t\\t\\t\\t\\t\\t\\t\\t\\t\\t                                                                                                \\t                                                     \\t6:30 a - 9:15 p\\n                                                    \\n                                                \\t\\t\\t\\t\\t\\t\\t\\t\\t\\t\\t\\t\\t\\t\\t\\t\\t\\t\\t\\t\\t</p>\\n</div>',\n",
       " '<p class=\"program\">\\n\\t\\t\\t\\t\\t\\t\\t\\t\\t7:00 a - 8:45 a\\n\\t\\t\\t\\t\\t\\t\\t\\t\\t<br/>\\n<a class=\"program-popup\" href=\"#program_17138\"><strong>Adult Lap Swim</strong></a> <br/>\\n\\t\\t\\t\\t\\t\\t\\t\\t\\tAdult, Senior\\n\\t\\t\\t\\t\\t\\t\\t\\t\\t<br/>\\n</p>',\n",
       " '<p class=\"program\">\\n\\t\\t\\t\\t\\t\\t\\t\\t\\t2:00 p - 3:00 p\\n\\t\\t\\t\\t\\t\\t\\t\\t\\t<br/>\\n<a class=\"program-popup\" href=\"#program_17138\"><strong>Adult Lap Swim</strong></a> <br/>\\n\\t\\t\\t\\t\\t\\t\\t\\t\\tAdult, Senior\\n\\t\\t\\t\\t\\t\\t\\t\\t\\t<br/>\\n</p>',\n",
       " '<p class=\"program\">\\n\\t\\t\\t\\t\\t\\t\\t\\t\\t7:15 p - 9:00 p\\n\\t\\t\\t\\t\\t\\t\\t\\t\\t<br/>\\n<a class=\"program-popup\" href=\"#program_17138\"><strong>Adult Lap Swim</strong></a> <br/>\\n\\t\\t\\t\\t\\t\\t\\t\\t\\tAdult, Senior\\n\\t\\t\\t\\t\\t\\t\\t\\t\\t<br/>\\n</p>',\n",
       " '<div class=\"center-hrs\">\\n<p>\\n<strong>Building Hours</strong><br/>\\n\\t\\t\\t\\t\\t\\t\\t\\t\\t\\t\\t                                                                                                \\t                                                     \\t6:30 a - 9:15 p\\n                                                    \\n                                                \\t\\t\\t\\t\\t\\t\\t\\t\\t\\t\\t\\t\\t\\t\\t\\t\\t\\t\\t\\t\\t</p>\\n</div>',\n",
       " '<p class=\"program\">\\n\\t\\t\\t\\t\\t\\t\\t\\t\\t9:00 a - 10:00 a\\n\\t\\t\\t\\t\\t\\t\\t\\t\\t<br/>\\n<a class=\"program-popup\" href=\"#program_17138\"><strong>Adult Lap Swim</strong></a> <br/>\\n\\t\\t\\t\\t\\t\\t\\t\\t\\tAdult, Senior\\n\\t\\t\\t\\t\\t\\t\\t\\t\\t<br/>\\n</p>',\n",
       " '<p class=\"program\">\\n\\t\\t\\t\\t\\t\\t\\t\\t\\t1:15 p - 3:45 p\\n\\t\\t\\t\\t\\t\\t\\t\\t\\t<br/>\\n<a class=\"program-popup\" href=\"#program_17138\"><strong>Adult Lap Swim</strong></a> <br/>\\n\\t\\t\\t\\t\\t\\t\\t\\t\\tAdult, Senior\\n\\t\\t\\t\\t\\t\\t\\t\\t\\t<br/>\\n</p>',\n",
       " '<p class=\"program\">\\n\\t\\t\\t\\t\\t\\t\\t\\t\\t7:15 p - 9:00 p\\n\\t\\t\\t\\t\\t\\t\\t\\t\\t<br/>\\n<a class=\"program-popup\" href=\"#program_17138\"><strong>Adult Lap Swim</strong></a> <br/>\\n\\t\\t\\t\\t\\t\\t\\t\\t\\tAdult, Senior\\n\\t\\t\\t\\t\\t\\t\\t\\t\\t<br/>\\n</p>',\n",
       " '<div class=\"center-hrs\">\\n<p>\\n<strong>Building Hours</strong><br/>\\n\\t\\t\\t\\t\\t\\t\\t\\t\\t\\t\\t                                                                                                \\t                                                     \\t6:30 a - 9:15 p\\n                                                    \\n                                                \\t\\t\\t\\t\\t\\t\\t\\t\\t\\t\\t\\t\\t\\t\\t\\t\\t\\t\\t\\t\\t</p>\\n</div>',\n",
       " '<p class=\"program\">\\n\\t\\t\\t\\t\\t\\t\\t\\t\\t7:00 a - 8:45 a\\n\\t\\t\\t\\t\\t\\t\\t\\t\\t<br/>\\n<a class=\"program-popup\" href=\"#program_17138\"><strong>Adult Lap Swim</strong></a> <br/>\\n\\t\\t\\t\\t\\t\\t\\t\\t\\tAdult, Senior\\n\\t\\t\\t\\t\\t\\t\\t\\t\\t<br/>\\n</p>',\n",
       " '<p class=\"program\">\\n\\t\\t\\t\\t\\t\\t\\t\\t\\t2:00 p - 3:00 p\\n\\t\\t\\t\\t\\t\\t\\t\\t\\t<br/>\\n<a class=\"program-popup\" href=\"#program_17138\"><strong>Adult Lap Swim</strong></a> <br/>\\n\\t\\t\\t\\t\\t\\t\\t\\t\\tAdult, Senior\\n\\t\\t\\t\\t\\t\\t\\t\\t\\t<br/>\\n</p>',\n",
       " '<p class=\"program\">\\n\\t\\t\\t\\t\\t\\t\\t\\t\\t7:15 p - 9:00 p\\n\\t\\t\\t\\t\\t\\t\\t\\t\\t<br/>\\n<a class=\"program-popup\" href=\"#program_17138\"><strong>Adult Lap Swim</strong></a> <br/>\\n\\t\\t\\t\\t\\t\\t\\t\\t\\tAdult, Senior\\n\\t\\t\\t\\t\\t\\t\\t\\t\\t<br/>\\n</p>',\n",
       " '<div class=\"center-hrs\">\\n<p>\\n<strong>Building Hours</strong><br/>\\n\\t\\t\\t\\t\\t\\t\\t\\t\\t\\t\\t                                                                                                \\t                                                     \\t6:30 a - 9:15 p\\n                                                    \\n                                                \\t\\t\\t\\t\\t\\t\\t\\t\\t\\t\\t\\t\\t\\t\\t\\t\\t\\t\\t\\t\\t</p>\\n</div>',\n",
       " '<p class=\"program\">\\n\\t\\t\\t\\t\\t\\t\\t\\t\\t9:00 a - 10:00 a\\n\\t\\t\\t\\t\\t\\t\\t\\t\\t<br/>\\n<a class=\"program-popup\" href=\"#program_17138\"><strong>Adult Lap Swim</strong></a> <br/>\\n\\t\\t\\t\\t\\t\\t\\t\\t\\tAdult, Senior\\n\\t\\t\\t\\t\\t\\t\\t\\t\\t<br/>\\n</p>',\n",
       " '<p class=\"program\">\\n\\t\\t\\t\\t\\t\\t\\t\\t\\t1:15 p - 3:45 p\\n\\t\\t\\t\\t\\t\\t\\t\\t\\t<br/>\\n<a class=\"program-popup\" href=\"#program_17138\"><strong>Adult Lap Swim</strong></a> <br/>\\n\\t\\t\\t\\t\\t\\t\\t\\t\\tAdult, Senior\\n\\t\\t\\t\\t\\t\\t\\t\\t\\t<br/>\\n</p>',\n",
       " '<p class=\"program\">\\n\\t\\t\\t\\t\\t\\t\\t\\t\\t7:15 p - 9:00 p\\n\\t\\t\\t\\t\\t\\t\\t\\t\\t<br/>\\n<a class=\"program-popup\" href=\"#program_17138\"><strong>Adult Lap Swim</strong></a> <br/>\\n\\t\\t\\t\\t\\t\\t\\t\\t\\tAdult, Senior\\n\\t\\t\\t\\t\\t\\t\\t\\t\\t<br/>\\n</p>',\n",
       " '<div class=\"center-hrs\">\\n<p>\\n<strong>Building Hours</strong><br/>\\n\\t\\t\\t\\t\\t\\t\\t\\t\\t\\t\\t                                                                                                \\t                                                     \\t6:30 a - 9:15 p\\n                                                    \\n                                                \\t\\t\\t\\t\\t\\t\\t\\t\\t\\t\\t\\t\\t\\t\\t\\t\\t\\t\\t\\t\\t</p>\\n</div>',\n",
       " '<p class=\"program\">\\n\\t\\t\\t\\t\\t\\t\\t\\t\\t7:00 a - 8:45 a\\n\\t\\t\\t\\t\\t\\t\\t\\t\\t<br/>\\n<a class=\"program-popup\" href=\"#program_17138\"><strong>Adult Lap Swim</strong></a> <br/>\\n\\t\\t\\t\\t\\t\\t\\t\\t\\tAdult, Senior\\n\\t\\t\\t\\t\\t\\t\\t\\t\\t<br/>\\n</p>',\n",
       " '<p class=\"program\">\\n\\t\\t\\t\\t\\t\\t\\t\\t\\t3:00 p - 4:15 p\\n\\t\\t\\t\\t\\t\\t\\t\\t\\t<br/>\\n<a class=\"program-popup\" href=\"#program_17138\"><strong>Adult Lap Swim</strong></a> <br/>\\n\\t\\t\\t\\t\\t\\t\\t\\t\\tAdult, Senior\\n\\t\\t\\t\\t\\t\\t\\t\\t\\t<br/>\\n</p>',\n",
       " '<p class=\"program\">\\n\\t\\t\\t\\t\\t\\t\\t\\t\\t7:15 p - 9:00 p\\n\\t\\t\\t\\t\\t\\t\\t\\t\\t<br/>\\n<a class=\"program-popup\" href=\"#program_17138\"><strong>Adult Lap Swim</strong></a> <br/>\\n\\t\\t\\t\\t\\t\\t\\t\\t\\tAdult, Senior\\n\\t\\t\\t\\t\\t\\t\\t\\t\\t<br/>\\n</p>',\n",
       " '<div class=\"center-hrs\">\\n<p>\\n<strong>Building Hours</strong><br/>\\n\\t\\t\\t\\t\\t\\t\\t\\t\\t\\t\\t                                                                                                \\t                                                     \\t8:30 a - 4:15 p\\n                                                    \\n                                                \\t\\t\\t\\t\\t\\t\\t\\t\\t\\t\\t\\t\\t\\t\\t\\t\\t\\t\\t\\t\\t</p>\\n</div>',\n",
       " '<p class=\"program\">\\n\\t\\t\\t\\t\\t\\t\\t\\t\\t3:00 p - 4:00 p\\n\\t\\t\\t\\t\\t\\t\\t\\t\\t<br/>\\n<a class=\"program-popup\" href=\"#program_17138\"><strong>Adult Lap Swim</strong></a> <br/>\\n\\t\\t\\t\\t\\t\\t\\t\\t\\tAdult, Senior\\n\\t\\t\\t\\t\\t\\t\\t\\t\\t<br/>\\n</p>',\n",
       " '<div class=\"center-hrs\">\\n<p>\\n<strong>Building Hours</strong><br/>\\n\\t\\t\\t\\t\\t\\t\\t\\t\\t\\t\\t                                                                                                \\t                                                    \\tClosed\\n                                                     \\n                                                \\t\\t\\t\\t\\t\\t\\t\\t\\t\\t\\t\\t\\t\\t\\t\\t\\t\\t\\t\\t\\t</p>\\n</div>']"
      ]
     },
     "execution_count": 285,
     "metadata": {},
     "output_type": "execute_result"
    }
   ],
   "source": [
    "swimposting[7:-7]\n"
   ]
  },
  {
   "cell_type": "code",
   "execution_count": 286,
   "metadata": {
    "collapsed": true
   },
   "outputs": [],
   "source": [
    "pools['swimming_pool'][3] = swimposting[7:-7]\n",
    "sched = {}\n",
    "count = 0\n",
    "for i in pools['swimming_pool'][3]:\n",
    "    if str(i).find('Building Hours') > 0:\n",
    "        sched[days_of_week[count]] = []\n",
    "        count = count + 1\n",
    "    if str(i).find('Lap Swim') > 0:\n",
    "        sched[days_of_week[count-1]].append(re.findall('[0-9]*:[0-9]*\\s[a-z]\\s-\\s[0-9]*:[0-9]*\\s[a-z]'  ,str(i)))\n",
    "\n",
    "        "
   ]
  },
  {
   "cell_type": "code",
   "execution_count": 287,
   "metadata": {
    "collapsed": true
   },
   "outputs": [],
   "source": [
    "df3 = pd.DataFrame.from_dict(sched, orient='index')\n",
    "df3 = df3.transpose()\n",
    "df3['Pool'] = 'Hansborough'"
   ]
  },
  {
   "cell_type": "code",
   "execution_count": 414,
   "metadata": {
    "collapsed": true
   },
   "outputs": [],
   "source": [
    "cols = df3.columns.tolist()\n"
   ]
  },
  {
   "cell_type": "code",
   "execution_count": 415,
   "metadata": {
    "collapsed": true
   },
   "outputs": [],
   "source": [
    "cols = cols[-1:] + cols[:-1]"
   ]
  },
  {
   "cell_type": "code",
   "execution_count": 416,
   "metadata": {
    "collapsed": false
   },
   "outputs": [],
   "source": [
    "df3 = df3[cols]"
   ]
  },
  {
   "cell_type": "code",
   "execution_count": 418,
   "metadata": {
    "collapsed": true
   },
   "outputs": [],
   "source": [
    "cols = ['Pool', 'Monday','Tuesday', 'Wednesday','Thursday','Friday','Saturday','Sunday']"
   ]
  },
  {
   "cell_type": "code",
   "execution_count": 419,
   "metadata": {
    "collapsed": false
   },
   "outputs": [],
   "source": [
    "df3 = df3[cols]"
   ]
  },
  {
   "cell_type": "code",
   "execution_count": 420,
   "metadata": {
    "collapsed": false
   },
   "outputs": [
    {
     "data": {
      "text/html": [
       "<div>\n",
       "<table border=\"1\" class=\"dataframe\">\n",
       "  <thead>\n",
       "    <tr style=\"text-align: right;\">\n",
       "      <th></th>\n",
       "      <th>Pool</th>\n",
       "      <th>Monday</th>\n",
       "      <th>Tuesday</th>\n",
       "      <th>Wednesday</th>\n",
       "      <th>Thursday</th>\n",
       "      <th>Friday</th>\n",
       "      <th>Saturday</th>\n",
       "      <th>Sunday</th>\n",
       "    </tr>\n",
       "  </thead>\n",
       "  <tbody>\n",
       "    <tr>\n",
       "      <th>0</th>\n",
       "      <td>Hansborough</td>\n",
       "      <td>[7:00 a - 8:45 a]</td>\n",
       "      <td>[9:00 a - 10:00 a]</td>\n",
       "      <td>[7:00 a - 8:45 a]</td>\n",
       "      <td>[9:00 a - 10:00 a]</td>\n",
       "      <td>[7:00 a - 8:45 a]</td>\n",
       "      <td>[3:00 p - 4:00 p]</td>\n",
       "      <td>None</td>\n",
       "    </tr>\n",
       "    <tr>\n",
       "      <th>1</th>\n",
       "      <td>Hansborough</td>\n",
       "      <td>[2:00 p - 3:00 p]</td>\n",
       "      <td>[1:15 p - 3:45 p]</td>\n",
       "      <td>[2:00 p - 3:00 p]</td>\n",
       "      <td>[1:15 p - 3:45 p]</td>\n",
       "      <td>[3:00 p - 4:15 p]</td>\n",
       "      <td>None</td>\n",
       "      <td>None</td>\n",
       "    </tr>\n",
       "    <tr>\n",
       "      <th>2</th>\n",
       "      <td>Hansborough</td>\n",
       "      <td>[7:15 p - 9:00 p]</td>\n",
       "      <td>[7:15 p - 9:00 p]</td>\n",
       "      <td>[7:15 p - 9:00 p]</td>\n",
       "      <td>[7:15 p - 9:00 p]</td>\n",
       "      <td>[7:15 p - 9:00 p]</td>\n",
       "      <td>None</td>\n",
       "      <td>None</td>\n",
       "    </tr>\n",
       "  </tbody>\n",
       "</table>\n",
       "</div>"
      ],
      "text/plain": [
       "          Pool             Monday             Tuesday          Wednesday  \\\n",
       "0  Hansborough  [7:00 a - 8:45 a]  [9:00 a - 10:00 a]  [7:00 a - 8:45 a]   \n",
       "1  Hansborough  [2:00 p - 3:00 p]   [1:15 p - 3:45 p]  [2:00 p - 3:00 p]   \n",
       "2  Hansborough  [7:15 p - 9:00 p]   [7:15 p - 9:00 p]  [7:15 p - 9:00 p]   \n",
       "\n",
       "             Thursday             Friday           Saturday Sunday  \n",
       "0  [9:00 a - 10:00 a]  [7:00 a - 8:45 a]  [3:00 p - 4:00 p]   None  \n",
       "1   [1:15 p - 3:45 p]  [3:00 p - 4:15 p]               None   None  \n",
       "2   [7:15 p - 9:00 p]  [7:15 p - 9:00 p]               None   None  "
      ]
     },
     "execution_count": 420,
     "metadata": {},
     "output_type": "execute_result"
    }
   ],
   "source": [
    "df3"
   ]
  },
  {
   "cell_type": "code",
   "execution_count": 397,
   "metadata": {
    "collapsed": false
   },
   "outputs": [],
   "source": [
    "r = urllib.urlopen(pools['website_source'][11]).read()\n",
    "soup = BeautifulSoup(r)\n",
    "letters  = soup.find_all([\"p\", \"div\"], [\"program\", \"center-hrs\"] ) \n",
    "swimposting = []\n",
    "otherposting = []\n",
    "for i in letters:\n",
    "    if str(i).find('Adult Lap Swim') > 0:\n",
    "        swimposting.append(str(i))\n",
    "    if str(i).find('Building Hours') > 0:\n",
    "        swimposting.append(str(i))\n",
    "    else:\n",
    "        otherposting.append(str(i))\n",
    " "
   ]
  },
  {
   "cell_type": "code",
   "execution_count": 399,
   "metadata": {
    "collapsed": false
   },
   "outputs": [
    {
     "data": {
      "text/plain": [
       "['<div class=\"center-hrs\">\\n<p>\\n<strong>Building Hours</strong><br/>\\n\\t\\t\\t\\t\\t\\t\\t\\t\\t\\t\\t                                                                                                \\t                                                     \\t6:30 a - 9:30 p\\n                                                    \\n                                                \\t\\t\\t\\t\\t\\t\\t\\t\\t\\t\\t\\t\\t\\t\\t\\t\\t\\t\\t\\t\\t</p>\\n</div>',\n",
       " '<p class=\"program\">\\n\\t\\t\\t\\t\\t\\t\\t\\t\\t7:00 a - 9:45 a\\n\\t\\t\\t\\t\\t\\t\\t\\t\\t<br/>\\n<a class=\"program-popup\" href=\"#program_16669\"><strong>Adult Lap Swim</strong></a> <br/>\\n\\t\\t\\t\\t\\t\\t\\t\\t\\tAdult, Senior\\n\\t\\t\\t\\t\\t\\t\\t\\t\\t<br/>\\n</p>',\n",
       " '<p class=\"program\">\\n\\t\\t\\t\\t\\t\\t\\t\\t\\t12:15 p - 3:00 p\\n\\t\\t\\t\\t\\t\\t\\t\\t\\t<br/>\\n<a class=\"program-popup\" href=\"#program_16669\"><strong>Adult Lap Swim</strong></a> <br/>\\n\\t\\t\\t\\t\\t\\t\\t\\t\\tAdult, Senior\\n\\t\\t\\t\\t\\t\\t\\t\\t\\t<br/>\\n</p>',\n",
       " '<p class=\"program\">\\n\\t\\t\\t\\t\\t\\t\\t\\t\\t7:15 p - 9:00 p\\n\\t\\t\\t\\t\\t\\t\\t\\t\\t<br/>\\n<a class=\"program-popup\" href=\"#program_16669\"><strong>Adult Lap Swim</strong></a> <br/>\\n\\t\\t\\t\\t\\t\\t\\t\\t\\tAdult, Senior\\n\\t\\t\\t\\t\\t\\t\\t\\t\\t<br/>\\n</p>',\n",
       " '<div class=\"center-hrs\">\\n<p>\\n<strong>Building Hours</strong><br/>\\n\\t\\t\\t\\t\\t\\t\\t\\t\\t\\t\\t                                                                                                \\t                                                     \\t6:30 a - 9:30 p\\n                                                    \\n                                                \\t\\t\\t\\t\\t\\t\\t\\t\\t\\t\\t\\t\\t\\t\\t\\t\\t\\t\\t\\t\\t</p>\\n</div>',\n",
       " '<p class=\"program\">\\n\\t\\t\\t\\t\\t\\t\\t\\t\\t7:00 a - 9:45 a\\n\\t\\t\\t\\t\\t\\t\\t\\t\\t<br/>\\n<a class=\"program-popup\" href=\"#program_16669\"><strong>Adult Lap Swim</strong></a> <br/>\\n\\t\\t\\t\\t\\t\\t\\t\\t\\tAdult, Senior\\n\\t\\t\\t\\t\\t\\t\\t\\t\\t<br/>\\n</p>',\n",
       " '<p class=\"program\">\\n\\t\\t\\t\\t\\t\\t\\t\\t\\t12:15 p - 3:00 p\\n\\t\\t\\t\\t\\t\\t\\t\\t\\t<br/>\\n<a class=\"program-popup\" href=\"#program_16669\"><strong>Adult Lap Swim</strong></a> <br/>\\n\\t\\t\\t\\t\\t\\t\\t\\t\\tAdult, Senior\\n\\t\\t\\t\\t\\t\\t\\t\\t\\t<br/>\\n</p>',\n",
       " '<p class=\"program\">\\n\\t\\t\\t\\t\\t\\t\\t\\t\\t7:45 p - 9:00 p\\n\\t\\t\\t\\t\\t\\t\\t\\t\\t<br/>\\n<a class=\"program-popup\" href=\"#program_16669\"><strong>Adult Lap Swim</strong></a> <br/>\\n\\t\\t\\t\\t\\t\\t\\t\\t\\tAdult, Senior\\n\\t\\t\\t\\t\\t\\t\\t\\t\\t<br/>\\n</p>',\n",
       " '<div class=\"center-hrs\">\\n<p>\\n<strong>Building Hours</strong><br/>\\n\\t\\t\\t\\t\\t\\t\\t\\t\\t\\t\\t                                                                                                \\t                                                     \\t6:30 a - 9:30 p\\n                                                    \\n                                                \\t\\t\\t\\t\\t\\t\\t\\t\\t\\t\\t\\t\\t\\t\\t\\t\\t\\t\\t\\t\\t</p>\\n</div>',\n",
       " '<p class=\"program\">\\n\\t\\t\\t\\t\\t\\t\\t\\t\\t7:00 a - 9:45 a\\n\\t\\t\\t\\t\\t\\t\\t\\t\\t<br/>\\n<a class=\"program-popup\" href=\"#program_16669\"><strong>Adult Lap Swim</strong></a> <br/>\\n\\t\\t\\t\\t\\t\\t\\t\\t\\tAdult, Senior\\n\\t\\t\\t\\t\\t\\t\\t\\t\\t<br/>\\n</p>',\n",
       " '<p class=\"program\">\\n\\t\\t\\t\\t\\t\\t\\t\\t\\t12:15 p - 3:00 p\\n\\t\\t\\t\\t\\t\\t\\t\\t\\t<br/>\\n<a class=\"program-popup\" href=\"#program_16669\"><strong>Adult Lap Swim</strong></a> <br/>\\n\\t\\t\\t\\t\\t\\t\\t\\t\\tAdult, Senior\\n\\t\\t\\t\\t\\t\\t\\t\\t\\t<br/>\\n</p>',\n",
       " '<p class=\"program\">\\n\\t\\t\\t\\t\\t\\t\\t\\t\\t7:15 p - 9:00 p\\n\\t\\t\\t\\t\\t\\t\\t\\t\\t<br/>\\n<a class=\"program-popup\" href=\"#program_16669\"><strong>Adult Lap Swim</strong></a> <br/>\\n\\t\\t\\t\\t\\t\\t\\t\\t\\tAdult, Senior\\n\\t\\t\\t\\t\\t\\t\\t\\t\\t<br/>\\n</p>',\n",
       " '<div class=\"center-hrs\">\\n<p>\\n<strong>Building Hours</strong><br/>\\n\\t\\t\\t\\t\\t\\t\\t\\t\\t\\t\\t                                                                                                \\t                                                     \\t6:30 a - 9:30 p\\n                                                    \\n                                                \\t\\t\\t\\t\\t\\t\\t\\t\\t\\t\\t\\t\\t\\t\\t\\t\\t\\t\\t\\t\\t</p>\\n</div>',\n",
       " '<p class=\"program\">\\n\\t\\t\\t\\t\\t\\t\\t\\t\\t7:00 a - 9:45 a\\n\\t\\t\\t\\t\\t\\t\\t\\t\\t<br/>\\n<a class=\"program-popup\" href=\"#program_16669\"><strong>Adult Lap Swim</strong></a> <br/>\\n\\t\\t\\t\\t\\t\\t\\t\\t\\tAdult, Senior\\n\\t\\t\\t\\t\\t\\t\\t\\t\\t<br/>\\n</p>',\n",
       " '<p class=\"program\">\\n\\t\\t\\t\\t\\t\\t\\t\\t\\t12:15 p - 3:00 p\\n\\t\\t\\t\\t\\t\\t\\t\\t\\t<br/>\\n<a class=\"program-popup\" href=\"#program_16669\"><strong>Adult Lap Swim</strong></a> <br/>\\n\\t\\t\\t\\t\\t\\t\\t\\t\\tAdult, Senior\\n\\t\\t\\t\\t\\t\\t\\t\\t\\t<br/>\\n</p>',\n",
       " '<p class=\"program\">\\n\\t\\t\\t\\t\\t\\t\\t\\t\\t7:45 p - 9:00 p\\n\\t\\t\\t\\t\\t\\t\\t\\t\\t<br/>\\n<a class=\"program-popup\" href=\"#program_16669\"><strong>Adult Lap Swim</strong></a> <br/>\\n\\t\\t\\t\\t\\t\\t\\t\\t\\tAdult, Senior\\n\\t\\t\\t\\t\\t\\t\\t\\t\\t<br/>\\n</p>',\n",
       " '<div class=\"center-hrs\">\\n<p>\\n<strong>Building Hours</strong><br/>\\n\\t\\t\\t\\t\\t\\t\\t\\t\\t\\t\\t                                                                                                \\t                                                     \\t6:30 a - 9:30 p\\n                                                    \\n                                                \\t\\t\\t\\t\\t\\t\\t\\t\\t\\t\\t\\t\\t\\t\\t\\t\\t\\t\\t\\t\\t</p>\\n</div>',\n",
       " '<p class=\"program\">\\n\\t\\t\\t\\t\\t\\t\\t\\t\\t7:00 a - 9:45 a\\n\\t\\t\\t\\t\\t\\t\\t\\t\\t<br/>\\n<a class=\"program-popup\" href=\"#program_16669\"><strong>Adult Lap Swim</strong></a> <br/>\\n\\t\\t\\t\\t\\t\\t\\t\\t\\tAdult, Senior\\n\\t\\t\\t\\t\\t\\t\\t\\t\\t<br/>\\n</p>',\n",
       " '<p class=\"program\">\\n\\t\\t\\t\\t\\t\\t\\t\\t\\t12:15 p - 3:00 p\\n\\t\\t\\t\\t\\t\\t\\t\\t\\t<br/>\\n<a class=\"program-popup\" href=\"#program_16669\"><strong>Adult Lap Swim</strong></a> <br/>\\n\\t\\t\\t\\t\\t\\t\\t\\t\\tAdult, Senior\\n\\t\\t\\t\\t\\t\\t\\t\\t\\t<br/>\\n</p>',\n",
       " '<p class=\"program\">\\n\\t\\t\\t\\t\\t\\t\\t\\t\\t7:15 p - 9:00 p\\n\\t\\t\\t\\t\\t\\t\\t\\t\\t<br/>\\n<a class=\"program-popup\" href=\"#program_16669\"><strong>Adult Lap Swim</strong></a> <br/>\\n\\t\\t\\t\\t\\t\\t\\t\\t\\tAdult, Senior\\n\\t\\t\\t\\t\\t\\t\\t\\t\\t<br/>\\n</p>',\n",
       " '<div class=\"center-hrs\">\\n<p>\\n<strong>Building Hours</strong><br/>\\n\\t\\t\\t\\t\\t\\t\\t\\t\\t\\t\\t                                                                                                \\t                                                     \\t8:00 a - 4:00 p\\n                                                    \\n                                                \\t\\t\\t\\t\\t\\t\\t\\t\\t\\t\\t\\t\\t\\t\\t\\t\\t\\t\\t\\t\\t</p>\\n</div>',\n",
       " '<p class=\"program\">\\n\\t\\t\\t\\t\\t\\t\\t\\t\\t8:00 a - 9:00 a\\n\\t\\t\\t\\t\\t\\t\\t\\t\\t<br/>\\n<a class=\"program-popup\" href=\"#program_16669\"><strong>Adult Lap Swim</strong></a> <br/>\\n\\t\\t\\t\\t\\t\\t\\t\\t\\tAdult, Senior\\n\\t\\t\\t\\t\\t\\t\\t\\t\\t<br/>\\n</p>',\n",
       " '<div class=\"center-hrs\">\\n<p>\\n<strong>Building Hours</strong><br/>\\n\\t\\t\\t\\t\\t\\t\\t\\t\\t\\t\\t                                                                                                \\t                                                    \\tClosed\\n                                                     \\n                                                \\t\\t\\t\\t\\t\\t\\t\\t\\t\\t\\t\\t\\t\\t\\t\\t\\t\\t\\t\\t\\t</p>\\n</div>']"
      ]
     },
     "execution_count": 399,
     "metadata": {},
     "output_type": "execute_result"
    }
   ],
   "source": [
    "swimposting[7:-7]\n"
   ]
  },
  {
   "cell_type": "code",
   "execution_count": 400,
   "metadata": {
    "collapsed": false
   },
   "outputs": [],
   "source": [
    "sched = {}\n",
    "count = 0\n",
    "for i in swimposting[7:-7]:\n",
    "    if str(i).find('Building Hours') > 0:\n",
    "        sched[days_of_week[count]] = []\n",
    "        count = count + 1\n",
    "    if str(i).find('Adult Lap Swim') > 0:\n",
    "        sched[days_of_week[count-1]].append(re.findall('[0-9]*:[0-9]*\\s[a-z]\\s-\\s[0-9]*:[0-9]*\\s[a-z]'  ,str(i)))\n",
    "df11 = pd.DataFrame.from_dict(sched, orient='index')\n",
    "df11 = df11.transpose()\n",
    "df11['Pool'] = 'Recreation Center 54'"
   ]
  },
  {
   "cell_type": "code",
   "execution_count": 449,
   "metadata": {
    "collapsed": false
   },
   "outputs": [],
   "source": [
    "allpools = pd.concat([df0,df1,df2,df3,df4,df5,df6,df7,df8,df9,df10,df11]) #combine all dataframes from each scraped pool"
   ]
  },
  {
   "cell_type": "code",
   "execution_count": 404,
   "metadata": {
    "collapsed": false
   },
   "outputs": [],
   "source": [
    "allpools.to_csv('nycrecreationcenterlaphours.csv')"
   ]
  },
  {
   "cell_type": "code",
   "execution_count": 406,
   "metadata": {
    "collapsed": false
   },
   "outputs": [],
   "source": [
    "allpools = allpools.reset_index()"
   ]
  },
  {
   "cell_type": "code",
   "execution_count": 413,
   "metadata": {
    "collapsed": false,
    "scrolled": true
   },
   "outputs": [
    {
     "data": {
      "text/plain": [
       "'7:00 a - 9:00 a'"
      ]
     },
     "execution_count": 413,
     "metadata": {},
     "output_type": "execute_result"
    }
   ],
   "source": [
    "allpools['Monday'][0][0]\n"
   ]
  },
  {
   "cell_type": "code",
   "execution_count": 451,
   "metadata": {
    "collapsed": true
   },
   "outputs": [],
   "source": [
    "allpools = allpools[cols]"
   ]
  },
  {
   "cell_type": "code",
   "execution_count": 474,
   "metadata": {
    "collapsed": false
   },
   "outputs": [],
   "source": [
    "#allpools['Monday'].iloc[1][0] removing list containing times, just want the times\n",
    "f = lambda x: 'None' if x==None else x[0]\n",
    "allpools['Monday']= allpools['Monday'].map(f)"
   ]
  },
  {
   "cell_type": "code",
   "execution_count": 476,
   "metadata": {
    "collapsed": false
   },
   "outputs": [],
   "source": [
    "allpools['Tuesday'] = allpools['Tuesday'].map(f)\n",
    "allpools['Wednesday'] = allpools['Wednesday'].map(f)\n",
    "allpools['Thursday'] = allpools['Thursday'].map(f)\n",
    "allpools['Friday'] = allpools['Friday'].map(f)\n",
    "allpools['Saturday'] = allpools['Saturday'].map(f)\n",
    "allpools['Sunday'] = allpools['Sunday'].map(f)"
   ]
  },
  {
   "cell_type": "code",
   "execution_count": 480,
   "metadata": {
    "collapsed": false
   },
   "outputs": [],
   "source": [
    "#making sure pool names are consisitent\n",
    "g = lambda x : 'Asser Levy' if x == 'asser levy' else x\n",
    "allpools['Pool'] = allpools['Pool'].map(g)"
   ]
  },
  {
   "cell_type": "code",
   "execution_count": 482,
   "metadata": {
    "collapsed": false
   },
   "outputs": [],
   "source": [
    "h = lambda x : 'Chelsea' if x == 'chelsea' else x\n",
    "allpools['Pool'] = allpools['Pool'].map(h)"
   ]
  },
  {
   "cell_type": "code",
   "execution_count": 579,
   "metadata": {
    "collapsed": false
   },
   "outputs": [
    {
     "data": {
      "text/html": [
       "<div>\n",
       "<table border=\"1\" class=\"dataframe\">\n",
       "  <thead>\n",
       "    <tr style=\"text-align: right;\">\n",
       "      <th></th>\n",
       "      <th>Pool</th>\n",
       "      <th>Monday</th>\n",
       "      <th>Tuesday</th>\n",
       "      <th>Wednesday</th>\n",
       "      <th>Thursday</th>\n",
       "      <th>Friday</th>\n",
       "      <th>Saturday</th>\n",
       "      <th>Sunday</th>\n",
       "    </tr>\n",
       "  </thead>\n",
       "  <tbody>\n",
       "    <tr>\n",
       "      <th>0</th>\n",
       "      <td>Asser Levy</td>\n",
       "      <td>7:00 a - 9:00 a</td>\n",
       "      <td>7:00 a - 9:00 a</td>\n",
       "      <td>7:00 a - 9:00 a</td>\n",
       "      <td>7:00 a - 9:00 a</td>\n",
       "      <td>7:00 a - 9:00 a</td>\n",
       "      <td>8:00 a - 9:00 a</td>\n",
       "      <td>8:00 a - 11:00 a</td>\n",
       "    </tr>\n",
       "    <tr>\n",
       "      <th>1</th>\n",
       "      <td>Asser Levy</td>\n",
       "      <td>1:15 p - 3:45 p</td>\n",
       "      <td>1:15 p - 3:45 p</td>\n",
       "      <td>1:15 p - 3:45 p</td>\n",
       "      <td>1:15 p - 3:30 p</td>\n",
       "      <td>1:15 p - 3:00 p</td>\n",
       "      <td>2:15 p - 4:30 p</td>\n",
       "      <td>2:15 p - 4:30 p</td>\n",
       "    </tr>\n",
       "    <tr>\n",
       "      <th>2</th>\n",
       "      <td>Asser Levy</td>\n",
       "      <td>6:30 p - 9:20 p</td>\n",
       "      <td>6:30 p - 9:20 p</td>\n",
       "      <td>6:30 p - 9:20 p</td>\n",
       "      <td>6:30 p - 9:20 p</td>\n",
       "      <td>7:00 p - 9:20 p</td>\n",
       "      <td>None</td>\n",
       "      <td>None</td>\n",
       "    </tr>\n",
       "    <tr>\n",
       "      <th>0</th>\n",
       "      <td>Chelsea</td>\n",
       "      <td>7:00 a - 10:00 a</td>\n",
       "      <td>7:00 a - 10:00 a</td>\n",
       "      <td>7:00 a - 9:30 a</td>\n",
       "      <td>7:00 a - 10:00 a</td>\n",
       "      <td>7:00 a - 9:30 a</td>\n",
       "      <td>7:00 a - 8:00 a</td>\n",
       "      <td>8:00 a - 11:00 a</td>\n",
       "    </tr>\n",
       "    <tr>\n",
       "      <th>1</th>\n",
       "      <td>Chelsea</td>\n",
       "      <td>2:00 p - 3:45 p</td>\n",
       "      <td>1:00 p - 3:45 p</td>\n",
       "      <td>2:00 p - 3:45 p</td>\n",
       "      <td>1:00 p - 3:45 p</td>\n",
       "      <td>2:00 p - 3:45 p</td>\n",
       "      <td>None</td>\n",
       "      <td>3:00 p - 4:00 p</td>\n",
       "    </tr>\n",
       "  </tbody>\n",
       "</table>\n",
       "</div>"
      ],
      "text/plain": [
       "         Pool            Monday           Tuesday        Wednesday  \\\n",
       "0  Asser Levy   7:00 a - 9:00 a   7:00 a - 9:00 a  7:00 a - 9:00 a   \n",
       "1  Asser Levy   1:15 p - 3:45 p   1:15 p - 3:45 p  1:15 p - 3:45 p   \n",
       "2  Asser Levy   6:30 p - 9:20 p   6:30 p - 9:20 p  6:30 p - 9:20 p   \n",
       "0     Chelsea  7:00 a - 10:00 a  7:00 a - 10:00 a  7:00 a - 9:30 a   \n",
       "1     Chelsea   2:00 p - 3:45 p   1:00 p - 3:45 p  2:00 p - 3:45 p   \n",
       "\n",
       "           Thursday           Friday         Saturday            Sunday  \n",
       "0   7:00 a - 9:00 a  7:00 a - 9:00 a  8:00 a - 9:00 a  8:00 a - 11:00 a  \n",
       "1   1:15 p - 3:30 p  1:15 p - 3:00 p  2:15 p - 4:30 p   2:15 p - 4:30 p  \n",
       "2   6:30 p - 9:20 p  7:00 p - 9:20 p             None              None  \n",
       "0  7:00 a - 10:00 a  7:00 a - 9:30 a  7:00 a - 8:00 a  8:00 a - 11:00 a  \n",
       "1   1:00 p - 3:45 p  2:00 p - 3:45 p             None   3:00 p - 4:00 p  "
      ]
     },
     "execution_count": 579,
     "metadata": {},
     "output_type": "execute_result"
    }
   ],
   "source": [
    "allpools.head()"
   ]
  },
  {
   "cell_type": "code",
   "execution_count": 667,
   "metadata": {
    "collapsed": false
   },
   "outputs": [
    {
     "data": {
      "text/html": [
       "<div>\n",
       "<table border=\"1\" class=\"dataframe\">\n",
       "  <thead>\n",
       "    <tr style=\"text-align: right;\">\n",
       "      <th></th>\n",
       "      <th>swimming_pool</th>\n",
       "      <th>website_source</th>\n",
       "      <th>address</th>\n",
       "      <th>location</th>\n",
       "      <th>latitude</th>\n",
       "      <th>longitude</th>\n",
       "    </tr>\n",
       "  </thead>\n",
       "  <tbody>\n",
       "    <tr>\n",
       "      <th>0</th>\n",
       "      <td>asser_levy</td>\n",
       "      <td>http://www.nycgovparks.org/facilities/recreati...</td>\n",
       "      <td>392 asser levy pl, NY</td>\n",
       "      <td>(40.7361601, -73.9756582)</td>\n",
       "      <td>40.736160</td>\n",
       "      <td>-73.975658</td>\n",
       "    </tr>\n",
       "    <tr>\n",
       "      <th>1</th>\n",
       "      <td>chelsea</td>\n",
       "      <td>http://www.nycgovparks.org/facilities/recreati...</td>\n",
       "      <td>430 W 25th St, New York, NY 10001</td>\n",
       "      <td>(40.7482487, -74.0020976)</td>\n",
       "      <td>40.748249</td>\n",
       "      <td>-74.002098</td>\n",
       "    </tr>\n",
       "    <tr>\n",
       "      <th>2</th>\n",
       "      <td>gertrude_erdel</td>\n",
       "      <td>http://www.nycgovparks.org/facilities/recreati...</td>\n",
       "      <td>232 West 60th Street, ny</td>\n",
       "      <td>(40.7714207, -73.9886644)</td>\n",
       "      <td>40.771421</td>\n",
       "      <td>-73.988664</td>\n",
       "    </tr>\n",
       "    <tr>\n",
       "      <th>3</th>\n",
       "      <td>hansborough</td>\n",
       "      <td>http://www.nycgovparks.org/facilities/recreati...</td>\n",
       "      <td>35 west 134th street, NY</td>\n",
       "      <td>(40.8128066, -73.9392448)</td>\n",
       "      <td>40.812807</td>\n",
       "      <td>-73.939245</td>\n",
       "    </tr>\n",
       "    <tr>\n",
       "      <th>4</th>\n",
       "      <td>tony_dapolito</td>\n",
       "      <td>http://www.nycgovparks.org/facilities/recreati...</td>\n",
       "      <td>1 clarkson st., NY</td>\n",
       "      <td>(40.7296168, -74.0054061)</td>\n",
       "      <td>40.729617</td>\n",
       "      <td>-74.005406</td>\n",
       "    </tr>\n",
       "    <tr>\n",
       "      <th>5</th>\n",
       "      <td>brownsville</td>\n",
       "      <td>http://www.nycgovparks.org/facilities/recreati...</td>\n",
       "      <td>1555 linden blvd, NY</td>\n",
       "      <td>(40.6562018, -73.9028372)</td>\n",
       "      <td>40.656202</td>\n",
       "      <td>-73.902837</td>\n",
       "    </tr>\n",
       "    <tr>\n",
       "      <th>6</th>\n",
       "      <td>metropolitan</td>\n",
       "      <td>http://www.nycgovparks.org/facilities/recreati...</td>\n",
       "      <td>261 bedford ave, NY</td>\n",
       "      <td>(40.7150182, -73.9603902)</td>\n",
       "      <td>40.715018</td>\n",
       "      <td>-73.960390</td>\n",
       "    </tr>\n",
       "    <tr>\n",
       "      <th>7</th>\n",
       "      <td>st.john’s</td>\n",
       "      <td>http://www.nycgovparks.org/facilities/recreati...</td>\n",
       "      <td>1251 prospect place, NY</td>\n",
       "      <td>(40.6738779, -73.9349038)</td>\n",
       "      <td>40.673878</td>\n",
       "      <td>-73.934904</td>\n",
       "    </tr>\n",
       "    <tr>\n",
       "      <th>8</th>\n",
       "      <td>flushing</td>\n",
       "      <td>http://www.nycgovparks.org/facilities/recreati...</td>\n",
       "      <td>Avery Avenue and 131 Street, NY</td>\n",
       "      <td>(40.7519669, -73.8360161)</td>\n",
       "      <td>40.751967</td>\n",
       "      <td>-73.836016</td>\n",
       "    </tr>\n",
       "    <tr>\n",
       "      <th>9</th>\n",
       "      <td>roy_wilkins</td>\n",
       "      <td>http://www.nycgovparks.org/facilities/recreati...</td>\n",
       "      <td>17701 baisley blvd, NY</td>\n",
       "      <td>(40.6872438, -73.7721323)</td>\n",
       "      <td>40.687244</td>\n",
       "      <td>-73.772132</td>\n",
       "    </tr>\n",
       "    <tr>\n",
       "      <th>10</th>\n",
       "      <td>st.mary’s</td>\n",
       "      <td>http://www.nycgovparks.org/facilities/recreati...</td>\n",
       "      <td>450 saint ann's ave, NY</td>\n",
       "      <td>(40.8114681, -73.9140663)</td>\n",
       "      <td>40.811468</td>\n",
       "      <td>-73.914066</td>\n",
       "    </tr>\n",
       "    <tr>\n",
       "      <th>11</th>\n",
       "      <td>rec_center54</td>\n",
       "      <td>http://www.nycgovparks.org/facilities/recreati...</td>\n",
       "      <td>348 East 54th st, NY</td>\n",
       "      <td>(40.7564907, -73.9651173)</td>\n",
       "      <td>40.756491</td>\n",
       "      <td>-73.965117</td>\n",
       "    </tr>\n",
       "  </tbody>\n",
       "</table>\n",
       "</div>"
      ],
      "text/plain": [
       "     swimming_pool                                     website_source  \\\n",
       "0       asser_levy  http://www.nycgovparks.org/facilities/recreati...   \n",
       "1          chelsea  http://www.nycgovparks.org/facilities/recreati...   \n",
       "2   gertrude_erdel  http://www.nycgovparks.org/facilities/recreati...   \n",
       "3      hansborough  http://www.nycgovparks.org/facilities/recreati...   \n",
       "4    tony_dapolito  http://www.nycgovparks.org/facilities/recreati...   \n",
       "5      brownsville  http://www.nycgovparks.org/facilities/recreati...   \n",
       "6     metropolitan  http://www.nycgovparks.org/facilities/recreati...   \n",
       "7        st.john’s  http://www.nycgovparks.org/facilities/recreati...   \n",
       "8         flushing  http://www.nycgovparks.org/facilities/recreati...   \n",
       "9      roy_wilkins  http://www.nycgovparks.org/facilities/recreati...   \n",
       "10       st.mary’s  http://www.nycgovparks.org/facilities/recreati...   \n",
       "11    rec_center54  http://www.nycgovparks.org/facilities/recreati...   \n",
       "\n",
       "                              address                   location   latitude  \\\n",
       "0               392 asser levy pl, NY  (40.7361601, -73.9756582)  40.736160   \n",
       "1   430 W 25th St, New York, NY 10001  (40.7482487, -74.0020976)  40.748249   \n",
       "2            232 West 60th Street, ny  (40.7714207, -73.9886644)  40.771421   \n",
       "3            35 west 134th street, NY  (40.8128066, -73.9392448)  40.812807   \n",
       "4                  1 clarkson st., NY  (40.7296168, -74.0054061)  40.729617   \n",
       "5                1555 linden blvd, NY  (40.6562018, -73.9028372)  40.656202   \n",
       "6                 261 bedford ave, NY  (40.7150182, -73.9603902)  40.715018   \n",
       "7             1251 prospect place, NY  (40.6738779, -73.9349038)  40.673878   \n",
       "8     Avery Avenue and 131 Street, NY  (40.7519669, -73.8360161)  40.751967   \n",
       "9              17701 baisley blvd, NY  (40.6872438, -73.7721323)  40.687244   \n",
       "10            450 saint ann's ave, NY  (40.8114681, -73.9140663)  40.811468   \n",
       "11               348 East 54th st, NY  (40.7564907, -73.9651173)  40.756491   \n",
       "\n",
       "    longitude  \n",
       "0  -73.975658  \n",
       "1  -74.002098  \n",
       "2  -73.988664  \n",
       "3  -73.939245  \n",
       "4  -74.005406  \n",
       "5  -73.902837  \n",
       "6  -73.960390  \n",
       "7  -73.934904  \n",
       "8  -73.836016  \n",
       "9  -73.772132  \n",
       "10 -73.914066  \n",
       "11 -73.965117  "
      ]
     },
     "execution_count": 667,
     "metadata": {},
     "output_type": "execute_result"
    }
   ],
   "source": [
    "pools\n",
    "#rename each pool so that it is consistent with the hours dataframe\n"
   ]
  },
  {
   "cell_type": "code",
   "execution_count": 629,
   "metadata": {
    "collapsed": true
   },
   "outputs": [],
   "source": [
    "pools.to_csv('nycrecreationcenterlaphourscorrectlatlon.csv')"
   ]
  },
  {
   "cell_type": "code",
   "execution_count": 485,
   "metadata": {
    "collapsed": false
   },
   "outputs": [
    {
     "name": "stderr",
     "output_type": "stream",
     "text": [
      "/Users/cedarwaxwing/Library/Python/2.7/lib/python/site-packages/pandas/core/generic.py:1003: FutureWarning: The 'mysql' flavor with DBAPI connection is deprecated and will be removed in future versions. MySQL will be further supported with SQLAlchemy connectables.\n",
      "  dtype=dtype)\n"
     ]
    }
   ],
   "source": [
    "con = mdb.connect('localhost', 'root', '', 'lap_schedule') \n",
    "db = allpools.to_sql('lap_schedule_table', con, flavor='mysql')\n",
    "pooldf = pd.read_sql('SELECT * FROM lap_schedule_table', con)"
   ]
  },
  {
   "cell_type": "code",
   "execution_count": 548,
   "metadata": {
    "collapsed": false
   },
   "outputs": [],
   "source": [
    "pooldf = pd.read_sql('SELECT * FROM lap_schedule_table', con)"
   ]
  },
  {
   "cell_type": "code",
   "execution_count": 636,
   "metadata": {
    "collapsed": false
   },
   "outputs": [],
   "source": [
    "del pooldf['latitude']\n",
    "del pooldf['longitude']"
   ]
  },
  {
   "cell_type": "code",
   "execution_count": 632,
   "metadata": {
    "collapsed": false
   },
   "outputs": [],
   "source": [
    "#want to add appropriate latitude and longitudes of pools to the hours dataframe.\n",
    "\n",
    "poolist = ['Asser Levy','Chelsea', 'Gertrude Eredel', 'Hansborough', 'Tony Dapolito', 'Brownsville','Metropolitan', 'St. Johns','Flushing Meadows Corona Park','Roy Wilkins','Saint Marys','Recreation Center 54']\n",
    "longitudelist = pools['longitude'].tolist()\n",
    "latitudelist = pools['latitude'].tolist()\n",
    "poolsdict = {}\n",
    "for i in range(0, len(poolist)):\n",
    "    poolsdict[poolist[i]] = (latitudelist[i], longitudelist[i])     "
   ]
  },
  {
   "cell_type": "code",
   "execution_count": 633,
   "metadata": {
    "collapsed": false
   },
   "outputs": [
    {
     "data": {
      "text/plain": [
       "{'Asser Levy': (40.736160099999999, -73.975658199999998),\n",
       " 'Brownsville': (40.656201800000012, -73.902837200000008),\n",
       " 'Chelsea': (40.748248699999998, -74.002097599999999),\n",
       " 'Flushing Meadows Corona Park': (40.751966899999999, -73.836016099999995),\n",
       " 'Gertrude Eredel': (40.771420700000007, -73.98866439999999),\n",
       " 'Hansborough': (40.812806599999988, -73.939244799999997),\n",
       " 'Metropolitan': (40.715018200000003, -73.960390199999992),\n",
       " 'Recreation Center 54': (40.756490700000001, -73.965117300000003),\n",
       " 'Roy Wilkins': (40.687243799999997, -73.772132299999996),\n",
       " 'Saint Marys': (40.811468099999999, -73.914066300000002),\n",
       " 'St. Johns': (40.673877900000001, -73.934903800000001),\n",
       " 'Tony Dapolito': (40.729616800000002, -74.005406100000002)}"
      ]
     },
     "execution_count": 633,
     "metadata": {},
     "output_type": "execute_result"
    }
   ],
   "source": [
    "poolsdict\n"
   ]
  },
  {
   "cell_type": "code",
   "execution_count": 634,
   "metadata": {
    "collapsed": true
   },
   "outputs": [],
   "source": [
    "my_list = pooldf[\"Pool\"].tolist()"
   ]
  },
  {
   "cell_type": "code",
   "execution_count": 635,
   "metadata": {
    "collapsed": false
   },
   "outputs": [],
   "source": [
    "latlonfinal = []\n",
    "for i in my_list:\n",
    "    latlonfinal.append(poolsdict[i])"
   ]
  },
  {
   "cell_type": "code",
   "execution_count": 639,
   "metadata": {
    "collapsed": false
   },
   "outputs": [],
   "source": [
    "pooldf['latlon'] = latlonfinal"
   ]
  },
  {
   "cell_type": "code",
   "execution_count": 640,
   "metadata": {
    "collapsed": true
   },
   "outputs": [],
   "source": [
    "latitude = []\n",
    "longitude = []\n",
    "for i in pooldf['latlon']:\n",
    "    i = str(i)\n",
    "    latitude.append(make_tuple(i)[0])\n",
    "    longitude.append(make_tuple(i)[1])"
   ]
  },
  {
   "cell_type": "code",
   "execution_count": 641,
   "metadata": {
    "collapsed": true
   },
   "outputs": [],
   "source": [
    "pooldf['latitude'] = latitude\n",
    "pooldf['longitude'] = longitude"
   ]
  },
  {
   "cell_type": "code",
   "execution_count": 649,
   "metadata": {
    "collapsed": false
   },
   "outputs": [],
   "source": [
    "del pooldf['latlon']"
   ]
  },
  {
   "cell_type": "code",
   "execution_count": 650,
   "metadata": {
    "collapsed": false
   },
   "outputs": [
    {
     "data": {
      "text/html": [
       "<div>\n",
       "<table border=\"1\" class=\"dataframe\">\n",
       "  <thead>\n",
       "    <tr style=\"text-align: right;\">\n",
       "      <th></th>\n",
       "      <th>Pool</th>\n",
       "      <th>Monday</th>\n",
       "      <th>Tuesday</th>\n",
       "      <th>Wednesday</th>\n",
       "      <th>Thursday</th>\n",
       "      <th>Friday</th>\n",
       "      <th>Saturday</th>\n",
       "      <th>Sunday</th>\n",
       "      <th>latitude</th>\n",
       "      <th>longitude</th>\n",
       "    </tr>\n",
       "  </thead>\n",
       "  <tbody>\n",
       "    <tr>\n",
       "      <th>0</th>\n",
       "      <td>Asser Levy</td>\n",
       "      <td>7:00 a - 9:00 a</td>\n",
       "      <td>7:00 a - 9:00 a</td>\n",
       "      <td>7:00 a - 9:00 a</td>\n",
       "      <td>7:00 a - 9:00 a</td>\n",
       "      <td>7:00 a - 9:00 a</td>\n",
       "      <td>8:00 a - 9:00 a</td>\n",
       "      <td>8:00 a - 11:00 a</td>\n",
       "      <td>40.736160</td>\n",
       "      <td>-73.975658</td>\n",
       "    </tr>\n",
       "    <tr>\n",
       "      <th>1</th>\n",
       "      <td>Asser Levy</td>\n",
       "      <td>1:15 p - 3:45 p</td>\n",
       "      <td>1:15 p - 3:45 p</td>\n",
       "      <td>1:15 p - 3:45 p</td>\n",
       "      <td>1:15 p - 3:30 p</td>\n",
       "      <td>1:15 p - 3:00 p</td>\n",
       "      <td>2:15 p - 4:30 p</td>\n",
       "      <td>2:15 p - 4:30 p</td>\n",
       "      <td>40.736160</td>\n",
       "      <td>-73.975658</td>\n",
       "    </tr>\n",
       "    <tr>\n",
       "      <th>2</th>\n",
       "      <td>Asser Levy</td>\n",
       "      <td>6:30 p - 9:20 p</td>\n",
       "      <td>6:30 p - 9:20 p</td>\n",
       "      <td>6:30 p - 9:20 p</td>\n",
       "      <td>6:30 p - 9:20 p</td>\n",
       "      <td>7:00 p - 9:20 p</td>\n",
       "      <td>None</td>\n",
       "      <td>None</td>\n",
       "      <td>40.736160</td>\n",
       "      <td>-73.975658</td>\n",
       "    </tr>\n",
       "    <tr>\n",
       "      <th>3</th>\n",
       "      <td>Chelsea</td>\n",
       "      <td>7:00 a - 10:00 a</td>\n",
       "      <td>7:00 a - 10:00 a</td>\n",
       "      <td>7:00 a - 9:30 a</td>\n",
       "      <td>7:00 a - 10:00 a</td>\n",
       "      <td>7:00 a - 9:30 a</td>\n",
       "      <td>7:00 a - 8:00 a</td>\n",
       "      <td>8:00 a - 11:00 a</td>\n",
       "      <td>40.748249</td>\n",
       "      <td>-74.002098</td>\n",
       "    </tr>\n",
       "    <tr>\n",
       "      <th>4</th>\n",
       "      <td>Chelsea</td>\n",
       "      <td>2:00 p - 3:45 p</td>\n",
       "      <td>1:00 p - 3:45 p</td>\n",
       "      <td>2:00 p - 3:45 p</td>\n",
       "      <td>1:00 p - 3:45 p</td>\n",
       "      <td>2:00 p - 3:45 p</td>\n",
       "      <td>None</td>\n",
       "      <td>3:00 p - 4:00 p</td>\n",
       "      <td>40.748249</td>\n",
       "      <td>-74.002098</td>\n",
       "    </tr>\n",
       "    <tr>\n",
       "      <th>5</th>\n",
       "      <td>Chelsea</td>\n",
       "      <td>9:00 p - 10:00 p</td>\n",
       "      <td>6:00 p - 7:00 p</td>\n",
       "      <td>9:00 p - 10:00 p</td>\n",
       "      <td>6:00 p - 7:00 p</td>\n",
       "      <td>9:00 p - 10:00 p</td>\n",
       "      <td>None</td>\n",
       "      <td>None</td>\n",
       "      <td>40.748249</td>\n",
       "      <td>-74.002098</td>\n",
       "    </tr>\n",
       "    <tr>\n",
       "      <th>6</th>\n",
       "      <td>Chelsea</td>\n",
       "      <td>None</td>\n",
       "      <td>None</td>\n",
       "      <td>None</td>\n",
       "      <td>9:00 p - 10:00 p</td>\n",
       "      <td>None</td>\n",
       "      <td>None</td>\n",
       "      <td>None</td>\n",
       "      <td>40.748249</td>\n",
       "      <td>-74.002098</td>\n",
       "    </tr>\n",
       "    <tr>\n",
       "      <th>7</th>\n",
       "      <td>Gertrude Eredel</td>\n",
       "      <td>7:00 a - 9:45 a</td>\n",
       "      <td>7:00 a - 9:45 a</td>\n",
       "      <td>7:00 a - 9:45 a</td>\n",
       "      <td>7:00 a - 9:45 a</td>\n",
       "      <td>7:00 a - 9:45 a</td>\n",
       "      <td>8:00 a - 9:45 a</td>\n",
       "      <td>None</td>\n",
       "      <td>40.771421</td>\n",
       "      <td>-73.988664</td>\n",
       "    </tr>\n",
       "    <tr>\n",
       "      <th>8</th>\n",
       "      <td>Gertrude Eredel</td>\n",
       "      <td>6:15 p - 9:00 p</td>\n",
       "      <td>12:00 p - 2:00 p</td>\n",
       "      <td>6:15 p - 9:00 p</td>\n",
       "      <td>12:00 p - 2:00 p</td>\n",
       "      <td>1:00 p - 3:45 p</td>\n",
       "      <td>None</td>\n",
       "      <td>None</td>\n",
       "      <td>40.771421</td>\n",
       "      <td>-73.988664</td>\n",
       "    </tr>\n",
       "    <tr>\n",
       "      <th>9</th>\n",
       "      <td>Gertrude Eredel</td>\n",
       "      <td>None</td>\n",
       "      <td>6:15 p - 9:00 p</td>\n",
       "      <td>None</td>\n",
       "      <td>6:15 p - 9:00 p</td>\n",
       "      <td>7:15 p - 9:00 p</td>\n",
       "      <td>None</td>\n",
       "      <td>None</td>\n",
       "      <td>40.771421</td>\n",
       "      <td>-73.988664</td>\n",
       "    </tr>\n",
       "    <tr>\n",
       "      <th>10</th>\n",
       "      <td>Hansborough</td>\n",
       "      <td>7:00 a - 8:45 a</td>\n",
       "      <td>9:00 a - 10:00 a</td>\n",
       "      <td>7:00 a - 8:45 a</td>\n",
       "      <td>9:00 a - 10:00 a</td>\n",
       "      <td>7:00 a - 8:45 a</td>\n",
       "      <td>3:00 p - 4:00 p</td>\n",
       "      <td>None</td>\n",
       "      <td>40.812807</td>\n",
       "      <td>-73.939245</td>\n",
       "    </tr>\n",
       "    <tr>\n",
       "      <th>11</th>\n",
       "      <td>Hansborough</td>\n",
       "      <td>2:00 p - 3:00 p</td>\n",
       "      <td>1:15 p - 3:45 p</td>\n",
       "      <td>2:00 p - 3:00 p</td>\n",
       "      <td>1:15 p - 3:45 p</td>\n",
       "      <td>3:00 p - 4:15 p</td>\n",
       "      <td>None</td>\n",
       "      <td>None</td>\n",
       "      <td>40.812807</td>\n",
       "      <td>-73.939245</td>\n",
       "    </tr>\n",
       "    <tr>\n",
       "      <th>12</th>\n",
       "      <td>Hansborough</td>\n",
       "      <td>7:15 p - 9:00 p</td>\n",
       "      <td>7:15 p - 9:00 p</td>\n",
       "      <td>7:15 p - 9:00 p</td>\n",
       "      <td>7:15 p - 9:00 p</td>\n",
       "      <td>7:15 p - 9:00 p</td>\n",
       "      <td>None</td>\n",
       "      <td>None</td>\n",
       "      <td>40.812807</td>\n",
       "      <td>-73.939245</td>\n",
       "    </tr>\n",
       "    <tr>\n",
       "      <th>13</th>\n",
       "      <td>Tony Dapolito</td>\n",
       "      <td>7:00 a - 9:30 a</td>\n",
       "      <td>7:00 a - 8:30 a</td>\n",
       "      <td>7:00 a - 9:30 a</td>\n",
       "      <td>7:00 a - 8:30 a</td>\n",
       "      <td>7:00 a - 9:30 a</td>\n",
       "      <td>3:15 p - 4:30 p</td>\n",
       "      <td>9:00 a - 10:30 a</td>\n",
       "      <td>40.729617</td>\n",
       "      <td>-74.005406</td>\n",
       "    </tr>\n",
       "    <tr>\n",
       "      <th>14</th>\n",
       "      <td>Tony Dapolito</td>\n",
       "      <td>11:30 a - 2:15 p</td>\n",
       "      <td>12:15 p - 2:15 p</td>\n",
       "      <td>11:30 a - 2:15 p</td>\n",
       "      <td>12:15 p - 2:15 p</td>\n",
       "      <td>11:30 a - 2:15 p</td>\n",
       "      <td>None</td>\n",
       "      <td>3:15 p - 4:30 p</td>\n",
       "      <td>40.729617</td>\n",
       "      <td>-74.005406</td>\n",
       "    </tr>\n",
       "    <tr>\n",
       "      <th>15</th>\n",
       "      <td>Tony Dapolito</td>\n",
       "      <td>4:00 p - 9:30 p</td>\n",
       "      <td>8:00 p - 9:30 p</td>\n",
       "      <td>4:00 p - 6:00 p</td>\n",
       "      <td>8:00 p - 9:30 p</td>\n",
       "      <td>5:00 p - 7:15 p</td>\n",
       "      <td>None</td>\n",
       "      <td>None</td>\n",
       "      <td>40.729617</td>\n",
       "      <td>-74.005406</td>\n",
       "    </tr>\n",
       "    <tr>\n",
       "      <th>16</th>\n",
       "      <td>Tony Dapolito</td>\n",
       "      <td>None</td>\n",
       "      <td>None</td>\n",
       "      <td>7:15 p - 9:30 p</td>\n",
       "      <td>None</td>\n",
       "      <td>None</td>\n",
       "      <td>None</td>\n",
       "      <td>None</td>\n",
       "      <td>40.729617</td>\n",
       "      <td>-74.005406</td>\n",
       "    </tr>\n",
       "    <tr>\n",
       "      <th>17</th>\n",
       "      <td>Brownsville</td>\n",
       "      <td>2:15 p - 3:00 p</td>\n",
       "      <td>None</td>\n",
       "      <td>2:15 p - 3:00 p</td>\n",
       "      <td>None</td>\n",
       "      <td>2:15 p - 3:00 p</td>\n",
       "      <td>None</td>\n",
       "      <td>None</td>\n",
       "      <td>40.656202</td>\n",
       "      <td>-73.902837</td>\n",
       "    </tr>\n",
       "    <tr>\n",
       "      <th>18</th>\n",
       "      <td>Brownsville</td>\n",
       "      <td>5:15 p - 7:00 p</td>\n",
       "      <td>None</td>\n",
       "      <td>5:15 p - 7:00 p</td>\n",
       "      <td>None</td>\n",
       "      <td>5:15 p - 7:00 p</td>\n",
       "      <td>None</td>\n",
       "      <td>None</td>\n",
       "      <td>40.656202</td>\n",
       "      <td>-73.902837</td>\n",
       "    </tr>\n",
       "    <tr>\n",
       "      <th>19</th>\n",
       "      <td>Metropolitan</td>\n",
       "      <td>7:00 a - 9:15 a</td>\n",
       "      <td>7:00 a - 11:00 a</td>\n",
       "      <td>7:00 a - 9:15 a</td>\n",
       "      <td>7:00 a - 11:00 a</td>\n",
       "      <td>7:00 a - 9:15 a</td>\n",
       "      <td>7:00 a - 8:45 a</td>\n",
       "      <td>10:00 a - 12:30 p</td>\n",
       "      <td>40.715018</td>\n",
       "      <td>-73.960390</td>\n",
       "    </tr>\n",
       "    <tr>\n",
       "      <th>20</th>\n",
       "      <td>Metropolitan</td>\n",
       "      <td>1:30 p - 3:30 p</td>\n",
       "      <td>2:00 p - 3:00 p</td>\n",
       "      <td>1:30 p - 3:30 p</td>\n",
       "      <td>1:30 p - 3:00 p</td>\n",
       "      <td>5:30 p - 9:15 p</td>\n",
       "      <td>4:00 p - 5:15 p</td>\n",
       "      <td>None</td>\n",
       "      <td>40.715018</td>\n",
       "      <td>-73.960390</td>\n",
       "    </tr>\n",
       "    <tr>\n",
       "      <th>21</th>\n",
       "      <td>Metropolitan</td>\n",
       "      <td>6:30 p - 9:15 p</td>\n",
       "      <td>5:30 p - 9:15 p</td>\n",
       "      <td>6:30 p - 9:15 p</td>\n",
       "      <td>5:30 p - 9:15 p</td>\n",
       "      <td>None</td>\n",
       "      <td>None</td>\n",
       "      <td>None</td>\n",
       "      <td>40.715018</td>\n",
       "      <td>-73.960390</td>\n",
       "    </tr>\n",
       "    <tr>\n",
       "      <th>22</th>\n",
       "      <td>St. Johns</td>\n",
       "      <td>7:00 a - 9:30 a</td>\n",
       "      <td>7:00 a - 9:30 a</td>\n",
       "      <td>7:00 a - 9:30 a</td>\n",
       "      <td>7:00 a - 9:30 a</td>\n",
       "      <td>7:00 a - 9:00 a</td>\n",
       "      <td>8:00 a - 9:00 a</td>\n",
       "      <td>None</td>\n",
       "      <td>40.673878</td>\n",
       "      <td>-73.934904</td>\n",
       "    </tr>\n",
       "    <tr>\n",
       "      <th>23</th>\n",
       "      <td>St. Johns</td>\n",
       "      <td>1:00 p - 2:30 p</td>\n",
       "      <td>1:00 p - 2:30 p</td>\n",
       "      <td>1:00 p - 2:30 p</td>\n",
       "      <td>1:00 p - 2:30 p</td>\n",
       "      <td>1:00 p - 2:30 p</td>\n",
       "      <td>3:30 p - 4:30 p</td>\n",
       "      <td>None</td>\n",
       "      <td>40.673878</td>\n",
       "      <td>-73.934904</td>\n",
       "    </tr>\n",
       "    <tr>\n",
       "      <th>24</th>\n",
       "      <td>St. Johns</td>\n",
       "      <td>7:30 p - 9:30 p</td>\n",
       "      <td>None</td>\n",
       "      <td>7:30 p - 9:30 p</td>\n",
       "      <td>None</td>\n",
       "      <td>None</td>\n",
       "      <td>None</td>\n",
       "      <td>None</td>\n",
       "      <td>40.673878</td>\n",
       "      <td>-73.934904</td>\n",
       "    </tr>\n",
       "    <tr>\n",
       "      <th>25</th>\n",
       "      <td>Flushing Meadows Corona Park</td>\n",
       "      <td>6:00 a - 9:30 p</td>\n",
       "      <td>6:00 a - 9:30 p</td>\n",
       "      <td>6:00 a - 9:30 p</td>\n",
       "      <td>6:00 a - 9:30 p</td>\n",
       "      <td>6:00 a - 9:30 p</td>\n",
       "      <td>9:00 a - 9:30 p</td>\n",
       "      <td>4:30 p - 7:30 p</td>\n",
       "      <td>40.751967</td>\n",
       "      <td>-73.836016</td>\n",
       "    </tr>\n",
       "    <tr>\n",
       "      <th>26</th>\n",
       "      <td>Roy Wilkins</td>\n",
       "      <td>8:00 a - 9:30 a</td>\n",
       "      <td>8:00 a - 9:30 a</td>\n",
       "      <td>8:00 a - 9:30 a</td>\n",
       "      <td>8:00 a - 9:30 a</td>\n",
       "      <td>8:00 a - 9:30 a</td>\n",
       "      <td>None</td>\n",
       "      <td>None</td>\n",
       "      <td>40.687244</td>\n",
       "      <td>-73.772132</td>\n",
       "    </tr>\n",
       "    <tr>\n",
       "      <th>27</th>\n",
       "      <td>Roy Wilkins</td>\n",
       "      <td>6:00 p - 8:30 p</td>\n",
       "      <td>7:00 p - 8:30 p</td>\n",
       "      <td>None</td>\n",
       "      <td>7:00 p - 8:30 p</td>\n",
       "      <td>5:30 p - 8:30 p</td>\n",
       "      <td>None</td>\n",
       "      <td>None</td>\n",
       "      <td>40.687244</td>\n",
       "      <td>-73.772132</td>\n",
       "    </tr>\n",
       "    <tr>\n",
       "      <th>28</th>\n",
       "      <td>Saint Marys</td>\n",
       "      <td>2:00 p - 3:00 p</td>\n",
       "      <td>2:00 p - 3:00 p</td>\n",
       "      <td>2:00 p - 3:00 p</td>\n",
       "      <td>2:00 p - 3:00 p</td>\n",
       "      <td>2:00 p - 3:00 p</td>\n",
       "      <td>8:00 a - 9:00 a</td>\n",
       "      <td>None</td>\n",
       "      <td>40.811468</td>\n",
       "      <td>-73.914066</td>\n",
       "    </tr>\n",
       "    <tr>\n",
       "      <th>29</th>\n",
       "      <td>Saint Marys</td>\n",
       "      <td>6:30 p - 8:30 p</td>\n",
       "      <td>None</td>\n",
       "      <td>7:30 p - 8:30 p</td>\n",
       "      <td>6:30 p - 8:30 p</td>\n",
       "      <td>None</td>\n",
       "      <td>None</td>\n",
       "      <td>None</td>\n",
       "      <td>40.811468</td>\n",
       "      <td>-73.914066</td>\n",
       "    </tr>\n",
       "    <tr>\n",
       "      <th>30</th>\n",
       "      <td>Recreation Center 54</td>\n",
       "      <td>7:00 a - 9:45 a</td>\n",
       "      <td>7:00 a - 9:45 a</td>\n",
       "      <td>7:00 a - 9:45 a</td>\n",
       "      <td>7:00 a - 9:45 a</td>\n",
       "      <td>7:00 a - 9:45 a</td>\n",
       "      <td>8:00 a - 9:00 a</td>\n",
       "      <td>None</td>\n",
       "      <td>40.756491</td>\n",
       "      <td>-73.965117</td>\n",
       "    </tr>\n",
       "    <tr>\n",
       "      <th>31</th>\n",
       "      <td>Recreation Center 54</td>\n",
       "      <td>12:15 p - 3:00 p</td>\n",
       "      <td>12:15 p - 3:00 p</td>\n",
       "      <td>12:15 p - 3:00 p</td>\n",
       "      <td>12:15 p - 3:00 p</td>\n",
       "      <td>12:15 p - 3:00 p</td>\n",
       "      <td>None</td>\n",
       "      <td>None</td>\n",
       "      <td>40.756491</td>\n",
       "      <td>-73.965117</td>\n",
       "    </tr>\n",
       "    <tr>\n",
       "      <th>32</th>\n",
       "      <td>Recreation Center 54</td>\n",
       "      <td>7:15 p - 9:00 p</td>\n",
       "      <td>7:45 p - 9:00 p</td>\n",
       "      <td>7:15 p - 9:00 p</td>\n",
       "      <td>7:45 p - 9:00 p</td>\n",
       "      <td>7:15 p - 9:00 p</td>\n",
       "      <td>None</td>\n",
       "      <td>None</td>\n",
       "      <td>40.756491</td>\n",
       "      <td>-73.965117</td>\n",
       "    </tr>\n",
       "  </tbody>\n",
       "</table>\n",
       "</div>"
      ],
      "text/plain": [
       "                            Pool            Monday           Tuesday  \\\n",
       "0                     Asser Levy   7:00 a - 9:00 a   7:00 a - 9:00 a   \n",
       "1                     Asser Levy   1:15 p - 3:45 p   1:15 p - 3:45 p   \n",
       "2                     Asser Levy   6:30 p - 9:20 p   6:30 p - 9:20 p   \n",
       "3                        Chelsea  7:00 a - 10:00 a  7:00 a - 10:00 a   \n",
       "4                        Chelsea   2:00 p - 3:45 p   1:00 p - 3:45 p   \n",
       "5                        Chelsea  9:00 p - 10:00 p   6:00 p - 7:00 p   \n",
       "6                        Chelsea              None              None   \n",
       "7                Gertrude Eredel   7:00 a - 9:45 a   7:00 a - 9:45 a   \n",
       "8                Gertrude Eredel   6:15 p - 9:00 p  12:00 p - 2:00 p   \n",
       "9                Gertrude Eredel              None   6:15 p - 9:00 p   \n",
       "10                   Hansborough   7:00 a - 8:45 a  9:00 a - 10:00 a   \n",
       "11                   Hansborough   2:00 p - 3:00 p   1:15 p - 3:45 p   \n",
       "12                   Hansborough   7:15 p - 9:00 p   7:15 p - 9:00 p   \n",
       "13                 Tony Dapolito   7:00 a - 9:30 a   7:00 a - 8:30 a   \n",
       "14                 Tony Dapolito  11:30 a - 2:15 p  12:15 p - 2:15 p   \n",
       "15                 Tony Dapolito   4:00 p - 9:30 p   8:00 p - 9:30 p   \n",
       "16                 Tony Dapolito              None              None   \n",
       "17                   Brownsville   2:15 p - 3:00 p              None   \n",
       "18                   Brownsville   5:15 p - 7:00 p              None   \n",
       "19                  Metropolitan   7:00 a - 9:15 a  7:00 a - 11:00 a   \n",
       "20                  Metropolitan   1:30 p - 3:30 p   2:00 p - 3:00 p   \n",
       "21                  Metropolitan   6:30 p - 9:15 p   5:30 p - 9:15 p   \n",
       "22                     St. Johns   7:00 a - 9:30 a   7:00 a - 9:30 a   \n",
       "23                     St. Johns   1:00 p - 2:30 p   1:00 p - 2:30 p   \n",
       "24                     St. Johns   7:30 p - 9:30 p              None   \n",
       "25  Flushing Meadows Corona Park   6:00 a - 9:30 p   6:00 a - 9:30 p   \n",
       "26                   Roy Wilkins   8:00 a - 9:30 a   8:00 a - 9:30 a   \n",
       "27                   Roy Wilkins   6:00 p - 8:30 p   7:00 p - 8:30 p   \n",
       "28                   Saint Marys   2:00 p - 3:00 p   2:00 p - 3:00 p   \n",
       "29                   Saint Marys   6:30 p - 8:30 p              None   \n",
       "30          Recreation Center 54   7:00 a - 9:45 a   7:00 a - 9:45 a   \n",
       "31          Recreation Center 54  12:15 p - 3:00 p  12:15 p - 3:00 p   \n",
       "32          Recreation Center 54   7:15 p - 9:00 p   7:45 p - 9:00 p   \n",
       "\n",
       "           Wednesday          Thursday            Friday         Saturday  \\\n",
       "0    7:00 a - 9:00 a   7:00 a - 9:00 a   7:00 a - 9:00 a  8:00 a - 9:00 a   \n",
       "1    1:15 p - 3:45 p   1:15 p - 3:30 p   1:15 p - 3:00 p  2:15 p - 4:30 p   \n",
       "2    6:30 p - 9:20 p   6:30 p - 9:20 p   7:00 p - 9:20 p             None   \n",
       "3    7:00 a - 9:30 a  7:00 a - 10:00 a   7:00 a - 9:30 a  7:00 a - 8:00 a   \n",
       "4    2:00 p - 3:45 p   1:00 p - 3:45 p   2:00 p - 3:45 p             None   \n",
       "5   9:00 p - 10:00 p   6:00 p - 7:00 p  9:00 p - 10:00 p             None   \n",
       "6               None  9:00 p - 10:00 p              None             None   \n",
       "7    7:00 a - 9:45 a   7:00 a - 9:45 a   7:00 a - 9:45 a  8:00 a - 9:45 a   \n",
       "8    6:15 p - 9:00 p  12:00 p - 2:00 p   1:00 p - 3:45 p             None   \n",
       "9               None   6:15 p - 9:00 p   7:15 p - 9:00 p             None   \n",
       "10   7:00 a - 8:45 a  9:00 a - 10:00 a   7:00 a - 8:45 a  3:00 p - 4:00 p   \n",
       "11   2:00 p - 3:00 p   1:15 p - 3:45 p   3:00 p - 4:15 p             None   \n",
       "12   7:15 p - 9:00 p   7:15 p - 9:00 p   7:15 p - 9:00 p             None   \n",
       "13   7:00 a - 9:30 a   7:00 a - 8:30 a   7:00 a - 9:30 a  3:15 p - 4:30 p   \n",
       "14  11:30 a - 2:15 p  12:15 p - 2:15 p  11:30 a - 2:15 p             None   \n",
       "15   4:00 p - 6:00 p   8:00 p - 9:30 p   5:00 p - 7:15 p             None   \n",
       "16   7:15 p - 9:30 p              None              None             None   \n",
       "17   2:15 p - 3:00 p              None   2:15 p - 3:00 p             None   \n",
       "18   5:15 p - 7:00 p              None   5:15 p - 7:00 p             None   \n",
       "19   7:00 a - 9:15 a  7:00 a - 11:00 a   7:00 a - 9:15 a  7:00 a - 8:45 a   \n",
       "20   1:30 p - 3:30 p   1:30 p - 3:00 p   5:30 p - 9:15 p  4:00 p - 5:15 p   \n",
       "21   6:30 p - 9:15 p   5:30 p - 9:15 p              None             None   \n",
       "22   7:00 a - 9:30 a   7:00 a - 9:30 a   7:00 a - 9:00 a  8:00 a - 9:00 a   \n",
       "23   1:00 p - 2:30 p   1:00 p - 2:30 p   1:00 p - 2:30 p  3:30 p - 4:30 p   \n",
       "24   7:30 p - 9:30 p              None              None             None   \n",
       "25   6:00 a - 9:30 p   6:00 a - 9:30 p   6:00 a - 9:30 p  9:00 a - 9:30 p   \n",
       "26   8:00 a - 9:30 a   8:00 a - 9:30 a   8:00 a - 9:30 a             None   \n",
       "27              None   7:00 p - 8:30 p   5:30 p - 8:30 p             None   \n",
       "28   2:00 p - 3:00 p   2:00 p - 3:00 p   2:00 p - 3:00 p  8:00 a - 9:00 a   \n",
       "29   7:30 p - 8:30 p   6:30 p - 8:30 p              None             None   \n",
       "30   7:00 a - 9:45 a   7:00 a - 9:45 a   7:00 a - 9:45 a  8:00 a - 9:00 a   \n",
       "31  12:15 p - 3:00 p  12:15 p - 3:00 p  12:15 p - 3:00 p             None   \n",
       "32   7:15 p - 9:00 p   7:45 p - 9:00 p   7:15 p - 9:00 p             None   \n",
       "\n",
       "               Sunday   latitude  longitude  \n",
       "0    8:00 a - 11:00 a  40.736160 -73.975658  \n",
       "1     2:15 p - 4:30 p  40.736160 -73.975658  \n",
       "2                None  40.736160 -73.975658  \n",
       "3    8:00 a - 11:00 a  40.748249 -74.002098  \n",
       "4     3:00 p - 4:00 p  40.748249 -74.002098  \n",
       "5                None  40.748249 -74.002098  \n",
       "6                None  40.748249 -74.002098  \n",
       "7                None  40.771421 -73.988664  \n",
       "8                None  40.771421 -73.988664  \n",
       "9                None  40.771421 -73.988664  \n",
       "10               None  40.812807 -73.939245  \n",
       "11               None  40.812807 -73.939245  \n",
       "12               None  40.812807 -73.939245  \n",
       "13   9:00 a - 10:30 a  40.729617 -74.005406  \n",
       "14    3:15 p - 4:30 p  40.729617 -74.005406  \n",
       "15               None  40.729617 -74.005406  \n",
       "16               None  40.729617 -74.005406  \n",
       "17               None  40.656202 -73.902837  \n",
       "18               None  40.656202 -73.902837  \n",
       "19  10:00 a - 12:30 p  40.715018 -73.960390  \n",
       "20               None  40.715018 -73.960390  \n",
       "21               None  40.715018 -73.960390  \n",
       "22               None  40.673878 -73.934904  \n",
       "23               None  40.673878 -73.934904  \n",
       "24               None  40.673878 -73.934904  \n",
       "25    4:30 p - 7:30 p  40.751967 -73.836016  \n",
       "26               None  40.687244 -73.772132  \n",
       "27               None  40.687244 -73.772132  \n",
       "28               None  40.811468 -73.914066  \n",
       "29               None  40.811468 -73.914066  \n",
       "30               None  40.756491 -73.965117  \n",
       "31               None  40.756491 -73.965117  \n",
       "32               None  40.756491 -73.965117  "
      ]
     },
     "execution_count": 650,
     "metadata": {},
     "output_type": "execute_result"
    }
   ],
   "source": [
    "pooldf"
   ]
  },
  {
   "cell_type": "code",
   "execution_count": 652,
   "metadata": {
    "collapsed": false
   },
   "outputs": [],
   "source": [
    "#con = mdb.connect('localhost', 'root', '', 'lap_schedule') \n",
    "db = pooldf.to_sql('lap_schedule_table5', con, flavor='mysql')\n",
    "#pooldf = pd.read_sql('SELECT * FROM lap_schedule_table', con)"
   ]
  },
  {
   "cell_type": "code",
   "execution_count": 642,
   "metadata": {
    "collapsed": false,
    "scrolled": true
   },
   "outputs": [],
   "source": [
    "pooldf.to_csv('nycrecreationcenterlaphoursfinalgood.csv')"
   ]
  },
  {
   "cell_type": "code",
   "execution_count": 565,
   "metadata": {
    "collapsed": true
   },
   "outputs": [],
   "source": [
    "import time"
   ]
  },
  {
   "cell_type": "code",
   "execution_count": 676,
   "metadata": {
    "collapsed": true
   },
   "outputs": [],
   "source": [
    "now = time.strftime(\"%A\")"
   ]
  },
  {
   "cell_type": "code",
   "execution_count": 680,
   "metadata": {
    "collapsed": false
   },
   "outputs": [],
   "source": [
    "mondays = pd.read_sql('SELECT s.latitude, s.longitude FROM (SELECT Pool, %s, latitude, longitude FROM lap_schedule_table5 WHERE Pool = \"Chelsea\") AS s LIMIT 1'%(now), con)\n",
    "#might be too complicated could be easier to have a dictionary of pools with lat, lon tuple and take from there."
   ]
  },
  {
   "cell_type": "code",
   "execution_count": 686,
   "metadata": {
    "collapsed": false
   },
   "outputs": [
    {
     "data": {
      "text/plain": [
       "latitude     40.748249\n",
       "longitude   -74.002098\n",
       "Name: 0, dtype: float64"
      ]
     },
     "execution_count": 686,
     "metadata": {},
     "output_type": "execute_result"
    }
   ],
   "source": [
    "mondays.iloc[0]"
   ]
  },
  {
   "cell_type": "code",
   "execution_count": 585,
   "metadata": {
    "collapsed": false
   },
   "outputs": [],
   "source": [
    "from geopy.distance import vincenty"
   ]
  },
  {
   "cell_type": "code",
   "execution_count": 586,
   "metadata": {
    "collapsed": true
   },
   "outputs": [],
   "source": [
    "#a hypothetical address where I might be dreaming about lap swimming\n",
    "address = '45 west 25th street, NY'"
   ]
  },
  {
   "cell_type": "code",
   "execution_count": 587,
   "metadata": {
    "collapsed": true
   },
   "outputs": [],
   "source": [
    "g = geocoder.google(address)\n",
    "lon=g.geojson['geometry']['coordinates'][0]\n",
    "lat=g.geojson['geometry']['coordinates'][1]"
   ]
  },
  {
   "cell_type": "code",
   "execution_count": 673,
   "metadata": {
    "collapsed": false
   },
   "outputs": [
    {
     "ename": "SyntaxError",
     "evalue": "invalid syntax (<ipython-input-673-10a132a619d6>, line 1)",
     "output_type": "error",
     "traceback": [
      "\u001b[0;36m  File \u001b[0;32m\"<ipython-input-673-10a132a619d6>\"\u001b[0;36m, line \u001b[0;32m1\u001b[0m\n\u001b[0;31m    mondays = pd.read_sql('SELECT Pool, %s, latitude, longitude FROM lap_schedule_table5 WHERE Pool = 'Chelsea''%(now), con)\u001b[0m\n\u001b[0m                                                                                                             ^\u001b[0m\n\u001b[0;31mSyntaxError\u001b[0m\u001b[0;31m:\u001b[0m invalid syntax\n"
     ]
    }
   ],
   "source": [
    "mondays = pd.read_sql('SELECT Pool, %s, latitude, longitude FROM lap_schedule_table5 WHERE Pool = 'Chelsea''%(now), con)"
   ]
  },
  {
   "cell_type": "code",
   "execution_count": 660,
   "metadata": {
    "collapsed": false
   },
   "outputs": [
    {
     "name": "stdout",
     "output_type": "stream",
     "text": [
      "40.7564907 -73.9651173\n"
     ]
    }
   ],
   "source": [
    "#coordinates of said address\n",
    "print lat, lon"
   ]
  },
  {
   "cell_type": "code",
   "execution_count": 601,
   "metadata": {
    "collapsed": false
   },
   "outputs": [
    {
     "name": "stdout",
     "output_type": "stream",
     "text": [
      "40.8114681 -73.9140663\n"
     ]
    }
   ],
   "source": [
    "\n",
    "print poolat, poolon"
   ]
  },
  {
   "cell_type": "code",
   "execution_count": 595,
   "metadata": {
    "collapsed": true
   },
   "outputs": [],
   "source": [
    "me = (lat, lon)"
   ]
  },
  {
   "cell_type": "code",
   "execution_count": 670,
   "metadata": {
    "collapsed": true
   },
   "outputs": [],
   "source": [
    "mondays = pd.read_sql('SELECT Pool, %s, latitude, longitude FROM lap_schedule_table5 WHERE Pool =  '%(now), con)\n"
   ]
  },
  {
   "cell_type": "code",
   "execution_count": 662,
   "metadata": {
    "collapsed": false
   },
   "outputs": [],
   "source": [
    "poolat = mondays['latitude'][0]\n",
    "poolon = mondays['longitude'][0]"
   ]
  },
  {
   "cell_type": "code",
   "execution_count": 663,
   "metadata": {
    "collapsed": true
   },
   "outputs": [],
   "source": [
    "pool = (poolat, poolon)"
   ]
  },
  {
   "cell_type": "code",
   "execution_count": 690,
   "metadata": {
    "collapsed": false
   },
   "outputs": [
    {
     "data": {
      "text/plain": [
       "{'Asser Levy': (40.736160099999999, -73.975658199999998),\n",
       " 'Brownsville': (40.656201800000012, -73.902837200000008),\n",
       " 'Chelsea': (40.748248699999998, -74.002097599999999),\n",
       " 'Flushing Meadows Corona Park': (40.751966899999999, -73.836016099999995),\n",
       " 'Gertrude Eredel': (40.771420700000007, -73.98866439999999),\n",
       " 'Hansborough': (40.812806599999988, -73.939244799999997),\n",
       " 'Metropolitan': (40.715018200000003, -73.960390199999992),\n",
       " 'Recreation Center 54': (40.756490700000001, -73.965117300000003),\n",
       " 'Roy Wilkins': (40.687243799999997, -73.772132299999996),\n",
       " 'Saint Marys': (40.811468099999999, -73.914066300000002),\n",
       " 'St. Johns': (40.673877900000001, -73.934903800000001),\n",
       " 'Tony Dapolito': (40.729616800000002, -74.005406100000002)}"
      ]
     },
     "execution_count": 690,
     "metadata": {},
     "output_type": "execute_result"
    }
   ],
   "source": [
    "poolsdict"
   ]
  },
  {
   "cell_type": "code",
   "execution_count": 691,
   "metadata": {
    "collapsed": false
   },
   "outputs": [
    {
     "name": "stdout",
     "output_type": "stream",
     "text": [
      "8.15329901355\n",
      "1.60762251924\n",
      "2.57023772691\n",
      "0.974263472698\n",
      "5.6696751292\n",
      "1.25037874024\n",
      "6.15869550348\n",
      "12.1435790564\n",
      "1.89141875905\n",
      "5.46597062362\n",
      "0.648220955101\n",
      "7.62978998905\n"
     ]
    }
   ],
   "source": [
    "for i in poolsdict:\n",
    "    print vincenty(me, poolsdict[i]).miles\n"
   ]
  },
  {
   "cell_type": "code",
   "execution_count": null,
   "metadata": {
    "collapsed": true
   },
   "outputs": [],
   "source": []
  },
  {
   "cell_type": "code",
   "execution_count": 153,
   "metadata": {
    "collapsed": false
   },
   "outputs": [
    {
     "name": "stdout",
     "output_type": "stream",
     "text": [
      "hi\n"
     ]
    }
   ],
   "source": [
    "address = '799 west 187th street, ny'\n",
    "g = geocoder.google(address)\n",
    "lon=g.geojson['geometry']['coordinates'][0]\n",
    "lat=g.geojson['geometry']['coordinates'][1]\n",
    "lathigh = float(lat + 0.0025)\n",
    "latlow = float(lat - 0.0025)\n",
    "lonhigh = float(lon + 0.0025)\n",
    "lonlow = float(lon - 0.0025)\n",
    "latlonhigh = str(lathigh), str(lonhigh)\n",
    "latlonlow = str(latlow), str(lonlow)\n",
    "lathighlonlow = str(lathigh), str(lonlow)\n",
    "latlowlonhigh = str(latlow), str(lonhigh)\n",
    "\n",
    "try:\n",
    "    g =geocoder.google(latlonhigh, method='reverse')\n",
    "    zipcodea = g.address.split('NY ')[1].split(',')[0]\n",
    "except:\n",
    "    print 'hi'\n",
    "try:\n",
    "    g =geocoder.google(latlonlow, method='reverse')\n",
    "    zipcodeb = g.address.split('NY ')[1].split(',')[0]\n",
    "except:\n",
    "    print 'hi'\n",
    "g =geocoder.google(lathighlonlow, method='reverse')\n",
    "try:\n",
    "    zipcodec = g.address.split('NY ')[1].split(',')[0]\n",
    "except:\n",
    "    print 'hi'\n",
    "g =geocoder.google(latlowlonhigh, method='reverse')\n",
    "try:\n",
    "    zipcoded = g.address.split('NY ')[1].split(',')[0]\n",
    "except:\n",
    "    print 'hi'"
   ]
  },
  {
   "cell_type": "code",
   "execution_count": 157,
   "metadata": {
    "collapsed": false
   },
   "outputs": [
    {
     "ename": "NameError",
     "evalue": "name 'zipcodec' is not defined",
     "output_type": "error",
     "traceback": [
      "\u001b[0;31m---------------------------------------------------------------------------\u001b[0m",
      "\u001b[0;31mNameError\u001b[0m                                 Traceback (most recent call last)",
      "\u001b[0;32m<ipython-input-157-6dca07d6c801>\u001b[0m in \u001b[0;36m<module>\u001b[0;34m()\u001b[0m\n\u001b[0;32m----> 1\u001b[0;31m \u001b[0mzipcodec\u001b[0m\u001b[0;34m\u001b[0m\u001b[0m\n\u001b[0m",
      "\u001b[0;31mNameError\u001b[0m: name 'zipcodec' is not defined"
     ]
    }
   ],
   "source": [
    "zipcodec\n"
   ]
  },
  {
   "cell_type": "code",
   "execution_count": 147,
   "metadata": {
    "collapsed": false
   },
   "outputs": [
    {
     "data": {
      "text/plain": [
       "('40.8524484', '-73.9384773')"
      ]
     },
     "execution_count": 147,
     "metadata": {},
     "output_type": "execute_result"
    }
   ],
   "source": [
    "latlonlow"
   ]
  },
  {
   "cell_type": "code",
   "execution_count": 148,
   "metadata": {
    "collapsed": false
   },
   "outputs": [
    {
     "data": {
      "text/plain": [
       "('40.8574484', '-73.9384773')"
      ]
     },
     "execution_count": 148,
     "metadata": {},
     "output_type": "execute_result"
    }
   ],
   "source": [
    "lathighlonlow"
   ]
  },
  {
   "cell_type": "code",
   "execution_count": 151,
   "metadata": {
    "collapsed": false
   },
   "outputs": [
    {
     "name": "stdout",
     "output_type": "stream",
     "text": [
      "0\n",
      "1\n",
      "2\n",
      "3\n"
     ]
    }
   ],
   "source": [
    "for i in range(0,4):\n",
    "    print i"
   ]
  },
  {
   "cell_type": "code",
   "execution_count": null,
   "metadata": {
    "collapsed": true
   },
   "outputs": [],
   "source": []
  }
 ],
 "metadata": {
  "kernelspec": {
   "display_name": "Python 2",
   "language": "python",
   "name": "python2"
  },
  "language_info": {
   "codemirror_mode": {
    "name": "ipython",
    "version": 2
   },
   "file_extension": ".py",
   "mimetype": "text/x-python",
   "name": "python",
   "nbconvert_exporter": "python",
   "pygments_lexer": "ipython2",
   "version": "2.7.11"
  }
 },
 "nbformat": 4,
 "nbformat_minor": 0
}
